{
  "cells": [
    {
      "cell_type": "markdown",
      "id": "b87cc9da",
      "metadata": {
        "id": "b87cc9da"
      },
      "source": [
        "### Import Libraries"
      ]
    },
    {
      "cell_type": "code",
      "execution_count": 1,
      "id": "0494f0ad",
      "metadata": {
        "id": "0494f0ad"
      },
      "outputs": [],
      "source": [
        "import warnings\n",
        "warnings.filterwarnings(\"ignore\")\n",
        "\n",
        "import pandas as pd\n",
        "\n",
        "import matplotlib.pyplot as plt\n",
        "import seaborn as sns\n",
        "\n",
        "from sklearn.metrics import mean_absolute_error\n",
        "from sklearn.svm import SVR\n",
        "from sklearn.model_selection import train_test_split\n",
        "from sklearn.preprocessing import StandardScaler\n",
        "from sklearn.ensemble import GradientBoostingRegressor\n",
        "\n",
        "from keras.models import Sequential\n",
        "from keras.layers import LSTM, Dense"
      ]
    },
    {
      "cell_type": "markdown",
      "id": "d952c78c",
      "metadata": {
        "id": "d952c78c"
      },
      "source": [
        "### Import Dataset"
      ]
    },
    {
      "cell_type": "code",
      "execution_count": 3,
      "id": "758543a3",
      "metadata": {
        "scrolled": true,
        "colab": {
          "base_uri": "https://localhost:8080/",
          "height": 238
        },
        "id": "758543a3",
        "outputId": "329f880b-47ab-4759-de5d-818a8e8f0323"
      },
      "outputs": [
        {
          "output_type": "execute_result",
          "data": {
            "text/plain": [
              "                     close_5m  close_15m  close_30m  close_1H  close_4H  \\\n",
              "timestamp                                                                 \n",
              "2019-08-01 13:07:19   10030.2    10035.0    10040.0    9995.3   10290.0   \n",
              "2019-08-01 13:07:19   10030.2    10035.0    10040.0    9995.3   10290.0   \n",
              "2019-08-01 14:46:07    9995.0     9985.9    10015.4   10020.4   10290.0   \n",
              "2019-08-01 15:14:54    9996.6    10015.4    10020.4   10070.1   10290.0   \n",
              "2019-08-01 17:16:12   10039.7    10059.4    10104.5   10192.5   10408.9   \n",
              "\n",
              "                     close_1D  \n",
              "timestamp                      \n",
              "2019-08-01 13:07:19   10531.5  \n",
              "2019-08-01 13:07:19   10531.5  \n",
              "2019-08-01 14:46:07   10531.5  \n",
              "2019-08-01 15:14:54   10531.5  \n",
              "2019-08-01 17:16:12   10531.5  "
            ],
            "text/html": [
              "\n",
              "  <div id=\"df-b6ecb50e-a4b3-4fd0-9a03-8e227ad95191\">\n",
              "    <div class=\"colab-df-container\">\n",
              "      <div>\n",
              "<style scoped>\n",
              "    .dataframe tbody tr th:only-of-type {\n",
              "        vertical-align: middle;\n",
              "    }\n",
              "\n",
              "    .dataframe tbody tr th {\n",
              "        vertical-align: top;\n",
              "    }\n",
              "\n",
              "    .dataframe thead th {\n",
              "        text-align: right;\n",
              "    }\n",
              "</style>\n",
              "<table border=\"1\" class=\"dataframe\">\n",
              "  <thead>\n",
              "    <tr style=\"text-align: right;\">\n",
              "      <th></th>\n",
              "      <th>close_5m</th>\n",
              "      <th>close_15m</th>\n",
              "      <th>close_30m</th>\n",
              "      <th>close_1H</th>\n",
              "      <th>close_4H</th>\n",
              "      <th>close_1D</th>\n",
              "    </tr>\n",
              "    <tr>\n",
              "      <th>timestamp</th>\n",
              "      <th></th>\n",
              "      <th></th>\n",
              "      <th></th>\n",
              "      <th></th>\n",
              "      <th></th>\n",
              "      <th></th>\n",
              "    </tr>\n",
              "  </thead>\n",
              "  <tbody>\n",
              "    <tr>\n",
              "      <th>2019-08-01 13:07:19</th>\n",
              "      <td>10030.2</td>\n",
              "      <td>10035.0</td>\n",
              "      <td>10040.0</td>\n",
              "      <td>9995.3</td>\n",
              "      <td>10290.0</td>\n",
              "      <td>10531.5</td>\n",
              "    </tr>\n",
              "    <tr>\n",
              "      <th>2019-08-01 13:07:19</th>\n",
              "      <td>10030.2</td>\n",
              "      <td>10035.0</td>\n",
              "      <td>10040.0</td>\n",
              "      <td>9995.3</td>\n",
              "      <td>10290.0</td>\n",
              "      <td>10531.5</td>\n",
              "    </tr>\n",
              "    <tr>\n",
              "      <th>2019-08-01 14:46:07</th>\n",
              "      <td>9995.0</td>\n",
              "      <td>9985.9</td>\n",
              "      <td>10015.4</td>\n",
              "      <td>10020.4</td>\n",
              "      <td>10290.0</td>\n",
              "      <td>10531.5</td>\n",
              "    </tr>\n",
              "    <tr>\n",
              "      <th>2019-08-01 15:14:54</th>\n",
              "      <td>9996.6</td>\n",
              "      <td>10015.4</td>\n",
              "      <td>10020.4</td>\n",
              "      <td>10070.1</td>\n",
              "      <td>10290.0</td>\n",
              "      <td>10531.5</td>\n",
              "    </tr>\n",
              "    <tr>\n",
              "      <th>2019-08-01 17:16:12</th>\n",
              "      <td>10039.7</td>\n",
              "      <td>10059.4</td>\n",
              "      <td>10104.5</td>\n",
              "      <td>10192.5</td>\n",
              "      <td>10408.9</td>\n",
              "      <td>10531.5</td>\n",
              "    </tr>\n",
              "  </tbody>\n",
              "</table>\n",
              "</div>\n",
              "      <button class=\"colab-df-convert\" onclick=\"convertToInteractive('df-b6ecb50e-a4b3-4fd0-9a03-8e227ad95191')\"\n",
              "              title=\"Convert this dataframe to an interactive table.\"\n",
              "              style=\"display:none;\">\n",
              "        \n",
              "  <svg xmlns=\"http://www.w3.org/2000/svg\" height=\"24px\"viewBox=\"0 0 24 24\"\n",
              "       width=\"24px\">\n",
              "    <path d=\"M0 0h24v24H0V0z\" fill=\"none\"/>\n",
              "    <path d=\"M18.56 5.44l.94 2.06.94-2.06 2.06-.94-2.06-.94-.94-2.06-.94 2.06-2.06.94zm-11 1L8.5 8.5l.94-2.06 2.06-.94-2.06-.94L8.5 2.5l-.94 2.06-2.06.94zm10 10l.94 2.06.94-2.06 2.06-.94-2.06-.94-.94-2.06-.94 2.06-2.06.94z\"/><path d=\"M17.41 7.96l-1.37-1.37c-.4-.4-.92-.59-1.43-.59-.52 0-1.04.2-1.43.59L10.3 9.45l-7.72 7.72c-.78.78-.78 2.05 0 2.83L4 21.41c.39.39.9.59 1.41.59.51 0 1.02-.2 1.41-.59l7.78-7.78 2.81-2.81c.8-.78.8-2.07 0-2.86zM5.41 20L4 18.59l7.72-7.72 1.47 1.35L5.41 20z\"/>\n",
              "  </svg>\n",
              "      </button>\n",
              "      \n",
              "  <style>\n",
              "    .colab-df-container {\n",
              "      display:flex;\n",
              "      flex-wrap:wrap;\n",
              "      gap: 12px;\n",
              "    }\n",
              "\n",
              "    .colab-df-convert {\n",
              "      background-color: #E8F0FE;\n",
              "      border: none;\n",
              "      border-radius: 50%;\n",
              "      cursor: pointer;\n",
              "      display: none;\n",
              "      fill: #1967D2;\n",
              "      height: 32px;\n",
              "      padding: 0 0 0 0;\n",
              "      width: 32px;\n",
              "    }\n",
              "\n",
              "    .colab-df-convert:hover {\n",
              "      background-color: #E2EBFA;\n",
              "      box-shadow: 0px 1px 2px rgba(60, 64, 67, 0.3), 0px 1px 3px 1px rgba(60, 64, 67, 0.15);\n",
              "      fill: #174EA6;\n",
              "    }\n",
              "\n",
              "    [theme=dark] .colab-df-convert {\n",
              "      background-color: #3B4455;\n",
              "      fill: #D2E3FC;\n",
              "    }\n",
              "\n",
              "    [theme=dark] .colab-df-convert:hover {\n",
              "      background-color: #434B5C;\n",
              "      box-shadow: 0px 1px 3px 1px rgba(0, 0, 0, 0.15);\n",
              "      filter: drop-shadow(0px 1px 2px rgba(0, 0, 0, 0.3));\n",
              "      fill: #FFFFFF;\n",
              "    }\n",
              "  </style>\n",
              "\n",
              "      <script>\n",
              "        const buttonEl =\n",
              "          document.querySelector('#df-b6ecb50e-a4b3-4fd0-9a03-8e227ad95191 button.colab-df-convert');\n",
              "        buttonEl.style.display =\n",
              "          google.colab.kernel.accessAllowed ? 'block' : 'none';\n",
              "\n",
              "        async function convertToInteractive(key) {\n",
              "          const element = document.querySelector('#df-b6ecb50e-a4b3-4fd0-9a03-8e227ad95191');\n",
              "          const dataTable =\n",
              "            await google.colab.kernel.invokeFunction('convertToInteractive',\n",
              "                                                     [key], {});\n",
              "          if (!dataTable) return;\n",
              "\n",
              "          const docLinkHtml = 'Like what you see? Visit the ' +\n",
              "            '<a target=\"_blank\" href=https://colab.research.google.com/notebooks/data_table.ipynb>data table notebook</a>'\n",
              "            + ' to learn more about interactive tables.';\n",
              "          element.innerHTML = '';\n",
              "          dataTable['output_type'] = 'display_data';\n",
              "          await google.colab.output.renderOutput(dataTable, element);\n",
              "          const docLink = document.createElement('div');\n",
              "          docLink.innerHTML = docLinkHtml;\n",
              "          element.appendChild(docLink);\n",
              "        }\n",
              "      </script>\n",
              "    </div>\n",
              "  </div>\n",
              "  "
            ]
          },
          "metadata": {},
          "execution_count": 3
        }
      ],
      "source": [
        "df = pd.read_excel(\"bitcoin dataset.xlsx\", index_col = \"timestamp\", parse_dates = [\"timestamp\"])\n",
        "df.head()"
      ]
    },
    {
      "cell_type": "code",
      "execution_count": 4,
      "id": "2beb18a9",
      "metadata": {
        "colab": {
          "base_uri": "https://localhost:8080/"
        },
        "id": "2beb18a9",
        "outputId": "b256478b-2e71-49c7-f7e4-75749cd97a0a"
      },
      "outputs": [
        {
          "output_type": "stream",
          "name": "stdout",
          "text": [
            "<class 'pandas.core.frame.DataFrame'>\n",
            "DatetimeIndex: 1048575 entries, 2019-08-01 13:07:19 to 2019-08-15 09:43:10\n",
            "Data columns (total 6 columns):\n",
            " #   Column     Non-Null Count    Dtype  \n",
            "---  ------     --------------    -----  \n",
            " 0   close_5m   1048361 non-null  float64\n",
            " 1   close_15m  1048575 non-null  float64\n",
            " 2   close_30m  1048575 non-null  float64\n",
            " 3   close_1H   1048575 non-null  float64\n",
            " 4   close_4H   1048575 non-null  float64\n",
            " 5   close_1D   1048575 non-null  float64\n",
            "dtypes: float64(6)\n",
            "memory usage: 56.0 MB\n"
          ]
        }
      ],
      "source": [
        "df.info()"
      ]
    },
    {
      "cell_type": "code",
      "execution_count": 5,
      "id": "108e6487",
      "metadata": {
        "id": "108e6487"
      },
      "outputs": [],
      "source": [
        "df = df.astype(\"float16\")"
      ]
    },
    {
      "cell_type": "code",
      "execution_count": 6,
      "id": "37a9545d",
      "metadata": {
        "id": "37a9545d"
      },
      "outputs": [],
      "source": [
        "df = df.dropna()"
      ]
    },
    {
      "cell_type": "code",
      "execution_count": 8,
      "id": "8943ff00",
      "metadata": {
        "colab": {
          "base_uri": "https://localhost:8080/"
        },
        "id": "8943ff00",
        "outputId": "dad1e84a-e88a-4ae7-f564-6435222d6420"
      },
      "outputs": [
        {
          "output_type": "execute_result",
          "data": {
            "text/plain": [
              "995942.95"
            ]
          },
          "metadata": {},
          "execution_count": 8
        }
      ],
      "source": [
        "# Use last 50k rows as data is very large\n",
        "len(df) * 0.95"
      ]
    },
    {
      "cell_type": "code",
      "execution_count": 9,
      "id": "552151be",
      "metadata": {
        "id": "552151be"
      },
      "outputs": [],
      "source": [
        "df = df.iloc[995942:]"
      ]
    },
    {
      "cell_type": "code",
      "execution_count": 10,
      "id": "c7bbc5ce",
      "metadata": {
        "id": "c7bbc5ce"
      },
      "outputs": [],
      "source": [
        "X = df[df.columns.drop(\"close_1D\")]\n",
        "y = df[\"close_1D\"]"
      ]
    },
    {
      "cell_type": "code",
      "execution_count": 11,
      "id": "ea60bc05",
      "metadata": {
        "id": "ea60bc05"
      },
      "outputs": [],
      "source": [
        "X_train, X_test, y_train, y_test = train_test_split(X,\n",
        "                                                    y,\n",
        "                                                    test_size = 0.2,\n",
        "                                                    shuffle = False)"
      ]
    },
    {
      "cell_type": "code",
      "execution_count": 12,
      "id": "29d81372",
      "metadata": {
        "id": "29d81372"
      },
      "outputs": [],
      "source": [
        "scaler = StandardScaler()\n",
        "\n",
        "X_train_scaler = scaler.fit_transform(X_train)\n",
        "\n",
        "X_test_scaler = scaler.transform(X_test)"
      ]
    },
    {
      "cell_type": "markdown",
      "id": "2d5d72c9",
      "metadata": {
        "id": "2d5d72c9"
      },
      "source": [
        "### SVM REGRESSION"
      ]
    },
    {
      "cell_type": "code",
      "execution_count": 13,
      "id": "8235531c",
      "metadata": {
        "colab": {
          "base_uri": "https://localhost:8080/",
          "height": 455
        },
        "id": "8235531c",
        "outputId": "2bd874e2-2035-4ace-b9d4-c80525292f7f"
      },
      "outputs": [
        {
          "output_type": "execute_result",
          "data": {
            "text/plain": [
              "                      Actual     Predicted\n",
              "timestamp                                 \n",
              "2019-08-15 06:29:56  10360.0  10360.100492\n",
              "2019-08-15 06:29:29  10360.0  10360.100492\n",
              "2019-08-15 06:29:34  10360.0  10360.100492\n",
              "2019-08-15 06:29:55  10360.0  10360.100492\n",
              "2019-08-15 13:59:22  10360.0  10351.216557\n",
              "...                      ...           ...\n",
              "2019-08-15 09:42:41  10360.0  10337.568144\n",
              "2019-08-15 09:43:01  10360.0  10337.568144\n",
              "2019-08-15 09:43:06  10360.0  10337.568144\n",
              "2019-08-15 09:43:07  10360.0  10337.568144\n",
              "2019-08-15 09:43:10  10360.0  10337.568144\n",
              "\n",
              "[10484 rows x 2 columns]"
            ],
            "text/html": [
              "\n",
              "  <div id=\"df-a5fdfb9f-5942-4528-9658-c0beede3b0fe\">\n",
              "    <div class=\"colab-df-container\">\n",
              "      <div>\n",
              "<style scoped>\n",
              "    .dataframe tbody tr th:only-of-type {\n",
              "        vertical-align: middle;\n",
              "    }\n",
              "\n",
              "    .dataframe tbody tr th {\n",
              "        vertical-align: top;\n",
              "    }\n",
              "\n",
              "    .dataframe thead th {\n",
              "        text-align: right;\n",
              "    }\n",
              "</style>\n",
              "<table border=\"1\" class=\"dataframe\">\n",
              "  <thead>\n",
              "    <tr style=\"text-align: right;\">\n",
              "      <th></th>\n",
              "      <th>Actual</th>\n",
              "      <th>Predicted</th>\n",
              "    </tr>\n",
              "    <tr>\n",
              "      <th>timestamp</th>\n",
              "      <th></th>\n",
              "      <th></th>\n",
              "    </tr>\n",
              "  </thead>\n",
              "  <tbody>\n",
              "    <tr>\n",
              "      <th>2019-08-15 06:29:56</th>\n",
              "      <td>10360.0</td>\n",
              "      <td>10360.100492</td>\n",
              "    </tr>\n",
              "    <tr>\n",
              "      <th>2019-08-15 06:29:29</th>\n",
              "      <td>10360.0</td>\n",
              "      <td>10360.100492</td>\n",
              "    </tr>\n",
              "    <tr>\n",
              "      <th>2019-08-15 06:29:34</th>\n",
              "      <td>10360.0</td>\n",
              "      <td>10360.100492</td>\n",
              "    </tr>\n",
              "    <tr>\n",
              "      <th>2019-08-15 06:29:55</th>\n",
              "      <td>10360.0</td>\n",
              "      <td>10360.100492</td>\n",
              "    </tr>\n",
              "    <tr>\n",
              "      <th>2019-08-15 13:59:22</th>\n",
              "      <td>10360.0</td>\n",
              "      <td>10351.216557</td>\n",
              "    </tr>\n",
              "    <tr>\n",
              "      <th>...</th>\n",
              "      <td>...</td>\n",
              "      <td>...</td>\n",
              "    </tr>\n",
              "    <tr>\n",
              "      <th>2019-08-15 09:42:41</th>\n",
              "      <td>10360.0</td>\n",
              "      <td>10337.568144</td>\n",
              "    </tr>\n",
              "    <tr>\n",
              "      <th>2019-08-15 09:43:01</th>\n",
              "      <td>10360.0</td>\n",
              "      <td>10337.568144</td>\n",
              "    </tr>\n",
              "    <tr>\n",
              "      <th>2019-08-15 09:43:06</th>\n",
              "      <td>10360.0</td>\n",
              "      <td>10337.568144</td>\n",
              "    </tr>\n",
              "    <tr>\n",
              "      <th>2019-08-15 09:43:07</th>\n",
              "      <td>10360.0</td>\n",
              "      <td>10337.568144</td>\n",
              "    </tr>\n",
              "    <tr>\n",
              "      <th>2019-08-15 09:43:10</th>\n",
              "      <td>10360.0</td>\n",
              "      <td>10337.568144</td>\n",
              "    </tr>\n",
              "  </tbody>\n",
              "</table>\n",
              "<p>10484 rows × 2 columns</p>\n",
              "</div>\n",
              "      <button class=\"colab-df-convert\" onclick=\"convertToInteractive('df-a5fdfb9f-5942-4528-9658-c0beede3b0fe')\"\n",
              "              title=\"Convert this dataframe to an interactive table.\"\n",
              "              style=\"display:none;\">\n",
              "        \n",
              "  <svg xmlns=\"http://www.w3.org/2000/svg\" height=\"24px\"viewBox=\"0 0 24 24\"\n",
              "       width=\"24px\">\n",
              "    <path d=\"M0 0h24v24H0V0z\" fill=\"none\"/>\n",
              "    <path d=\"M18.56 5.44l.94 2.06.94-2.06 2.06-.94-2.06-.94-.94-2.06-.94 2.06-2.06.94zm-11 1L8.5 8.5l.94-2.06 2.06-.94-2.06-.94L8.5 2.5l-.94 2.06-2.06.94zm10 10l.94 2.06.94-2.06 2.06-.94-2.06-.94-.94-2.06-.94 2.06-2.06.94z\"/><path d=\"M17.41 7.96l-1.37-1.37c-.4-.4-.92-.59-1.43-.59-.52 0-1.04.2-1.43.59L10.3 9.45l-7.72 7.72c-.78.78-.78 2.05 0 2.83L4 21.41c.39.39.9.59 1.41.59.51 0 1.02-.2 1.41-.59l7.78-7.78 2.81-2.81c.8-.78.8-2.07 0-2.86zM5.41 20L4 18.59l7.72-7.72 1.47 1.35L5.41 20z\"/>\n",
              "  </svg>\n",
              "      </button>\n",
              "      \n",
              "  <style>\n",
              "    .colab-df-container {\n",
              "      display:flex;\n",
              "      flex-wrap:wrap;\n",
              "      gap: 12px;\n",
              "    }\n",
              "\n",
              "    .colab-df-convert {\n",
              "      background-color: #E8F0FE;\n",
              "      border: none;\n",
              "      border-radius: 50%;\n",
              "      cursor: pointer;\n",
              "      display: none;\n",
              "      fill: #1967D2;\n",
              "      height: 32px;\n",
              "      padding: 0 0 0 0;\n",
              "      width: 32px;\n",
              "    }\n",
              "\n",
              "    .colab-df-convert:hover {\n",
              "      background-color: #E2EBFA;\n",
              "      box-shadow: 0px 1px 2px rgba(60, 64, 67, 0.3), 0px 1px 3px 1px rgba(60, 64, 67, 0.15);\n",
              "      fill: #174EA6;\n",
              "    }\n",
              "\n",
              "    [theme=dark] .colab-df-convert {\n",
              "      background-color: #3B4455;\n",
              "      fill: #D2E3FC;\n",
              "    }\n",
              "\n",
              "    [theme=dark] .colab-df-convert:hover {\n",
              "      background-color: #434B5C;\n",
              "      box-shadow: 0px 1px 3px 1px rgba(0, 0, 0, 0.15);\n",
              "      filter: drop-shadow(0px 1px 2px rgba(0, 0, 0, 0.3));\n",
              "      fill: #FFFFFF;\n",
              "    }\n",
              "  </style>\n",
              "\n",
              "      <script>\n",
              "        const buttonEl =\n",
              "          document.querySelector('#df-a5fdfb9f-5942-4528-9658-c0beede3b0fe button.colab-df-convert');\n",
              "        buttonEl.style.display =\n",
              "          google.colab.kernel.accessAllowed ? 'block' : 'none';\n",
              "\n",
              "        async function convertToInteractive(key) {\n",
              "          const element = document.querySelector('#df-a5fdfb9f-5942-4528-9658-c0beede3b0fe');\n",
              "          const dataTable =\n",
              "            await google.colab.kernel.invokeFunction('convertToInteractive',\n",
              "                                                     [key], {});\n",
              "          if (!dataTable) return;\n",
              "\n",
              "          const docLinkHtml = 'Like what you see? Visit the ' +\n",
              "            '<a target=\"_blank\" href=https://colab.research.google.com/notebooks/data_table.ipynb>data table notebook</a>'\n",
              "            + ' to learn more about interactive tables.';\n",
              "          element.innerHTML = '';\n",
              "          dataTable['output_type'] = 'display_data';\n",
              "          await google.colab.output.renderOutput(dataTable, element);\n",
              "          const docLink = document.createElement('div');\n",
              "          docLink.innerHTML = docLinkHtml;\n",
              "          element.appendChild(docLink);\n",
              "        }\n",
              "      </script>\n",
              "    </div>\n",
              "  </div>\n",
              "  "
            ]
          },
          "metadata": {},
          "execution_count": 13
        }
      ],
      "source": [
        "svm = SVR()\n",
        "\n",
        "svm.fit(X_train, y_train)\n",
        "\n",
        "svm_pred = svm.predict(X_test)\n",
        "\n",
        "svm_pred_data = pd.DataFrame({\"Actual\": y_test,\n",
        "                              \"Predicted\": svm_pred})\n",
        "svm_pred_data"
      ]
    },
    {
      "cell_type": "code",
      "execution_count": 14,
      "id": "97a0d202",
      "metadata": {
        "colab": {
          "base_uri": "https://localhost:8080/",
          "height": 402
        },
        "id": "97a0d202",
        "outputId": "9f7b90c7-b3f5-4036-c8d9-52970e1f50ad"
      },
      "outputs": [
        {
          "output_type": "display_data",
          "data": {
            "text/plain": [
              "<Figure size 1296x504 with 1 Axes>"
            ],
            "image/png": "[encoded data removed]"
          },
          "metadata": {
            "needs_background": "light"
          }
        }
      ],
      "source": [
        "svm_pred_data.plot(figsize = (18, 7), title = \"SVM Prediction\");"
      ]
    },
    {
      "cell_type": "code",
      "execution_count": 15,
      "id": "766ae106",
      "metadata": {
        "colab": {
          "base_uri": "https://localhost:8080/"
        },
        "id": "766ae106",
        "outputId": "5d6d3121-2eb2-446b-d631-34f9046949f3"
      },
      "outputs": [
        {
          "output_type": "stream",
          "name": "stdout",
          "text": [
            "Mean Absolute Error = 7.785028745730548\n"
          ]
        }
      ],
      "source": [
        "mae_svr = mean_absolute_error(y_test, svm_pred)\n",
        "print(\"Mean Absolute Error =\", mae_svr)"
      ]
    },
    {
      "cell_type": "markdown",
      "id": "8e2b6cdc",
      "metadata": {
        "id": "8e2b6cdc"
      },
      "source": [
        "### Gradient Boosting Regression"
      ]
    },
    {
      "cell_type": "code",
      "execution_count": 16,
      "id": "69fd30dc",
      "metadata": {
        "colab": {
          "base_uri": "https://localhost:8080/",
          "height": 455
        },
        "id": "69fd30dc",
        "outputId": "f7d5b147-c208-4923-f06f-6ec9ab838fcd"
      },
      "outputs": [
        {
          "output_type": "execute_result",
          "data": {
            "text/plain": [
              "                      Actual     Predicted\n",
              "timestamp                                 \n",
              "2019-08-15 06:29:56  10360.0  10359.951670\n",
              "2019-08-15 06:29:29  10360.0  10359.951670\n",
              "2019-08-15 06:29:34  10360.0  10359.951670\n",
              "2019-08-15 06:29:55  10360.0  10359.951670\n",
              "2019-08-15 13:59:22  10360.0  10359.951670\n",
              "...                      ...           ...\n",
              "2019-08-15 09:42:41  10360.0  10360.001899\n",
              "2019-08-15 09:43:01  10360.0  10360.001899\n",
              "2019-08-15 09:43:06  10360.0  10360.001899\n",
              "2019-08-15 09:43:07  10360.0  10360.001899\n",
              "2019-08-15 09:43:10  10360.0  10360.001899\n",
              "\n",
              "[10484 rows x 2 columns]"
            ],
            "text/html": [
              "\n",
              "  <div id=\"df-f66c786b-9874-4a64-96d9-269dd0d04f8b\">\n",
              "    <div class=\"colab-df-container\">\n",
              "      <div>\n",
              "<style scoped>\n",
              "    .dataframe tbody tr th:only-of-type {\n",
              "        vertical-align: middle;\n",
              "    }\n",
              "\n",
              "    .dataframe tbody tr th {\n",
              "        vertical-align: top;\n",
              "    }\n",
              "\n",
              "    .dataframe thead th {\n",
              "        text-align: right;\n",
              "    }\n",
              "</style>\n",
              "<table border=\"1\" class=\"dataframe\">\n",
              "  <thead>\n",
              "    <tr style=\"text-align: right;\">\n",
              "      <th></th>\n",
              "      <th>Actual</th>\n",
              "      <th>Predicted</th>\n",
              "    </tr>\n",
              "    <tr>\n",
              "      <th>timestamp</th>\n",
              "      <th></th>\n",
              "      <th></th>\n",
              "    </tr>\n",
              "  </thead>\n",
              "  <tbody>\n",
              "    <tr>\n",
              "      <th>2019-08-15 06:29:56</th>\n",
              "      <td>10360.0</td>\n",
              "      <td>10359.951670</td>\n",
              "    </tr>\n",
              "    <tr>\n",
              "      <th>2019-08-15 06:29:29</th>\n",
              "      <td>10360.0</td>\n",
              "      <td>10359.951670</td>\n",
              "    </tr>\n",
              "    <tr>\n",
              "      <th>2019-08-15 06:29:34</th>\n",
              "      <td>10360.0</td>\n",
              "      <td>10359.951670</td>\n",
              "    </tr>\n",
              "    <tr>\n",
              "      <th>2019-08-15 06:29:55</th>\n",
              "      <td>10360.0</td>\n",
              "      <td>10359.951670</td>\n",
              "    </tr>\n",
              "    <tr>\n",
              "      <th>2019-08-15 13:59:22</th>\n",
              "      <td>10360.0</td>\n",
              "      <td>10359.951670</td>\n",
              "    </tr>\n",
              "    <tr>\n",
              "      <th>...</th>\n",
              "      <td>...</td>\n",
              "      <td>...</td>\n",
              "    </tr>\n",
              "    <tr>\n",
              "      <th>2019-08-15 09:42:41</th>\n",
              "      <td>10360.0</td>\n",
              "      <td>10360.001899</td>\n",
              "    </tr>\n",
              "    <tr>\n",
              "      <th>2019-08-15 09:43:01</th>\n",
              "      <td>10360.0</td>\n",
              "      <td>10360.001899</td>\n",
              "    </tr>\n",
              "    <tr>\n",
              "      <th>2019-08-15 09:43:06</th>\n",
              "      <td>10360.0</td>\n",
              "      <td>10360.001899</td>\n",
              "    </tr>\n",
              "    <tr>\n",
              "      <th>2019-08-15 09:43:07</th>\n",
              "      <td>10360.0</td>\n",
              "      <td>10360.001899</td>\n",
              "    </tr>\n",
              "    <tr>\n",
              "      <th>2019-08-15 09:43:10</th>\n",
              "      <td>10360.0</td>\n",
              "      <td>10360.001899</td>\n",
              "    </tr>\n",
              "  </tbody>\n",
              "</table>\n",
              "<p>10484 rows × 2 columns</p>\n",
              "</div>\n",
              "      <button class=\"colab-df-convert\" onclick=\"convertToInteractive('df-f66c786b-9874-4a64-96d9-269dd0d04f8b')\"\n",
              "              title=\"Convert this dataframe to an interactive table.\"\n",
              "              style=\"display:none;\">\n",
              "        \n",
              "  <svg xmlns=\"http://www.w3.org/2000/svg\" height=\"24px\"viewBox=\"0 0 24 24\"\n",
              "       width=\"24px\">\n",
              "    <path d=\"M0 0h24v24H0V0z\" fill=\"none\"/>\n",
              "    <path d=\"M18.56 5.44l.94 2.06.94-2.06 2.06-.94-2.06-.94-.94-2.06-.94 2.06-2.06.94zm-11 1L8.5 8.5l.94-2.06 2.06-.94-2.06-.94L8.5 2.5l-.94 2.06-2.06.94zm10 10l.94 2.06.94-2.06 2.06-.94-2.06-.94-.94-2.06-.94 2.06-2.06.94z\"/><path d=\"M17.41 7.96l-1.37-1.37c-.4-.4-.92-.59-1.43-.59-.52 0-1.04.2-1.43.59L10.3 9.45l-7.72 7.72c-.78.78-.78 2.05 0 2.83L4 21.41c.39.39.9.59 1.41.59.51 0 1.02-.2 1.41-.59l7.78-7.78 2.81-2.81c.8-.78.8-2.07 0-2.86zM5.41 20L4 18.59l7.72-7.72 1.47 1.35L5.41 20z\"/>\n",
              "  </svg>\n",
              "      </button>\n",
              "      \n",
              "  <style>\n",
              "    .colab-df-container {\n",
              "      display:flex;\n",
              "      flex-wrap:wrap;\n",
              "      gap: 12px;\n",
              "    }\n",
              "\n",
              "    .colab-df-convert {\n",
              "      background-color: #E8F0FE;\n",
              "      border: none;\n",
              "      border-radius: 50%;\n",
              "      cursor: pointer;\n",
              "      display: none;\n",
              "      fill: #1967D2;\n",
              "      height: 32px;\n",
              "      padding: 0 0 0 0;\n",
              "      width: 32px;\n",
              "    }\n",
              "\n",
              "    .colab-df-convert:hover {\n",
              "      background-color: #E2EBFA;\n",
              "      box-shadow: 0px 1px 2px rgba(60, 64, 67, 0.3), 0px 1px 3px 1px rgba(60, 64, 67, 0.15);\n",
              "      fill: #174EA6;\n",
              "    }\n",
              "\n",
              "    [theme=dark] .colab-df-convert {\n",
              "      background-color: #3B4455;\n",
              "      fill: #D2E3FC;\n",
              "    }\n",
              "\n",
              "    [theme=dark] .colab-df-convert:hover {\n",
              "      background-color: #434B5C;\n",
              "      box-shadow: 0px 1px 3px 1px rgba(0, 0, 0, 0.15);\n",
              "      filter: drop-shadow(0px 1px 2px rgba(0, 0, 0, 0.3));\n",
              "      fill: #FFFFFF;\n",
              "    }\n",
              "  </style>\n",
              "\n",
              "      <script>\n",
              "        const buttonEl =\n",
              "          document.querySelector('#df-f66c786b-9874-4a64-96d9-269dd0d04f8b button.colab-df-convert');\n",
              "        buttonEl.style.display =\n",
              "          google.colab.kernel.accessAllowed ? 'block' : 'none';\n",
              "\n",
              "        async function convertToInteractive(key) {\n",
              "          const element = document.querySelector('#df-f66c786b-9874-4a64-96d9-269dd0d04f8b');\n",
              "          const dataTable =\n",
              "            await google.colab.kernel.invokeFunction('convertToInteractive',\n",
              "                                                     [key], {});\n",
              "          if (!dataTable) return;\n",
              "\n",
              "          const docLinkHtml = 'Like what you see? Visit the ' +\n",
              "            '<a target=\"_blank\" href=https://colab.research.google.com/notebooks/data_table.ipynb>data table notebook</a>'\n",
              "            + ' to learn more about interactive tables.';\n",
              "          element.innerHTML = '';\n",
              "          dataTable['output_type'] = 'display_data';\n",
              "          await google.colab.output.renderOutput(dataTable, element);\n",
              "          const docLink = document.createElement('div');\n",
              "          docLink.innerHTML = docLinkHtml;\n",
              "          element.appendChild(docLink);\n",
              "        }\n",
              "      </script>\n",
              "    </div>\n",
              "  </div>\n",
              "  "
            ]
          },
          "metadata": {},
          "execution_count": 16
        }
      ],
      "source": [
        "gbr = GradientBoostingRegressor()\n",
        "\n",
        "gbr.fit(X_train, y_train)\n",
        "\n",
        "gbr_pred = gbr.predict(X_test)\n",
        "\n",
        "gbr_pred_data = pd.DataFrame({\"Actual\": y_test,\n",
        "                              \"Predicted\": gbr_pred})\n",
        "gbr_pred_data"
      ]
    },
    {
      "cell_type": "code",
      "execution_count": 17,
      "id": "6c31f956",
      "metadata": {
        "colab": {
          "base_uri": "https://localhost:8080/",
          "height": 402
        },
        "id": "6c31f956",
        "outputId": "95e47386-c69f-431e-bcac-4502868fa7ca"
      },
      "outputs": [
        {
          "output_type": "display_data",
          "data": {
            "text/plain": [
              "<Figure size 1296x504 with 1 Axes>"
            ],
            "image/png": "[encoded data removed]"
          },
          "metadata": {
            "needs_background": "light"
          }
        }
      ],
      "source": [
        "gbr_pred_data.plot(figsize = (18, 7), title = \"Gradient Boosting Regressor Prediction\");"
      ]
    },
    {
      "cell_type": "markdown",
      "id": "f2a0043a",
      "metadata": {
        "id": "f2a0043a"
      },
      "source": [
        "### LSTM"
      ]
    },
    {
      "cell_type": "markdown",
      "source": [
        "**Data Preparation**"
      ],
      "metadata": {
        "id": "y0Ehbkp4f5m4"
      },
      "id": "y0Ehbkp4f5m4"
    },
    {
      "cell_type": "code",
      "source": [
        "feature = df[\"close_1D\"]"
      ],
      "metadata": {
        "id": "3wXIQtTXf9NW"
      },
      "id": "3wXIQtTXf9NW",
      "execution_count": 18,
      "outputs": []
    },
    {
      "cell_type": "code",
      "source": [
        "from numpy import array\n",
        "\n",
        "# split a univariate sequence into samples\n",
        "def split_sequence(sequence, n_steps):\n",
        "    X, y = list(), list()\n",
        "    for i in range(len(sequence)):\n",
        "\n",
        "        end_ix = i + n_steps\n",
        "\n",
        "        if end_ix > len(sequence)-1:\n",
        "            break\n",
        "\n",
        "        seq_x, seq_y = sequence[i:end_ix], sequence[end_ix]\n",
        "        X.append(seq_x)\n",
        "        y.append(seq_y)\n",
        "    return array(X), array(y)\n",
        "\n",
        "# define input sequence\n",
        "raw_seq = feature.tolist()\n",
        "\n",
        "n_steps = 3\n",
        "\n",
        "X, y = split_sequence(raw_seq, n_steps)"
      ],
      "metadata": {
        "id": "yxwsWlb6gEqQ"
      },
      "id": "yxwsWlb6gEqQ",
      "execution_count": 21,
      "outputs": []
    },
    {
      "cell_type": "code",
      "source": [
        "X_train, X_test, y_train, y_test = train_test_split(X,\n",
        "                                                    y,\n",
        "                                                    test_size = 0.2,\n",
        "                                                    shuffle = False)"
      ],
      "metadata": {
        "id": "fV_vgMN9gR_q"
      },
      "id": "fV_vgMN9gR_q",
      "execution_count": 22,
      "outputs": []
    },
    {
      "cell_type": "code",
      "source": [
        "X_train = X_train.reshape((X_train.shape[0], X_train.shape[1], 1))"
      ],
      "metadata": {
        "id": "HQJtZwRUgaCR"
      },
      "id": "HQJtZwRUgaCR",
      "execution_count": 23,
      "outputs": []
    },
    {
      "cell_type": "code",
      "source": [
        "X_test = X_test.reshape((X_test.shape[0], X_test.shape[1], 1))"
      ],
      "metadata": {
        "id": "Wt_qka7AgdAw"
      },
      "id": "Wt_qka7AgdAw",
      "execution_count": 24,
      "outputs": []
    },
    {
      "cell_type": "code",
      "source": [
        "model = Sequential()\n",
        "model.add(LSTM(50, activation='relu', input_shape=(3, 1)))\n",
        "model.add(Dense(1))\n",
        "model.compile(optimizer='Adam', loss='mse')\n",
        "model.summary()"
      ],
      "metadata": {
        "colab": {
          "base_uri": "https://localhost:8080/"
        },
        "id": "Xj-6cAt3gg1Q",
        "outputId": "2f227ace-7baf-4434-b5ad-f7f4051bfed0"
      },
      "id": "Xj-6cAt3gg1Q",
      "execution_count": 30,
      "outputs": [
        {
          "output_type": "stream",
          "name": "stdout",
          "text": [
            "Model: \"sequential_2\"\n",
            "_________________________________________________________________\n",
            " Layer (type)                Output Shape              Param #   \n",
            "=================================================================\n",
            " lstm_2 (LSTM)               (None, 50)                10400     \n",
            "                                                                 \n",
            " dense_2 (Dense)             (None, 1)                 51        \n",
            "                                                                 \n",
            "=================================================================\n",
            "Total params: 10,451\n",
            "Trainable params: 10,451\n",
            "Non-trainable params: 0\n",
            "_________________________________________________________________\n"
          ]
        }
      ]
    },
    {
      "cell_type": "code",
      "source": [
        "model.fit(X_train, y_train, epochs=50)"
      ],
      "metadata": {
        "colab": {
          "base_uri": "https://localhost:8080/"
        },
        "id": "YACldjrgglxS",
        "outputId": "2dbd9fa8-a513-4648-eb22-d887bd8202c9"
      },
      "id": "YACldjrgglxS",
      "execution_count": 31,
      "outputs": [
        {
          "output_type": "stream",
          "name": "stdout",
          "text": [
            "Epoch 1/50\n",
            "1311/1311 [==============================] - 7s 4ms/step - loss: 27782012.0000\n",
            "Epoch 2/50\n",
            "1311/1311 [==============================] - 5s 4ms/step - loss: 1296.6208\n",
            "Epoch 3/50\n",
            "1311/1311 [==============================] - 5s 3ms/step - loss: 1301.2172\n",
            "Epoch 4/50\n",
            "1311/1311 [==============================] - 5s 4ms/step - loss: 1310.6976\n",
            "Epoch 5/50\n",
            "1311/1311 [==============================] - 5s 3ms/step - loss: 1336.4459\n",
            "Epoch 6/50\n",
            "1311/1311 [==============================] - 5s 4ms/step - loss: 1372.1045\n",
            "Epoch 7/50\n",
            "1311/1311 [==============================] - 5s 4ms/step - loss: 1402.3541\n",
            "Epoch 8/50\n",
            "1311/1311 [==============================] - 5s 4ms/step - loss: 1409.8936\n",
            "Epoch 9/50\n",
            "1311/1311 [==============================] - 5s 4ms/step - loss: 1420.0818\n",
            "Epoch 10/50\n",
            "1311/1311 [==============================] - 5s 3ms/step - loss: 1428.1376\n",
            "Epoch 11/50\n",
            "1311/1311 [==============================] - 5s 4ms/step - loss: 1430.9109\n",
            "Epoch 12/50\n",
            "1311/1311 [==============================] - 5s 4ms/step - loss: 1413.7655\n",
            "Epoch 13/50\n",
            "1311/1311 [==============================] - 5s 4ms/step - loss: 1392.6981\n",
            "Epoch 14/50\n",
            "1311/1311 [==============================] - 6s 4ms/step - loss: 1414.2296\n",
            "Epoch 15/50\n",
            "1311/1311 [==============================] - 5s 4ms/step - loss: 1427.4056\n",
            "Epoch 16/50\n",
            "1311/1311 [==============================] - 5s 4ms/step - loss: 1387.5623\n",
            "Epoch 17/50\n",
            "1311/1311 [==============================] - 5s 3ms/step - loss: 1398.0504\n",
            "Epoch 18/50\n",
            "1311/1311 [==============================] - 5s 3ms/step - loss: 1431.3876\n",
            "Epoch 19/50\n",
            "1311/1311 [==============================] - 5s 3ms/step - loss: 1405.2700\n",
            "Epoch 20/50\n",
            "1311/1311 [==============================] - 6s 4ms/step - loss: 1373.2228\n",
            "Epoch 21/50\n",
            "1311/1311 [==============================] - 5s 4ms/step - loss: 1400.5210\n",
            "Epoch 22/50\n",
            "1311/1311 [==============================] - 5s 3ms/step - loss: 1395.5232\n",
            "Epoch 23/50\n",
            "1311/1311 [==============================] - 5s 4ms/step - loss: 1396.3219\n",
            "Epoch 24/50\n",
            "1311/1311 [==============================] - 5s 4ms/step - loss: 1373.0067\n",
            "Epoch 25/50\n",
            "1311/1311 [==============================] - 5s 3ms/step - loss: 1399.5419\n",
            "Epoch 26/50\n",
            "1311/1311 [==============================] - 5s 3ms/step - loss: 1382.8478\n",
            "Epoch 27/50\n",
            "1311/1311 [==============================] - 5s 4ms/step - loss: 1375.0319\n",
            "Epoch 28/50\n",
            "1311/1311 [==============================] - 5s 4ms/step - loss: 1362.1460\n",
            "Epoch 29/50\n",
            "1311/1311 [==============================] - 5s 4ms/step - loss: 1410.0028\n",
            "Epoch 30/50\n",
            "1311/1311 [==============================] - 5s 3ms/step - loss: 1368.9567\n",
            "Epoch 31/50\n",
            "1311/1311 [==============================] - 5s 3ms/step - loss: 1373.2805\n",
            "Epoch 32/50\n",
            "1311/1311 [==============================] - 5s 3ms/step - loss: 1377.5266\n",
            "Epoch 33/50\n",
            "1311/1311 [==============================] - 5s 4ms/step - loss: 1369.3494\n",
            "Epoch 34/50\n",
            "1311/1311 [==============================] - 5s 3ms/step - loss: 1376.8435\n",
            "Epoch 35/50\n",
            "1311/1311 [==============================] - 5s 4ms/step - loss: 1396.6089\n",
            "Epoch 36/50\n",
            "1311/1311 [==============================] - 5s 3ms/step - loss: 1382.2812\n",
            "Epoch 37/50\n",
            "1311/1311 [==============================] - 5s 3ms/step - loss: 1409.9216\n",
            "Epoch 38/50\n",
            "1311/1311 [==============================] - 4s 3ms/step - loss: 1354.8663\n",
            "Epoch 39/50\n",
            "1311/1311 [==============================] - 5s 4ms/step - loss: 1363.2590\n",
            "Epoch 40/50\n",
            "1311/1311 [==============================] - 5s 3ms/step - loss: 1362.3114\n",
            "Epoch 41/50\n",
            "1311/1311 [==============================] - 5s 4ms/step - loss: 1373.0103\n",
            "Epoch 42/50\n",
            "1311/1311 [==============================] - 5s 4ms/step - loss: 1359.5348\n",
            "Epoch 43/50\n",
            "1311/1311 [==============================] - 5s 4ms/step - loss: 1365.9592\n",
            "Epoch 44/50\n",
            "1311/1311 [==============================] - 5s 4ms/step - loss: 1368.9392\n",
            "Epoch 45/50\n",
            "1311/1311 [==============================] - 5s 4ms/step - loss: 1355.6796\n",
            "Epoch 46/50\n",
            "1311/1311 [==============================] - 5s 4ms/step - loss: 1343.4877\n",
            "Epoch 47/50\n",
            "1311/1311 [==============================] - 6s 4ms/step - loss: 1362.1562\n",
            "Epoch 48/50\n",
            "1311/1311 [==============================] - 5s 4ms/step - loss: 1348.5988\n",
            "Epoch 49/50\n",
            "1311/1311 [==============================] - 5s 4ms/step - loss: 1352.3214\n",
            "Epoch 50/50\n",
            "1311/1311 [==============================] - 5s 4ms/step - loss: 1354.4812\n"
          ]
        },
        {
          "output_type": "execute_result",
          "data": {
            "text/plain": [
              "<keras.callbacks.History at 0x7f908c305790>"
            ]
          },
          "metadata": {},
          "execution_count": 31
        }
      ]
    },
    {
      "cell_type": "code",
      "source": [
        "pred_lstm = model.predict(X_test)\n",
        "pred_lstm_data = pd.DataFrame({\"Actual\": y_test,\n",
        "                               \"Predicted\": pred_lstm.flatten()})\n",
        "pred_lstm_data.tail(10)"
      ],
      "metadata": {
        "colab": {
          "base_uri": "https://localhost:8080/",
          "height": 363
        },
        "id": "nICgoUuVgpot",
        "outputId": "4999e34d-5553-46a3-dd64-9a147bcc361c"
      },
      "id": "nICgoUuVgpot",
      "execution_count": 32,
      "outputs": [
        {
          "output_type": "execute_result",
          "data": {
            "text/plain": [
              "        Actual     Predicted\n",
              "10474  10360.0  10356.717773\n",
              "10475  10360.0  10356.717773\n",
              "10476  10360.0  10356.717773\n",
              "10477  10360.0  10356.717773\n",
              "10478  10360.0  10356.717773\n",
              "10479  10360.0  10356.717773\n",
              "10480  10360.0  10356.717773\n",
              "10481  10360.0  10356.717773\n",
              "10482  10360.0  10356.717773\n",
              "10483  10360.0  10356.717773"
            ],
            "text/html": [
              "\n",
              "  <div id=\"df-4718e044-83dd-4837-ac21-2af4d145012a\">\n",
              "    <div class=\"colab-df-container\">\n",
              "      <div>\n",
              "<style scoped>\n",
              "    .dataframe tbody tr th:only-of-type {\n",
              "        vertical-align: middle;\n",
              "    }\n",
              "\n",
              "    .dataframe tbody tr th {\n",
              "        vertical-align: top;\n",
              "    }\n",
              "\n",
              "    .dataframe thead th {\n",
              "        text-align: right;\n",
              "    }\n",
              "</style>\n",
              "<table border=\"1\" class=\"dataframe\">\n",
              "  <thead>\n",
              "    <tr style=\"text-align: right;\">\n",
              "      <th></th>\n",
              "      <th>Actual</th>\n",
              "      <th>Predicted</th>\n",
              "    </tr>\n",
              "  </thead>\n",
              "  <tbody>\n",
              "    <tr>\n",
              "      <th>10474</th>\n",
              "      <td>10360.0</td>\n",
              "      <td>10356.717773</td>\n",
              "    </tr>\n",
              "    <tr>\n",
              "      <th>10475</th>\n",
              "      <td>10360.0</td>\n",
              "      <td>10356.717773</td>\n",
              "    </tr>\n",
              "    <tr>\n",
              "      <th>10476</th>\n",
              "      <td>10360.0</td>\n",
              "      <td>10356.717773</td>\n",
              "    </tr>\n",
              "    <tr>\n",
              "      <th>10477</th>\n",
              "      <td>10360.0</td>\n",
              "      <td>10356.717773</td>\n",
              "    </tr>\n",
              "    <tr>\n",
              "      <th>10478</th>\n",
              "      <td>10360.0</td>\n",
              "      <td>10356.717773</td>\n",
              "    </tr>\n",
              "    <tr>\n",
              "      <th>10479</th>\n",
              "      <td>10360.0</td>\n",
              "      <td>10356.717773</td>\n",
              "    </tr>\n",
              "    <tr>\n",
              "      <th>10480</th>\n",
              "      <td>10360.0</td>\n",
              "      <td>10356.717773</td>\n",
              "    </tr>\n",
              "    <tr>\n",
              "      <th>10481</th>\n",
              "      <td>10360.0</td>\n",
              "      <td>10356.717773</td>\n",
              "    </tr>\n",
              "    <tr>\n",
              "      <th>10482</th>\n",
              "      <td>10360.0</td>\n",
              "      <td>10356.717773</td>\n",
              "    </tr>\n",
              "    <tr>\n",
              "      <th>10483</th>\n",
              "      <td>10360.0</td>\n",
              "      <td>10356.717773</td>\n",
              "    </tr>\n",
              "  </tbody>\n",
              "</table>\n",
              "</div>\n",
              "      <button class=\"colab-df-convert\" onclick=\"convertToInteractive('df-4718e044-83dd-4837-ac21-2af4d145012a')\"\n",
              "              title=\"Convert this dataframe to an interactive table.\"\n",
              "              style=\"display:none;\">\n",
              "        \n",
              "  <svg xmlns=\"http://www.w3.org/2000/svg\" height=\"24px\"viewBox=\"0 0 24 24\"\n",
              "       width=\"24px\">\n",
              "    <path d=\"M0 0h24v24H0V0z\" fill=\"none\"/>\n",
              "    <path d=\"M18.56 5.44l.94 2.06.94-2.06 2.06-.94-2.06-.94-.94-2.06-.94 2.06-2.06.94zm-11 1L8.5 8.5l.94-2.06 2.06-.94-2.06-.94L8.5 2.5l-.94 2.06-2.06.94zm10 10l.94 2.06.94-2.06 2.06-.94-2.06-.94-.94-2.06-.94 2.06-2.06.94z\"/><path d=\"M17.41 7.96l-1.37-1.37c-.4-.4-.92-.59-1.43-.59-.52 0-1.04.2-1.43.59L10.3 9.45l-7.72 7.72c-.78.78-.78 2.05 0 2.83L4 21.41c.39.39.9.59 1.41.59.51 0 1.02-.2 1.41-.59l7.78-7.78 2.81-2.81c.8-.78.8-2.07 0-2.86zM5.41 20L4 18.59l7.72-7.72 1.47 1.35L5.41 20z\"/>\n",
              "  </svg>\n",
              "      </button>\n",
              "      \n",
              "  <style>\n",
              "    .colab-df-container {\n",
              "      display:flex;\n",
              "      flex-wrap:wrap;\n",
              "      gap: 12px;\n",
              "    }\n",
              "\n",
              "    .colab-df-convert {\n",
              "      background-color: #E8F0FE;\n",
              "      border: none;\n",
              "      border-radius: 50%;\n",
              "      cursor: pointer;\n",
              "      display: none;\n",
              "      fill: #1967D2;\n",
              "      height: 32px;\n",
              "      padding: 0 0 0 0;\n",
              "      width: 32px;\n",
              "    }\n",
              "\n",
              "    .colab-df-convert:hover {\n",
              "      background-color: #E2EBFA;\n",
              "      box-shadow: 0px 1px 2px rgba(60, 64, 67, 0.3), 0px 1px 3px 1px rgba(60, 64, 67, 0.15);\n",
              "      fill: #174EA6;\n",
              "    }\n",
              "\n",
              "    [theme=dark] .colab-df-convert {\n",
              "      background-color: #3B4455;\n",
              "      fill: #D2E3FC;\n",
              "    }\n",
              "\n",
              "    [theme=dark] .colab-df-convert:hover {\n",
              "      background-color: #434B5C;\n",
              "      box-shadow: 0px 1px 3px 1px rgba(0, 0, 0, 0.15);\n",
              "      filter: drop-shadow(0px 1px 2px rgba(0, 0, 0, 0.3));\n",
              "      fill: #FFFFFF;\n",
              "    }\n",
              "  </style>\n",
              "\n",
              "      <script>\n",
              "        const buttonEl =\n",
              "          document.querySelector('#df-4718e044-83dd-4837-ac21-2af4d145012a button.colab-df-convert');\n",
              "        buttonEl.style.display =\n",
              "          google.colab.kernel.accessAllowed ? 'block' : 'none';\n",
              "\n",
              "        async function convertToInteractive(key) {\n",
              "          const element = document.querySelector('#df-4718e044-83dd-4837-ac21-2af4d145012a');\n",
              "          const dataTable =\n",
              "            await google.colab.kernel.invokeFunction('convertToInteractive',\n",
              "                                                     [key], {});\n",
              "          if (!dataTable) return;\n",
              "\n",
              "          const docLinkHtml = 'Like what you see? Visit the ' +\n",
              "            '<a target=\"_blank\" href=https://colab.research.google.com/notebooks/data_table.ipynb>data table notebook</a>'\n",
              "            + ' to learn more about interactive tables.';\n",
              "          element.innerHTML = '';\n",
              "          dataTable['output_type'] = 'display_data';\n",
              "          await google.colab.output.renderOutput(dataTable, element);\n",
              "          const docLink = document.createElement('div');\n",
              "          docLink.innerHTML = docLinkHtml;\n",
              "          element.appendChild(docLink);\n",
              "        }\n",
              "      </script>\n",
              "    </div>\n",
              "  </div>\n",
              "  "
            ]
          },
          "metadata": {},
          "execution_count": 32
        }
      ]
    },
    {
      "cell_type": "code",
      "source": [
        "plt.figure(figsize = (18, 7))\n",
        "sns.lineplot(data = pred_lstm_data[\"Actual\"], color = \"blue\", label = \"Actual\")\n",
        "sns.lineplot(data = pred_lstm_data[\"Predicted\"], color = \"red\", label = \"Predicted\")\n",
        "plt.title(\"Actual and Predicted values by using LSTM\", size = 20, weight = \"bold\")\n",
        "plt.xlabel(\"Series\", weight = \"bold\", size = 20)\n",
        "plt.ylabel(\"Close_1D\", weight = \"bold\", size = 20)\n",
        "plt.xticks(size = 15)\n",
        "plt.yticks(size = 15)\n",
        "plt.legend()\n",
        "plt.show()"
      ],
      "metadata": {
        "colab": {
          "base_uri": "https://localhost:8080/",
          "height": 412
        },
        "id": "aBSvY2dMjrgZ",
        "outputId": "8e9eac04-0016-4da6-b4f9-e377f54de474"
      },
      "id": "aBSvY2dMjrgZ",
      "execution_count": 36,
      "outputs": [
        {
          "output_type": "display_data",
          "data": {
            "text/plain": [
              "<Figure size 1296x504 with 1 Axes>"
            ],
            "image/png": "[encoded data removed]"
          },
          "metadata": {
            "needs_background": "light"
          }
        }
      ]
    },
    {
      "cell_type": "code",
      "source": [],
      "metadata": {
        "id": "3rY4kxC8lCSg"
      },
      "id": "3rY4kxC8lCSg",
      "execution_count": null,
      "outputs": []
    }
  ],
  "metadata": {
    "kernelspec": {
      "display_name": "Python 3 (ipykernel)",
      "language": "python",
      "name": "python3"
    },
    "language_info": {
      "codemirror_mode": {
        "name": "ipython",
        "version": 3
      },
      "file_extension": ".py",
      "mimetype": "text/x-python",
      "name": "python",
      "nbconvert_exporter": "python",
      "pygments_lexer": "ipython3",
      "version": "3.9.12"
    },
    "colab": {
      "name": "Bitcoin Price Prediction.ipynb",
      "provenance": []
    }
  },
  "nbformat": 4,
  "nbformat_minor": 5
}