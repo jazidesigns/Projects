{
 "cells": [
  {
   "cell_type": "markdown",
   "id": "8b73c89c",
   "metadata": {},
   "source": [
    "### Methodology"
   ]
  },
  {
   "cell_type": "raw",
   "id": "7b8feaa4",
   "metadata": {},
   "source": [
    "1) Combine datasets\n",
    "2) Check data informationing\n",
    "3) Drop irrelevant columns\n",
    "4) Separate features and target and apply ine hot encoding on features\n",
    "5) Find important features using random forest classifier\n",
    "6) Find correlation among features\n",
    "7) Split data into 70% training set and 30% testing set\n",
    "8) Apply smote on training set to balance the classes\n",
    "9) Use decision tree classifier, random forest classifier and xgboost classifier by using best parameters from grid search cross validation.\n",
    "10) Use confusion matrix and classification report to measure performance of model\n",
    "11) Identify the cause of low accuracy by models using statistics of target class values by features."
   ]
  },
  {
   "cell_type": "code",
   "execution_count": 24,
   "id": "89632f4c",
   "metadata": {},
   "outputs": [
    {
     "data": {
      "text/plain": [
       "'1.4.2'"
      ]
     },
     "execution_count": 24,
     "metadata": {},
     "output_type": "execute_result"
    }
   ],
   "source": [
    "xgb.__version__"
   ]
  },
  {
   "cell_type": "code",
   "execution_count": 25,
   "id": "86997990",
   "metadata": {},
   "outputs": [
    {
     "name": "stdout",
     "output_type": "stream",
     "text": [
      "Requirement already satisfied: xgboost==1.4.2 in c:\\users\\jazi designs\\anaconda3\\lib\\site-packages (1.4.2)\n",
      "Requirement already satisfied: numpy in c:\\users\\jazi designs\\anaconda3\\lib\\site-packages (from xgboost==1.4.2) (1.19.5)\n",
      "Requirement already satisfied: scipy in c:\\users\\jazi designs\\anaconda3\\lib\\site-packages (from xgboost==1.4.2) (1.6.2)\n"
     ]
    },
    {
     "name": "stderr",
     "output_type": "stream",
     "text": [
      "WARNING: You are using pip version 21.3.1; however, version 22.1.2 is available.\n",
      "You should consider upgrading via the 'c:\\users\\jazi designs\\anaconda3\\python.exe -m pip install --upgrade pip' command.\n"
     ]
    }
   ],
   "source": [
    "!pip install xgboost==1.4.2"
   ]
  },
  {
   "cell_type": "markdown",
   "id": "a036086f",
   "metadata": {},
   "source": [
    "### Import Libraries"
   ]
  },
  {
   "cell_type": "code",
   "execution_count": 26,
   "id": "3e722e58",
   "metadata": {},
   "outputs": [],
   "source": [
    "import warnings\n",
    "warnings.filterwarnings(\"ignore\")\n",
    "import numpy as np\n",
    "import pandas as pd\n",
    "import seaborn as sns\n",
    "import matplotlib.pyplot as plt\n",
    "\n",
    "from keras.models import Sequential\n",
    "from keras.layers import Dense\n",
    "from sklearn.svm import SVC\n",
    "from sklearn.ensemble import RandomForestClassifier \n",
    "from sklearn.tree import DecisionTreeClassifier\n",
    "from sklearn.model_selection import train_test_split, GridSearchCV\n",
    "from sklearn.metrics import confusion_matrix, classification_report\n",
    "\n",
    "from imblearn.over_sampling import SMOTE\n",
    "import xgboost as xgb"
   ]
  },
  {
   "cell_type": "markdown",
   "id": "d9422f7e",
   "metadata": {},
   "source": [
    "### Import Datasets"
   ]
  },
  {
   "cell_type": "code",
   "execution_count": 27,
   "id": "5d9cc74a",
   "metadata": {},
   "outputs": [
    {
     "data": {
      "text/html": [
       "<div>\n",
       "<style scoped>\n",
       "    .dataframe tbody tr th:only-of-type {\n",
       "        vertical-align: middle;\n",
       "    }\n",
       "\n",
       "    .dataframe tbody tr th {\n",
       "        vertical-align: top;\n",
       "    }\n",
       "\n",
       "    .dataframe thead th {\n",
       "        text-align: right;\n",
       "    }\n",
       "</style>\n",
       "<table border=\"1\" class=\"dataframe\">\n",
       "  <thead>\n",
       "    <tr style=\"text-align: right;\">\n",
       "      <th></th>\n",
       "      <th>evse_id</th>\n",
       "      <th>status</th>\n",
       "      <th>last_updated</th>\n",
       "    </tr>\n",
       "  </thead>\n",
       "  <tbody>\n",
       "    <tr>\n",
       "      <th>0</th>\n",
       "      <td>EVSE_01</td>\n",
       "      <td>AVAILABLE</td>\n",
       "      <td>2022-03-01 00:00:00+00:00</td>\n",
       "    </tr>\n",
       "    <tr>\n",
       "      <th>1</th>\n",
       "      <td>EVSE_02</td>\n",
       "      <td>OUTOFORDER</td>\n",
       "      <td>2022-03-01 00:00:00+00:00</td>\n",
       "    </tr>\n",
       "    <tr>\n",
       "      <th>2</th>\n",
       "      <td>EVSE_03</td>\n",
       "      <td>UNKNOWN</td>\n",
       "      <td>2022-03-01 00:00:00+00:00</td>\n",
       "    </tr>\n",
       "    <tr>\n",
       "      <th>3</th>\n",
       "      <td>EVSE_04</td>\n",
       "      <td>CHARGING</td>\n",
       "      <td>2022-03-01 00:00:00+00:00</td>\n",
       "    </tr>\n",
       "    <tr>\n",
       "      <th>4</th>\n",
       "      <td>EVSE_05</td>\n",
       "      <td>OUTOFORDER</td>\n",
       "      <td>2022-03-01 01:55:30.783000+00:00</td>\n",
       "    </tr>\n",
       "  </tbody>\n",
       "</table>\n",
       "</div>"
      ],
      "text/plain": [
       "   evse_id      status                      last_updated\n",
       "0  EVSE_01   AVAILABLE         2022-03-01 00:00:00+00:00\n",
       "1  EVSE_02  OUTOFORDER         2022-03-01 00:00:00+00:00\n",
       "2  EVSE_03     UNKNOWN         2022-03-01 00:00:00+00:00\n",
       "3  EVSE_04    CHARGING         2022-03-01 00:00:00+00:00\n",
       "4  EVSE_05  OUTOFORDER  2022-03-01 01:55:30.783000+00:00"
      ]
     },
     "execution_count": 27,
     "metadata": {},
     "output_type": "execute_result"
    }
   ],
   "source": [
    "# Import logs data\n",
    "logs = pd.read_csv(\"logs.csv\")\n",
    "logs.head()"
   ]
  },
  {
   "cell_type": "code",
   "execution_count": 28,
   "id": "b9e20640",
   "metadata": {},
   "outputs": [
    {
     "data": {
      "text/html": [
       "<div>\n",
       "<style scoped>\n",
       "    .dataframe tbody tr th:only-of-type {\n",
       "        vertical-align: middle;\n",
       "    }\n",
       "\n",
       "    .dataframe tbody tr th {\n",
       "        vertical-align: top;\n",
       "    }\n",
       "\n",
       "    .dataframe thead th {\n",
       "        text-align: right;\n",
       "    }\n",
       "</style>\n",
       "<table border=\"1\" class=\"dataframe\">\n",
       "  <thead>\n",
       "    <tr style=\"text-align: right;\">\n",
       "      <th></th>\n",
       "      <th>latitude</th>\n",
       "      <th>longitude</th>\n",
       "      <th>twentyfourseven</th>\n",
       "      <th>capabilities</th>\n",
       "      <th>power_type</th>\n",
       "      <th>format</th>\n",
       "      <th>amperage</th>\n",
       "      <th>voltage</th>\n",
       "      <th>power_kw</th>\n",
       "      <th>evse_id</th>\n",
       "      <th>location_id</th>\n",
       "    </tr>\n",
       "  </thead>\n",
       "  <tbody>\n",
       "    <tr>\n",
       "      <th>0</th>\n",
       "      <td>42.032139</td>\n",
       "      <td>50.535391</td>\n",
       "      <td>True</td>\n",
       "      <td>RFID_READER,REMOTE_START_STOP_CAPABLE</td>\n",
       "      <td>AC_3_PHASE</td>\n",
       "      <td>SOCKET</td>\n",
       "      <td>16.0</td>\n",
       "      <td>230.0</td>\n",
       "      <td>22.0</td>\n",
       "      <td>EVSE_20</td>\n",
       "      <td>LOC_01</td>\n",
       "    </tr>\n",
       "    <tr>\n",
       "      <th>1</th>\n",
       "      <td>42.032139</td>\n",
       "      <td>50.535391</td>\n",
       "      <td>True</td>\n",
       "      <td>RFID_READER,REMOTE_START_STOP_CAPABLE</td>\n",
       "      <td>AC_3_PHASE</td>\n",
       "      <td>SOCKET</td>\n",
       "      <td>16.0</td>\n",
       "      <td>230.0</td>\n",
       "      <td>22.0</td>\n",
       "      <td>EVSE_36</td>\n",
       "      <td>LOC_01</td>\n",
       "    </tr>\n",
       "    <tr>\n",
       "      <th>2</th>\n",
       "      <td>41.942522</td>\n",
       "      <td>50.585466</td>\n",
       "      <td>True</td>\n",
       "      <td>RFID_READER,RFID_READER,REMOTE_START_STOP_CAPA...</td>\n",
       "      <td>AC_3_PHASE</td>\n",
       "      <td>SOCKET</td>\n",
       "      <td>32.0</td>\n",
       "      <td>230.0</td>\n",
       "      <td>22.0</td>\n",
       "      <td>EVSE_72</td>\n",
       "      <td>LOC_02</td>\n",
       "    </tr>\n",
       "    <tr>\n",
       "      <th>3</th>\n",
       "      <td>41.942522</td>\n",
       "      <td>50.585466</td>\n",
       "      <td>True</td>\n",
       "      <td>RFID_READER,RFID_READER,REMOTE_START_STOP_CAPA...</td>\n",
       "      <td>AC_3_PHASE</td>\n",
       "      <td>SOCKET</td>\n",
       "      <td>32.0</td>\n",
       "      <td>230.0</td>\n",
       "      <td>22.0</td>\n",
       "      <td>EVSE_22</td>\n",
       "      <td>LOC_02</td>\n",
       "    </tr>\n",
       "    <tr>\n",
       "      <th>4</th>\n",
       "      <td>42.035796</td>\n",
       "      <td>50.505329</td>\n",
       "      <td>True</td>\n",
       "      <td>RFID_READER,RFID_READER,REMOTE_START_STOP_CAPA...</td>\n",
       "      <td>AC_3_PHASE</td>\n",
       "      <td>SOCKET</td>\n",
       "      <td>32.0</td>\n",
       "      <td>230.0</td>\n",
       "      <td>22.0</td>\n",
       "      <td>EVSE_76</td>\n",
       "      <td>LOC_03</td>\n",
       "    </tr>\n",
       "  </tbody>\n",
       "</table>\n",
       "</div>"
      ],
      "text/plain": [
       "    latitude  longitude  twentyfourseven  \\\n",
       "0  42.032139  50.535391             True   \n",
       "1  42.032139  50.535391             True   \n",
       "2  41.942522  50.585466             True   \n",
       "3  41.942522  50.585466             True   \n",
       "4  42.035796  50.505329             True   \n",
       "\n",
       "                                        capabilities  power_type  format  \\\n",
       "0              RFID_READER,REMOTE_START_STOP_CAPABLE  AC_3_PHASE  SOCKET   \n",
       "1              RFID_READER,REMOTE_START_STOP_CAPABLE  AC_3_PHASE  SOCKET   \n",
       "2  RFID_READER,RFID_READER,REMOTE_START_STOP_CAPA...  AC_3_PHASE  SOCKET   \n",
       "3  RFID_READER,RFID_READER,REMOTE_START_STOP_CAPA...  AC_3_PHASE  SOCKET   \n",
       "4  RFID_READER,RFID_READER,REMOTE_START_STOP_CAPA...  AC_3_PHASE  SOCKET   \n",
       "\n",
       "   amperage  voltage  power_kw  evse_id location_id  \n",
       "0      16.0    230.0      22.0  EVSE_20      LOC_01  \n",
       "1      16.0    230.0      22.0  EVSE_36      LOC_01  \n",
       "2      32.0    230.0      22.0  EVSE_72      LOC_02  \n",
       "3      32.0    230.0      22.0  EVSE_22      LOC_02  \n",
       "4      32.0    230.0      22.0  EVSE_76      LOC_03  "
      ]
     },
     "execution_count": 28,
     "metadata": {},
     "output_type": "execute_result"
    }
   ],
   "source": [
    "# Import metadata data\n",
    "metadata = pd.read_csv(\"metadata.csv\")\n",
    "metadata.head()"
   ]
  },
  {
   "cell_type": "code",
   "execution_count": 29,
   "id": "ec98bc4f",
   "metadata": {},
   "outputs": [
    {
     "data": {
      "text/html": [
       "<div>\n",
       "<style scoped>\n",
       "    .dataframe tbody tr th:only-of-type {\n",
       "        vertical-align: middle;\n",
       "    }\n",
       "\n",
       "    .dataframe tbody tr th {\n",
       "        vertical-align: top;\n",
       "    }\n",
       "\n",
       "    .dataframe thead th {\n",
       "        text-align: right;\n",
       "    }\n",
       "</style>\n",
       "<table border=\"1\" class=\"dataframe\">\n",
       "  <thead>\n",
       "    <tr style=\"text-align: right;\">\n",
       "      <th></th>\n",
       "      <th>latitude</th>\n",
       "      <th>longitude</th>\n",
       "      <th>twentyfourseven</th>\n",
       "      <th>capabilities</th>\n",
       "      <th>power_type</th>\n",
       "      <th>format</th>\n",
       "      <th>amperage</th>\n",
       "      <th>voltage</th>\n",
       "      <th>power_kw</th>\n",
       "      <th>evse_id</th>\n",
       "      <th>location_id</th>\n",
       "      <th>status</th>\n",
       "      <th>last_updated</th>\n",
       "    </tr>\n",
       "  </thead>\n",
       "  <tbody>\n",
       "    <tr>\n",
       "      <th>0</th>\n",
       "      <td>42.032139</td>\n",
       "      <td>50.535391</td>\n",
       "      <td>True</td>\n",
       "      <td>RFID_READER,REMOTE_START_STOP_CAPABLE</td>\n",
       "      <td>AC_3_PHASE</td>\n",
       "      <td>SOCKET</td>\n",
       "      <td>16.0</td>\n",
       "      <td>230.0</td>\n",
       "      <td>22.0</td>\n",
       "      <td>EVSE_20</td>\n",
       "      <td>LOC_01</td>\n",
       "      <td>UNKNOWN</td>\n",
       "      <td>2022-03-01 07:47:57.605000+00:00</td>\n",
       "    </tr>\n",
       "    <tr>\n",
       "      <th>1</th>\n",
       "      <td>42.032139</td>\n",
       "      <td>50.535391</td>\n",
       "      <td>True</td>\n",
       "      <td>RFID_READER,REMOTE_START_STOP_CAPABLE</td>\n",
       "      <td>AC_3_PHASE</td>\n",
       "      <td>SOCKET</td>\n",
       "      <td>16.0</td>\n",
       "      <td>230.0</td>\n",
       "      <td>22.0</td>\n",
       "      <td>EVSE_20</td>\n",
       "      <td>LOC_01</td>\n",
       "      <td>CHARGING</td>\n",
       "      <td>2022-03-01 08:47:25.307000+00:00</td>\n",
       "    </tr>\n",
       "    <tr>\n",
       "      <th>2</th>\n",
       "      <td>42.032139</td>\n",
       "      <td>50.535391</td>\n",
       "      <td>True</td>\n",
       "      <td>RFID_READER,REMOTE_START_STOP_CAPABLE</td>\n",
       "      <td>AC_3_PHASE</td>\n",
       "      <td>SOCKET</td>\n",
       "      <td>16.0</td>\n",
       "      <td>230.0</td>\n",
       "      <td>22.0</td>\n",
       "      <td>EVSE_20</td>\n",
       "      <td>LOC_01</td>\n",
       "      <td>UNKNOWN</td>\n",
       "      <td>2022-03-01 17:47:42.027000+00:00</td>\n",
       "    </tr>\n",
       "    <tr>\n",
       "      <th>3</th>\n",
       "      <td>42.032139</td>\n",
       "      <td>50.535391</td>\n",
       "      <td>True</td>\n",
       "      <td>RFID_READER,REMOTE_START_STOP_CAPABLE</td>\n",
       "      <td>AC_3_PHASE</td>\n",
       "      <td>SOCKET</td>\n",
       "      <td>16.0</td>\n",
       "      <td>230.0</td>\n",
       "      <td>22.0</td>\n",
       "      <td>EVSE_20</td>\n",
       "      <td>LOC_01</td>\n",
       "      <td>AVAILABLE</td>\n",
       "      <td>2022-03-02 04:02:35.096000+00:00</td>\n",
       "    </tr>\n",
       "    <tr>\n",
       "      <th>4</th>\n",
       "      <td>42.032139</td>\n",
       "      <td>50.535391</td>\n",
       "      <td>True</td>\n",
       "      <td>RFID_READER,REMOTE_START_STOP_CAPABLE</td>\n",
       "      <td>AC_3_PHASE</td>\n",
       "      <td>SOCKET</td>\n",
       "      <td>16.0</td>\n",
       "      <td>230.0</td>\n",
       "      <td>22.0</td>\n",
       "      <td>EVSE_20</td>\n",
       "      <td>LOC_01</td>\n",
       "      <td>UNKNOWN</td>\n",
       "      <td>2022-03-02 11:47:53.491000+00:00</td>\n",
       "    </tr>\n",
       "  </tbody>\n",
       "</table>\n",
       "</div>"
      ],
      "text/plain": [
       "    latitude  longitude  twentyfourseven  \\\n",
       "0  42.032139  50.535391             True   \n",
       "1  42.032139  50.535391             True   \n",
       "2  42.032139  50.535391             True   \n",
       "3  42.032139  50.535391             True   \n",
       "4  42.032139  50.535391             True   \n",
       "\n",
       "                            capabilities  power_type  format  amperage  \\\n",
       "0  RFID_READER,REMOTE_START_STOP_CAPABLE  AC_3_PHASE  SOCKET      16.0   \n",
       "1  RFID_READER,REMOTE_START_STOP_CAPABLE  AC_3_PHASE  SOCKET      16.0   \n",
       "2  RFID_READER,REMOTE_START_STOP_CAPABLE  AC_3_PHASE  SOCKET      16.0   \n",
       "3  RFID_READER,REMOTE_START_STOP_CAPABLE  AC_3_PHASE  SOCKET      16.0   \n",
       "4  RFID_READER,REMOTE_START_STOP_CAPABLE  AC_3_PHASE  SOCKET      16.0   \n",
       "\n",
       "   voltage  power_kw  evse_id location_id     status  \\\n",
       "0    230.0      22.0  EVSE_20      LOC_01    UNKNOWN   \n",
       "1    230.0      22.0  EVSE_20      LOC_01   CHARGING   \n",
       "2    230.0      22.0  EVSE_20      LOC_01    UNKNOWN   \n",
       "3    230.0      22.0  EVSE_20      LOC_01  AVAILABLE   \n",
       "4    230.0      22.0  EVSE_20      LOC_01    UNKNOWN   \n",
       "\n",
       "                       last_updated  \n",
       "0  2022-03-01 07:47:57.605000+00:00  \n",
       "1  2022-03-01 08:47:25.307000+00:00  \n",
       "2  2022-03-01 17:47:42.027000+00:00  \n",
       "3  2022-03-02 04:02:35.096000+00:00  \n",
       "4  2022-03-02 11:47:53.491000+00:00  "
      ]
     },
     "execution_count": 29,
     "metadata": {},
     "output_type": "execute_result"
    }
   ],
   "source": [
    "# Combine daatsets\n",
    "data = pd.merge(metadata, logs, on = \"evse_id\")\n",
    "data.head()"
   ]
  },
  {
   "cell_type": "code",
   "execution_count": 30,
   "id": "9c7f24ef",
   "metadata": {},
   "outputs": [
    {
     "name": "stdout",
     "output_type": "stream",
     "text": [
      "<class 'pandas.core.frame.DataFrame'>\n",
      "Int64Index: 10565 entries, 0 to 10564\n",
      "Data columns (total 13 columns):\n",
      " #   Column           Non-Null Count  Dtype  \n",
      "---  ------           --------------  -----  \n",
      " 0   latitude         10565 non-null  float64\n",
      " 1   longitude        10565 non-null  float64\n",
      " 2   twentyfourseven  10565 non-null  bool   \n",
      " 3   capabilities     10565 non-null  object \n",
      " 4   power_type       10565 non-null  object \n",
      " 5   format           10565 non-null  object \n",
      " 6   amperage         10565 non-null  float64\n",
      " 7   voltage          10565 non-null  float64\n",
      " 8   power_kw         10565 non-null  float64\n",
      " 9   evse_id          10565 non-null  object \n",
      " 10  location_id      10565 non-null  object \n",
      " 11  status           10565 non-null  object \n",
      " 12  last_updated     10565 non-null  object \n",
      "dtypes: bool(1), float64(5), object(7)\n",
      "memory usage: 1.1+ MB\n"
     ]
    }
   ],
   "source": [
    "# Data Information\n",
    "data.info()"
   ]
  },
  {
   "cell_type": "code",
   "execution_count": 31,
   "id": "03c747eb",
   "metadata": {},
   "outputs": [
    {
     "data": {
      "text/html": [
       "<div>\n",
       "<style scoped>\n",
       "    .dataframe tbody tr th:only-of-type {\n",
       "        vertical-align: middle;\n",
       "    }\n",
       "\n",
       "    .dataframe tbody tr th {\n",
       "        vertical-align: top;\n",
       "    }\n",
       "\n",
       "    .dataframe thead th {\n",
       "        text-align: right;\n",
       "    }\n",
       "</style>\n",
       "<table border=\"1\" class=\"dataframe\">\n",
       "  <thead>\n",
       "    <tr style=\"text-align: right;\">\n",
       "      <th></th>\n",
       "      <th>latitude</th>\n",
       "      <th>longitude</th>\n",
       "      <th>amperage</th>\n",
       "      <th>voltage</th>\n",
       "      <th>power_kw</th>\n",
       "    </tr>\n",
       "  </thead>\n",
       "  <tbody>\n",
       "    <tr>\n",
       "      <th>count</th>\n",
       "      <td>10565.000000</td>\n",
       "      <td>10565.000000</td>\n",
       "      <td>10565.000000</td>\n",
       "      <td>10565.000000</td>\n",
       "      <td>10565.000000</td>\n",
       "    </tr>\n",
       "    <tr>\n",
       "      <th>mean</th>\n",
       "      <td>42.015396</td>\n",
       "      <td>50.551076</td>\n",
       "      <td>62.978325</td>\n",
       "      <td>286.625651</td>\n",
       "      <td>38.676763</td>\n",
       "    </tr>\n",
       "    <tr>\n",
       "      <th>std</th>\n",
       "      <td>0.035891</td>\n",
       "      <td>0.037452</td>\n",
       "      <td>86.823569</td>\n",
       "      <td>130.503316</td>\n",
       "      <td>55.187786</td>\n",
       "    </tr>\n",
       "    <tr>\n",
       "      <th>min</th>\n",
       "      <td>41.926737</td>\n",
       "      <td>50.485521</td>\n",
       "      <td>16.000000</td>\n",
       "      <td>230.000000</td>\n",
       "      <td>11.000000</td>\n",
       "    </tr>\n",
       "    <tr>\n",
       "      <th>25%</th>\n",
       "      <td>42.005324</td>\n",
       "      <td>50.526600</td>\n",
       "      <td>32.000000</td>\n",
       "      <td>230.000000</td>\n",
       "      <td>22.000000</td>\n",
       "    </tr>\n",
       "    <tr>\n",
       "      <th>50%</th>\n",
       "      <td>42.023096</td>\n",
       "      <td>50.543822</td>\n",
       "      <td>32.000000</td>\n",
       "      <td>230.000000</td>\n",
       "      <td>22.000000</td>\n",
       "    </tr>\n",
       "    <tr>\n",
       "      <th>75%</th>\n",
       "      <td>42.033775</td>\n",
       "      <td>50.575732</td>\n",
       "      <td>32.000000</td>\n",
       "      <td>230.000000</td>\n",
       "      <td>22.000000</td>\n",
       "    </tr>\n",
       "    <tr>\n",
       "      <th>max</th>\n",
       "      <td>42.095638</td>\n",
       "      <td>50.635083</td>\n",
       "      <td>400.000000</td>\n",
       "      <td>875.000000</td>\n",
       "      <td>350.000000</td>\n",
       "    </tr>\n",
       "  </tbody>\n",
       "</table>\n",
       "</div>"
      ],
      "text/plain": [
       "           latitude     longitude      amperage       voltage      power_kw\n",
       "count  10565.000000  10565.000000  10565.000000  10565.000000  10565.000000\n",
       "mean      42.015396     50.551076     62.978325    286.625651     38.676763\n",
       "std        0.035891      0.037452     86.823569    130.503316     55.187786\n",
       "min       41.926737     50.485521     16.000000    230.000000     11.000000\n",
       "25%       42.005324     50.526600     32.000000    230.000000     22.000000\n",
       "50%       42.023096     50.543822     32.000000    230.000000     22.000000\n",
       "75%       42.033775     50.575732     32.000000    230.000000     22.000000\n",
       "max       42.095638     50.635083    400.000000    875.000000    350.000000"
      ]
     },
     "execution_count": 31,
     "metadata": {},
     "output_type": "execute_result"
    }
   ],
   "source": [
    "# Data Statistics\n",
    "data.describe()"
   ]
  },
  {
   "cell_type": "markdown",
   "id": "44dd6604",
   "metadata": {},
   "source": [
    "### Data Prepocessing and Cleaning"
   ]
  },
  {
   "cell_type": "raw",
   "id": "e072c475",
   "metadata": {},
   "source": [
    "We will remove latitude and longitude and will select the location_id feature as it also refers to geography and will help to reduce dimension and is also machine friendly strategy"
   ]
  },
  {
   "cell_type": "code",
   "execution_count": 32,
   "id": "4ec53d57",
   "metadata": {},
   "outputs": [
    {
     "data": {
      "text/html": [
       "<div>\n",
       "<style scoped>\n",
       "    .dataframe tbody tr th:only-of-type {\n",
       "        vertical-align: middle;\n",
       "    }\n",
       "\n",
       "    .dataframe tbody tr th {\n",
       "        vertical-align: top;\n",
       "    }\n",
       "\n",
       "    .dataframe thead th {\n",
       "        text-align: right;\n",
       "    }\n",
       "</style>\n",
       "<table border=\"1\" class=\"dataframe\">\n",
       "  <thead>\n",
       "    <tr style=\"text-align: right;\">\n",
       "      <th></th>\n",
       "      <th>capabilities</th>\n",
       "      <th>power_type</th>\n",
       "      <th>format</th>\n",
       "      <th>amperage</th>\n",
       "      <th>voltage</th>\n",
       "      <th>power_kw</th>\n",
       "      <th>location_id</th>\n",
       "      <th>status</th>\n",
       "    </tr>\n",
       "  </thead>\n",
       "  <tbody>\n",
       "    <tr>\n",
       "      <th>0</th>\n",
       "      <td>RFID_READER,REMOTE_START_STOP_CAPABLE</td>\n",
       "      <td>AC_3_PHASE</td>\n",
       "      <td>SOCKET</td>\n",
       "      <td>16.0</td>\n",
       "      <td>230.0</td>\n",
       "      <td>22.0</td>\n",
       "      <td>LOC_01</td>\n",
       "      <td>UNKNOWN</td>\n",
       "    </tr>\n",
       "    <tr>\n",
       "      <th>1</th>\n",
       "      <td>RFID_READER,REMOTE_START_STOP_CAPABLE</td>\n",
       "      <td>AC_3_PHASE</td>\n",
       "      <td>SOCKET</td>\n",
       "      <td>16.0</td>\n",
       "      <td>230.0</td>\n",
       "      <td>22.0</td>\n",
       "      <td>LOC_01</td>\n",
       "      <td>CHARGING</td>\n",
       "    </tr>\n",
       "    <tr>\n",
       "      <th>2</th>\n",
       "      <td>RFID_READER,REMOTE_START_STOP_CAPABLE</td>\n",
       "      <td>AC_3_PHASE</td>\n",
       "      <td>SOCKET</td>\n",
       "      <td>16.0</td>\n",
       "      <td>230.0</td>\n",
       "      <td>22.0</td>\n",
       "      <td>LOC_01</td>\n",
       "      <td>UNKNOWN</td>\n",
       "    </tr>\n",
       "    <tr>\n",
       "      <th>3</th>\n",
       "      <td>RFID_READER,REMOTE_START_STOP_CAPABLE</td>\n",
       "      <td>AC_3_PHASE</td>\n",
       "      <td>SOCKET</td>\n",
       "      <td>16.0</td>\n",
       "      <td>230.0</td>\n",
       "      <td>22.0</td>\n",
       "      <td>LOC_01</td>\n",
       "      <td>AVAILABLE</td>\n",
       "    </tr>\n",
       "    <tr>\n",
       "      <th>4</th>\n",
       "      <td>RFID_READER,REMOTE_START_STOP_CAPABLE</td>\n",
       "      <td>AC_3_PHASE</td>\n",
       "      <td>SOCKET</td>\n",
       "      <td>16.0</td>\n",
       "      <td>230.0</td>\n",
       "      <td>22.0</td>\n",
       "      <td>LOC_01</td>\n",
       "      <td>UNKNOWN</td>\n",
       "    </tr>\n",
       "  </tbody>\n",
       "</table>\n",
       "</div>"
      ],
      "text/plain": [
       "                            capabilities  power_type  format  amperage  \\\n",
       "0  RFID_READER,REMOTE_START_STOP_CAPABLE  AC_3_PHASE  SOCKET      16.0   \n",
       "1  RFID_READER,REMOTE_START_STOP_CAPABLE  AC_3_PHASE  SOCKET      16.0   \n",
       "2  RFID_READER,REMOTE_START_STOP_CAPABLE  AC_3_PHASE  SOCKET      16.0   \n",
       "3  RFID_READER,REMOTE_START_STOP_CAPABLE  AC_3_PHASE  SOCKET      16.0   \n",
       "4  RFID_READER,REMOTE_START_STOP_CAPABLE  AC_3_PHASE  SOCKET      16.0   \n",
       "\n",
       "   voltage  power_kw location_id     status  \n",
       "0    230.0      22.0      LOC_01    UNKNOWN  \n",
       "1    230.0      22.0      LOC_01   CHARGING  \n",
       "2    230.0      22.0      LOC_01    UNKNOWN  \n",
       "3    230.0      22.0      LOC_01  AVAILABLE  \n",
       "4    230.0      22.0      LOC_01    UNKNOWN  "
      ]
     },
     "execution_count": 32,
     "metadata": {},
     "output_type": "execute_result"
    }
   ],
   "source": [
    "# Drop irrelevant columns\n",
    "df = data.drop(columns = [\"latitude\", \"longitude\", \"twentyfourseven\", \"evse_id\", \"last_updated\"])\n",
    "df.head()"
   ]
  },
  {
   "cell_type": "markdown",
   "id": "3014b9bb",
   "metadata": {},
   "source": [
    "**Separate Features and Target**"
   ]
  },
  {
   "cell_type": "code",
   "execution_count": 33,
   "id": "e69e3a27",
   "metadata": {},
   "outputs": [],
   "source": [
    "X = df[df.columns.drop(\"status\")]\n",
    "y = df[\"status\"]"
   ]
  },
  {
   "cell_type": "markdown",
   "id": "097d3f3a",
   "metadata": {},
   "source": [
    "**Apply one hot encoding**"
   ]
  },
  {
   "cell_type": "code",
   "execution_count": 34,
   "id": "4095802c",
   "metadata": {},
   "outputs": [
    {
     "data": {
      "text/html": [
       "<div>\n",
       "<style scoped>\n",
       "    .dataframe tbody tr th:only-of-type {\n",
       "        vertical-align: middle;\n",
       "    }\n",
       "\n",
       "    .dataframe tbody tr th {\n",
       "        vertical-align: top;\n",
       "    }\n",
       "\n",
       "    .dataframe thead th {\n",
       "        text-align: right;\n",
       "    }\n",
       "</style>\n",
       "<table border=\"1\" class=\"dataframe\">\n",
       "  <thead>\n",
       "    <tr style=\"text-align: right;\">\n",
       "      <th></th>\n",
       "      <th>amperage</th>\n",
       "      <th>voltage</th>\n",
       "      <th>power_kw</th>\n",
       "      <th>capabilities_RFID_READER,REMOTE_START_STOP_CAPABLE</th>\n",
       "      <th>capabilities_RFID_READER,REMOTE_START_STOP_CAPABLE,CREDIT_CARD_PAYABLE</th>\n",
       "      <th>capabilities_RFID_READER,RFID_READER,REMOTE_START_STOP_CAPABLE</th>\n",
       "      <th>capabilities_RFID_READER,RFID_READER,REMOTE_START_STOP_CAPABLE,CREDIT_CARD_PAYABLE</th>\n",
       "      <th>power_type_DC</th>\n",
       "      <th>format_SOCKET</th>\n",
       "      <th>location_id_LOC_02</th>\n",
       "      <th>...</th>\n",
       "      <th>location_id_LOC_42</th>\n",
       "      <th>location_id_LOC_43</th>\n",
       "      <th>location_id_LOC_44</th>\n",
       "      <th>location_id_LOC_45</th>\n",
       "      <th>location_id_LOC_46</th>\n",
       "      <th>location_id_LOC_47</th>\n",
       "      <th>location_id_LOC_48</th>\n",
       "      <th>location_id_LOC_49</th>\n",
       "      <th>location_id_LOC_50</th>\n",
       "      <th>location_id_LOC_51</th>\n",
       "    </tr>\n",
       "  </thead>\n",
       "  <tbody>\n",
       "    <tr>\n",
       "      <th>0</th>\n",
       "      <td>16.0</td>\n",
       "      <td>230.0</td>\n",
       "      <td>22.0</td>\n",
       "      <td>1</td>\n",
       "      <td>0</td>\n",
       "      <td>0</td>\n",
       "      <td>0</td>\n",
       "      <td>0</td>\n",
       "      <td>1</td>\n",
       "      <td>0</td>\n",
       "      <td>...</td>\n",
       "      <td>0</td>\n",
       "      <td>0</td>\n",
       "      <td>0</td>\n",
       "      <td>0</td>\n",
       "      <td>0</td>\n",
       "      <td>0</td>\n",
       "      <td>0</td>\n",
       "      <td>0</td>\n",
       "      <td>0</td>\n",
       "      <td>0</td>\n",
       "    </tr>\n",
       "    <tr>\n",
       "      <th>1</th>\n",
       "      <td>16.0</td>\n",
       "      <td>230.0</td>\n",
       "      <td>22.0</td>\n",
       "      <td>1</td>\n",
       "      <td>0</td>\n",
       "      <td>0</td>\n",
       "      <td>0</td>\n",
       "      <td>0</td>\n",
       "      <td>1</td>\n",
       "      <td>0</td>\n",
       "      <td>...</td>\n",
       "      <td>0</td>\n",
       "      <td>0</td>\n",
       "      <td>0</td>\n",
       "      <td>0</td>\n",
       "      <td>0</td>\n",
       "      <td>0</td>\n",
       "      <td>0</td>\n",
       "      <td>0</td>\n",
       "      <td>0</td>\n",
       "      <td>0</td>\n",
       "    </tr>\n",
       "    <tr>\n",
       "      <th>2</th>\n",
       "      <td>16.0</td>\n",
       "      <td>230.0</td>\n",
       "      <td>22.0</td>\n",
       "      <td>1</td>\n",
       "      <td>0</td>\n",
       "      <td>0</td>\n",
       "      <td>0</td>\n",
       "      <td>0</td>\n",
       "      <td>1</td>\n",
       "      <td>0</td>\n",
       "      <td>...</td>\n",
       "      <td>0</td>\n",
       "      <td>0</td>\n",
       "      <td>0</td>\n",
       "      <td>0</td>\n",
       "      <td>0</td>\n",
       "      <td>0</td>\n",
       "      <td>0</td>\n",
       "      <td>0</td>\n",
       "      <td>0</td>\n",
       "      <td>0</td>\n",
       "    </tr>\n",
       "    <tr>\n",
       "      <th>3</th>\n",
       "      <td>16.0</td>\n",
       "      <td>230.0</td>\n",
       "      <td>22.0</td>\n",
       "      <td>1</td>\n",
       "      <td>0</td>\n",
       "      <td>0</td>\n",
       "      <td>0</td>\n",
       "      <td>0</td>\n",
       "      <td>1</td>\n",
       "      <td>0</td>\n",
       "      <td>...</td>\n",
       "      <td>0</td>\n",
       "      <td>0</td>\n",
       "      <td>0</td>\n",
       "      <td>0</td>\n",
       "      <td>0</td>\n",
       "      <td>0</td>\n",
       "      <td>0</td>\n",
       "      <td>0</td>\n",
       "      <td>0</td>\n",
       "      <td>0</td>\n",
       "    </tr>\n",
       "    <tr>\n",
       "      <th>4</th>\n",
       "      <td>16.0</td>\n",
       "      <td>230.0</td>\n",
       "      <td>22.0</td>\n",
       "      <td>1</td>\n",
       "      <td>0</td>\n",
       "      <td>0</td>\n",
       "      <td>0</td>\n",
       "      <td>0</td>\n",
       "      <td>1</td>\n",
       "      <td>0</td>\n",
       "      <td>...</td>\n",
       "      <td>0</td>\n",
       "      <td>0</td>\n",
       "      <td>0</td>\n",
       "      <td>0</td>\n",
       "      <td>0</td>\n",
       "      <td>0</td>\n",
       "      <td>0</td>\n",
       "      <td>0</td>\n",
       "      <td>0</td>\n",
       "      <td>0</td>\n",
       "    </tr>\n",
       "  </tbody>\n",
       "</table>\n",
       "<p>5 rows × 59 columns</p>\n",
       "</div>"
      ],
      "text/plain": [
       "   amperage  voltage  power_kw  \\\n",
       "0      16.0    230.0      22.0   \n",
       "1      16.0    230.0      22.0   \n",
       "2      16.0    230.0      22.0   \n",
       "3      16.0    230.0      22.0   \n",
       "4      16.0    230.0      22.0   \n",
       "\n",
       "   capabilities_RFID_READER,REMOTE_START_STOP_CAPABLE  \\\n",
       "0                                                  1    \n",
       "1                                                  1    \n",
       "2                                                  1    \n",
       "3                                                  1    \n",
       "4                                                  1    \n",
       "\n",
       "   capabilities_RFID_READER,REMOTE_START_STOP_CAPABLE,CREDIT_CARD_PAYABLE  \\\n",
       "0                                                  0                        \n",
       "1                                                  0                        \n",
       "2                                                  0                        \n",
       "3                                                  0                        \n",
       "4                                                  0                        \n",
       "\n",
       "   capabilities_RFID_READER,RFID_READER,REMOTE_START_STOP_CAPABLE  \\\n",
       "0                                                  0                \n",
       "1                                                  0                \n",
       "2                                                  0                \n",
       "3                                                  0                \n",
       "4                                                  0                \n",
       "\n",
       "   capabilities_RFID_READER,RFID_READER,REMOTE_START_STOP_CAPABLE,CREDIT_CARD_PAYABLE  \\\n",
       "0                                                  0                                    \n",
       "1                                                  0                                    \n",
       "2                                                  0                                    \n",
       "3                                                  0                                    \n",
       "4                                                  0                                    \n",
       "\n",
       "   power_type_DC  format_SOCKET  location_id_LOC_02  ...  location_id_LOC_42  \\\n",
       "0              0              1                   0  ...                   0   \n",
       "1              0              1                   0  ...                   0   \n",
       "2              0              1                   0  ...                   0   \n",
       "3              0              1                   0  ...                   0   \n",
       "4              0              1                   0  ...                   0   \n",
       "\n",
       "   location_id_LOC_43  location_id_LOC_44  location_id_LOC_45  \\\n",
       "0                   0                   0                   0   \n",
       "1                   0                   0                   0   \n",
       "2                   0                   0                   0   \n",
       "3                   0                   0                   0   \n",
       "4                   0                   0                   0   \n",
       "\n",
       "   location_id_LOC_46  location_id_LOC_47  location_id_LOC_48  \\\n",
       "0                   0                   0                   0   \n",
       "1                   0                   0                   0   \n",
       "2                   0                   0                   0   \n",
       "3                   0                   0                   0   \n",
       "4                   0                   0                   0   \n",
       "\n",
       "   location_id_LOC_49  location_id_LOC_50  location_id_LOC_51  \n",
       "0                   0                   0                   0  \n",
       "1                   0                   0                   0  \n",
       "2                   0                   0                   0  \n",
       "3                   0                   0                   0  \n",
       "4                   0                   0                   0  \n",
       "\n",
       "[5 rows x 59 columns]"
      ]
     },
     "execution_count": 34,
     "metadata": {},
     "output_type": "execute_result"
    }
   ],
   "source": [
    "X = pd.get_dummies(X, drop_first = True)\n",
    "X.head()"
   ]
  },
  {
   "cell_type": "markdown",
   "id": "55fcb1b0",
   "metadata": {},
   "source": [
    "**Features Importance**"
   ]
  },
  {
   "cell_type": "code",
   "execution_count": 35,
   "id": "73ed9088",
   "metadata": {},
   "outputs": [
    {
     "data": {
      "image/png": "[encoded data removed]",
      "text/plain": [
       "<Figure size 1296x504 with 1 Axes>"
      ]
     },
     "metadata": {},
     "output_type": "display_data"
    }
   ],
   "source": [
    "rf=RandomForestClassifier()\n",
    "rf.fit(X, y)\n",
    "imp = pd.Series(data = rf.feature_importances_, index = X.columns)\n",
    "imp_sorted = imp.sort_values()\n",
    "imp_sorted.plot(kind = \"bar\", color = \"green\", figsize = (18, 7))\n",
    "plt.title(\"Features Importances by Random Forest\", size = 20)\n",
    "plt.yticks(size = 15)\n",
    "plt.xticks(size = 15, rotation = 90)\n",
    "plt.savefig(\"Feature_Importance.png\")\n",
    "plt.show()"
   ]
  },
  {
   "cell_type": "markdown",
   "id": "5cd30533",
   "metadata": {},
   "source": [
    "**Select the best three parameters with respect to importance**"
   ]
  },
  {
   "cell_type": "code",
   "execution_count": 36,
   "id": "06b72f9b",
   "metadata": {},
   "outputs": [],
   "source": [
    "X = X[[\"amperage\", \"voltage\", \"power_kw\"]]\n",
    "y = df[\"status\"]"
   ]
  },
  {
   "cell_type": "markdown",
   "id": "31946c1b",
   "metadata": {},
   "source": [
    "**Correlation among features**"
   ]
  },
  {
   "cell_type": "code",
   "execution_count": 37,
   "id": "8ff647a9",
   "metadata": {},
   "outputs": [
    {
     "data": {
      "image/png": "[encoded data removed]",
      "text/plain": [
       "<Figure size 1296x504 with 2 Axes>"
      ]
     },
     "metadata": {},
     "output_type": "display_data"
    }
   ],
   "source": [
    "sns.set(font_scale=1.4)\n",
    "plt.figure(figsize=(18, 7))\n",
    "correlation=X.corr()\n",
    "sns.heatmap(correlation, annot = True, fmt = \".2f\")\n",
    "plt.title(\"Correlation Matrix\")\n",
    "plt.savefig(\"Correlation.png\")\n",
    "plt.show()"
   ]
  },
  {
   "cell_type": "markdown",
   "id": "3fdf202f",
   "metadata": {},
   "source": [
    "### Model Buiilding"
   ]
  },
  {
   "cell_type": "markdown",
   "id": "bcd4539c",
   "metadata": {},
   "source": [
    "**Split data into training set and testing set**"
   ]
  },
  {
   "cell_type": "code",
   "execution_count": 38,
   "id": "e91f0095",
   "metadata": {},
   "outputs": [],
   "source": [
    "X_train, X_test, y_train, y_test = train_test_split(X,\n",
    "                                                    y,\n",
    "                                                    test_size = 0.3,\n",
    "                                                    stratify = y,\n",
    "                                                    random_state = 1111)"
   ]
  },
  {
   "cell_type": "markdown",
   "id": "8cb75ac9",
   "metadata": {},
   "source": [
    "**Apply smote to balance the classes**"
   ]
  },
  {
   "cell_type": "code",
   "execution_count": 39,
   "id": "37ee62b1",
   "metadata": {},
   "outputs": [],
   "source": [
    "sm = SMOTE(random_state=0)\n",
    "X_train, y_train = sm.fit_resample(X_train, y_train)"
   ]
  },
  {
   "cell_type": "markdown",
   "id": "d0c1420e",
   "metadata": {},
   "source": [
    "### Decision Tree "
   ]
  },
  {
   "cell_type": "markdown",
   "id": "9ee33a4d",
   "metadata": {},
   "source": [
    "**Grid Search CV**"
   ]
  },
  {
   "cell_type": "code",
   "execution_count": 275,
   "id": "39dd5607",
   "metadata": {},
   "outputs": [
    {
     "data": {
      "text/plain": [
       "{'max_depth': 3}"
      ]
     },
     "execution_count": 275,
     "metadata": {},
     "output_type": "execute_result"
    }
   ],
   "source": [
    "params = {\"max_depth\": np.arange(1, 50)}\n",
    "\n",
    "dt = DecisionTreeClassifier(criterion = \"gini\", random_state = 12)\n",
    "\n",
    "cv_dt = GridSearchCV(dt, params)\n",
    "\n",
    "cv_dt.fit(X_train, y_train)\n",
    "\n",
    "cv_dt.best_params_"
   ]
  },
  {
   "cell_type": "code",
   "execution_count": 276,
   "id": "e17b013d",
   "metadata": {},
   "outputs": [
    {
     "data": {
      "text/plain": [
       "0.3186235886723797"
      ]
     },
     "execution_count": 276,
     "metadata": {},
     "output_type": "execute_result"
    }
   ],
   "source": [
    "cv_dt.best_score_"
   ]
  },
  {
   "cell_type": "code",
   "execution_count": 277,
   "id": "db037ac3",
   "metadata": {},
   "outputs": [
    {
     "data": {
      "text/html": [
       "<div>\n",
       "<style scoped>\n",
       "    .dataframe tbody tr th:only-of-type {\n",
       "        vertical-align: middle;\n",
       "    }\n",
       "\n",
       "    .dataframe tbody tr th {\n",
       "        vertical-align: top;\n",
       "    }\n",
       "\n",
       "    .dataframe thead th {\n",
       "        text-align: right;\n",
       "    }\n",
       "</style>\n",
       "<table border=\"1\" class=\"dataframe\">\n",
       "  <thead>\n",
       "    <tr style=\"text-align: right;\">\n",
       "      <th></th>\n",
       "      <th>Actual</th>\n",
       "      <th>Predicted</th>\n",
       "    </tr>\n",
       "  </thead>\n",
       "  <tbody>\n",
       "    <tr>\n",
       "      <th>341</th>\n",
       "      <td>OUTOFORDER</td>\n",
       "      <td>UNKNOWN</td>\n",
       "    </tr>\n",
       "    <tr>\n",
       "      <th>10178</th>\n",
       "      <td>AVAILABLE</td>\n",
       "      <td>AVAILABLE</td>\n",
       "    </tr>\n",
       "    <tr>\n",
       "      <th>9637</th>\n",
       "      <td>CHARGING</td>\n",
       "      <td>CHARGING</td>\n",
       "    </tr>\n",
       "    <tr>\n",
       "      <th>6757</th>\n",
       "      <td>AVAILABLE</td>\n",
       "      <td>UNKNOWN</td>\n",
       "    </tr>\n",
       "    <tr>\n",
       "      <th>9942</th>\n",
       "      <td>CHARGING</td>\n",
       "      <td>UNKNOWN</td>\n",
       "    </tr>\n",
       "  </tbody>\n",
       "</table>\n",
       "</div>"
      ],
      "text/plain": [
       "           Actual  Predicted\n",
       "341    OUTOFORDER    UNKNOWN\n",
       "10178   AVAILABLE  AVAILABLE\n",
       "9637     CHARGING   CHARGING\n",
       "6757    AVAILABLE    UNKNOWN\n",
       "9942     CHARGING    UNKNOWN"
      ]
     },
     "execution_count": 277,
     "metadata": {},
     "output_type": "execute_result"
    }
   ],
   "source": [
    "dtr = DecisionTreeClassifier(max_depth = 3, random_state = 12)\n",
    "\n",
    "dtr.fit(X_train, y_train)\n",
    "\n",
    "pred_dtr = dtr.predict(X_test)\n",
    "\n",
    "pd.DataFrame({\"Actual\": y_test, \"Predicted\": pred_dtr}).head(5)"
   ]
  },
  {
   "cell_type": "markdown",
   "id": "82a9ff71",
   "metadata": {},
   "source": [
    "**Confusion Matrix**"
   ]
  },
  {
   "cell_type": "code",
   "execution_count": 278,
   "id": "ca68253e",
   "metadata": {},
   "outputs": [
    {
     "data": {
      "text/html": [
       "<div>\n",
       "<style scoped>\n",
       "    .dataframe tbody tr th:only-of-type {\n",
       "        vertical-align: middle;\n",
       "    }\n",
       "\n",
       "    .dataframe tbody tr th {\n",
       "        vertical-align: top;\n",
       "    }\n",
       "\n",
       "    .dataframe thead th {\n",
       "        text-align: right;\n",
       "    }\n",
       "</style>\n",
       "<table border=\"1\" class=\"dataframe\">\n",
       "  <thead>\n",
       "    <tr style=\"text-align: right;\">\n",
       "      <th></th>\n",
       "      <th>0</th>\n",
       "      <th>1</th>\n",
       "      <th>2</th>\n",
       "      <th>3</th>\n",
       "    </tr>\n",
       "  </thead>\n",
       "  <tbody>\n",
       "    <tr>\n",
       "      <th>0</th>\n",
       "      <td>300</td>\n",
       "      <td>43</td>\n",
       "      <td>12</td>\n",
       "      <td>900</td>\n",
       "    </tr>\n",
       "    <tr>\n",
       "      <th>1</th>\n",
       "      <td>296</td>\n",
       "      <td>23</td>\n",
       "      <td>10</td>\n",
       "      <td>918</td>\n",
       "    </tr>\n",
       "    <tr>\n",
       "      <th>2</th>\n",
       "      <td>22</td>\n",
       "      <td>0</td>\n",
       "      <td>3</td>\n",
       "      <td>262</td>\n",
       "    </tr>\n",
       "    <tr>\n",
       "      <th>3</th>\n",
       "      <td>0</td>\n",
       "      <td>0</td>\n",
       "      <td>0</td>\n",
       "      <td>381</td>\n",
       "    </tr>\n",
       "  </tbody>\n",
       "</table>\n",
       "</div>"
      ],
      "text/plain": [
       "     0   1   2    3\n",
       "0  300  43  12  900\n",
       "1  296  23  10  918\n",
       "2   22   0   3  262\n",
       "3    0   0   0  381"
      ]
     },
     "execution_count": 278,
     "metadata": {},
     "output_type": "execute_result"
    }
   ],
   "source": [
    "pd.DataFrame(confusion_matrix(y_test, pred_dtr))"
   ]
  },
  {
   "cell_type": "markdown",
   "id": "cf5cd550",
   "metadata": {},
   "source": [
    "**Classification Report**"
   ]
  },
  {
   "cell_type": "code",
   "execution_count": 279,
   "id": "84d2dae2",
   "metadata": {},
   "outputs": [
    {
     "name": "stdout",
     "output_type": "stream",
     "text": [
      "              precision    recall  f1-score   support\n",
      "\n",
      "   AVAILABLE       0.49      0.24      0.32      1255\n",
      "    CHARGING       0.35      0.02      0.04      1247\n",
      "  OUTOFORDER       0.12      0.01      0.02       287\n",
      "     UNKNOWN       0.15      1.00      0.27       381\n",
      "\n",
      "    accuracy                           0.22      3170\n",
      "   macro avg       0.28      0.32      0.16      3170\n",
      "weighted avg       0.36      0.22      0.17      3170\n",
      "\n"
     ]
    }
   ],
   "source": [
    "print(classification_report(y_test, pred_dtr))"
   ]
  },
  {
   "cell_type": "markdown",
   "id": "7d398a78",
   "metadata": {},
   "source": [
    "### Random Forest Classifier"
   ]
  },
  {
   "cell_type": "markdown",
   "id": "1847a84e",
   "metadata": {},
   "source": [
    "**Use Grid Search Cross Validation** "
   ]
  },
  {
   "cell_type": "code",
   "execution_count": 280,
   "id": "c11bfe5f",
   "metadata": {},
   "outputs": [
    {
     "data": {
      "text/plain": [
       "{'max_depth': 2, 'n_estimators': 90}"
      ]
     },
     "execution_count": 280,
     "metadata": {},
     "output_type": "execute_result"
    }
   ],
   "source": [
    "params = {\"max_depth\": np.arange(1, 20),\n",
    "          \"n_estimators\": np.arange(10, 101, 10)}\n",
    "\n",
    "rf = RandomForestClassifier(criterion = \"gini\", random_state = 12)\n",
    "\n",
    "rf_cv = GridSearchCV(rf, params)\n",
    "\n",
    "rf_cv.fit(X_train, y_train)\n",
    "\n",
    "rf_cv.best_params_"
   ]
  },
  {
   "cell_type": "markdown",
   "id": "de4af4b9",
   "metadata": {},
   "source": [
    "**Best Score**"
   ]
  },
  {
   "cell_type": "code",
   "execution_count": 281,
   "id": "d6d532bf",
   "metadata": {},
   "outputs": [
    {
     "data": {
      "text/plain": [
       "0.3186235886723797"
      ]
     },
     "execution_count": 281,
     "metadata": {},
     "output_type": "execute_result"
    }
   ],
   "source": [
    "rf_cv.best_score_"
   ]
  },
  {
   "cell_type": "markdown",
   "id": "6c3e4ccc",
   "metadata": {},
   "source": [
    "**Use random forest with best parameters**"
   ]
  },
  {
   "cell_type": "code",
   "execution_count": 282,
   "id": "7ce4eab6",
   "metadata": {},
   "outputs": [
    {
     "data": {
      "text/html": [
       "<div>\n",
       "<style scoped>\n",
       "    .dataframe tbody tr th:only-of-type {\n",
       "        vertical-align: middle;\n",
       "    }\n",
       "\n",
       "    .dataframe tbody tr th {\n",
       "        vertical-align: top;\n",
       "    }\n",
       "\n",
       "    .dataframe thead th {\n",
       "        text-align: right;\n",
       "    }\n",
       "</style>\n",
       "<table border=\"1\" class=\"dataframe\">\n",
       "  <thead>\n",
       "    <tr style=\"text-align: right;\">\n",
       "      <th></th>\n",
       "      <th>Actual</th>\n",
       "      <th>Predicted</th>\n",
       "    </tr>\n",
       "  </thead>\n",
       "  <tbody>\n",
       "    <tr>\n",
       "      <th>341</th>\n",
       "      <td>OUTOFORDER</td>\n",
       "      <td>UNKNOWN</td>\n",
       "    </tr>\n",
       "    <tr>\n",
       "      <th>10178</th>\n",
       "      <td>AVAILABLE</td>\n",
       "      <td>AVAILABLE</td>\n",
       "    </tr>\n",
       "    <tr>\n",
       "      <th>9637</th>\n",
       "      <td>CHARGING</td>\n",
       "      <td>CHARGING</td>\n",
       "    </tr>\n",
       "    <tr>\n",
       "      <th>6757</th>\n",
       "      <td>AVAILABLE</td>\n",
       "      <td>UNKNOWN</td>\n",
       "    </tr>\n",
       "    <tr>\n",
       "      <th>9942</th>\n",
       "      <td>CHARGING</td>\n",
       "      <td>UNKNOWN</td>\n",
       "    </tr>\n",
       "  </tbody>\n",
       "</table>\n",
       "</div>"
      ],
      "text/plain": [
       "           Actual  Predicted\n",
       "341    OUTOFORDER    UNKNOWN\n",
       "10178   AVAILABLE  AVAILABLE\n",
       "9637     CHARGING   CHARGING\n",
       "6757    AVAILABLE    UNKNOWN\n",
       "9942     CHARGING    UNKNOWN"
      ]
     },
     "execution_count": 282,
     "metadata": {},
     "output_type": "execute_result"
    }
   ],
   "source": [
    "rf = RandomForestClassifier(max_depth = 2, n_estimators = 90, criterion = \"gini\", random_state = 12)\n",
    "\n",
    "rf.fit(X_train, y_train)\n",
    "\n",
    "pred_rf = rf.predict(X_test)\n",
    "\n",
    "pd.DataFrame({\"Actual\": y_test,\n",
    "              \"Predicted\": pred_rf}).head(5)"
   ]
  },
  {
   "cell_type": "markdown",
   "id": "ae192225",
   "metadata": {},
   "source": [
    "**Classification Report**"
   ]
  },
  {
   "cell_type": "code",
   "execution_count": 283,
   "id": "36cb041a",
   "metadata": {},
   "outputs": [
    {
     "name": "stdout",
     "output_type": "stream",
     "text": [
      "              precision    recall  f1-score   support\n",
      "\n",
      "   AVAILABLE       0.49      0.24      0.32      1255\n",
      "    CHARGING       0.35      0.02      0.04      1247\n",
      "  OUTOFORDER       0.12      0.01      0.02       287\n",
      "     UNKNOWN       0.15      1.00      0.27       381\n",
      "\n",
      "    accuracy                           0.22      3170\n",
      "   macro avg       0.28      0.32      0.16      3170\n",
      "weighted avg       0.36      0.22      0.17      3170\n",
      "\n"
     ]
    }
   ],
   "source": [
    "print(classification_report(y_test, pred_rf))"
   ]
  },
  {
   "cell_type": "markdown",
   "id": "e5286e1d",
   "metadata": {},
   "source": [
    "**Confusion Matrix**"
   ]
  },
  {
   "cell_type": "code",
   "execution_count": 284,
   "id": "3d9f3ce2",
   "metadata": {},
   "outputs": [
    {
     "data": {
      "text/html": [
       "<div>\n",
       "<style scoped>\n",
       "    .dataframe tbody tr th:only-of-type {\n",
       "        vertical-align: middle;\n",
       "    }\n",
       "\n",
       "    .dataframe tbody tr th {\n",
       "        vertical-align: top;\n",
       "    }\n",
       "\n",
       "    .dataframe thead th {\n",
       "        text-align: right;\n",
       "    }\n",
       "</style>\n",
       "<table border=\"1\" class=\"dataframe\">\n",
       "  <thead>\n",
       "    <tr style=\"text-align: right;\">\n",
       "      <th></th>\n",
       "      <th>0</th>\n",
       "      <th>1</th>\n",
       "      <th>2</th>\n",
       "      <th>3</th>\n",
       "    </tr>\n",
       "  </thead>\n",
       "  <tbody>\n",
       "    <tr>\n",
       "      <th>0</th>\n",
       "      <td>300</td>\n",
       "      <td>43</td>\n",
       "      <td>12</td>\n",
       "      <td>900</td>\n",
       "    </tr>\n",
       "    <tr>\n",
       "      <th>1</th>\n",
       "      <td>296</td>\n",
       "      <td>23</td>\n",
       "      <td>10</td>\n",
       "      <td>918</td>\n",
       "    </tr>\n",
       "    <tr>\n",
       "      <th>2</th>\n",
       "      <td>22</td>\n",
       "      <td>0</td>\n",
       "      <td>3</td>\n",
       "      <td>262</td>\n",
       "    </tr>\n",
       "    <tr>\n",
       "      <th>3</th>\n",
       "      <td>0</td>\n",
       "      <td>0</td>\n",
       "      <td>0</td>\n",
       "      <td>381</td>\n",
       "    </tr>\n",
       "  </tbody>\n",
       "</table>\n",
       "</div>"
      ],
      "text/plain": [
       "     0   1   2    3\n",
       "0  300  43  12  900\n",
       "1  296  23  10  918\n",
       "2   22   0   3  262\n",
       "3    0   0   0  381"
      ]
     },
     "execution_count": 284,
     "metadata": {},
     "output_type": "execute_result"
    }
   ],
   "source": [
    "pd.DataFrame(confusion_matrix(y_test, pred_rf))"
   ]
  },
  {
   "cell_type": "markdown",
   "id": "206c8461",
   "metadata": {},
   "source": [
    "### XGBoost Classifier"
   ]
  },
  {
   "cell_type": "markdown",
   "id": "dac9edb7",
   "metadata": {},
   "source": [
    "**Label encoding on y_train and y_test**"
   ]
  },
  {
   "cell_type": "markdown",
   "id": "31220e55",
   "metadata": {},
   "source": [
    "**XGBoost Model**"
   ]
  },
  {
   "cell_type": "code",
   "execution_count": 40,
   "id": "fd09fb1b",
   "metadata": {},
   "outputs": [
    {
     "name": "stdout",
     "output_type": "stream",
     "text": [
      "[22:13:09] WARNING: C:/Users/Administrator/workspace/xgboost-win64_release_1.4.0/src/learner.cc:1095: Starting in XGBoost 1.3.0, the default evaluation metric used with the objective 'multi:softprob' was changed from 'merror' to 'mlogloss'. Explicitly set eval_metric if you'd like to restore the old behavior.\n"
     ]
    },
    {
     "data": {
      "text/html": [
       "<div>\n",
       "<style scoped>\n",
       "    .dataframe tbody tr th:only-of-type {\n",
       "        vertical-align: middle;\n",
       "    }\n",
       "\n",
       "    .dataframe tbody tr th {\n",
       "        vertical-align: top;\n",
       "    }\n",
       "\n",
       "    .dataframe thead th {\n",
       "        text-align: right;\n",
       "    }\n",
       "</style>\n",
       "<table border=\"1\" class=\"dataframe\">\n",
       "  <thead>\n",
       "    <tr style=\"text-align: right;\">\n",
       "      <th></th>\n",
       "      <th>Actual</th>\n",
       "      <th>Predicted</th>\n",
       "    </tr>\n",
       "  </thead>\n",
       "  <tbody>\n",
       "    <tr>\n",
       "      <th>7080</th>\n",
       "      <td>UNKNOWN</td>\n",
       "      <td>UNKNOWN</td>\n",
       "    </tr>\n",
       "    <tr>\n",
       "      <th>1146</th>\n",
       "      <td>AVAILABLE</td>\n",
       "      <td>UNKNOWN</td>\n",
       "    </tr>\n",
       "    <tr>\n",
       "      <th>9261</th>\n",
       "      <td>CHARGING</td>\n",
       "      <td>UNKNOWN</td>\n",
       "    </tr>\n",
       "    <tr>\n",
       "      <th>3110</th>\n",
       "      <td>AVAILABLE</td>\n",
       "      <td>UNKNOWN</td>\n",
       "    </tr>\n",
       "    <tr>\n",
       "      <th>3503</th>\n",
       "      <td>UNKNOWN</td>\n",
       "      <td>UNKNOWN</td>\n",
       "    </tr>\n",
       "  </tbody>\n",
       "</table>\n",
       "</div>"
      ],
      "text/plain": [
       "         Actual Predicted\n",
       "7080    UNKNOWN   UNKNOWN\n",
       "1146  AVAILABLE   UNKNOWN\n",
       "9261   CHARGING   UNKNOWN\n",
       "3110  AVAILABLE   UNKNOWN\n",
       "3503    UNKNOWN   UNKNOWN"
      ]
     },
     "execution_count": 40,
     "metadata": {},
     "output_type": "execute_result"
    }
   ],
   "source": [
    "xgboost = xgb.XGBClassifier(random_state = 12)\n",
    "\n",
    "xgboost.fit(X_train, y_train)\n",
    "\n",
    "pred_xgb = xgboost.predict(X_test)\n",
    "pd.DataFrame({\"Actual\": y_test,\n",
    "              \"Predicted\": pred_xgb}).sample(5)"
   ]
  },
  {
   "cell_type": "markdown",
   "id": "190c0263",
   "metadata": {},
   "source": [
    "**Confusion Matrix for XGBoost**"
   ]
  },
  {
   "cell_type": "code",
   "execution_count": 41,
   "id": "68ef6fd0",
   "metadata": {},
   "outputs": [
    {
     "data": {
      "text/html": [
       "<div>\n",
       "<style scoped>\n",
       "    .dataframe tbody tr th:only-of-type {\n",
       "        vertical-align: middle;\n",
       "    }\n",
       "\n",
       "    .dataframe tbody tr th {\n",
       "        vertical-align: top;\n",
       "    }\n",
       "\n",
       "    .dataframe thead th {\n",
       "        text-align: right;\n",
       "    }\n",
       "</style>\n",
       "<table border=\"1\" class=\"dataframe\">\n",
       "  <thead>\n",
       "    <tr style=\"text-align: right;\">\n",
       "      <th></th>\n",
       "      <th>0</th>\n",
       "      <th>1</th>\n",
       "      <th>2</th>\n",
       "      <th>3</th>\n",
       "    </tr>\n",
       "  </thead>\n",
       "  <tbody>\n",
       "    <tr>\n",
       "      <th>0</th>\n",
       "      <td>300</td>\n",
       "      <td>43</td>\n",
       "      <td>12</td>\n",
       "      <td>900</td>\n",
       "    </tr>\n",
       "    <tr>\n",
       "      <th>1</th>\n",
       "      <td>296</td>\n",
       "      <td>23</td>\n",
       "      <td>10</td>\n",
       "      <td>918</td>\n",
       "    </tr>\n",
       "    <tr>\n",
       "      <th>2</th>\n",
       "      <td>22</td>\n",
       "      <td>0</td>\n",
       "      <td>3</td>\n",
       "      <td>262</td>\n",
       "    </tr>\n",
       "    <tr>\n",
       "      <th>3</th>\n",
       "      <td>0</td>\n",
       "      <td>0</td>\n",
       "      <td>0</td>\n",
       "      <td>381</td>\n",
       "    </tr>\n",
       "  </tbody>\n",
       "</table>\n",
       "</div>"
      ],
      "text/plain": [
       "     0   1   2    3\n",
       "0  300  43  12  900\n",
       "1  296  23  10  918\n",
       "2   22   0   3  262\n",
       "3    0   0   0  381"
      ]
     },
     "execution_count": 41,
     "metadata": {},
     "output_type": "execute_result"
    }
   ],
   "source": [
    "pd.DataFrame(confusion_matrix(y_test, pred_xgb))"
   ]
  },
  {
   "cell_type": "markdown",
   "id": "c3335ef6",
   "metadata": {},
   "source": [
    "**Classification Report for XGBoost**"
   ]
  },
  {
   "cell_type": "code",
   "execution_count": 42,
   "id": "fe514dbc",
   "metadata": {},
   "outputs": [
    {
     "name": "stdout",
     "output_type": "stream",
     "text": [
      "              precision    recall  f1-score   support\n",
      "\n",
      "   AVAILABLE       0.49      0.24      0.32      1255\n",
      "    CHARGING       0.35      0.02      0.04      1247\n",
      "  OUTOFORDER       0.12      0.01      0.02       287\n",
      "     UNKNOWN       0.15      1.00      0.27       381\n",
      "\n",
      "    accuracy                           0.22      3170\n",
      "   macro avg       0.28      0.32      0.16      3170\n",
      "weighted avg       0.36      0.22      0.17      3170\n",
      "\n"
     ]
    }
   ],
   "source": [
    "print(classification_report(y_test, pred_xgb))"
   ]
  },
  {
   "cell_type": "markdown",
   "id": "d05d87fa",
   "metadata": {},
   "source": [
    "### Random Forest, Decision Tree and XGBoost have same accuracy"
   ]
  },
  {
   "cell_type": "markdown",
   "id": "8141bb92",
   "metadata": {},
   "source": [
    "**Statistics by AVAILABLE status**"
   ]
  },
  {
   "cell_type": "code",
   "execution_count": 325,
   "id": "8e490b8c",
   "metadata": {},
   "outputs": [
    {
     "data": {
      "text/html": [
       "<div>\n",
       "<style scoped>\n",
       "    .dataframe tbody tr th:only-of-type {\n",
       "        vertical-align: middle;\n",
       "    }\n",
       "\n",
       "    .dataframe tbody tr th {\n",
       "        vertical-align: top;\n",
       "    }\n",
       "\n",
       "    .dataframe thead th {\n",
       "        text-align: right;\n",
       "    }\n",
       "</style>\n",
       "<table border=\"1\" class=\"dataframe\">\n",
       "  <thead>\n",
       "    <tr style=\"text-align: right;\">\n",
       "      <th></th>\n",
       "      <th>latitude</th>\n",
       "      <th>longitude</th>\n",
       "      <th>amperage</th>\n",
       "      <th>voltage</th>\n",
       "      <th>power_kw</th>\n",
       "    </tr>\n",
       "  </thead>\n",
       "  <tbody>\n",
       "    <tr>\n",
       "      <th>count</th>\n",
       "      <td>4184.000000</td>\n",
       "      <td>4184.000000</td>\n",
       "      <td>4184.000000</td>\n",
       "      <td>4184.000000</td>\n",
       "      <td>4184.000000</td>\n",
       "    </tr>\n",
       "    <tr>\n",
       "      <th>mean</th>\n",
       "      <td>42.013575</td>\n",
       "      <td>50.554267</td>\n",
       "      <td>70.842256</td>\n",
       "      <td>300.890296</td>\n",
       "      <td>42.876673</td>\n",
       "    </tr>\n",
       "    <tr>\n",
       "      <th>std</th>\n",
       "      <td>0.036633</td>\n",
       "      <td>0.038903</td>\n",
       "      <td>95.526564</td>\n",
       "      <td>142.527062</td>\n",
       "      <td>61.045502</td>\n",
       "    </tr>\n",
       "    <tr>\n",
       "      <th>min</th>\n",
       "      <td>41.926737</td>\n",
       "      <td>50.485521</td>\n",
       "      <td>16.000000</td>\n",
       "      <td>230.000000</td>\n",
       "      <td>11.000000</td>\n",
       "    </tr>\n",
       "    <tr>\n",
       "      <th>25%</th>\n",
       "      <td>42.002225</td>\n",
       "      <td>50.527464</td>\n",
       "      <td>32.000000</td>\n",
       "      <td>230.000000</td>\n",
       "      <td>22.000000</td>\n",
       "    </tr>\n",
       "    <tr>\n",
       "      <th>50%</th>\n",
       "      <td>42.020540</td>\n",
       "      <td>50.546325</td>\n",
       "      <td>32.000000</td>\n",
       "      <td>230.000000</td>\n",
       "      <td>22.000000</td>\n",
       "    </tr>\n",
       "    <tr>\n",
       "      <th>75%</th>\n",
       "      <td>42.033639</td>\n",
       "      <td>50.575732</td>\n",
       "      <td>62.000000</td>\n",
       "      <td>230.000000</td>\n",
       "      <td>43.000000</td>\n",
       "    </tr>\n",
       "    <tr>\n",
       "      <th>max</th>\n",
       "      <td>42.095638</td>\n",
       "      <td>50.635083</td>\n",
       "      <td>400.000000</td>\n",
       "      <td>875.000000</td>\n",
       "      <td>350.000000</td>\n",
       "    </tr>\n",
       "  </tbody>\n",
       "</table>\n",
       "</div>"
      ],
      "text/plain": [
       "          latitude    longitude     amperage      voltage     power_kw\n",
       "count  4184.000000  4184.000000  4184.000000  4184.000000  4184.000000\n",
       "mean     42.013575    50.554267    70.842256   300.890296    42.876673\n",
       "std       0.036633     0.038903    95.526564   142.527062    61.045502\n",
       "min      41.926737    50.485521    16.000000   230.000000    11.000000\n",
       "25%      42.002225    50.527464    32.000000   230.000000    22.000000\n",
       "50%      42.020540    50.546325    32.000000   230.000000    22.000000\n",
       "75%      42.033639    50.575732    62.000000   230.000000    43.000000\n",
       "max      42.095638    50.635083   400.000000   875.000000   350.000000"
      ]
     },
     "execution_count": 325,
     "metadata": {},
     "output_type": "execute_result"
    }
   ],
   "source": [
    "available_status = data[data[\"status\"] == \"AVAILABLE\"]\n",
    "available_status.describe()"
   ]
  },
  {
   "cell_type": "markdown",
   "id": "65f037aa",
   "metadata": {},
   "source": [
    "**Statistics by CHARGING status**"
   ]
  },
  {
   "cell_type": "code",
   "execution_count": 326,
   "id": "83248760",
   "metadata": {},
   "outputs": [
    {
     "data": {
      "text/html": [
       "<div>\n",
       "<style scoped>\n",
       "    .dataframe tbody tr th:only-of-type {\n",
       "        vertical-align: middle;\n",
       "    }\n",
       "\n",
       "    .dataframe tbody tr th {\n",
       "        vertical-align: top;\n",
       "    }\n",
       "\n",
       "    .dataframe thead th {\n",
       "        text-align: right;\n",
       "    }\n",
       "</style>\n",
       "<table border=\"1\" class=\"dataframe\">\n",
       "  <thead>\n",
       "    <tr style=\"text-align: right;\">\n",
       "      <th></th>\n",
       "      <th>latitude</th>\n",
       "      <th>longitude</th>\n",
       "      <th>amperage</th>\n",
       "      <th>voltage</th>\n",
       "      <th>power_kw</th>\n",
       "    </tr>\n",
       "  </thead>\n",
       "  <tbody>\n",
       "    <tr>\n",
       "      <th>count</th>\n",
       "      <td>4156.000000</td>\n",
       "      <td>4156.000000</td>\n",
       "      <td>4156.000000</td>\n",
       "      <td>4156.000000</td>\n",
       "      <td>4156.00000</td>\n",
       "    </tr>\n",
       "    <tr>\n",
       "      <th>mean</th>\n",
       "      <td>42.014410</td>\n",
       "      <td>50.552415</td>\n",
       "      <td>68.220404</td>\n",
       "      <td>296.859962</td>\n",
       "      <td>41.61718</td>\n",
       "    </tr>\n",
       "    <tr>\n",
       "      <th>std</th>\n",
       "      <td>0.036658</td>\n",
       "      <td>0.037360</td>\n",
       "      <td>92.240720</td>\n",
       "      <td>139.865650</td>\n",
       "      <td>59.42595</td>\n",
       "    </tr>\n",
       "    <tr>\n",
       "      <th>min</th>\n",
       "      <td>41.926737</td>\n",
       "      <td>50.485521</td>\n",
       "      <td>16.000000</td>\n",
       "      <td>230.000000</td>\n",
       "      <td>11.00000</td>\n",
       "    </tr>\n",
       "    <tr>\n",
       "      <th>25%</th>\n",
       "      <td>42.002225</td>\n",
       "      <td>50.528732</td>\n",
       "      <td>32.000000</td>\n",
       "      <td>230.000000</td>\n",
       "      <td>22.00000</td>\n",
       "    </tr>\n",
       "    <tr>\n",
       "      <th>50%</th>\n",
       "      <td>42.021433</td>\n",
       "      <td>50.543822</td>\n",
       "      <td>32.000000</td>\n",
       "      <td>230.000000</td>\n",
       "      <td>22.00000</td>\n",
       "    </tr>\n",
       "    <tr>\n",
       "      <th>75%</th>\n",
       "      <td>42.033594</td>\n",
       "      <td>50.575732</td>\n",
       "      <td>32.000000</td>\n",
       "      <td>230.000000</td>\n",
       "      <td>22.00000</td>\n",
       "    </tr>\n",
       "    <tr>\n",
       "      <th>max</th>\n",
       "      <td>42.095638</td>\n",
       "      <td>50.635083</td>\n",
       "      <td>400.000000</td>\n",
       "      <td>875.000000</td>\n",
       "      <td>350.00000</td>\n",
       "    </tr>\n",
       "  </tbody>\n",
       "</table>\n",
       "</div>"
      ],
      "text/plain": [
       "          latitude    longitude     amperage      voltage    power_kw\n",
       "count  4156.000000  4156.000000  4156.000000  4156.000000  4156.00000\n",
       "mean     42.014410    50.552415    68.220404   296.859962    41.61718\n",
       "std       0.036658     0.037360    92.240720   139.865650    59.42595\n",
       "min      41.926737    50.485521    16.000000   230.000000    11.00000\n",
       "25%      42.002225    50.528732    32.000000   230.000000    22.00000\n",
       "50%      42.021433    50.543822    32.000000   230.000000    22.00000\n",
       "75%      42.033594    50.575732    32.000000   230.000000    22.00000\n",
       "max      42.095638    50.635083   400.000000   875.000000   350.00000"
      ]
     },
     "execution_count": 326,
     "metadata": {},
     "output_type": "execute_result"
    }
   ],
   "source": [
    "charging_status = data[data[\"status\"] == \"CHARGING\"]\n",
    "charging_status.describe()"
   ]
  },
  {
   "cell_type": "markdown",
   "id": "68aafb09",
   "metadata": {},
   "source": [
    "**Statistics by OUTOFORDER status**"
   ]
  },
  {
   "cell_type": "code",
   "execution_count": 327,
   "id": "618bcbc5",
   "metadata": {},
   "outputs": [
    {
     "data": {
      "text/html": [
       "<div>\n",
       "<style scoped>\n",
       "    .dataframe tbody tr th:only-of-type {\n",
       "        vertical-align: middle;\n",
       "    }\n",
       "\n",
       "    .dataframe tbody tr th {\n",
       "        vertical-align: top;\n",
       "    }\n",
       "\n",
       "    .dataframe thead th {\n",
       "        text-align: right;\n",
       "    }\n",
       "</style>\n",
       "<table border=\"1\" class=\"dataframe\">\n",
       "  <thead>\n",
       "    <tr style=\"text-align: right;\">\n",
       "      <th></th>\n",
       "      <th>latitude</th>\n",
       "      <th>longitude</th>\n",
       "      <th>amperage</th>\n",
       "      <th>voltage</th>\n",
       "      <th>power_kw</th>\n",
       "    </tr>\n",
       "  </thead>\n",
       "  <tbody>\n",
       "    <tr>\n",
       "      <th>count</th>\n",
       "      <td>955.000000</td>\n",
       "      <td>955.000000</td>\n",
       "      <td>955.000000</td>\n",
       "      <td>955.000000</td>\n",
       "      <td>955.000000</td>\n",
       "    </tr>\n",
       "    <tr>\n",
       "      <th>mean</th>\n",
       "      <td>42.017386</td>\n",
       "      <td>50.551592</td>\n",
       "      <td>47.361257</td>\n",
       "      <td>254.895288</td>\n",
       "      <td>29.657592</td>\n",
       "    </tr>\n",
       "    <tr>\n",
       "      <th>std</th>\n",
       "      <td>0.033756</td>\n",
       "      <td>0.036951</td>\n",
       "      <td>66.770394</td>\n",
       "      <td>87.722401</td>\n",
       "      <td>37.933256</td>\n",
       "    </tr>\n",
       "    <tr>\n",
       "      <th>min</th>\n",
       "      <td>41.926737</td>\n",
       "      <td>50.498666</td>\n",
       "      <td>16.000000</td>\n",
       "      <td>230.000000</td>\n",
       "      <td>11.000000</td>\n",
       "    </tr>\n",
       "    <tr>\n",
       "      <th>25%</th>\n",
       "      <td>42.009100</td>\n",
       "      <td>50.527464</td>\n",
       "      <td>32.000000</td>\n",
       "      <td>230.000000</td>\n",
       "      <td>22.000000</td>\n",
       "    </tr>\n",
       "    <tr>\n",
       "      <th>50%</th>\n",
       "      <td>42.023553</td>\n",
       "      <td>50.543822</td>\n",
       "      <td>32.000000</td>\n",
       "      <td>230.000000</td>\n",
       "      <td>22.000000</td>\n",
       "    </tr>\n",
       "    <tr>\n",
       "      <th>75%</th>\n",
       "      <td>42.032056</td>\n",
       "      <td>50.575732</td>\n",
       "      <td>32.000000</td>\n",
       "      <td>230.000000</td>\n",
       "      <td>22.000000</td>\n",
       "    </tr>\n",
       "    <tr>\n",
       "      <th>max</th>\n",
       "      <td>42.095638</td>\n",
       "      <td>50.635083</td>\n",
       "      <td>400.000000</td>\n",
       "      <td>875.000000</td>\n",
       "      <td>350.000000</td>\n",
       "    </tr>\n",
       "  </tbody>\n",
       "</table>\n",
       "</div>"
      ],
      "text/plain": [
       "         latitude   longitude    amperage     voltage    power_kw\n",
       "count  955.000000  955.000000  955.000000  955.000000  955.000000\n",
       "mean    42.017386   50.551592   47.361257  254.895288   29.657592\n",
       "std      0.033756    0.036951   66.770394   87.722401   37.933256\n",
       "min     41.926737   50.498666   16.000000  230.000000   11.000000\n",
       "25%     42.009100   50.527464   32.000000  230.000000   22.000000\n",
       "50%     42.023553   50.543822   32.000000  230.000000   22.000000\n",
       "75%     42.032056   50.575732   32.000000  230.000000   22.000000\n",
       "max     42.095638   50.635083  400.000000  875.000000  350.000000"
      ]
     },
     "execution_count": 327,
     "metadata": {},
     "output_type": "execute_result"
    }
   ],
   "source": [
    "outoforder_status = data[data[\"status\"] == \"OUTOFORDER\"]\n",
    "outoforder_status.describe()"
   ]
  },
  {
   "cell_type": "markdown",
   "id": "5f80e18a",
   "metadata": {},
   "source": [
    "**Statistics by UNKNOWN status**"
   ]
  },
  {
   "cell_type": "code",
   "execution_count": 328,
   "id": "9c061920",
   "metadata": {},
   "outputs": [
    {
     "data": {
      "text/html": [
       "<div>\n",
       "<style scoped>\n",
       "    .dataframe tbody tr th:only-of-type {\n",
       "        vertical-align: middle;\n",
       "    }\n",
       "\n",
       "    .dataframe tbody tr th {\n",
       "        vertical-align: top;\n",
       "    }\n",
       "\n",
       "    .dataframe thead th {\n",
       "        text-align: right;\n",
       "    }\n",
       "</style>\n",
       "<table border=\"1\" class=\"dataframe\">\n",
       "  <thead>\n",
       "    <tr style=\"text-align: right;\">\n",
       "      <th></th>\n",
       "      <th>latitude</th>\n",
       "      <th>longitude</th>\n",
       "      <th>amperage</th>\n",
       "      <th>voltage</th>\n",
       "      <th>power_kw</th>\n",
       "    </tr>\n",
       "  </thead>\n",
       "  <tbody>\n",
       "    <tr>\n",
       "      <th>count</th>\n",
       "      <td>1270.000000</td>\n",
       "      <td>1270.000000</td>\n",
       "      <td>1270.000000</td>\n",
       "      <td>1270.0</td>\n",
       "      <td>1270.0</td>\n",
       "    </tr>\n",
       "    <tr>\n",
       "      <th>mean</th>\n",
       "      <td>42.023124</td>\n",
       "      <td>50.535794</td>\n",
       "      <td>31.659843</td>\n",
       "      <td>230.0</td>\n",
       "      <td>22.0</td>\n",
       "    </tr>\n",
       "    <tr>\n",
       "      <th>std</th>\n",
       "      <td>0.031088</td>\n",
       "      <td>0.028595</td>\n",
       "      <td>2.308898</td>\n",
       "      <td>0.0</td>\n",
       "      <td>0.0</td>\n",
       "    </tr>\n",
       "    <tr>\n",
       "      <th>min</th>\n",
       "      <td>41.926737</td>\n",
       "      <td>50.485521</td>\n",
       "      <td>16.000000</td>\n",
       "      <td>230.0</td>\n",
       "      <td>22.0</td>\n",
       "    </tr>\n",
       "    <tr>\n",
       "      <th>25%</th>\n",
       "      <td>42.012305</td>\n",
       "      <td>50.521827</td>\n",
       "      <td>32.000000</td>\n",
       "      <td>230.0</td>\n",
       "      <td>22.0</td>\n",
       "    </tr>\n",
       "    <tr>\n",
       "      <th>50%</th>\n",
       "      <td>42.027915</td>\n",
       "      <td>50.533783</td>\n",
       "      <td>32.000000</td>\n",
       "      <td>230.0</td>\n",
       "      <td>22.0</td>\n",
       "    </tr>\n",
       "    <tr>\n",
       "      <th>75%</th>\n",
       "      <td>42.039135</td>\n",
       "      <td>50.548709</td>\n",
       "      <td>32.000000</td>\n",
       "      <td>230.0</td>\n",
       "      <td>22.0</td>\n",
       "    </tr>\n",
       "    <tr>\n",
       "      <th>max</th>\n",
       "      <td>42.095638</td>\n",
       "      <td>50.610119</td>\n",
       "      <td>32.000000</td>\n",
       "      <td>230.0</td>\n",
       "      <td>22.0</td>\n",
       "    </tr>\n",
       "  </tbody>\n",
       "</table>\n",
       "</div>"
      ],
      "text/plain": [
       "          latitude    longitude     amperage  voltage  power_kw\n",
       "count  1270.000000  1270.000000  1270.000000   1270.0    1270.0\n",
       "mean     42.023124    50.535794    31.659843    230.0      22.0\n",
       "std       0.031088     0.028595     2.308898      0.0       0.0\n",
       "min      41.926737    50.485521    16.000000    230.0      22.0\n",
       "25%      42.012305    50.521827    32.000000    230.0      22.0\n",
       "50%      42.027915    50.533783    32.000000    230.0      22.0\n",
       "75%      42.039135    50.548709    32.000000    230.0      22.0\n",
       "max      42.095638    50.610119    32.000000    230.0      22.0"
      ]
     },
     "execution_count": 328,
     "metadata": {},
     "output_type": "execute_result"
    }
   ],
   "source": [
    "unknown_status = data[data[\"status\"] == \"UNKNOWN\"]\n",
    "unknown_status.describe()"
   ]
  },
  {
   "cell_type": "markdown",
   "id": "8ffdddd5",
   "metadata": {},
   "source": [
    "**All the status has same quartile 1 and quartile 2. Our models does not learn well the dataset because of almost same pattern among status. Our models incorrectly classifytarget variables to other classes. That is the reason we got less accuracy among the models.**  "
   ]
  },
  {
   "cell_type": "markdown",
   "id": "865e3c19",
   "metadata": {},
   "source": [
    "### Open Ended Question: Why choose decision tree classifier, random forest classifier and xgboost classifier?"
   ]
  },
  {
   "cell_type": "raw",
   "id": "39dd231a",
   "metadata": {},
   "source": [
    "We have used decision tree classifier, random forest classifier and xgboost classifier as they do predictions based on conditions, If we select other models than tree based then they will do distance measures. We have see that almost all target class values has same quartile 1 and quartile 2. So they may not be too much effective. That is the reason we use decision tree classifier, random forest classifier and xgboost classifier  "
   ]
  }
 ],
 "metadata": {
  "kernelspec": {
   "display_name": "Python 3",
   "language": "python",
   "name": "python3"
  },
  "language_info": {
   "codemirror_mode": {
    "name": "ipython",
    "version": 3
   },
   "file_extension": ".py",
   "mimetype": "text/x-python",
   "name": "python",
   "nbconvert_exporter": "python",
   "pygments_lexer": "ipython3",
   "version": "3.8.8"
  }
 },
 "nbformat": 4,
 "nbformat_minor": 5
}
