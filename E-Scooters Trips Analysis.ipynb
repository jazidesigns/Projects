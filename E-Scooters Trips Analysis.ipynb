{
 "cells": [
  {
   "cell_type": "markdown",
   "id": "6414461f",
   "metadata": {},
   "source": [
    "### Import Libraries"
   ]
  },
  {
   "cell_type": "code",
   "execution_count": 136,
   "id": "edaa8fdd",
   "metadata": {},
   "outputs": [],
   "source": [
    "import pandas as pd\n",
    "import matplotlib.pyplot as plt\n",
    "import seaborn as sns\n",
    "import datetime as dt"
   ]
  },
  {
   "cell_type": "code",
   "execution_count": 137,
   "id": "a05df3e6",
   "metadata": {},
   "outputs": [],
   "source": [
    "sns.set_style(\"whitegrid\")"
   ]
  },
  {
   "cell_type": "markdown",
   "id": "d0223e6b",
   "metadata": {},
   "source": [
    "### Import Dataset"
   ]
  },
  {
   "cell_type": "code",
   "execution_count": 138,
   "id": "7c3c39ab",
   "metadata": {},
   "outputs": [
    {
     "data": {
      "text/html": [
       "<div>\n",
       "<style scoped>\n",
       "    .dataframe tbody tr th:only-of-type {\n",
       "        vertical-align: middle;\n",
       "    }\n",
       "\n",
       "    .dataframe tbody tr th {\n",
       "        vertical-align: top;\n",
       "    }\n",
       "\n",
       "    .dataframe thead th {\n",
       "        text-align: right;\n",
       "    }\n",
       "</style>\n",
       "<table border=\"1\" class=\"dataframe\">\n",
       "  <thead>\n",
       "    <tr style=\"text-align: right;\">\n",
       "      <th></th>\n",
       "      <th>Trip ID</th>\n",
       "      <th>Start Time</th>\n",
       "      <th>End Time</th>\n",
       "      <th>Trip Distance</th>\n",
       "      <th>Trip Duration</th>\n",
       "      <th>Vendor</th>\n",
       "      <th>Start Community Area Number</th>\n",
       "      <th>End Community Area Number</th>\n",
       "      <th>Start Community Area Name</th>\n",
       "      <th>End Community Area Name</th>\n",
       "      <th>Start Centroid Latitude</th>\n",
       "      <th>Start Centroid Longitude</th>\n",
       "      <th>Start Centroid Location</th>\n",
       "      <th>End Centroid Latitude</th>\n",
       "      <th>End Centroid Longitude</th>\n",
       "      <th>End Centroid Location</th>\n",
       "    </tr>\n",
       "  </thead>\n",
       "  <tbody>\n",
       "    <tr>\n",
       "      <th>0</th>\n",
       "      <td>3eb9a2a3-3266-4559-b1ec-e83a6f7972ab</td>\n",
       "      <td>08/12/2020 05:00:00 AM</td>\n",
       "      <td>08/12/2020 05:00:00 AM</td>\n",
       "      <td>1,153</td>\n",
       "      <td>1,027</td>\n",
       "      <td>spin</td>\n",
       "      <td>68.0</td>\n",
       "      <td>68.0</td>\n",
       "      <td>ENGLEWOOD</td>\n",
       "      <td>ENGLEWOOD</td>\n",
       "      <td>41.780068</td>\n",
       "      <td>-87.642266</td>\n",
       "      <td>POINT (-87.64226608 41.78006847)</td>\n",
       "      <td>41.780068</td>\n",
       "      <td>-87.642266</td>\n",
       "      <td>POINT (-87.64226608 41.78006847)</td>\n",
       "    </tr>\n",
       "    <tr>\n",
       "      <th>1</th>\n",
       "      <td>82dd7b8f-8de0-4f25-829b-b32bf47e8419</td>\n",
       "      <td>08/12/2020 05:00:00 AM</td>\n",
       "      <td>08/12/2020 05:00:00 AM</td>\n",
       "      <td>17</td>\n",
       "      <td>91</td>\n",
       "      <td>spin</td>\n",
       "      <td>22.0</td>\n",
       "      <td>21.0</td>\n",
       "      <td>LOGAN SQUARE</td>\n",
       "      <td>AVONDALE</td>\n",
       "      <td>41.922903</td>\n",
       "      <td>-87.704301</td>\n",
       "      <td>POINT (-87.70430082 41.92290349)</td>\n",
       "      <td>41.939283</td>\n",
       "      <td>-87.710757</td>\n",
       "      <td>POINT (-87.71075685 41.93928256)</td>\n",
       "    </tr>\n",
       "    <tr>\n",
       "      <th>2</th>\n",
       "      <td>9120cbf3-f749-49b6-b894-0e6e065cd731</td>\n",
       "      <td>08/12/2020 05:00:00 AM</td>\n",
       "      <td>08/12/2020 05:00:00 AM</td>\n",
       "      <td>2,883</td>\n",
       "      <td>724</td>\n",
       "      <td>spin</td>\n",
       "      <td>3.0</td>\n",
       "      <td>6.0</td>\n",
       "      <td>UPTOWN</td>\n",
       "      <td>LAKE VIEW</td>\n",
       "      <td>41.965435</td>\n",
       "      <td>-87.655145</td>\n",
       "      <td>POINT (-87.65514456 41.96543532)</td>\n",
       "      <td>41.943514</td>\n",
       "      <td>-87.657498</td>\n",
       "      <td>POINT (-87.65749768 41.9435138)</td>\n",
       "    </tr>\n",
       "    <tr>\n",
       "      <th>3</th>\n",
       "      <td>cf2e4abc-2649-49be-924b-468a1aefc4c8</td>\n",
       "      <td>08/12/2020 05:00:00 AM</td>\n",
       "      <td>08/12/2020 05:00:00 AM</td>\n",
       "      <td>5</td>\n",
       "      <td>21</td>\n",
       "      <td>spin</td>\n",
       "      <td>31.0</td>\n",
       "      <td>31.0</td>\n",
       "      <td>LOWER WEST SIDE</td>\n",
       "      <td>LOWER WEST SIDE</td>\n",
       "      <td>41.848335</td>\n",
       "      <td>-87.675179</td>\n",
       "      <td>POINT (-87.67517932 41.84833501)</td>\n",
       "      <td>41.848335</td>\n",
       "      <td>-87.675179</td>\n",
       "      <td>POINT (-87.67517932 41.84833501)</td>\n",
       "    </tr>\n",
       "    <tr>\n",
       "      <th>4</th>\n",
       "      <td>0448afb5-ab64-4090-b528-e3050e7eb0f2</td>\n",
       "      <td>08/12/2020 07:00:00 AM</td>\n",
       "      <td>08/12/2020 07:00:00 AM</td>\n",
       "      <td>1,179</td>\n",
       "      <td>245</td>\n",
       "      <td>spin</td>\n",
       "      <td>6.0</td>\n",
       "      <td>6.0</td>\n",
       "      <td>LAKE VIEW</td>\n",
       "      <td>LAKE VIEW</td>\n",
       "      <td>41.943514</td>\n",
       "      <td>-87.657498</td>\n",
       "      <td>POINT (-87.65749768 41.9435138)</td>\n",
       "      <td>41.943514</td>\n",
       "      <td>-87.657498</td>\n",
       "      <td>POINT (-87.65749768 41.9435138)</td>\n",
       "    </tr>\n",
       "  </tbody>\n",
       "</table>\n",
       "</div>"
      ],
      "text/plain": [
       "                                Trip ID              Start Time  \\\n",
       "0  3eb9a2a3-3266-4559-b1ec-e83a6f7972ab  08/12/2020 05:00:00 AM   \n",
       "1  82dd7b8f-8de0-4f25-829b-b32bf47e8419  08/12/2020 05:00:00 AM   \n",
       "2  9120cbf3-f749-49b6-b894-0e6e065cd731  08/12/2020 05:00:00 AM   \n",
       "3  cf2e4abc-2649-49be-924b-468a1aefc4c8  08/12/2020 05:00:00 AM   \n",
       "4  0448afb5-ab64-4090-b528-e3050e7eb0f2  08/12/2020 07:00:00 AM   \n",
       "\n",
       "                 End Time Trip Distance Trip Duration Vendor  \\\n",
       "0  08/12/2020 05:00:00 AM         1,153         1,027   spin   \n",
       "1  08/12/2020 05:00:00 AM            17            91   spin   \n",
       "2  08/12/2020 05:00:00 AM         2,883           724   spin   \n",
       "3  08/12/2020 05:00:00 AM             5            21   spin   \n",
       "4  08/12/2020 07:00:00 AM         1,179           245   spin   \n",
       "\n",
       "   Start Community Area Number  End Community Area Number  \\\n",
       "0                         68.0                       68.0   \n",
       "1                         22.0                       21.0   \n",
       "2                          3.0                        6.0   \n",
       "3                         31.0                       31.0   \n",
       "4                          6.0                        6.0   \n",
       "\n",
       "  Start Community Area Name End Community Area Name  Start Centroid Latitude  \\\n",
       "0                 ENGLEWOOD               ENGLEWOOD                41.780068   \n",
       "1              LOGAN SQUARE                AVONDALE                41.922903   \n",
       "2                    UPTOWN               LAKE VIEW                41.965435   \n",
       "3           LOWER WEST SIDE         LOWER WEST SIDE                41.848335   \n",
       "4                 LAKE VIEW               LAKE VIEW                41.943514   \n",
       "\n",
       "   Start Centroid Longitude           Start Centroid Location  \\\n",
       "0                -87.642266  POINT (-87.64226608 41.78006847)   \n",
       "1                -87.704301  POINT (-87.70430082 41.92290349)   \n",
       "2                -87.655145  POINT (-87.65514456 41.96543532)   \n",
       "3                -87.675179  POINT (-87.67517932 41.84833501)   \n",
       "4                -87.657498   POINT (-87.65749768 41.9435138)   \n",
       "\n",
       "   End Centroid Latitude  End Centroid Longitude  \\\n",
       "0              41.780068              -87.642266   \n",
       "1              41.939283              -87.710757   \n",
       "2              41.943514              -87.657498   \n",
       "3              41.848335              -87.675179   \n",
       "4              41.943514              -87.657498   \n",
       "\n",
       "              End Centroid Location  \n",
       "0  POINT (-87.64226608 41.78006847)  \n",
       "1  POINT (-87.71075685 41.93928256)  \n",
       "2   POINT (-87.65749768 41.9435138)  \n",
       "3  POINT (-87.67517932 41.84833501)  \n",
       "4   POINT (-87.65749768 41.9435138)  "
      ]
     },
     "execution_count": 138,
     "metadata": {},
     "output_type": "execute_result"
    }
   ],
   "source": [
    "df = pd.read_csv(\"E-Scooter_Trips_-_2020.csv\")\n",
    "df.head()"
   ]
  },
  {
   "cell_type": "markdown",
   "id": "cb408860",
   "metadata": {},
   "source": [
    "**Data Information**"
   ]
  },
  {
   "cell_type": "code",
   "execution_count": 139,
   "id": "eba2a7a7",
   "metadata": {},
   "outputs": [
    {
     "name": "stdout",
     "output_type": "stream",
     "text": [
      "<class 'pandas.core.frame.DataFrame'>\n",
      "RangeIndex: 630816 entries, 0 to 630815\n",
      "Data columns (total 16 columns):\n",
      " #   Column                       Non-Null Count   Dtype  \n",
      "---  ------                       --------------   -----  \n",
      " 0   Trip ID                      630816 non-null  object \n",
      " 1   Start Time                   630816 non-null  object \n",
      " 2   End Time                     630816 non-null  object \n",
      " 3   Trip Distance                630816 non-null  object \n",
      " 4   Trip Duration                630816 non-null  object \n",
      " 5   Vendor                       630816 non-null  object \n",
      " 6   Start Community Area Number  629934 non-null  float64\n",
      " 7   End Community Area Number    629598 non-null  float64\n",
      " 8   Start Community Area Name    629934 non-null  object \n",
      " 9   End Community Area Name      629598 non-null  object \n",
      " 10  Start Centroid Latitude      629934 non-null  float64\n",
      " 11  Start Centroid Longitude     629934 non-null  float64\n",
      " 12  Start Centroid Location      629934 non-null  object \n",
      " 13  End Centroid Latitude        629598 non-null  float64\n",
      " 14  End Centroid Longitude       629598 non-null  float64\n",
      " 15  End Centroid Location        629598 non-null  object \n",
      "dtypes: float64(6), object(10)\n",
      "memory usage: 77.0+ MB\n"
     ]
    }
   ],
   "source": [
    "df.info()"
   ]
  },
  {
   "cell_type": "markdown",
   "id": "6f148352",
   "metadata": {},
   "source": [
    "**Data Preprocessing**"
   ]
  },
  {
   "cell_type": "markdown",
   "id": "18b609b3",
   "metadata": {},
   "source": [
    "We create the following rules:\n",
    "A trip needs to last at least one minute.\n",
    "The length of a trip needs to be at least 100 meters.\""
   ]
  },
  {
   "cell_type": "code",
   "execution_count": 140,
   "id": "12e9281b",
   "metadata": {},
   "outputs": [],
   "source": [
    "# Remove Comma from Values\n",
    "df[\"Trip Duration\"] = df[\"Trip Duration\"].str.replace(\",\", \"\")\n",
    "# Convert Data Type to Int\n",
    "df[\"Trip Duration\"] = df[\"Trip Duration\"].astype(\"int\")\n",
    "\n",
    "# Remove Comma from Values\n",
    "df[\"Trip Distance\"] = df[\"Trip Distance\"].str.replace(\",\", \"\")\n",
    "# Convert Data Type to Int\n",
    "df[\"Trip Distance\"] = df[\"Trip Distance\"].astype(\"int\")"
   ]
  },
  {
   "cell_type": "code",
   "execution_count": 141,
   "id": "0359285f",
   "metadata": {},
   "outputs": [],
   "source": [
    "# Dropping rows where distance is less than 100 meters or time is less than 60 seconds\n",
    "df = df.drop(df[(df['Trip Distance'] < 100) | (df['Trip Duration'] < 60)].index)"
   ]
  },
  {
   "cell_type": "code",
   "execution_count": 142,
   "id": "c098d9b2",
   "metadata": {},
   "outputs": [
    {
     "data": {
      "text/plain": [
       "(555077, 16)"
      ]
     },
     "execution_count": 142,
     "metadata": {},
     "output_type": "execute_result"
    }
   ],
   "source": [
    "# Table shape after removing rows with respect to conditions\n",
    "df.shape"
   ]
  },
  {
   "cell_type": "code",
   "execution_count": 143,
   "id": "71c2ee46",
   "metadata": {},
   "outputs": [],
   "source": [
    "# Convert Start Time Data Type to Datetime \n",
    "df['Start Time'] = pd.to_datetime(df['Start Time'])\n",
    "\n",
    "# Extract Date from Start Time Column\n",
    "df['Start Date'] = pd.to_datetime(df['Start Time']).dt.date\n",
    "\n",
    "df['Start Date'] = pd.to_datetime(df['Start Date'])"
   ]
  },
  {
   "cell_type": "markdown",
   "id": "78edfaf6",
   "metadata": {},
   "source": [
    "### Number of Trips by Date"
   ]
  },
  {
   "cell_type": "code",
   "execution_count": 148,
   "id": "c73e081f",
   "metadata": {},
   "outputs": [
    {
     "data": {
      "text/html": [
       "<div>\n",
       "<style scoped>\n",
       "    .dataframe tbody tr th:only-of-type {\n",
       "        vertical-align: middle;\n",
       "    }\n",
       "\n",
       "    .dataframe tbody tr th {\n",
       "        vertical-align: top;\n",
       "    }\n",
       "\n",
       "    .dataframe thead th {\n",
       "        text-align: right;\n",
       "    }\n",
       "</style>\n",
       "<table border=\"1\" class=\"dataframe\">\n",
       "  <thead>\n",
       "    <tr style=\"text-align: right;\">\n",
       "      <th></th>\n",
       "      <th>Date</th>\n",
       "      <th>Trips</th>\n",
       "    </tr>\n",
       "  </thead>\n",
       "  <tbody>\n",
       "    <tr>\n",
       "      <th>0</th>\n",
       "      <td>2020-08-12</td>\n",
       "      <td>3002</td>\n",
       "    </tr>\n",
       "    <tr>\n",
       "      <th>1</th>\n",
       "      <td>2020-08-13</td>\n",
       "      <td>3786</td>\n",
       "    </tr>\n",
       "    <tr>\n",
       "      <th>2</th>\n",
       "      <td>2020-08-14</td>\n",
       "      <td>4549</td>\n",
       "    </tr>\n",
       "    <tr>\n",
       "      <th>3</th>\n",
       "      <td>2020-08-15</td>\n",
       "      <td>5126</td>\n",
       "    </tr>\n",
       "    <tr>\n",
       "      <th>4</th>\n",
       "      <td>2020-08-16</td>\n",
       "      <td>5403</td>\n",
       "    </tr>\n",
       "  </tbody>\n",
       "</table>\n",
       "</div>"
      ],
      "text/plain": [
       "        Date  Trips\n",
       "0 2020-08-12   3002\n",
       "1 2020-08-13   3786\n",
       "2 2020-08-14   4549\n",
       "3 2020-08-15   5126\n",
       "4 2020-08-16   5403"
      ]
     },
     "execution_count": 148,
     "metadata": {},
     "output_type": "execute_result"
    }
   ],
   "source": [
    "ntd = df.groupby(\"Start Date\")[\"Start Date\"].agg([\"count\"]).reset_index()\n",
    "ntd.columns = [\"Date\", \"Trips\"]\n",
    "ntd.head()"
   ]
  },
  {
   "cell_type": "code",
   "execution_count": 149,
   "id": "f2f74f52",
   "metadata": {},
   "outputs": [
    {
     "data": {
      "text/plain": [
       "4512.821138211382"
      ]
     },
     "execution_count": 149,
     "metadata": {},
     "output_type": "execute_result"
    }
   ],
   "source": [
    "# Averae Trips per day\n",
    "atpd = ntd[\"Trips\"].mean()\n",
    "atpd"
   ]
  },
  {
   "cell_type": "code",
   "execution_count": 150,
   "id": "727f13bf",
   "metadata": {},
   "outputs": [
    {
     "data": {
      "image/png": "[encoded data removed]",
      "text/plain": [
       "<Figure size 1296x504 with 1 Axes>"
      ]
     },
     "metadata": {},
     "output_type": "display_data"
    }
   ],
   "source": [
    "plt.figure(figsize = (18, 7))\n",
    "plot = sns.lineplot(x = \"Date\", y = \"Trips\", data = ntd, color = \"blue\", linewidth = 2)\n",
    "plot.axhline(atpd, linestyle=\"--\", color=\"purple\", label=\"Average = 4513\", linewidth = 3) \n",
    "plt.title(\"Number of Trips by Date\", size = 20, color = \"red\", weight = \"bold\")\n",
    "plt.xlabel(\"Date\", size = 20, color = \"red\", weight = \"bold\")\n",
    "plt.ylabel(\"Trips\", size = 20, color = \"red\", weight = \"bold\")\n",
    "plt.legend(prop={'size': 15})\n",
    "plt.xticks(size = 15)\n",
    "plt.yticks(size = 15)\n",
    "plt.show()"
   ]
  },
  {
   "cell_type": "raw",
   "id": "7121e143",
   "metadata": {},
   "source": [
    "Trips constantly start to decrease below average after Noveber 07, 2020"
   ]
  },
  {
   "cell_type": "markdown",
   "id": "75b6bc86",
   "metadata": {},
   "source": [
    "### Number of Trips by Day of Week"
   ]
  },
  {
   "cell_type": "code",
   "execution_count": 151,
   "id": "77e0a0f8",
   "metadata": {},
   "outputs": [],
   "source": [
    "# Extract Day Name from Start Date Column\n",
    "df[\"Day of Week\"] = df[\"Start Date\"].dt.day_name()"
   ]
  },
  {
   "cell_type": "code",
   "execution_count": 154,
   "id": "2d680c4e",
   "metadata": {},
   "outputs": [
    {
     "data": {
      "text/html": [
       "<div>\n",
       "<style scoped>\n",
       "    .dataframe tbody tr th:only-of-type {\n",
       "        vertical-align: middle;\n",
       "    }\n",
       "\n",
       "    .dataframe tbody tr th {\n",
       "        vertical-align: top;\n",
       "    }\n",
       "\n",
       "    .dataframe thead th {\n",
       "        text-align: right;\n",
       "    }\n",
       "</style>\n",
       "<table border=\"1\" class=\"dataframe\">\n",
       "  <thead>\n",
       "    <tr style=\"text-align: right;\">\n",
       "      <th></th>\n",
       "      <th>Day of Week</th>\n",
       "      <th>Trips</th>\n",
       "    </tr>\n",
       "  </thead>\n",
       "  <tbody>\n",
       "    <tr>\n",
       "      <th>0</th>\n",
       "      <td>Monday</td>\n",
       "      <td>62033</td>\n",
       "    </tr>\n",
       "    <tr>\n",
       "      <th>1</th>\n",
       "      <td>Tuesday</td>\n",
       "      <td>60897</td>\n",
       "    </tr>\n",
       "    <tr>\n",
       "      <th>2</th>\n",
       "      <td>Wednesday</td>\n",
       "      <td>73910</td>\n",
       "    </tr>\n",
       "    <tr>\n",
       "      <th>3</th>\n",
       "      <td>Thursday</td>\n",
       "      <td>73346</td>\n",
       "    </tr>\n",
       "    <tr>\n",
       "      <th>4</th>\n",
       "      <td>Friday</td>\n",
       "      <td>89994</td>\n",
       "    </tr>\n",
       "    <tr>\n",
       "      <th>5</th>\n",
       "      <td>Saturday</td>\n",
       "      <td>107366</td>\n",
       "    </tr>\n",
       "    <tr>\n",
       "      <th>6</th>\n",
       "      <td>Sunday</td>\n",
       "      <td>87531</td>\n",
       "    </tr>\n",
       "  </tbody>\n",
       "</table>\n",
       "</div>"
      ],
      "text/plain": [
       "  Day of Week   Trips\n",
       "0      Monday   62033\n",
       "1     Tuesday   60897\n",
       "2   Wednesday   73910\n",
       "3    Thursday   73346\n",
       "4      Friday   89994\n",
       "5    Saturday  107366\n",
       "6      Sunday   87531"
      ]
     },
     "execution_count": 154,
     "metadata": {},
     "output_type": "execute_result"
    }
   ],
   "source": [
    "cats = ['Monday', 'Tuesday', 'Wednesday', 'Thursday', 'Friday', 'Saturday', 'Sunday']\n",
    "tdw = df.groupby(\"Day of Week\")[\"Day of Week\"].agg([\"count\"]).reindex(cats).reset_index()\n",
    "tdw.columns = [\"Day of Week\", \"Trips\"]\n",
    "tdw"
   ]
  },
  {
   "cell_type": "code",
   "execution_count": 155,
   "id": "ec44f420",
   "metadata": {},
   "outputs": [
    {
     "data": {
      "text/plain": [
       "79296.71428571429"
      ]
     },
     "execution_count": 155,
     "metadata": {},
     "output_type": "execute_result"
    }
   ],
   "source": [
    "atdw = tdw[\"Trips\"].mean()\n",
    "atdw"
   ]
  },
  {
   "cell_type": "code",
   "execution_count": 164,
   "id": "91ffe32f",
   "metadata": {},
   "outputs": [
    {
     "data": {
      "image/png": "[encoded data removed]",
      "text/plain": [
       "<Figure size 1296x504 with 1 Axes>"
      ]
     },
     "metadata": {},
     "output_type": "display_data"
    }
   ],
   "source": [
    "plt.figure(figsize = (18, 7))\n",
    "plot = sns.barplot(x = \"Day of Week\", y = \"Trips\", data = tdw, palette = \"spring\")\n",
    "for p in plot.patches:\n",
    "        plot.annotate('{:.0f}'.format(p.get_height()), \n",
    "                      (p.get_x()+0.4, p.get_height()),\n",
    "                       ha='center', va='bottom',color= 'black', size = 15)\n",
    "plot.axhline(atdw, linestyle=\"--\", color=\"purple\", label=\"Average = 79297\", linewidth = 3) \n",
    "plt.title(\"Number of Trips by Day of Week\", size = 20, color = \"red\", weight = \"bold\")\n",
    "plt.xlabel(\"Day\", size = 20, color = \"red\", weight = \"bold\")\n",
    "plt.ylabel(\"Trips\", size = 20, color = \"red\", weight = \"bold\")\n",
    "plt.legend(prop={'size': 15})\n",
    "plt.xticks(size = 15)\n",
    "plt.yticks(size = 15)\n",
    "plt.show()"
   ]
  },
  {
   "cell_type": "code",
   "execution_count": null,
   "id": "75e7da4e",
   "metadata": {},
   "outputs": [],
   "source": []
  }
 ],
 "metadata": {
  "kernelspec": {
   "display_name": "Python 3",
   "language": "python",
   "name": "python3"
  },
  "language_info": {
   "codemirror_mode": {
    "name": "ipython",
    "version": 3
   },
   "file_extension": ".py",
   "mimetype": "text/x-python",
   "name": "python",
   "nbconvert_exporter": "python",
   "pygments_lexer": "ipython3",
   "version": "3.8.8"
  }
 },
 "nbformat": 4,
 "nbformat_minor": 5
}
