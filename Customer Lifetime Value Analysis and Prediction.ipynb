{
 "cells": [
  {
   "cell_type": "markdown",
   "id": "f99cfc4c",
   "metadata": {},
   "source": [
    "### Import Libraries"
   ]
  },
  {
   "cell_type": "code",
   "execution_count": 160,
   "id": "2c4ee956",
   "metadata": {},
   "outputs": [],
   "source": [
    "import pandas as pd\n",
    "import matplotlib.pyplot as plt\n",
    "import seaborn as sns\n",
    "sns.set_style(\"whitegrid\")\n",
    "\n",
    "from sklearn.metrics import mean_squared_error\n",
    "import datetime as dt\n",
    "\n",
    "from sklearn.preprocessing import StandardScaler\n",
    "\n",
    "from sklearn.linear_model import LinearRegression\n",
    "from sklearn.svm import SVR\n",
    "\n",
    "from sklearn.model_selection import train_test_split\n",
    "from keras.layers import Dense\n",
    "from keras.models import Sequential\n",
    "import xgboost as xgb"
   ]
  },
  {
   "cell_type": "markdown",
   "id": "76a96d64",
   "metadata": {},
   "source": [
    "### Import Dataset"
   ]
  },
  {
   "cell_type": "code",
   "execution_count": 110,
   "id": "528ecd75",
   "metadata": {},
   "outputs": [
    {
     "data": {
      "text/html": [
       "<div>\n",
       "<style scoped>\n",
       "    .dataframe tbody tr th:only-of-type {\n",
       "        vertical-align: middle;\n",
       "    }\n",
       "\n",
       "    .dataframe tbody tr th {\n",
       "        vertical-align: top;\n",
       "    }\n",
       "\n",
       "    .dataframe thead th {\n",
       "        text-align: right;\n",
       "    }\n",
       "</style>\n",
       "<table border=\"1\" class=\"dataframe\">\n",
       "  <thead>\n",
       "    <tr style=\"text-align: right;\">\n",
       "      <th></th>\n",
       "      <th>Platform</th>\n",
       "      <th>userid</th>\n",
       "      <th>IN-APP PRODUCTID</th>\n",
       "      <th>Country</th>\n",
       "      <th>Price in local currency</th>\n",
       "      <th>Currency</th>\n",
       "      <th>Timestamp</th>\n",
       "    </tr>\n",
       "  </thead>\n",
       "  <tbody>\n",
       "    <tr>\n",
       "      <th>8241</th>\n",
       "      <td>ANDROID</td>\n",
       "      <td>6.809401252</td>\n",
       "      <td>offer4</td>\n",
       "      <td>US</td>\n",
       "      <td>3.99</td>\n",
       "      <td>USD</td>\n",
       "      <td>25/12/2016 15:52</td>\n",
       "    </tr>\n",
       "    <tr>\n",
       "      <th>4465</th>\n",
       "      <td>ANDROID</td>\n",
       "      <td>6.740700124</td>\n",
       "      <td>pack3.shields</td>\n",
       "      <td>NL</td>\n",
       "      <td>7.99</td>\n",
       "      <td>EUR</td>\n",
       "      <td>21/01/2017 11:43</td>\n",
       "    </tr>\n",
       "    <tr>\n",
       "      <th>5278</th>\n",
       "      <td>ANDROID</td>\n",
       "      <td>6.80859876</td>\n",
       "      <td>offer4</td>\n",
       "      <td>US</td>\n",
       "      <td>3.99</td>\n",
       "      <td>USD</td>\n",
       "      <td>21/12/2016 18:09</td>\n",
       "    </tr>\n",
       "    <tr>\n",
       "      <th>7230</th>\n",
       "      <td>ANDROID</td>\n",
       "      <td>5.969378632</td>\n",
       "      <td>offer10</td>\n",
       "      <td>US</td>\n",
       "      <td>9.99</td>\n",
       "      <td>USD</td>\n",
       "      <td>05/02/2017 06:30</td>\n",
       "    </tr>\n",
       "    <tr>\n",
       "      <th>6430</th>\n",
       "      <td>ANDROID</td>\n",
       "      <td>6.826312433</td>\n",
       "      <td>offer4</td>\n",
       "      <td>US</td>\n",
       "      <td>3.99</td>\n",
       "      <td>USD</td>\n",
       "      <td>05/03/2017 15:58</td>\n",
       "    </tr>\n",
       "  </tbody>\n",
       "</table>\n",
       "</div>"
      ],
      "text/plain": [
       "     Platform       userid IN-APP PRODUCTID Country  \\\n",
       "8241  ANDROID  6.809401252           offer4      US   \n",
       "4465  ANDROID  6.740700124    pack3.shields      NL   \n",
       "5278  ANDROID   6.80859876           offer4      US   \n",
       "7230  ANDROID  5.969378632          offer10      US   \n",
       "6430  ANDROID  6.826312433           offer4      US   \n",
       "\n",
       "       Price in local currency  Currency         Timestamp  \n",
       "8241                       3.99      USD  25/12/2016 15:52  \n",
       "4465                       7.99      EUR  21/01/2017 11:43  \n",
       "5278                       3.99      USD  21/12/2016 18:09  \n",
       "7230                       9.99      USD  05/02/2017 06:30  \n",
       "6430                       3.99      USD  05/03/2017 15:58  "
      ]
     },
     "execution_count": 110,
     "metadata": {},
     "output_type": "execute_result"
    }
   ],
   "source": [
    "df = pd.read_csv(\"TransactionsTestDataset.csv\")\n",
    "df.sample(5)"
   ]
  },
  {
   "cell_type": "code",
   "execution_count": 111,
   "id": "1617bdf1",
   "metadata": {},
   "outputs": [],
   "source": [
    "df = df.rename(columns = {\" Price in local currency \": \"Price in local currency\"})"
   ]
  },
  {
   "cell_type": "markdown",
   "id": "ff91193d",
   "metadata": {},
   "source": [
    "**Insights of rows having Currency 0**"
   ]
  },
  {
   "cell_type": "code",
   "execution_count": 112,
   "id": "e2628605",
   "metadata": {},
   "outputs": [
    {
     "data": {
      "text/html": [
       "<div>\n",
       "<style scoped>\n",
       "    .dataframe tbody tr th:only-of-type {\n",
       "        vertical-align: middle;\n",
       "    }\n",
       "\n",
       "    .dataframe tbody tr th {\n",
       "        vertical-align: top;\n",
       "    }\n",
       "\n",
       "    .dataframe thead th {\n",
       "        text-align: right;\n",
       "    }\n",
       "</style>\n",
       "<table border=\"1\" class=\"dataframe\">\n",
       "  <thead>\n",
       "    <tr style=\"text-align: right;\">\n",
       "      <th></th>\n",
       "      <th>Platform</th>\n",
       "      <th>userid</th>\n",
       "      <th>IN-APP PRODUCTID</th>\n",
       "      <th>Country</th>\n",
       "      <th>Price in local currency</th>\n",
       "      <th>Currency</th>\n",
       "      <th>Timestamp</th>\n",
       "    </tr>\n",
       "  </thead>\n",
       "  <tbody>\n",
       "    <tr>\n",
       "      <th>3</th>\n",
       "      <td>ANDROID</td>\n",
       "      <td>6.831281255</td>\n",
       "      <td>offer4</td>\n",
       "      <td>US</td>\n",
       "      <td>0.0</td>\n",
       "      <td>0</td>\n",
       "      <td>27/03/2017 16:58</td>\n",
       "    </tr>\n",
       "    <tr>\n",
       "      <th>5</th>\n",
       "      <td>ANDROID</td>\n",
       "      <td>6.831281255</td>\n",
       "      <td>offer4</td>\n",
       "      <td>US</td>\n",
       "      <td>0.0</td>\n",
       "      <td>0</td>\n",
       "      <td>27/03/2017 16:32</td>\n",
       "    </tr>\n",
       "    <tr>\n",
       "      <th>6</th>\n",
       "      <td>ANDROID</td>\n",
       "      <td>6.831281255</td>\n",
       "      <td>offer4</td>\n",
       "      <td>US</td>\n",
       "      <td>0.0</td>\n",
       "      <td>0</td>\n",
       "      <td>27/03/2017 16:28</td>\n",
       "    </tr>\n",
       "    <tr>\n",
       "      <th>23</th>\n",
       "      <td>ANDROID</td>\n",
       "      <td>6.82784951</td>\n",
       "      <td>pack2.shields</td>\n",
       "      <td>FR</td>\n",
       "      <td>3.0</td>\n",
       "      <td>0</td>\n",
       "      <td>26/03/2017 19:17</td>\n",
       "    </tr>\n",
       "    <tr>\n",
       "      <th>42</th>\n",
       "      <td>ANDROID</td>\n",
       "      <td>6.827575966</td>\n",
       "      <td>pack2.shields</td>\n",
       "      <td>US</td>\n",
       "      <td>0.0</td>\n",
       "      <td>0</td>\n",
       "      <td>25/03/2017 22:27</td>\n",
       "    </tr>\n",
       "    <tr>\n",
       "      <th>...</th>\n",
       "      <td>...</td>\n",
       "      <td>...</td>\n",
       "      <td>...</td>\n",
       "      <td>...</td>\n",
       "      <td>...</td>\n",
       "      <td>...</td>\n",
       "      <td>...</td>\n",
       "    </tr>\n",
       "    <tr>\n",
       "      <th>7193</th>\n",
       "      <td>ANDROID</td>\n",
       "      <td>6.819771486</td>\n",
       "      <td>offer4</td>\n",
       "      <td>US</td>\n",
       "      <td>0.0</td>\n",
       "      <td>0</td>\n",
       "      <td>06/02/2017 15:39</td>\n",
       "    </tr>\n",
       "    <tr>\n",
       "      <th>7203</th>\n",
       "      <td>ANDROID</td>\n",
       "      <td>6.404055736</td>\n",
       "      <td>pack2.shields</td>\n",
       "      <td>US</td>\n",
       "      <td>0.0</td>\n",
       "      <td>0</td>\n",
       "      <td>05/02/2017 20:07</td>\n",
       "    </tr>\n",
       "    <tr>\n",
       "      <th>7266</th>\n",
       "      <td>ANDROID</td>\n",
       "      <td>6.818832162</td>\n",
       "      <td>offer4</td>\n",
       "      <td>US</td>\n",
       "      <td>0.0</td>\n",
       "      <td>0</td>\n",
       "      <td>03/02/2017 16:02</td>\n",
       "    </tr>\n",
       "    <tr>\n",
       "      <th>7351</th>\n",
       "      <td>ANDROID</td>\n",
       "      <td>6.81747394</td>\n",
       "      <td>offer4</td>\n",
       "      <td>US</td>\n",
       "      <td>0.0</td>\n",
       "      <td>0</td>\n",
       "      <td>29/01/2017 19:46</td>\n",
       "    </tr>\n",
       "    <tr>\n",
       "      <th>7380</th>\n",
       "      <td>ANDROID</td>\n",
       "      <td>6.817618116</td>\n",
       "      <td>offer4</td>\n",
       "      <td>US</td>\n",
       "      <td>0.0</td>\n",
       "      <td>0</td>\n",
       "      <td>28/01/2017 16:59</td>\n",
       "    </tr>\n",
       "  </tbody>\n",
       "</table>\n",
       "<p>186 rows × 7 columns</p>\n",
       "</div>"
      ],
      "text/plain": [
       "     Platform       userid IN-APP PRODUCTID Country  Price in local currency  \\\n",
       "3     ANDROID  6.831281255           offer4      US                      0.0   \n",
       "5     ANDROID  6.831281255           offer4      US                      0.0   \n",
       "6     ANDROID  6.831281255           offer4      US                      0.0   \n",
       "23    ANDROID   6.82784951    pack2.shields      FR                      3.0   \n",
       "42    ANDROID  6.827575966    pack2.shields      US                      0.0   \n",
       "...       ...          ...              ...     ...                      ...   \n",
       "7193  ANDROID  6.819771486           offer4      US                      0.0   \n",
       "7203  ANDROID  6.404055736    pack2.shields      US                      0.0   \n",
       "7266  ANDROID  6.818832162           offer4      US                      0.0   \n",
       "7351  ANDROID   6.81747394           offer4      US                      0.0   \n",
       "7380  ANDROID  6.817618116           offer4      US                      0.0   \n",
       "\n",
       "     Currency         Timestamp  \n",
       "3           0  27/03/2017 16:58  \n",
       "5           0  27/03/2017 16:32  \n",
       "6           0  27/03/2017 16:28  \n",
       "23          0  26/03/2017 19:17  \n",
       "42          0  25/03/2017 22:27  \n",
       "...       ...               ...  \n",
       "7193        0  06/02/2017 15:39  \n",
       "7203        0  05/02/2017 20:07  \n",
       "7266        0  03/02/2017 16:02  \n",
       "7351        0  29/01/2017 19:46  \n",
       "7380        0  28/01/2017 16:59  \n",
       "\n",
       "[186 rows x 7 columns]"
      ]
     },
     "execution_count": 112,
     "metadata": {},
     "output_type": "execute_result"
    }
   ],
   "source": [
    "df[df[\"Currency\"] == \"0\"]"
   ]
  },
  {
   "cell_type": "markdown",
   "id": "17d341e2",
   "metadata": {},
   "source": [
    "**Remove these rows from data**"
   ]
  },
  {
   "cell_type": "code",
   "execution_count": 113,
   "id": "8233b09e",
   "metadata": {},
   "outputs": [],
   "source": [
    "mask = df['Currency'].isin([\"0\"])\n",
    "\n",
    "df = df[~mask]"
   ]
  },
  {
   "cell_type": "code",
   "execution_count": 114,
   "id": "8543addc",
   "metadata": {},
   "outputs": [],
   "source": [
    "mask2 = df['userid'].isin(['#NUM!'])\n",
    "df = df[~mask2]"
   ]
  },
  {
   "cell_type": "markdown",
   "id": "5e295051",
   "metadata": {},
   "source": [
    "**Create Date Column**"
   ]
  },
  {
   "cell_type": "code",
   "execution_count": 115,
   "id": "4dfd6d84",
   "metadata": {},
   "outputs": [],
   "source": [
    "# Extract Date\n",
    "df[\"Date\"] = df[\"Timestamp\"].str.split(\" \").str.get(0)\n",
    "\n",
    "# Convert to datetime dtype\n",
    "df[\"Date\"] = pd.to_datetime(df[\"Date\"])"
   ]
  },
  {
   "cell_type": "markdown",
   "id": "adaecc4d",
   "metadata": {},
   "source": [
    "**Delete Timestamp Column**"
   ]
  },
  {
   "cell_type": "code",
   "execution_count": 116,
   "id": "00459336",
   "metadata": {},
   "outputs": [],
   "source": [
    "del df[\"Timestamp\"]"
   ]
  },
  {
   "cell_type": "code",
   "execution_count": 117,
   "id": "1b527524",
   "metadata": {},
   "outputs": [],
   "source": [
    "def currency(column):\n",
    "    x = column[0]\n",
    "    y = column[1]\n",
    "    if x == \"EUR\":\n",
    "        return y * 1.05\n",
    "    \n",
    "    elif x == \"KRW\":\n",
    "        return y * 0.00079\n",
    "    \n",
    "    elif x == \"GBP\":\n",
    "        return y * 1.26\n",
    "    \n",
    "    elif x == \"CAD\":\n",
    "        return y * 0.78\n",
    "    \n",
    "    elif x == \"TRY\":\n",
    "        return y * 0.067\n",
    "    \n",
    "    elif x == \"BRL\":\n",
    "        return y * 0.20\n",
    "    \n",
    "    elif x == \"IDR\":\n",
    "        return y * 0.000069\n",
    "    \n",
    "    elif x == \"RUB\":\n",
    "        return y * 0.014\n",
    "    \n",
    "    elif x == \"CLP\":\n",
    "        return y * 0.0012\n",
    "    \n",
    "    elif x == \"THB\":\n",
    "        return y * 0.029\n",
    "    \n",
    "    elif x == \"SEK\":\n",
    "        return y * 0.10\n",
    "    \n",
    "    elif x == \"NOK\":\n",
    "        return y * 0.11\n",
    "    \n",
    "    elif x == \"JPY\":\n",
    "        return y * 0.0077\n",
    "    \n",
    "    elif x == \"UAH\":\n",
    "        return y * 0.033\n",
    "    \n",
    "    elif x == \"RON\":\n",
    "        return y * 0.21\n",
    "    \n",
    "    elif x == \"CHF\":\n",
    "        return y * 1.03\n",
    "    \n",
    "    elif x == \"LBP\":\n",
    "        return y * 0.00066\n",
    "    \n",
    "    elif x == \"MYR\":\n",
    "        return y * 0.23\n",
    "    \n",
    "    elif x == \"TWD\":\n",
    "        return y * 0.034\n",
    "    \n",
    "    elif x == \"PHP\":\n",
    "        return y * 0.019\n",
    "    \n",
    "    elif x == \"AED\":\n",
    "        return y * 0.27\n",
    "    \n",
    "    elif x == \"MXN\":\n",
    "        return y * 0.049\n",
    "    \n",
    "    elif x == \"ZAR\":\n",
    "        return y * 0.063\n",
    "    \n",
    "    elif x == \"AUD\":\n",
    "        return y * 0.71\n",
    "    \n",
    "    elif x == \"HRK\":\n",
    "        return y * 0.14\n",
    "    \n",
    "    elif x == \"CNY\":\n",
    "        return y * 0.15\n",
    "    \n",
    "    elif x == \"ILS\":\n",
    "        return y * 0.30\n",
    "    \n",
    "    else:\n",
    "        return y * 1\n",
    "\n",
    "\n",
    "df[\"Price in USD\"] = df[[\"Currency\", \"Price in local currency\"]].apply(currency, axis = 1)"
   ]
  },
  {
   "cell_type": "markdown",
   "id": "3b63ef0c",
   "metadata": {},
   "source": [
    "### Data Analysis and Visualization"
   ]
  },
  {
   "cell_type": "markdown",
   "id": "65ef9252",
   "metadata": {},
   "source": [
    "**Number of Times Platform used by Customers**"
   ]
  },
  {
   "cell_type": "code",
   "execution_count": 118,
   "id": "6ba23ad8",
   "metadata": {},
   "outputs": [
    {
     "data": {
      "image/png": "[encoded data removed]",
      "text/plain": [
       "<Figure size 1296x504 with 1 Axes>"
      ]
     },
     "metadata": {},
     "output_type": "display_data"
    }
   ],
   "source": [
    "plt.figure(figsize = (18, 7))\n",
    "sns.countplot(x = \"Platform\", data = df)\n",
    "plt.title(\"Number of Times Platform used by Customers\", color = \"red\", weight = \"bold\", size = 20)\n",
    "plt.xlabel(\"Platform\", color = \"red\", size = 20, weight = \"bold\")\n",
    "plt.ylabel(\"Frequency\", color = \"red\", size = 20, weight = \"bold\")\n",
    "plt.xticks(size = 15)\n",
    "plt.yticks(size = 15)\n",
    "plt.show()"
   ]
  },
  {
   "cell_type": "markdown",
   "id": "341de788",
   "metadata": {},
   "source": [
    "**Top 10 Most Repeated Customers**"
   ]
  },
  {
   "cell_type": "code",
   "execution_count": 119,
   "id": "2a105f10",
   "metadata": {},
   "outputs": [
    {
     "data": {
      "image/png": "[encoded data removed]",
      "text/plain": [
       "<Figure size 1296x504 with 1 Axes>"
      ]
     },
     "metadata": {},
     "output_type": "display_data"
    }
   ],
   "source": [
    "repeated_customers = df[\"userid\"].value_counts().to_frame().reset_index()\n",
    "repeated_customers.columns = [\"User ID\", \"Frequency\"]\n",
    "repeated_customers = repeated_customers.head(10)\n",
    "\n",
    "plt.figure(figsize = (18, 7))\n",
    "sns.barplot(x = \"User ID\", y = \"Frequency\", data = repeated_customers, palette = \"hsv\")\n",
    "plt.title(\"Top 10 Most Repeated Customers\", color = \"red\", weight = \"bold\", size = 20)\n",
    "plt.xlabel(\"User ID\", color = \"red\", size = 20, weight = \"bold\")\n",
    "plt.ylabel(\"Frequency\", color = \"red\", size = 20, weight = \"bold\")\n",
    "plt.xticks(size = 15)\n",
    "plt.yticks(size = 15)\n",
    "plt.show()"
   ]
  },
  {
   "cell_type": "markdown",
   "id": "533f8b3c",
   "metadata": {},
   "source": [
    "**Number of Times IN-APP-PRODUCTS used by Customers**"
   ]
  },
  {
   "cell_type": "code",
   "execution_count": 120,
   "id": "0cb3484f",
   "metadata": {},
   "outputs": [
    {
     "data": {
      "image/png": "[encoded data removed]",
      "text/plain": [
       "<Figure size 1296x504 with 1 Axes>"
      ]
     },
     "metadata": {},
     "output_type": "display_data"
    }
   ],
   "source": [
    "app_products = df[\"IN-APP PRODUCTID\"].value_counts().to_frame().reset_index()\n",
    "app_products.columns = [\"IN-APP PRODUCTID\", \"Frequency\"]\n",
    "\n",
    "plt.figure(figsize = (18, 7))\n",
    "sns.barplot(x = \"IN-APP PRODUCTID\", y = \"Frequency\", data = app_products, palette = \"plasma\")\n",
    "plt.title(\"Number of Times IN-APP PRODUCTID used by Customers\", color = \"red\", weight = \"bold\", size = 20)\n",
    "plt.xlabel(\"Platform\", color = \"red\", size = 20, weight = \"bold\")\n",
    "plt.ylabel(\"Frequency\", color = \"red\", size = 20, weight = \"bold\")\n",
    "plt.xticks(size = 15, rotation = 90)\n",
    "plt.yticks(size = 15)\n",
    "plt.show()"
   ]
  },
  {
   "cell_type": "markdown",
   "id": "8161224e",
   "metadata": {},
   "source": [
    "**Total Customers by Countries**"
   ]
  },
  {
   "cell_type": "code",
   "execution_count": 121,
   "id": "bf8fc221",
   "metadata": {},
   "outputs": [
    {
     "data": {
      "image/png": "[encoded data removed]",
      "text/plain": [
       "<Figure size 1296x504 with 1 Axes>"
      ]
     },
     "metadata": {},
     "output_type": "display_data"
    }
   ],
   "source": [
    "country_customers = df[\"Country\"].value_counts().to_frame().reset_index()\n",
    "country_customers.columns = [\"Country\", \"Frequency\"]\n",
    "country_customers = country_customers.head(10)\n",
    "\n",
    "plt.figure(figsize = (18, 7))\n",
    "sns.barplot(x = \"Country\", y = \"Frequency\", data = country_customers, palette = \"prism\")\n",
    "plt.title(\"Total Customers by Countries\", color = \"red\", weight = \"bold\", size = 20)\n",
    "plt.xlabel(\"Country\", color = \"red\", size = 20, weight = \"bold\")\n",
    "plt.ylabel(\"Frequency\", color = \"red\", size = 20, weight = \"bold\")\n",
    "plt.xticks(size = 15)\n",
    "plt.yticks(size = 15)\n",
    "plt.show()"
   ]
  },
  {
   "cell_type": "markdown",
   "id": "5b30a561",
   "metadata": {},
   "source": [
    "### Customer Lifetime Value"
   ]
  },
  {
   "cell_type": "markdown",
   "id": "1789655a",
   "metadata": {},
   "source": [
    "**Select Relevant Columns**"
   ]
  },
  {
   "cell_type": "code",
   "execution_count": 122,
   "id": "ad59b9de",
   "metadata": {},
   "outputs": [
    {
     "data": {
      "text/html": [
       "<div>\n",
       "<style scoped>\n",
       "    .dataframe tbody tr th:only-of-type {\n",
       "        vertical-align: middle;\n",
       "    }\n",
       "\n",
       "    .dataframe tbody tr th {\n",
       "        vertical-align: top;\n",
       "    }\n",
       "\n",
       "    .dataframe thead th {\n",
       "        text-align: right;\n",
       "    }\n",
       "</style>\n",
       "<table border=\"1\" class=\"dataframe\">\n",
       "  <thead>\n",
       "    <tr style=\"text-align: right;\">\n",
       "      <th></th>\n",
       "      <th>userid</th>\n",
       "      <th>Date</th>\n",
       "      <th>Price in USD</th>\n",
       "    </tr>\n",
       "  </thead>\n",
       "  <tbody>\n",
       "    <tr>\n",
       "      <th>0</th>\n",
       "      <td>5.669802981</td>\n",
       "      <td>2017-03-28</td>\n",
       "      <td>1.9900</td>\n",
       "    </tr>\n",
       "    <tr>\n",
       "      <th>1</th>\n",
       "      <td>6.831350998</td>\n",
       "      <td>2017-03-27</td>\n",
       "      <td>3.9900</td>\n",
       "    </tr>\n",
       "    <tr>\n",
       "      <th>2</th>\n",
       "      <td>6.831233793</td>\n",
       "      <td>2017-03-27</td>\n",
       "      <td>4.0092</td>\n",
       "    </tr>\n",
       "    <tr>\n",
       "      <th>4</th>\n",
       "      <td>5.181331848</td>\n",
       "      <td>2017-03-27</td>\n",
       "      <td>2.0895</td>\n",
       "    </tr>\n",
       "    <tr>\n",
       "      <th>7</th>\n",
       "      <td>6.529604089</td>\n",
       "      <td>2017-03-27</td>\n",
       "      <td>1.8795</td>\n",
       "    </tr>\n",
       "  </tbody>\n",
       "</table>\n",
       "</div>"
      ],
      "text/plain": [
       "        userid       Date  Price in USD\n",
       "0  5.669802981 2017-03-28        1.9900\n",
       "1  6.831350998 2017-03-27        3.9900\n",
       "2  6.831233793 2017-03-27        4.0092\n",
       "4  5.181331848 2017-03-27        2.0895\n",
       "7  6.529604089 2017-03-27        1.8795"
      ]
     },
     "execution_count": 122,
     "metadata": {},
     "output_type": "execute_result"
    }
   ],
   "source": [
    "df = df[[\"userid\", \"Date\", \"Price in USD\"]]\n",
    "df.head()"
   ]
  },
  {
   "cell_type": "markdown",
   "id": "520cc4e7",
   "metadata": {},
   "source": [
    "**In the dataset, the last order date is December 03, 2017, we have used this date as NOW date to calculate recency.**"
   ]
  },
  {
   "cell_type": "code",
   "execution_count": 123,
   "id": "625e19a3",
   "metadata": {},
   "outputs": [],
   "source": [
    "now = dt.datetime(2017, 12, 3)"
   ]
  },
  {
   "cell_type": "code",
   "execution_count": 124,
   "id": "31f03714",
   "metadata": {},
   "outputs": [],
   "source": [
    "df[\"Invoice\"] = df[[\"Date\"]]"
   ]
  },
  {
   "cell_type": "code",
   "execution_count": 125,
   "id": "64d24fb1",
   "metadata": {},
   "outputs": [
    {
     "data": {
      "text/html": [
       "<div>\n",
       "<style scoped>\n",
       "    .dataframe tbody tr th:only-of-type {\n",
       "        vertical-align: middle;\n",
       "    }\n",
       "\n",
       "    .dataframe tbody tr th {\n",
       "        vertical-align: top;\n",
       "    }\n",
       "\n",
       "    .dataframe thead th {\n",
       "        text-align: right;\n",
       "    }\n",
       "</style>\n",
       "<table border=\"1\" class=\"dataframe\">\n",
       "  <thead>\n",
       "    <tr style=\"text-align: right;\">\n",
       "      <th></th>\n",
       "      <th>Recency</th>\n",
       "      <th>Frequency</th>\n",
       "      <th>Monetary</th>\n",
       "    </tr>\n",
       "    <tr>\n",
       "      <th>userid</th>\n",
       "      <th></th>\n",
       "      <th></th>\n",
       "      <th></th>\n",
       "    </tr>\n",
       "  </thead>\n",
       "  <tbody>\n",
       "    <tr>\n",
       "      <th>3.43964843</th>\n",
       "      <td>345</td>\n",
       "      <td>1</td>\n",
       "      <td>9.4395</td>\n",
       "    </tr>\n",
       "    <tr>\n",
       "      <th>3.487279816</th>\n",
       "      <td>122</td>\n",
       "      <td>1</td>\n",
       "      <td>2.0895</td>\n",
       "    </tr>\n",
       "    <tr>\n",
       "      <th>3.518908574</th>\n",
       "      <td>277</td>\n",
       "      <td>1</td>\n",
       "      <td>4.1895</td>\n",
       "    </tr>\n",
       "    <tr>\n",
       "      <th>3.533772058</th>\n",
       "      <td>280</td>\n",
       "      <td>3</td>\n",
       "      <td>20.1222</td>\n",
       "    </tr>\n",
       "    <tr>\n",
       "      <th>3.597036665</th>\n",
       "      <td>343</td>\n",
       "      <td>1</td>\n",
       "      <td>3.9900</td>\n",
       "    </tr>\n",
       "  </tbody>\n",
       "</table>\n",
       "</div>"
      ],
      "text/plain": [
       "             Recency  Frequency  Monetary\n",
       "userid                                   \n",
       "3.43964843       345          1    9.4395\n",
       "3.487279816      122          1    2.0895\n",
       "3.518908574      277          1    4.1895\n",
       "3.533772058      280          3   20.1222\n",
       "3.597036665      343          1    3.9900"
      ]
     },
     "execution_count": 125,
     "metadata": {},
     "output_type": "execute_result"
    }
   ],
   "source": [
    "rfm = df.groupby(\"userid\").agg({\"Date\":         lambda x: (now - x.max()).days,  # Recency\n",
    "                                \"Invoice\":         lambda x: x.count(),             # Frequenxy\n",
    "                                \"Price in USD\": lambda x: x.sum()})              # Monetary\n",
    "rfm.columns = [\"Recency\", \"Frequency\", \"Monetary\"]\n",
    "rfm.head()"
   ]
  },
  {
   "cell_type": "markdown",
   "id": "d1fdfce5",
   "metadata": {},
   "source": [
    "**1. Calculate Average Order Value**"
   ]
  },
  {
   "cell_type": "code",
   "execution_count": 126,
   "id": "5df6aa23",
   "metadata": {},
   "outputs": [
    {
     "data": {
      "text/html": [
       "<div>\n",
       "<style scoped>\n",
       "    .dataframe tbody tr th:only-of-type {\n",
       "        vertical-align: middle;\n",
       "    }\n",
       "\n",
       "    .dataframe tbody tr th {\n",
       "        vertical-align: top;\n",
       "    }\n",
       "\n",
       "    .dataframe thead th {\n",
       "        text-align: right;\n",
       "    }\n",
       "</style>\n",
       "<table border=\"1\" class=\"dataframe\">\n",
       "  <thead>\n",
       "    <tr style=\"text-align: right;\">\n",
       "      <th></th>\n",
       "      <th>Recency</th>\n",
       "      <th>Frequency</th>\n",
       "      <th>Monetary</th>\n",
       "      <th>average_order_value</th>\n",
       "    </tr>\n",
       "    <tr>\n",
       "      <th>userid</th>\n",
       "      <th></th>\n",
       "      <th></th>\n",
       "      <th></th>\n",
       "      <th></th>\n",
       "    </tr>\n",
       "  </thead>\n",
       "  <tbody>\n",
       "    <tr>\n",
       "      <th>3.43964843</th>\n",
       "      <td>345</td>\n",
       "      <td>1</td>\n",
       "      <td>9.4395</td>\n",
       "      <td>9.4395</td>\n",
       "    </tr>\n",
       "    <tr>\n",
       "      <th>3.487279816</th>\n",
       "      <td>122</td>\n",
       "      <td>1</td>\n",
       "      <td>2.0895</td>\n",
       "      <td>2.0895</td>\n",
       "    </tr>\n",
       "    <tr>\n",
       "      <th>3.518908574</th>\n",
       "      <td>277</td>\n",
       "      <td>1</td>\n",
       "      <td>4.1895</td>\n",
       "      <td>4.1895</td>\n",
       "    </tr>\n",
       "    <tr>\n",
       "      <th>3.533772058</th>\n",
       "      <td>280</td>\n",
       "      <td>3</td>\n",
       "      <td>20.1222</td>\n",
       "      <td>6.7074</td>\n",
       "    </tr>\n",
       "    <tr>\n",
       "      <th>3.597036665</th>\n",
       "      <td>343</td>\n",
       "      <td>1</td>\n",
       "      <td>3.9900</td>\n",
       "      <td>3.9900</td>\n",
       "    </tr>\n",
       "  </tbody>\n",
       "</table>\n",
       "</div>"
      ],
      "text/plain": [
       "             Recency  Frequency  Monetary  average_order_value\n",
       "userid                                                        \n",
       "3.43964843       345          1    9.4395               9.4395\n",
       "3.487279816      122          1    2.0895               2.0895\n",
       "3.518908574      277          1    4.1895               4.1895\n",
       "3.533772058      280          3   20.1222               6.7074\n",
       "3.597036665      343          1    3.9900               3.9900"
      ]
     },
     "execution_count": 126,
     "metadata": {},
     "output_type": "execute_result"
    }
   ],
   "source": [
    "rfm[\"average_order_value\"] = rfm[\"Monetary\"] / rfm[\"Frequency\"]\n",
    "rfm.head()"
   ]
  },
  {
   "cell_type": "markdown",
   "id": "69b76323",
   "metadata": {},
   "source": [
    "**2. Calculate Purchase Frequency**"
   ]
  },
  {
   "cell_type": "code",
   "execution_count": 127,
   "id": "ab3b6746",
   "metadata": {},
   "outputs": [
    {
     "name": "stdout",
     "output_type": "stream",
     "text": [
      "2.99584918713248\n"
     ]
    }
   ],
   "source": [
    "purchase_frequency = rfm[\"Frequency\"].mean()\n",
    "print(purchase_frequency)"
   ]
  },
  {
   "cell_type": "markdown",
   "id": "d43125dd",
   "metadata": {},
   "source": [
    "**3. Calculate Repeat Rate**"
   ]
  },
  {
   "cell_type": "code",
   "execution_count": 128,
   "id": "863ee73c",
   "metadata": {},
   "outputs": [
    {
     "name": "stdout",
     "output_type": "stream",
     "text": [
      "0.45658941542718784\n"
     ]
    }
   ],
   "source": [
    "repeat_rate = rfm[rfm[\"Frequency\"] > 1].shape[0] / rfm.shape[0]\n",
    "print(repeat_rate)"
   ]
  },
  {
   "cell_type": "markdown",
   "id": "641c0c9b",
   "metadata": {},
   "source": [
    "**4. Calculate Churn Rate**"
   ]
  },
  {
   "cell_type": "code",
   "execution_count": 129,
   "id": "a0ff99e6",
   "metadata": {},
   "outputs": [
    {
     "name": "stdout",
     "output_type": "stream",
     "text": [
      "0.5434105845728121\n"
     ]
    }
   ],
   "source": [
    "churn_rate = 1 - repeat_rate\n",
    "print(churn_rate)"
   ]
  },
  {
   "cell_type": "markdown",
   "id": "ba9d5224",
   "metadata": {},
   "source": [
    "**5. Calculate Profit Margin**"
   ]
  },
  {
   "cell_type": "markdown",
   "id": "0090d604",
   "metadata": {},
   "source": [
    "Let's assume our business has approx 5% profit on the total sale."
   ]
  },
  {
   "cell_type": "code",
   "execution_count": 130,
   "id": "9095aeca",
   "metadata": {},
   "outputs": [
    {
     "data": {
      "text/html": [
       "<div>\n",
       "<style scoped>\n",
       "    .dataframe tbody tr th:only-of-type {\n",
       "        vertical-align: middle;\n",
       "    }\n",
       "\n",
       "    .dataframe tbody tr th {\n",
       "        vertical-align: top;\n",
       "    }\n",
       "\n",
       "    .dataframe thead th {\n",
       "        text-align: right;\n",
       "    }\n",
       "</style>\n",
       "<table border=\"1\" class=\"dataframe\">\n",
       "  <thead>\n",
       "    <tr style=\"text-align: right;\">\n",
       "      <th></th>\n",
       "      <th>Recency</th>\n",
       "      <th>Frequency</th>\n",
       "      <th>Monetary</th>\n",
       "      <th>average_order_value</th>\n",
       "      <th>profit_margin</th>\n",
       "    </tr>\n",
       "    <tr>\n",
       "      <th>userid</th>\n",
       "      <th></th>\n",
       "      <th></th>\n",
       "      <th></th>\n",
       "      <th></th>\n",
       "      <th></th>\n",
       "    </tr>\n",
       "  </thead>\n",
       "  <tbody>\n",
       "    <tr>\n",
       "      <th>5.495868896</th>\n",
       "      <td>277</td>\n",
       "      <td>1</td>\n",
       "      <td>1.9900</td>\n",
       "      <td>1.990000</td>\n",
       "      <td>0.099500</td>\n",
       "    </tr>\n",
       "    <tr>\n",
       "      <th>6.48253759</th>\n",
       "      <td>122</td>\n",
       "      <td>2</td>\n",
       "      <td>0.6760</td>\n",
       "      <td>0.338000</td>\n",
       "      <td>0.033800</td>\n",
       "    </tr>\n",
       "    <tr>\n",
       "      <th>6.820205862</th>\n",
       "      <td>123</td>\n",
       "      <td>1</td>\n",
       "      <td>3.9900</td>\n",
       "      <td>3.990000</td>\n",
       "      <td>0.199500</td>\n",
       "    </tr>\n",
       "    <tr>\n",
       "      <th>6.667406719</th>\n",
       "      <td>245</td>\n",
       "      <td>41</td>\n",
       "      <td>105.0800</td>\n",
       "      <td>2.562927</td>\n",
       "      <td>5.254000</td>\n",
       "    </tr>\n",
       "    <tr>\n",
       "      <th>6.826042197</th>\n",
       "      <td>275</td>\n",
       "      <td>3</td>\n",
       "      <td>13.5135</td>\n",
       "      <td>4.504500</td>\n",
       "      <td>0.675675</td>\n",
       "    </tr>\n",
       "  </tbody>\n",
       "</table>\n",
       "</div>"
      ],
      "text/plain": [
       "             Recency  Frequency  Monetary  average_order_value  profit_margin\n",
       "userid                                                                       \n",
       "5.495868896      277          1    1.9900             1.990000       0.099500\n",
       "6.48253759       122          2    0.6760             0.338000       0.033800\n",
       "6.820205862      123          1    3.9900             3.990000       0.199500\n",
       "6.667406719      245         41  105.0800             2.562927       5.254000\n",
       "6.826042197      275          3   13.5135             4.504500       0.675675"
      ]
     },
     "execution_count": 130,
     "metadata": {},
     "output_type": "execute_result"
    }
   ],
   "source": [
    "rfm[\"profit_margin\"] = rfm[\"Monetary\"] * 0.05\n",
    "rfm.sample(5)"
   ]
  },
  {
   "cell_type": "markdown",
   "id": "b04f6a0b",
   "metadata": {},
   "source": [
    "**6. Calcualte Customer Lifetime Value**"
   ]
  },
  {
   "cell_type": "code",
   "execution_count": 131,
   "id": "0b14d501",
   "metadata": {},
   "outputs": [
    {
     "data": {
      "text/html": [
       "<div>\n",
       "<style scoped>\n",
       "    .dataframe tbody tr th:only-of-type {\n",
       "        vertical-align: middle;\n",
       "    }\n",
       "\n",
       "    .dataframe tbody tr th {\n",
       "        vertical-align: top;\n",
       "    }\n",
       "\n",
       "    .dataframe thead th {\n",
       "        text-align: right;\n",
       "    }\n",
       "</style>\n",
       "<table border=\"1\" class=\"dataframe\">\n",
       "  <thead>\n",
       "    <tr style=\"text-align: right;\">\n",
       "      <th></th>\n",
       "      <th>Recency</th>\n",
       "      <th>Frequency</th>\n",
       "      <th>Monetary</th>\n",
       "      <th>average_order_value</th>\n",
       "      <th>profit_margin</th>\n",
       "      <th>customer_value</th>\n",
       "      <th>customer_lifetime_value</th>\n",
       "    </tr>\n",
       "    <tr>\n",
       "      <th>userid</th>\n",
       "      <th></th>\n",
       "      <th></th>\n",
       "      <th></th>\n",
       "      <th></th>\n",
       "      <th></th>\n",
       "      <th></th>\n",
       "      <th></th>\n",
       "    </tr>\n",
       "  </thead>\n",
       "  <tbody>\n",
       "    <tr>\n",
       "      <th>6.817573236</th>\n",
       "      <td>0</td>\n",
       "      <td>3</td>\n",
       "      <td>12.1485</td>\n",
       "      <td>4.0495</td>\n",
       "      <td>0.607425</td>\n",
       "      <td>22.325092</td>\n",
       "      <td>13.560819</td>\n",
       "    </tr>\n",
       "    <tr>\n",
       "      <th>5.669802981</th>\n",
       "      <td>250</td>\n",
       "      <td>1</td>\n",
       "      <td>1.9900</td>\n",
       "      <td>1.9900</td>\n",
       "      <td>0.099500</td>\n",
       "      <td>10.970968</td>\n",
       "      <td>1.091611</td>\n",
       "    </tr>\n",
       "    <tr>\n",
       "      <th>6.526319501</th>\n",
       "      <td>417</td>\n",
       "      <td>1</td>\n",
       "      <td>1.0395</td>\n",
       "      <td>1.0395</td>\n",
       "      <td>0.051975</td>\n",
       "      <td>5.730814</td>\n",
       "      <td>0.297859</td>\n",
       "    </tr>\n",
       "    <tr>\n",
       "      <th>6.823900685</th>\n",
       "      <td>283</td>\n",
       "      <td>1</td>\n",
       "      <td>4.1895</td>\n",
       "      <td>4.1895</td>\n",
       "      <td>0.209475</td>\n",
       "      <td>23.096919</td>\n",
       "      <td>4.838227</td>\n",
       "    </tr>\n",
       "    <tr>\n",
       "      <th>6.438031337</th>\n",
       "      <td>323</td>\n",
       "      <td>1</td>\n",
       "      <td>9.9900</td>\n",
       "      <td>9.9900</td>\n",
       "      <td>0.499500</td>\n",
       "      <td>55.075360</td>\n",
       "      <td>27.510142</td>\n",
       "    </tr>\n",
       "  </tbody>\n",
       "</table>\n",
       "</div>"
      ],
      "text/plain": [
       "             Recency  Frequency  Monetary  average_order_value  profit_margin  \\\n",
       "userid                                                                          \n",
       "6.817573236        0          3   12.1485               4.0495       0.607425   \n",
       "5.669802981      250          1    1.9900               1.9900       0.099500   \n",
       "6.526319501      417          1    1.0395               1.0395       0.051975   \n",
       "6.823900685      283          1    4.1895               4.1895       0.209475   \n",
       "6.438031337      323          1    9.9900               9.9900       0.499500   \n",
       "\n",
       "             customer_value  customer_lifetime_value  \n",
       "userid                                                \n",
       "6.817573236       22.325092                13.560819  \n",
       "5.669802981       10.970968                 1.091611  \n",
       "6.526319501        5.730814                 0.297859  \n",
       "6.823900685       23.096919                 4.838227  \n",
       "6.438031337       55.075360                27.510142  "
      ]
     },
     "execution_count": 131,
     "metadata": {},
     "output_type": "execute_result"
    }
   ],
   "source": [
    "# Customer Value\n",
    "rfm[\"customer_value\"] = (rfm[\"average_order_value\"] * purchase_frequency) / churn_rate\n",
    "\n",
    "# Customer Lifetime Value\n",
    "rfm[\"customer_lifetime_value\"] = rfm[\"customer_value\"] * rfm[\"profit_margin\"]\n",
    "\n",
    "rfm.sample(5)"
   ]
  },
  {
   "cell_type": "markdown",
   "id": "ef6d37e0",
   "metadata": {},
   "source": [
    "**As our data is related to 2016-2017 so COVID-19 affect is not considered here**"
   ]
  },
  {
   "cell_type": "code",
   "execution_count": 143,
   "id": "5a993b78",
   "metadata": {},
   "outputs": [],
   "source": [
    "X = rfm[rfm.columns.drop(\"customer_lifetime_value\")]\n",
    "y = rfm[\"customer_lifetime_value\"]"
   ]
  },
  {
   "cell_type": "markdown",
   "id": "057aa687",
   "metadata": {},
   "source": [
    "**Split data into training set and testing set**"
   ]
  },
  {
   "cell_type": "code",
   "execution_count": 148,
   "id": "6666a3a7",
   "metadata": {},
   "outputs": [],
   "source": [
    "X_train, X_test, y_train, y_test = train_test_split(X,\n",
    "                                                    y,\n",
    "                                                    test_size = 0.2,\n",
    "                                                    random_state = 42)"
   ]
  },
  {
   "cell_type": "markdown",
   "id": "7aeeb760",
   "metadata": {},
   "source": [
    "**Scaling**"
   ]
  },
  {
   "cell_type": "code",
   "execution_count": 149,
   "id": "f2522a90",
   "metadata": {},
   "outputs": [],
   "source": [
    "scaler = StandardScaler()\n",
    "\n",
    "scaler_train = scaler.fit_transform(X_train)\n",
    "scaler_test = scaler.transform(X_test)"
   ]
  },
  {
   "cell_type": "markdown",
   "id": "f41fb62c",
   "metadata": {},
   "source": [
    "### Linear Regression"
   ]
  },
  {
   "cell_type": "code",
   "execution_count": 153,
   "id": "3f7491a0",
   "metadata": {},
   "outputs": [
    {
     "data": {
      "text/html": [
       "<div>\n",
       "<style scoped>\n",
       "    .dataframe tbody tr th:only-of-type {\n",
       "        vertical-align: middle;\n",
       "    }\n",
       "\n",
       "    .dataframe tbody tr th {\n",
       "        vertical-align: top;\n",
       "    }\n",
       "\n",
       "    .dataframe thead th {\n",
       "        text-align: right;\n",
       "    }\n",
       "</style>\n",
       "<table border=\"1\" class=\"dataframe\">\n",
       "  <thead>\n",
       "    <tr style=\"text-align: right;\">\n",
       "      <th></th>\n",
       "      <th>Actual</th>\n",
       "      <th>Predicted</th>\n",
       "    </tr>\n",
       "    <tr>\n",
       "      <th>userid</th>\n",
       "      <th></th>\n",
       "      <th></th>\n",
       "    </tr>\n",
       "  </thead>\n",
       "  <tbody>\n",
       "    <tr>\n",
       "      <th>6.827311751</th>\n",
       "      <td>9.266554</td>\n",
       "      <td>39.032392</td>\n",
       "    </tr>\n",
       "    <tr>\n",
       "      <th>6.828883945</th>\n",
       "      <td>4.838227</td>\n",
       "      <td>9.366809</td>\n",
       "    </tr>\n",
       "    <tr>\n",
       "      <th>6.255310866</th>\n",
       "      <td>0.345778</td>\n",
       "      <td>-62.065447</td>\n",
       "    </tr>\n",
       "    <tr>\n",
       "      <th>6.448064295</th>\n",
       "      <td>1.321103</td>\n",
       "      <td>-77.160582</td>\n",
       "    </tr>\n",
       "    <tr>\n",
       "      <th>6.824734266</th>\n",
       "      <td>4.388415</td>\n",
       "      <td>5.579493</td>\n",
       "    </tr>\n",
       "    <tr>\n",
       "      <th>6.648248349</th>\n",
       "      <td>57.290357</td>\n",
       "      <td>126.545759</td>\n",
       "    </tr>\n",
       "    <tr>\n",
       "      <th>6.80631472</th>\n",
       "      <td>90.989795</td>\n",
       "      <td>236.215656</td>\n",
       "    </tr>\n",
       "    <tr>\n",
       "      <th>6.812696222</th>\n",
       "      <td>4.388415</td>\n",
       "      <td>-0.577389</td>\n",
       "    </tr>\n",
       "    <tr>\n",
       "      <th>6.712142982</th>\n",
       "      <td>1.203501</td>\n",
       "      <td>-44.035044</td>\n",
       "    </tr>\n",
       "    <tr>\n",
       "      <th>6.142466744</th>\n",
       "      <td>39.594288</td>\n",
       "      <td>102.571198</td>\n",
       "    </tr>\n",
       "  </tbody>\n",
       "</table>\n",
       "</div>"
      ],
      "text/plain": [
       "                Actual   Predicted\n",
       "userid                            \n",
       "6.827311751   9.266554   39.032392\n",
       "6.828883945   4.838227    9.366809\n",
       "6.255310866   0.345778  -62.065447\n",
       "6.448064295   1.321103  -77.160582\n",
       "6.824734266   4.388415    5.579493\n",
       "6.648248349  57.290357  126.545759\n",
       "6.80631472   90.989795  236.215656\n",
       "6.812696222   4.388415   -0.577389\n",
       "6.712142982   1.203501  -44.035044\n",
       "6.142466744  39.594288  102.571198"
      ]
     },
     "execution_count": 153,
     "metadata": {},
     "output_type": "execute_result"
    }
   ],
   "source": [
    "lr = LinearRegression()\n",
    "\n",
    "lr.fit(scaler_train, y_train)\n",
    "\n",
    "pred_lr = lr.predict(scaler_test)\n",
    "pd.DataFrame({\"Actual\": y_test,\n",
    "              \"Predicted\": pred_lr}).sample(10)"
   ]
  },
  {
   "cell_type": "markdown",
   "id": "d67c46bc",
   "metadata": {},
   "source": [
    "**Linear Regression Performance**"
   ]
  },
  {
   "cell_type": "code",
   "execution_count": 154,
   "id": "33ed456b",
   "metadata": {},
   "outputs": [
    {
     "data": {
      "text/plain": [
       "99.39269145202286"
      ]
     },
     "execution_count": 154,
     "metadata": {},
     "output_type": "execute_result"
    }
   ],
   "source": [
    "lrp = mean_squared_error(y_test, pred_lr, squared = False)\n",
    "lrp"
   ]
  },
  {
   "cell_type": "markdown",
   "id": "06edb2f4",
   "metadata": {},
   "source": [
    "### Support Vector Machine"
   ]
  },
  {
   "cell_type": "code",
   "execution_count": 155,
   "id": "30020d98",
   "metadata": {},
   "outputs": [
    {
     "data": {
      "text/html": [
       "<div>\n",
       "<style scoped>\n",
       "    .dataframe tbody tr th:only-of-type {\n",
       "        vertical-align: middle;\n",
       "    }\n",
       "\n",
       "    .dataframe tbody tr th {\n",
       "        vertical-align: top;\n",
       "    }\n",
       "\n",
       "    .dataframe thead th {\n",
       "        text-align: right;\n",
       "    }\n",
       "</style>\n",
       "<table border=\"1\" class=\"dataframe\">\n",
       "  <thead>\n",
       "    <tr style=\"text-align: right;\">\n",
       "      <th></th>\n",
       "      <th>Actual</th>\n",
       "      <th>Predicted</th>\n",
       "    </tr>\n",
       "    <tr>\n",
       "      <th>userid</th>\n",
       "      <th></th>\n",
       "      <th></th>\n",
       "    </tr>\n",
       "  </thead>\n",
       "  <tbody>\n",
       "    <tr>\n",
       "      <th>5.074977261</th>\n",
       "      <td>4.928721</td>\n",
       "      <td>3.462144</td>\n",
       "    </tr>\n",
       "    <tr>\n",
       "      <th>6.808071274</th>\n",
       "      <td>9.957945</td>\n",
       "      <td>9.004293</td>\n",
       "    </tr>\n",
       "    <tr>\n",
       "      <th>6.806297557</th>\n",
       "      <td>4.838227</td>\n",
       "      <td>4.747449</td>\n",
       "    </tr>\n",
       "    <tr>\n",
       "      <th>6.830408434</th>\n",
       "      <td>6.301907</td>\n",
       "      <td>7.626594</td>\n",
       "    </tr>\n",
       "    <tr>\n",
       "      <th>6.742281186</th>\n",
       "      <td>5.823158</td>\n",
       "      <td>4.939984</td>\n",
       "    </tr>\n",
       "    <tr>\n",
       "      <th>6.48977615</th>\n",
       "      <td>4.388415</td>\n",
       "      <td>4.270531</td>\n",
       "    </tr>\n",
       "    <tr>\n",
       "      <th>5.696379982</th>\n",
       "      <td>3.768505</td>\n",
       "      <td>5.146066</td>\n",
       "    </tr>\n",
       "    <tr>\n",
       "      <th>5.597730279</th>\n",
       "      <td>4.838227</td>\n",
       "      <td>5.059919</td>\n",
       "    </tr>\n",
       "    <tr>\n",
       "      <th>6.646780213</th>\n",
       "      <td>4.838227</td>\n",
       "      <td>5.047894</td>\n",
       "    </tr>\n",
       "    <tr>\n",
       "      <th>6.683260349</th>\n",
       "      <td>378.388808</td>\n",
       "      <td>144.031740</td>\n",
       "    </tr>\n",
       "  </tbody>\n",
       "</table>\n",
       "</div>"
      ],
      "text/plain": [
       "                 Actual   Predicted\n",
       "userid                             \n",
       "5.074977261    4.928721    3.462144\n",
       "6.808071274    9.957945    9.004293\n",
       "6.806297557    4.838227    4.747449\n",
       "6.830408434    6.301907    7.626594\n",
       "6.742281186    5.823158    4.939984\n",
       "6.48977615     4.388415    4.270531\n",
       "5.696379982    3.768505    5.146066\n",
       "5.597730279    4.838227    5.059919\n",
       "6.646780213    4.838227    5.047894\n",
       "6.683260349  378.388808  144.031740"
      ]
     },
     "execution_count": 155,
     "metadata": {},
     "output_type": "execute_result"
    }
   ],
   "source": [
    "svr = SVR()\n",
    "\n",
    "svr.fit(scaler_train, y_train)\n",
    "\n",
    "pred_svr = svr.predict(scaler_test)\n",
    "pd.DataFrame({\"Actual\": y_test,\n",
    "              \"Predicted\": pred_svr}).sample(10)"
   ]
  },
  {
   "cell_type": "code",
   "execution_count": 156,
   "id": "3a7e9bcd",
   "metadata": {},
   "outputs": [
    {
     "data": {
      "text/plain": [
       "206.68029009440383"
      ]
     },
     "execution_count": 156,
     "metadata": {},
     "output_type": "execute_result"
    }
   ],
   "source": [
    "svrp = mean_squared_error(y_test, pred_svr, squared = False)\n",
    "svrp"
   ]
  },
  {
   "cell_type": "markdown",
   "id": "50fa9867",
   "metadata": {},
   "source": [
    "### XGBoost Regression"
   ]
  },
  {
   "cell_type": "code",
   "execution_count": 158,
   "id": "dc3b77ac",
   "metadata": {},
   "outputs": [
    {
     "data": {
      "text/html": [
       "<div>\n",
       "<style scoped>\n",
       "    .dataframe tbody tr th:only-of-type {\n",
       "        vertical-align: middle;\n",
       "    }\n",
       "\n",
       "    .dataframe tbody tr th {\n",
       "        vertical-align: top;\n",
       "    }\n",
       "\n",
       "    .dataframe thead th {\n",
       "        text-align: right;\n",
       "    }\n",
       "</style>\n",
       "<table border=\"1\" class=\"dataframe\">\n",
       "  <thead>\n",
       "    <tr style=\"text-align: right;\">\n",
       "      <th></th>\n",
       "      <th>Actual</th>\n",
       "      <th>Predicted</th>\n",
       "    </tr>\n",
       "    <tr>\n",
       "      <th>userid</th>\n",
       "      <th></th>\n",
       "      <th></th>\n",
       "    </tr>\n",
       "  </thead>\n",
       "  <tbody>\n",
       "    <tr>\n",
       "      <th>6.124753905</th>\n",
       "      <td>117.584256</td>\n",
       "      <td>112.606506</td>\n",
       "    </tr>\n",
       "    <tr>\n",
       "      <th>6.824562123</th>\n",
       "      <td>4.388415</td>\n",
       "      <td>4.397314</td>\n",
       "    </tr>\n",
       "    <tr>\n",
       "      <th>6.806225437</th>\n",
       "      <td>7.827330</td>\n",
       "      <td>7.792625</td>\n",
       "    </tr>\n",
       "    <tr>\n",
       "      <th>5.084079146</th>\n",
       "      <td>4.838227</td>\n",
       "      <td>4.821512</td>\n",
       "    </tr>\n",
       "    <tr>\n",
       "      <th>6.289205989</th>\n",
       "      <td>0.297859</td>\n",
       "      <td>0.293093</td>\n",
       "    </tr>\n",
       "    <tr>\n",
       "      <th>5.349079281</th>\n",
       "      <td>99.737223</td>\n",
       "      <td>93.577431</td>\n",
       "    </tr>\n",
       "    <tr>\n",
       "      <th>6.827311751</th>\n",
       "      <td>9.266554</td>\n",
       "      <td>9.356291</td>\n",
       "    </tr>\n",
       "    <tr>\n",
       "      <th>6.8262998</th>\n",
       "      <td>2.477565</td>\n",
       "      <td>2.514377</td>\n",
       "    </tr>\n",
       "    <tr>\n",
       "      <th>4.679091597</th>\n",
       "      <td>0.297859</td>\n",
       "      <td>0.297918</td>\n",
       "    </tr>\n",
       "    <tr>\n",
       "      <th>6.816535659</th>\n",
       "      <td>0.345778</td>\n",
       "      <td>0.346585</td>\n",
       "    </tr>\n",
       "  </tbody>\n",
       "</table>\n",
       "</div>"
      ],
      "text/plain": [
       "                 Actual   Predicted\n",
       "userid                             \n",
       "6.124753905  117.584256  112.606506\n",
       "6.824562123    4.388415    4.397314\n",
       "6.806225437    7.827330    7.792625\n",
       "5.084079146    4.838227    4.821512\n",
       "6.289205989    0.297859    0.293093\n",
       "5.349079281   99.737223   93.577431\n",
       "6.827311751    9.266554    9.356291\n",
       "6.8262998      2.477565    2.514377\n",
       "4.679091597    0.297859    0.297918\n",
       "6.816535659    0.345778    0.346585"
      ]
     },
     "execution_count": 158,
     "metadata": {},
     "output_type": "execute_result"
    }
   ],
   "source": [
    "xg = xgb.XGBRegressor()\n",
    "\n",
    "xg.fit(scaler_train, y_train)\n",
    "\n",
    "pred_xg = xg.predict(scaler_test)\n",
    "pd.DataFrame({\"Actual\": y_test,\n",
    "              \"Predicted\": pred_xg}).sample(10)"
   ]
  },
  {
   "cell_type": "code",
   "execution_count": 159,
   "id": "b9e17619",
   "metadata": {},
   "outputs": [
    {
     "data": {
      "text/plain": [
       "118.60712418409412"
      ]
     },
     "execution_count": 159,
     "metadata": {},
     "output_type": "execute_result"
    }
   ],
   "source": [
    "xgp = mean_squared_error(y_test, pred_xg, squared = False)\n",
    "xgp"
   ]
  },
  {
   "cell_type": "markdown",
   "id": "0fbd7d47",
   "metadata": {},
   "source": [
    "### ANN"
   ]
  },
  {
   "cell_type": "code",
   "execution_count": 167,
   "id": "630392f4",
   "metadata": {},
   "outputs": [
    {
     "name": "stdout",
     "output_type": "stream",
     "text": [
      "73/73 [==============================] - 0s 1ms/step - loss: 153301.9531\n"
     ]
    },
    {
     "data": {
      "text/plain": [
       "<keras.callbacks.History at 0x17b458dc5b0>"
      ]
     },
     "execution_count": 167,
     "metadata": {},
     "output_type": "execute_result"
    }
   ],
   "source": [
    "model = Sequential()\n",
    "\n",
    "model.add(Dense(25, activation = \"relu\", input_dim = 6))\n",
    "model.add(Dense(25, activation = \"relu\"))\n",
    "model.add(Dense(1, activation = \"relu\"))\n",
    "\n",
    "model.compile(optimizer = \"adam\", loss = \"mean_squared_error\")\n",
    "model.fit(scaler_train, y_train)"
   ]
  },
  {
   "cell_type": "code",
   "execution_count": 168,
   "id": "a1f5ea11",
   "metadata": {},
   "outputs": [],
   "source": [
    "pred = model.predict(scaler_test)"
   ]
  },
  {
   "cell_type": "code",
   "execution_count": 170,
   "id": "8b5bce48",
   "metadata": {},
   "outputs": [
    {
     "data": {
      "text/html": [
       "<div>\n",
       "<style scoped>\n",
       "    .dataframe tbody tr th:only-of-type {\n",
       "        vertical-align: middle;\n",
       "    }\n",
       "\n",
       "    .dataframe tbody tr th {\n",
       "        vertical-align: top;\n",
       "    }\n",
       "\n",
       "    .dataframe thead th {\n",
       "        text-align: right;\n",
       "    }\n",
       "</style>\n",
       "<table border=\"1\" class=\"dataframe\">\n",
       "  <thead>\n",
       "    <tr style=\"text-align: right;\">\n",
       "      <th></th>\n",
       "      <th>Actual</th>\n",
       "      <th>Predicted</th>\n",
       "    </tr>\n",
       "    <tr>\n",
       "      <th>userid</th>\n",
       "      <th></th>\n",
       "      <th></th>\n",
       "    </tr>\n",
       "  </thead>\n",
       "  <tbody>\n",
       "    <tr>\n",
       "      <th>6.819081363</th>\n",
       "      <td>4.388415</td>\n",
       "      <td>0.828914</td>\n",
       "    </tr>\n",
       "    <tr>\n",
       "      <th>6.814235006</th>\n",
       "      <td>18.654297</td>\n",
       "      <td>0.520076</td>\n",
       "    </tr>\n",
       "    <tr>\n",
       "      <th>6.161398552</th>\n",
       "      <td>4.838227</td>\n",
       "      <td>1.717096</td>\n",
       "    </tr>\n",
       "    <tr>\n",
       "      <th>6.828206873</th>\n",
       "      <td>4.838227</td>\n",
       "      <td>1.721697</td>\n",
       "    </tr>\n",
       "    <tr>\n",
       "      <th>6.820456114</th>\n",
       "      <td>6.529738</td>\n",
       "      <td>1.296744</td>\n",
       "    </tr>\n",
       "    <tr>\n",
       "      <th>6.610288512</th>\n",
       "      <td>4.195169</td>\n",
       "      <td>1.043064</td>\n",
       "    </tr>\n",
       "    <tr>\n",
       "      <th>6.801465385</th>\n",
       "      <td>1.203501</td>\n",
       "      <td>1.153872</td>\n",
       "    </tr>\n",
       "    <tr>\n",
       "      <th>6.827311751</th>\n",
       "      <td>9.266554</td>\n",
       "      <td>1.304170</td>\n",
       "    </tr>\n",
       "    <tr>\n",
       "      <th>6.756860727</th>\n",
       "      <td>4.838227</td>\n",
       "      <td>0.795638</td>\n",
       "    </tr>\n",
       "    <tr>\n",
       "      <th>6.810636238</th>\n",
       "      <td>4.388415</td>\n",
       "      <td>0.818686</td>\n",
       "    </tr>\n",
       "  </tbody>\n",
       "</table>\n",
       "</div>"
      ],
      "text/plain": [
       "                Actual  Predicted\n",
       "userid                           \n",
       "6.819081363   4.388415   0.828914\n",
       "6.814235006  18.654297   0.520076\n",
       "6.161398552   4.838227   1.717096\n",
       "6.828206873   4.838227   1.721697\n",
       "6.820456114   6.529738   1.296744\n",
       "6.610288512   4.195169   1.043064\n",
       "6.801465385   1.203501   1.153872\n",
       "6.827311751   9.266554   1.304170\n",
       "6.756860727   4.838227   0.795638\n",
       "6.810636238   4.388415   0.818686"
      ]
     },
     "execution_count": 170,
     "metadata": {},
     "output_type": "execute_result"
    }
   ],
   "source": [
    "pd.DataFrame({\"Actual\": y_test,\n",
    "             \"Predicted\": pred.flatten()}).sample(10)"
   ]
  },
  {
   "cell_type": "code",
   "execution_count": 172,
   "id": "2bf5f7e9",
   "metadata": {},
   "outputs": [
    {
     "data": {
      "text/plain": [
       "227.27849541123135"
      ]
     },
     "execution_count": 172,
     "metadata": {},
     "output_type": "execute_result"
    }
   ],
   "source": [
    "annp = mean_squared_error(y_test, pred, squared = False)\n",
    "annp"
   ]
  },
  {
   "cell_type": "code",
   "execution_count": null,
   "id": "2d1a4dfb",
   "metadata": {},
   "outputs": [],
   "source": []
  }
 ],
 "metadata": {
  "kernelspec": {
   "display_name": "Python 3",
   "language": "python",
   "name": "python3"
  },
  "language_info": {
   "codemirror_mode": {
    "name": "ipython",
    "version": 3
   },
   "file_extension": ".py",
   "mimetype": "text/x-python",
   "name": "python",
   "nbconvert_exporter": "python",
   "pygments_lexer": "ipython3",
   "version": "3.8.8"
  }
 },
 "nbformat": 4,
 "nbformat_minor": 5
}
