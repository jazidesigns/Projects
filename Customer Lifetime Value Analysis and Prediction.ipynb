{
 "cells": [
  {
   "cell_type": "markdown",
   "id": "f99cfc4c",
   "metadata": {},
   "source": [
    "### Import Libraries"
   ]
  },
  {
   "cell_type": "code",
   "execution_count": 1,
   "id": "2c4ee956",
   "metadata": {},
   "outputs": [],
   "source": [
    "import numpy as np\n",
    "import pandas as pd\n",
    "import matplotlib.pyplot as plt\n",
    "import seaborn as sns\n",
    "sns.set_style(\"whitegrid\")\n",
    "\n",
    "from sklearn.metrics import mean_squared_error, r2_score, mean_absolute_error\n",
    "import datetime as dt\n",
    "\n",
    "from sklearn.preprocessing import RobustScaler\n",
    "\n",
    "from sklearn.linear_model import LinearRegression\n",
    "from sklearn.svm import SVR\n",
    "\n",
    "from sklearn.model_selection import train_test_split, GridSearchCV\n",
    "from keras.layers import Dense\n",
    "from keras.models import Sequential\n",
    "import xgboost as xgb"
   ]
  },
  {
   "cell_type": "markdown",
   "id": "76a96d64",
   "metadata": {},
   "source": [
    "### Import Dataset"
   ]
  },
  {
   "cell_type": "code",
   "execution_count": 2,
   "id": "528ecd75",
   "metadata": {},
   "outputs": [
    {
     "data": {
      "text/html": [
       "<div>\n",
       "<style scoped>\n",
       "    .dataframe tbody tr th:only-of-type {\n",
       "        vertical-align: middle;\n",
       "    }\n",
       "\n",
       "    .dataframe tbody tr th {\n",
       "        vertical-align: top;\n",
       "    }\n",
       "\n",
       "    .dataframe thead th {\n",
       "        text-align: right;\n",
       "    }\n",
       "</style>\n",
       "<table border=\"1\" class=\"dataframe\">\n",
       "  <thead>\n",
       "    <tr style=\"text-align: right;\">\n",
       "      <th></th>\n",
       "      <th>Platform</th>\n",
       "      <th>userid</th>\n",
       "      <th>IN-APP PRODUCTID</th>\n",
       "      <th>Country</th>\n",
       "      <th>Price in local currency</th>\n",
       "      <th>Currency</th>\n",
       "      <th>Timestamp</th>\n",
       "    </tr>\n",
       "  </thead>\n",
       "  <tbody>\n",
       "    <tr>\n",
       "      <th>7048</th>\n",
       "      <td>ANDROID</td>\n",
       "      <td>5.968982333</td>\n",
       "      <td>rio16.shields</td>\n",
       "      <td>US</td>\n",
       "      <td>4.99</td>\n",
       "      <td>USD</td>\n",
       "      <td>13/02/2017 09:50</td>\n",
       "    </tr>\n",
       "    <tr>\n",
       "      <th>7540</th>\n",
       "      <td>ANDROID</td>\n",
       "      <td>6.704072148</td>\n",
       "      <td>pack7.shields</td>\n",
       "      <td>IT</td>\n",
       "      <td>0.89</td>\n",
       "      <td>EUR</td>\n",
       "      <td>21/01/2017 10:54</td>\n",
       "    </tr>\n",
       "    <tr>\n",
       "      <th>6208</th>\n",
       "      <td>ANDROID</td>\n",
       "      <td>6.828641274</td>\n",
       "      <td>offer4</td>\n",
       "      <td>US</td>\n",
       "      <td>3.99</td>\n",
       "      <td>USD</td>\n",
       "      <td>14/03/2017 20:45</td>\n",
       "    </tr>\n",
       "    <tr>\n",
       "      <th>7006</th>\n",
       "      <td>ANDROID</td>\n",
       "      <td>6.820562739</td>\n",
       "      <td>pack2.cash</td>\n",
       "      <td>FR</td>\n",
       "      <td>3.59</td>\n",
       "      <td>EUR</td>\n",
       "      <td>14/02/2017 06:15</td>\n",
       "    </tr>\n",
       "    <tr>\n",
       "      <th>7816</th>\n",
       "      <td>ANDROID</td>\n",
       "      <td>5.865925572</td>\n",
       "      <td>pack2.shields</td>\n",
       "      <td>US</td>\n",
       "      <td>4.51</td>\n",
       "      <td>USD</td>\n",
       "      <td>06/01/2017 08:43</td>\n",
       "    </tr>\n",
       "  </tbody>\n",
       "</table>\n",
       "</div>"
      ],
      "text/plain": [
       "     Platform       userid IN-APP PRODUCTID Country  \\\n",
       "7048  ANDROID  5.968982333    rio16.shields      US   \n",
       "7540  ANDROID  6.704072148    pack7.shields      IT   \n",
       "6208  ANDROID  6.828641274           offer4      US   \n",
       "7006  ANDROID  6.820562739       pack2.cash      FR   \n",
       "7816  ANDROID  5.865925572    pack2.shields      US   \n",
       "\n",
       "       Price in local currency  Currency         Timestamp  \n",
       "7048                       4.99      USD  13/02/2017 09:50  \n",
       "7540                       0.89      EUR  21/01/2017 10:54  \n",
       "6208                       3.99      USD  14/03/2017 20:45  \n",
       "7006                       3.59      EUR  14/02/2017 06:15  \n",
       "7816                       4.51      USD  06/01/2017 08:43  "
      ]
     },
     "execution_count": 2,
     "metadata": {},
     "output_type": "execute_result"
    }
   ],
   "source": [
    "df = pd.read_csv(\"TransactionsTestDataset.csv\")\n",
    "df.sample(5)"
   ]
  },
  {
   "cell_type": "code",
   "execution_count": 3,
   "id": "62e72633",
   "metadata": {},
   "outputs": [
    {
     "name": "stdout",
     "output_type": "stream",
     "text": [
      "<class 'pandas.core.frame.DataFrame'>\n",
      "RangeIndex: 8853 entries, 0 to 8852\n",
      "Data columns (total 7 columns):\n",
      " #   Column                     Non-Null Count  Dtype  \n",
      "---  ------                     --------------  -----  \n",
      " 0   Platform                   8853 non-null   object \n",
      " 1   userid                     8853 non-null   object \n",
      " 2   IN-APP PRODUCTID           8853 non-null   object \n",
      " 3   Country                    8853 non-null   object \n",
      " 4    Price in local currency   8853 non-null   float64\n",
      " 5   Currency                   8853 non-null   object \n",
      " 6   Timestamp                  8853 non-null   object \n",
      "dtypes: float64(1), object(6)\n",
      "memory usage: 484.3+ KB\n"
     ]
    }
   ],
   "source": [
    "df.info()"
   ]
  },
  {
   "cell_type": "markdown",
   "id": "223262d1",
   "metadata": {},
   "source": [
    "**Change userid to categories**"
   ]
  },
  {
   "cell_type": "code",
   "execution_count": 4,
   "id": "aab163e2",
   "metadata": {},
   "outputs": [],
   "source": [
    "df[\"userid\"] = df[\"userid\"].astype(\"category\").cat.codes"
   ]
  },
  {
   "cell_type": "markdown",
   "id": "b43a8dac",
   "metadata": {},
   "source": [
    "**Rename Column**"
   ]
  },
  {
   "cell_type": "code",
   "execution_count": 5,
   "id": "1617bdf1",
   "metadata": {},
   "outputs": [],
   "source": [
    "df = df.rename(columns = {\" Price in local currency \": \"Price in local currency\"})"
   ]
  },
  {
   "cell_type": "markdown",
   "id": "ff91193d",
   "metadata": {},
   "source": [
    "**Insights of rows having Currency 0**"
   ]
  },
  {
   "cell_type": "code",
   "execution_count": 6,
   "id": "e2628605",
   "metadata": {},
   "outputs": [
    {
     "data": {
      "text/html": [
       "<div>\n",
       "<style scoped>\n",
       "    .dataframe tbody tr th:only-of-type {\n",
       "        vertical-align: middle;\n",
       "    }\n",
       "\n",
       "    .dataframe tbody tr th {\n",
       "        vertical-align: top;\n",
       "    }\n",
       "\n",
       "    .dataframe thead th {\n",
       "        text-align: right;\n",
       "    }\n",
       "</style>\n",
       "<table border=\"1\" class=\"dataframe\">\n",
       "  <thead>\n",
       "    <tr style=\"text-align: right;\">\n",
       "      <th></th>\n",
       "      <th>Platform</th>\n",
       "      <th>userid</th>\n",
       "      <th>IN-APP PRODUCTID</th>\n",
       "      <th>Country</th>\n",
       "      <th>Price in local currency</th>\n",
       "      <th>Currency</th>\n",
       "      <th>Timestamp</th>\n",
       "    </tr>\n",
       "  </thead>\n",
       "  <tbody>\n",
       "    <tr>\n",
       "      <th>3</th>\n",
       "      <td>ANDROID</td>\n",
       "      <td>2946</td>\n",
       "      <td>offer4</td>\n",
       "      <td>US</td>\n",
       "      <td>0.0</td>\n",
       "      <td>0</td>\n",
       "      <td>27/03/2017 16:58</td>\n",
       "    </tr>\n",
       "    <tr>\n",
       "      <th>5</th>\n",
       "      <td>ANDROID</td>\n",
       "      <td>2946</td>\n",
       "      <td>offer4</td>\n",
       "      <td>US</td>\n",
       "      <td>0.0</td>\n",
       "      <td>0</td>\n",
       "      <td>27/03/2017 16:32</td>\n",
       "    </tr>\n",
       "    <tr>\n",
       "      <th>6</th>\n",
       "      <td>ANDROID</td>\n",
       "      <td>2946</td>\n",
       "      <td>offer4</td>\n",
       "      <td>US</td>\n",
       "      <td>0.0</td>\n",
       "      <td>0</td>\n",
       "      <td>27/03/2017 16:28</td>\n",
       "    </tr>\n",
       "    <tr>\n",
       "      <th>23</th>\n",
       "      <td>ANDROID</td>\n",
       "      <td>2768</td>\n",
       "      <td>pack2.shields</td>\n",
       "      <td>FR</td>\n",
       "      <td>3.0</td>\n",
       "      <td>0</td>\n",
       "      <td>26/03/2017 19:17</td>\n",
       "    </tr>\n",
       "    <tr>\n",
       "      <th>42</th>\n",
       "      <td>ANDROID</td>\n",
       "      <td>2750</td>\n",
       "      <td>pack2.shields</td>\n",
       "      <td>US</td>\n",
       "      <td>0.0</td>\n",
       "      <td>0</td>\n",
       "      <td>25/03/2017 22:27</td>\n",
       "    </tr>\n",
       "    <tr>\n",
       "      <th>...</th>\n",
       "      <td>...</td>\n",
       "      <td>...</td>\n",
       "      <td>...</td>\n",
       "      <td>...</td>\n",
       "      <td>...</td>\n",
       "      <td>...</td>\n",
       "      <td>...</td>\n",
       "    </tr>\n",
       "    <tr>\n",
       "      <th>7193</th>\n",
       "      <td>ANDROID</td>\n",
       "      <td>2286</td>\n",
       "      <td>offer4</td>\n",
       "      <td>US</td>\n",
       "      <td>0.0</td>\n",
       "      <td>0</td>\n",
       "      <td>06/02/2017 15:39</td>\n",
       "    </tr>\n",
       "    <tr>\n",
       "      <th>7203</th>\n",
       "      <td>ANDROID</td>\n",
       "      <td>605</td>\n",
       "      <td>pack2.shields</td>\n",
       "      <td>US</td>\n",
       "      <td>0.0</td>\n",
       "      <td>0</td>\n",
       "      <td>05/02/2017 20:07</td>\n",
       "    </tr>\n",
       "    <tr>\n",
       "      <th>7266</th>\n",
       "      <td>ANDROID</td>\n",
       "      <td>2241</td>\n",
       "      <td>offer4</td>\n",
       "      <td>US</td>\n",
       "      <td>0.0</td>\n",
       "      <td>0</td>\n",
       "      <td>03/02/2017 16:02</td>\n",
       "    </tr>\n",
       "    <tr>\n",
       "      <th>7351</th>\n",
       "      <td>ANDROID</td>\n",
       "      <td>2167</td>\n",
       "      <td>offer4</td>\n",
       "      <td>US</td>\n",
       "      <td>0.0</td>\n",
       "      <td>0</td>\n",
       "      <td>29/01/2017 19:46</td>\n",
       "    </tr>\n",
       "    <tr>\n",
       "      <th>7380</th>\n",
       "      <td>ANDROID</td>\n",
       "      <td>2170</td>\n",
       "      <td>offer4</td>\n",
       "      <td>US</td>\n",
       "      <td>0.0</td>\n",
       "      <td>0</td>\n",
       "      <td>28/01/2017 16:59</td>\n",
       "    </tr>\n",
       "  </tbody>\n",
       "</table>\n",
       "<p>186 rows × 7 columns</p>\n",
       "</div>"
      ],
      "text/plain": [
       "     Platform  userid IN-APP PRODUCTID Country  Price in local currency  \\\n",
       "3     ANDROID    2946           offer4      US                      0.0   \n",
       "5     ANDROID    2946           offer4      US                      0.0   \n",
       "6     ANDROID    2946           offer4      US                      0.0   \n",
       "23    ANDROID    2768    pack2.shields      FR                      3.0   \n",
       "42    ANDROID    2750    pack2.shields      US                      0.0   \n",
       "...       ...     ...              ...     ...                      ...   \n",
       "7193  ANDROID    2286           offer4      US                      0.0   \n",
       "7203  ANDROID     605    pack2.shields      US                      0.0   \n",
       "7266  ANDROID    2241           offer4      US                      0.0   \n",
       "7351  ANDROID    2167           offer4      US                      0.0   \n",
       "7380  ANDROID    2170           offer4      US                      0.0   \n",
       "\n",
       "     Currency         Timestamp  \n",
       "3           0  27/03/2017 16:58  \n",
       "5           0  27/03/2017 16:32  \n",
       "6           0  27/03/2017 16:28  \n",
       "23          0  26/03/2017 19:17  \n",
       "42          0  25/03/2017 22:27  \n",
       "...       ...               ...  \n",
       "7193        0  06/02/2017 15:39  \n",
       "7203        0  05/02/2017 20:07  \n",
       "7266        0  03/02/2017 16:02  \n",
       "7351        0  29/01/2017 19:46  \n",
       "7380        0  28/01/2017 16:59  \n",
       "\n",
       "[186 rows x 7 columns]"
      ]
     },
     "execution_count": 6,
     "metadata": {},
     "output_type": "execute_result"
    }
   ],
   "source": [
    "df[df[\"Currency\"] == \"0\"]"
   ]
  },
  {
   "cell_type": "markdown",
   "id": "17d341e2",
   "metadata": {},
   "source": [
    "**Remove these rows from data**"
   ]
  },
  {
   "cell_type": "code",
   "execution_count": 7,
   "id": "8233b09e",
   "metadata": {},
   "outputs": [],
   "source": [
    "mask = df['Currency'].isin([\"0\"])\n",
    "\n",
    "df = df[~mask]"
   ]
  },
  {
   "cell_type": "code",
   "execution_count": 8,
   "id": "8543addc",
   "metadata": {},
   "outputs": [],
   "source": [
    "mask2 = df['userid'].isin(['#NUM!'])\n",
    "df = df[~mask2]"
   ]
  },
  {
   "cell_type": "markdown",
   "id": "5e295051",
   "metadata": {},
   "source": [
    "**Create Date Column**"
   ]
  },
  {
   "cell_type": "code",
   "execution_count": 9,
   "id": "4dfd6d84",
   "metadata": {},
   "outputs": [],
   "source": [
    "# Extract Date\n",
    "df[\"Date\"] = df[\"Timestamp\"].str.split(\" \").str.get(0)\n",
    "\n",
    "# Convert to datetime dtype\n",
    "df[\"Date\"] = pd.to_datetime(df[\"Date\"])"
   ]
  },
  {
   "cell_type": "markdown",
   "id": "adaecc4d",
   "metadata": {},
   "source": [
    "**Delete Timestamp Column**"
   ]
  },
  {
   "cell_type": "code",
   "execution_count": 10,
   "id": "00459336",
   "metadata": {},
   "outputs": [],
   "source": [
    "del df[\"Timestamp\"]"
   ]
  },
  {
   "cell_type": "code",
   "execution_count": 11,
   "id": "1b527524",
   "metadata": {},
   "outputs": [],
   "source": [
    "def currency(column):\n",
    "    x = column[0]\n",
    "    y = column[1]\n",
    "    if x == \"EUR\":\n",
    "        return y * 1.05\n",
    "    \n",
    "    elif x == \"KRW\":\n",
    "        return y * 0.00079\n",
    "    \n",
    "    elif x == \"GBP\":\n",
    "        return y * 1.26\n",
    "    \n",
    "    elif x == \"CAD\":\n",
    "        return y * 0.78\n",
    "    \n",
    "    elif x == \"TRY\":\n",
    "        return y * 0.067\n",
    "    \n",
    "    elif x == \"BRL\":\n",
    "        return y * 0.20\n",
    "    \n",
    "    elif x == \"IDR\":\n",
    "        return y * 0.000069\n",
    "    \n",
    "    elif x == \"RUB\":\n",
    "        return y * 0.014\n",
    "    \n",
    "    elif x == \"CLP\":\n",
    "        return y * 0.0012\n",
    "    \n",
    "    elif x == \"THB\":\n",
    "        return y * 0.029\n",
    "    \n",
    "    elif x == \"SEK\":\n",
    "        return y * 0.10\n",
    "    \n",
    "    elif x == \"NOK\":\n",
    "        return y * 0.11\n",
    "    \n",
    "    elif x == \"JPY\":\n",
    "        return y * 0.0077\n",
    "    \n",
    "    elif x == \"UAH\":\n",
    "        return y * 0.033\n",
    "    \n",
    "    elif x == \"RON\":\n",
    "        return y * 0.21\n",
    "    \n",
    "    elif x == \"CHF\":\n",
    "        return y * 1.03\n",
    "    \n",
    "    elif x == \"LBP\":\n",
    "        return y * 0.00066\n",
    "    \n",
    "    elif x == \"MYR\":\n",
    "        return y * 0.23\n",
    "    \n",
    "    elif x == \"TWD\":\n",
    "        return y * 0.034\n",
    "    \n",
    "    elif x == \"PHP\":\n",
    "        return y * 0.019\n",
    "    \n",
    "    elif x == \"AED\":\n",
    "        return y * 0.27\n",
    "    \n",
    "    elif x == \"MXN\":\n",
    "        return y * 0.049\n",
    "    \n",
    "    elif x == \"ZAR\":\n",
    "        return y * 0.063\n",
    "    \n",
    "    elif x == \"AUD\":\n",
    "        return y * 0.71\n",
    "    \n",
    "    elif x == \"HRK\":\n",
    "        return y * 0.14\n",
    "    \n",
    "    elif x == \"CNY\":\n",
    "        return y * 0.15\n",
    "    \n",
    "    elif x == \"ILS\":\n",
    "        return y * 0.30\n",
    "    \n",
    "    else:\n",
    "        return y * 1\n",
    "\n",
    "\n",
    "df[\"Price in USD\"] = df[[\"Currency\", \"Price in local currency\"]].apply(currency, axis = 1)"
   ]
  },
  {
   "cell_type": "markdown",
   "id": "3b63ef0c",
   "metadata": {},
   "source": [
    "### Data Analysis and Visualization"
   ]
  },
  {
   "cell_type": "markdown",
   "id": "65ef9252",
   "metadata": {},
   "source": [
    "**Number of Times Platform used by Customers**"
   ]
  },
  {
   "cell_type": "code",
   "execution_count": 12,
   "id": "6ba23ad8",
   "metadata": {},
   "outputs": [
    {
     "data": {
      "image/png": "[encoded data removed]",
      "text/plain": [
       "<Figure size 1296x504 with 1 Axes>"
      ]
     },
     "metadata": {},
     "output_type": "display_data"
    }
   ],
   "source": [
    "plt.figure(figsize = (18, 7))\n",
    "sns.countplot(x = \"Platform\", data = df)\n",
    "plt.title(\"Number of Times Platform used by Customers\", weight = \"bold\", size = 20)\n",
    "plt.xlabel(\"Platform\", size = 20, weight = \"bold\")\n",
    "plt.ylabel(\"Frequency\", size = 20, weight = \"bold\")\n",
    "plt.xticks(size = 15)\n",
    "plt.yticks(size = 15)\n",
    "plt.show()"
   ]
  },
  {
   "cell_type": "markdown",
   "id": "341de788",
   "metadata": {},
   "source": [
    "**Top 10 Most Repeated Customers**"
   ]
  },
  {
   "cell_type": "code",
   "execution_count": 13,
   "id": "2a105f10",
   "metadata": {},
   "outputs": [
    {
     "data": {
      "image/png": "[encoded data removed]",
      "text/plain": [
       "<Figure size 1296x504 with 1 Axes>"
      ]
     },
     "metadata": {},
     "output_type": "display_data"
    }
   ],
   "source": [
    "repeated_customers = df[\"userid\"].value_counts().to_frame().reset_index()\n",
    "repeated_customers.columns = [\"User ID\", \"Frequency\"]\n",
    "repeated_customers = repeated_customers.head(10)\n",
    "\n",
    "plt.figure(figsize = (18, 7))\n",
    "sns.barplot(x = \"User ID\", y = \"Frequency\", data = repeated_customers, palette = \"hsv\")\n",
    "plt.title(\"Top 10 Most Repeated Customers\", weight = \"bold\", size = 20)\n",
    "plt.xlabel(\"User ID\", size = 20, weight = \"bold\")\n",
    "plt.ylabel(\"Frequency\", size = 20, weight = \"bold\")\n",
    "plt.xticks(size = 15)\n",
    "plt.yticks(size = 15)\n",
    "plt.show()"
   ]
  },
  {
   "cell_type": "markdown",
   "id": "533f8b3c",
   "metadata": {},
   "source": [
    "**Number of Times IN-APP-PRODUCTS used by Customers**"
   ]
  },
  {
   "cell_type": "code",
   "execution_count": 14,
   "id": "0cb3484f",
   "metadata": {},
   "outputs": [
    {
     "data": {
      "image/png": "[encoded data removed]",
      "text/plain": [
       "<Figure size 1296x504 with 1 Axes>"
      ]
     },
     "metadata": {},
     "output_type": "display_data"
    }
   ],
   "source": [
    "app_products = df[\"IN-APP PRODUCTID\"].value_counts().to_frame().reset_index()\n",
    "app_products.columns = [\"IN-APP PRODUCTID\", \"Frequency\"]\n",
    "\n",
    "plt.figure(figsize = (18, 7))\n",
    "sns.barplot(x = \"IN-APP PRODUCTID\", y = \"Frequency\", data = app_products, palette = \"plasma\")\n",
    "plt.title(\"Number of Times IN-APP PRODUCTID used by Customers\", weight = \"bold\", size = 20)\n",
    "plt.xlabel(\"Platform\", size = 20, weight = \"bold\")\n",
    "plt.ylabel(\"Frequency\", size = 20, weight = \"bold\")\n",
    "plt.xticks(size = 15, rotation = 90)\n",
    "plt.yticks(size = 15)\n",
    "plt.show()"
   ]
  },
  {
   "cell_type": "markdown",
   "id": "8161224e",
   "metadata": {},
   "source": [
    "**Total Customers by Countries**"
   ]
  },
  {
   "cell_type": "code",
   "execution_count": 15,
   "id": "bf8fc221",
   "metadata": {},
   "outputs": [
    {
     "data": {
      "image/png": "[encoded data removed]",
      "text/plain": [
       "<Figure size 1296x504 with 1 Axes>"
      ]
     },
     "metadata": {},
     "output_type": "display_data"
    }
   ],
   "source": [
    "country_customers = df[\"Country\"].value_counts().to_frame().reset_index()\n",
    "country_customers.columns = [\"Country\", \"Frequency\"]\n",
    "country_customers = country_customers.head(10)\n",
    "\n",
    "plt.figure(figsize = (18, 7))\n",
    "sns.barplot(x = \"Country\", y = \"Frequency\", data = country_customers, palette = \"prism\")\n",
    "plt.title(\"Total Customers by Countries\", weight = \"bold\", size = 20)\n",
    "plt.xlabel(\"Country\", size = 20, weight = \"bold\")\n",
    "plt.ylabel(\"Frequency\", size = 20, weight = \"bold\")\n",
    "plt.xticks(size = 15)\n",
    "plt.yticks(size = 15)\n",
    "plt.show()"
   ]
  },
  {
   "cell_type": "markdown",
   "id": "5b30a561",
   "metadata": {},
   "source": [
    "### Customer Lifetime Value"
   ]
  },
  {
   "cell_type": "markdown",
   "id": "408468e4",
   "metadata": {},
   "source": [
    "**References:**\n",
    "\n",
    "1. https://www.datacamp.com/community/tutorials/customer-life-time-value\n",
    "2. https://www.datacamp.com/community/tutorials/customer-life-time-value"
   ]
  },
  {
   "cell_type": "markdown",
   "id": "1789655a",
   "metadata": {},
   "source": [
    "**Select Relevant Columns**"
   ]
  },
  {
   "cell_type": "code",
   "execution_count": 16,
   "id": "ad59b9de",
   "metadata": {},
   "outputs": [
    {
     "data": {
      "text/html": [
       "<div>\n",
       "<style scoped>\n",
       "    .dataframe tbody tr th:only-of-type {\n",
       "        vertical-align: middle;\n",
       "    }\n",
       "\n",
       "    .dataframe tbody tr th {\n",
       "        vertical-align: top;\n",
       "    }\n",
       "\n",
       "    .dataframe thead th {\n",
       "        text-align: right;\n",
       "    }\n",
       "</style>\n",
       "<table border=\"1\" class=\"dataframe\">\n",
       "  <thead>\n",
       "    <tr style=\"text-align: right;\">\n",
       "      <th></th>\n",
       "      <th>userid</th>\n",
       "      <th>Date</th>\n",
       "      <th>Price in USD</th>\n",
       "    </tr>\n",
       "  </thead>\n",
       "  <tbody>\n",
       "    <tr>\n",
       "      <th>0</th>\n",
       "      <td>282</td>\n",
       "      <td>2017-03-28</td>\n",
       "      <td>1.9900</td>\n",
       "    </tr>\n",
       "    <tr>\n",
       "      <th>1</th>\n",
       "      <td>2947</td>\n",
       "      <td>2017-03-27</td>\n",
       "      <td>3.9900</td>\n",
       "    </tr>\n",
       "    <tr>\n",
       "      <th>2</th>\n",
       "      <td>2941</td>\n",
       "      <td>2017-03-27</td>\n",
       "      <td>4.0092</td>\n",
       "    </tr>\n",
       "    <tr>\n",
       "      <th>4</th>\n",
       "      <td>204</td>\n",
       "      <td>2017-03-27</td>\n",
       "      <td>2.0895</td>\n",
       "    </tr>\n",
       "    <tr>\n",
       "      <th>7</th>\n",
       "      <td>736</td>\n",
       "      <td>2017-03-27</td>\n",
       "      <td>1.8795</td>\n",
       "    </tr>\n",
       "  </tbody>\n",
       "</table>\n",
       "</div>"
      ],
      "text/plain": [
       "   userid       Date  Price in USD\n",
       "0     282 2017-03-28        1.9900\n",
       "1    2947 2017-03-27        3.9900\n",
       "2    2941 2017-03-27        4.0092\n",
       "4     204 2017-03-27        2.0895\n",
       "7     736 2017-03-27        1.8795"
      ]
     },
     "execution_count": 16,
     "metadata": {},
     "output_type": "execute_result"
    }
   ],
   "source": [
    "df = df[[\"userid\", \"Date\", \"Price in USD\"]]\n",
    "df.head()"
   ]
  },
  {
   "cell_type": "markdown",
   "id": "520cc4e7",
   "metadata": {},
   "source": [
    "**In the dataset, the last order date is December 03, 2017, we have used this date as NOW date to calculate recency.**"
   ]
  },
  {
   "cell_type": "code",
   "execution_count": 17,
   "id": "625e19a3",
   "metadata": {},
   "outputs": [],
   "source": [
    "now = dt.datetime(2017, 12, 3)"
   ]
  },
  {
   "cell_type": "code",
   "execution_count": 18,
   "id": "31f03714",
   "metadata": {},
   "outputs": [],
   "source": [
    "df[\"Invoice\"] = df[[\"Date\"]]"
   ]
  },
  {
   "cell_type": "code",
   "execution_count": 19,
   "id": "64d24fb1",
   "metadata": {},
   "outputs": [
    {
     "data": {
      "text/html": [
       "<div>\n",
       "<style scoped>\n",
       "    .dataframe tbody tr th:only-of-type {\n",
       "        vertical-align: middle;\n",
       "    }\n",
       "\n",
       "    .dataframe tbody tr th {\n",
       "        vertical-align: top;\n",
       "    }\n",
       "\n",
       "    .dataframe thead th {\n",
       "        text-align: right;\n",
       "    }\n",
       "</style>\n",
       "<table border=\"1\" class=\"dataframe\">\n",
       "  <thead>\n",
       "    <tr style=\"text-align: right;\">\n",
       "      <th></th>\n",
       "      <th>Recency</th>\n",
       "      <th>Frequency</th>\n",
       "      <th>Monetary</th>\n",
       "    </tr>\n",
       "    <tr>\n",
       "      <th>userid</th>\n",
       "      <th></th>\n",
       "      <th></th>\n",
       "      <th></th>\n",
       "    </tr>\n",
       "  </thead>\n",
       "  <tbody>\n",
       "    <tr>\n",
       "      <th>0</th>\n",
       "      <td>336</td>\n",
       "      <td>6</td>\n",
       "      <td>46.4385</td>\n",
       "    </tr>\n",
       "    <tr>\n",
       "      <th>1</th>\n",
       "      <td>345</td>\n",
       "      <td>1</td>\n",
       "      <td>9.4395</td>\n",
       "    </tr>\n",
       "    <tr>\n",
       "      <th>2</th>\n",
       "      <td>122</td>\n",
       "      <td>1</td>\n",
       "      <td>2.0895</td>\n",
       "    </tr>\n",
       "    <tr>\n",
       "      <th>3</th>\n",
       "      <td>277</td>\n",
       "      <td>1</td>\n",
       "      <td>4.1895</td>\n",
       "    </tr>\n",
       "    <tr>\n",
       "      <th>4</th>\n",
       "      <td>280</td>\n",
       "      <td>3</td>\n",
       "      <td>20.1222</td>\n",
       "    </tr>\n",
       "  </tbody>\n",
       "</table>\n",
       "</div>"
      ],
      "text/plain": [
       "        Recency  Frequency  Monetary\n",
       "userid                              \n",
       "0           336          6   46.4385\n",
       "1           345          1    9.4395\n",
       "2           122          1    2.0895\n",
       "3           277          1    4.1895\n",
       "4           280          3   20.1222"
      ]
     },
     "execution_count": 19,
     "metadata": {},
     "output_type": "execute_result"
    }
   ],
   "source": [
    "rfm = df.groupby(\"userid\").agg({\"Date\":         lambda x: (now - x.max()).days,  # Recency\n",
    "                                \"Invoice\":         lambda x: x.count(),             # Frequenxy\n",
    "                                \"Price in USD\": lambda x: x.sum()})              # Monetary\n",
    "rfm.columns = [\"Recency\", \"Frequency\", \"Monetary\"]\n",
    "rfm.head()"
   ]
  },
  {
   "cell_type": "markdown",
   "id": "fe89d64b",
   "metadata": {},
   "source": [
    "**Calculate frequency and percentage of number of transactions**"
   ]
  },
  {
   "cell_type": "code",
   "execution_count": 20,
   "id": "cb66e6e2",
   "metadata": {},
   "outputs": [],
   "source": [
    "def frequency(x):\n",
    "    if x == 1:\n",
    "        return \"1\"\n",
    "    \n",
    "    elif x == 2:\n",
    "        return \"2\"\n",
    "    \n",
    "    elif x == 3:\n",
    "        return \"3\"\n",
    "    \n",
    "    elif x == 4:\n",
    "        return \"4\"\n",
    "    \n",
    "    elif x == 5:\n",
    "        return \"5\"\n",
    "    \n",
    "    elif x >= 6 and x <= 10:\n",
    "        return \"6-10\"\n",
    "    else:\n",
    "        return \"10+\"\n",
    "    \n",
    "transactions_frequency = rfm[\"Frequency\"].apply(frequency)"
   ]
  },
  {
   "cell_type": "code",
   "execution_count": 21,
   "id": "1213aaa5",
   "metadata": {},
   "outputs": [
    {
     "data": {
      "text/html": [
       "<div>\n",
       "<style scoped>\n",
       "    .dataframe tbody tr th:only-of-type {\n",
       "        vertical-align: middle;\n",
       "    }\n",
       "\n",
       "    .dataframe tbody tr th {\n",
       "        vertical-align: top;\n",
       "    }\n",
       "\n",
       "    .dataframe thead th {\n",
       "        text-align: right;\n",
       "    }\n",
       "</style>\n",
       "<table border=\"1\" class=\"dataframe\">\n",
       "  <thead>\n",
       "    <tr style=\"text-align: right;\">\n",
       "      <th></th>\n",
       "      <th>Category</th>\n",
       "      <th>Transactions</th>\n",
       "      <th>Percentage</th>\n",
       "    </tr>\n",
       "  </thead>\n",
       "  <tbody>\n",
       "    <tr>\n",
       "      <th>0</th>\n",
       "      <td>1</td>\n",
       "      <td>1571</td>\n",
       "      <td>54.322268</td>\n",
       "    </tr>\n",
       "    <tr>\n",
       "      <th>1</th>\n",
       "      <td>2</td>\n",
       "      <td>549</td>\n",
       "      <td>18.983402</td>\n",
       "    </tr>\n",
       "    <tr>\n",
       "      <th>2</th>\n",
       "      <td>3</td>\n",
       "      <td>252</td>\n",
       "      <td>8.713693</td>\n",
       "    </tr>\n",
       "    <tr>\n",
       "      <th>3</th>\n",
       "      <td>6-10</td>\n",
       "      <td>177</td>\n",
       "      <td>6.120332</td>\n",
       "    </tr>\n",
       "    <tr>\n",
       "      <th>4</th>\n",
       "      <td>10+</td>\n",
       "      <td>131</td>\n",
       "      <td>4.529737</td>\n",
       "    </tr>\n",
       "    <tr>\n",
       "      <th>5</th>\n",
       "      <td>4</td>\n",
       "      <td>130</td>\n",
       "      <td>4.495159</td>\n",
       "    </tr>\n",
       "    <tr>\n",
       "      <th>6</th>\n",
       "      <td>5</td>\n",
       "      <td>82</td>\n",
       "      <td>2.835408</td>\n",
       "    </tr>\n",
       "  </tbody>\n",
       "</table>\n",
       "</div>"
      ],
      "text/plain": [
       "  Category  Transactions  Percentage\n",
       "0        1          1571   54.322268\n",
       "1        2           549   18.983402\n",
       "2        3           252    8.713693\n",
       "3     6-10           177    6.120332\n",
       "4      10+           131    4.529737\n",
       "5        4           130    4.495159\n",
       "6        5            82    2.835408"
      ]
     },
     "execution_count": 21,
     "metadata": {},
     "output_type": "execute_result"
    }
   ],
   "source": [
    "tft = transactions_frequency.value_counts().to_frame().reset_index()\n",
    "tft.columns = [\"Category\", \"Transactions\"]\n",
    "tft[\"Percentage\"] = (tft[\"Transactions\"] / tft[\"Transactions\"].sum() * 100)\n",
    "tft"
   ]
  },
  {
   "cell_type": "markdown",
   "id": "ae3fe416",
   "metadata": {},
   "source": [
    "**Frequency of Transactions by Groups**"
   ]
  },
  {
   "cell_type": "code",
   "execution_count": 22,
   "id": "9cb7adcc",
   "metadata": {},
   "outputs": [
    {
     "data": {
      "image/png": "[encoded data removed]",
      "text/plain": [
       "<Figure size 1296x504 with 1 Axes>"
      ]
     },
     "metadata": {},
     "output_type": "display_data"
    }
   ],
   "source": [
    "plt.figure(figsize = (18, 7))\n",
    "sns.barplot(x = \"Category\", y = \"Transactions\", data = tft, order = [\"1\", \"2\", \"3\", \"4\", \"5\", \"6-10\", \"10+\"], palette = \"rocket_r\")\n",
    "plt.title(\"Frequency of Transactions by Groups\", weight = \"bold\", size = 20)\n",
    "plt.xlabel(\"Groups\", size = 20, weight = \"bold\")\n",
    "plt.ylabel(\"Frequency of Transactions\", size = 20, weight = \"bold\")\n",
    "plt.xticks(size = 15)\n",
    "plt.yticks(size = 15)\n",
    "plt.show()"
   ]
  },
  {
   "cell_type": "markdown",
   "id": "a6aa763f",
   "metadata": {},
   "source": [
    "**Percentage of Transactions by Groups**"
   ]
  },
  {
   "cell_type": "code",
   "execution_count": 23,
   "id": "35169d19",
   "metadata": {},
   "outputs": [
    {
     "data": {
      "image/png": "[encoded data removed]",
      "text/plain": [
       "<Figure size 1296x504 with 1 Axes>"
      ]
     },
     "metadata": {},
     "output_type": "display_data"
    }
   ],
   "source": [
    "plt.figure(figsize = (18, 7))\n",
    "sns.barplot(x = \"Category\", y = \"Percentage\", data = tft, order = [\"1\", \"2\", \"3\", \"4\", \"5\", \"6-10\", \"10+\"], palette = \"brg\")\n",
    "plt.title(\"Percentage of Transactions by Groups\", weight = \"bold\", size = 20)\n",
    "plt.xlabel(\"Groups\", size = 20, weight = \"bold\")\n",
    "plt.ylabel(\"Percentage of Transactions\", size = 20, weight = \"bold\")\n",
    "plt.xticks(size = 15)\n",
    "plt.yticks(size = 15)\n",
    "plt.show()"
   ]
  },
  {
   "cell_type": "markdown",
   "id": "d1fdfce5",
   "metadata": {},
   "source": [
    "**1. Calculate Average Order Value**"
   ]
  },
  {
   "cell_type": "code",
   "execution_count": 24,
   "id": "5df6aa23",
   "metadata": {},
   "outputs": [
    {
     "data": {
      "text/html": [
       "<div>\n",
       "<style scoped>\n",
       "    .dataframe tbody tr th:only-of-type {\n",
       "        vertical-align: middle;\n",
       "    }\n",
       "\n",
       "    .dataframe tbody tr th {\n",
       "        vertical-align: top;\n",
       "    }\n",
       "\n",
       "    .dataframe thead th {\n",
       "        text-align: right;\n",
       "    }\n",
       "</style>\n",
       "<table border=\"1\" class=\"dataframe\">\n",
       "  <thead>\n",
       "    <tr style=\"text-align: right;\">\n",
       "      <th></th>\n",
       "      <th>Recency</th>\n",
       "      <th>Frequency</th>\n",
       "      <th>Monetary</th>\n",
       "      <th>average_order_value</th>\n",
       "    </tr>\n",
       "    <tr>\n",
       "      <th>userid</th>\n",
       "      <th></th>\n",
       "      <th></th>\n",
       "      <th></th>\n",
       "      <th></th>\n",
       "    </tr>\n",
       "  </thead>\n",
       "  <tbody>\n",
       "    <tr>\n",
       "      <th>0</th>\n",
       "      <td>336</td>\n",
       "      <td>6</td>\n",
       "      <td>46.4385</td>\n",
       "      <td>7.73975</td>\n",
       "    </tr>\n",
       "    <tr>\n",
       "      <th>1</th>\n",
       "      <td>345</td>\n",
       "      <td>1</td>\n",
       "      <td>9.4395</td>\n",
       "      <td>9.43950</td>\n",
       "    </tr>\n",
       "    <tr>\n",
       "      <th>2</th>\n",
       "      <td>122</td>\n",
       "      <td>1</td>\n",
       "      <td>2.0895</td>\n",
       "      <td>2.08950</td>\n",
       "    </tr>\n",
       "    <tr>\n",
       "      <th>3</th>\n",
       "      <td>277</td>\n",
       "      <td>1</td>\n",
       "      <td>4.1895</td>\n",
       "      <td>4.18950</td>\n",
       "    </tr>\n",
       "    <tr>\n",
       "      <th>4</th>\n",
       "      <td>280</td>\n",
       "      <td>3</td>\n",
       "      <td>20.1222</td>\n",
       "      <td>6.70740</td>\n",
       "    </tr>\n",
       "  </tbody>\n",
       "</table>\n",
       "</div>"
      ],
      "text/plain": [
       "        Recency  Frequency  Monetary  average_order_value\n",
       "userid                                                   \n",
       "0           336          6   46.4385              7.73975\n",
       "1           345          1    9.4395              9.43950\n",
       "2           122          1    2.0895              2.08950\n",
       "3           277          1    4.1895              4.18950\n",
       "4           280          3   20.1222              6.70740"
      ]
     },
     "execution_count": 24,
     "metadata": {},
     "output_type": "execute_result"
    }
   ],
   "source": [
    "rfm[\"average_order_value\"] = rfm[\"Monetary\"] / rfm[\"Frequency\"]\n",
    "rfm.head()"
   ]
  },
  {
   "cell_type": "markdown",
   "id": "69b76323",
   "metadata": {},
   "source": [
    "**2. Calculate Purchase Frequency**"
   ]
  },
  {
   "cell_type": "code",
   "execution_count": 25,
   "id": "ab3b6746",
   "metadata": {},
   "outputs": [
    {
     "name": "stdout",
     "output_type": "stream",
     "text": [
      "2.9968879668049793\n"
     ]
    }
   ],
   "source": [
    "purchase_frequency = rfm[\"Frequency\"].mean()\n",
    "print(purchase_frequency)"
   ]
  },
  {
   "cell_type": "markdown",
   "id": "d43125dd",
   "metadata": {},
   "source": [
    "**3. Calculate Repeat Rate**"
   ]
  },
  {
   "cell_type": "code",
   "execution_count": 26,
   "id": "863ee73c",
   "metadata": {},
   "outputs": [
    {
     "name": "stdout",
     "output_type": "stream",
     "text": [
      "0.45677731673582295\n"
     ]
    }
   ],
   "source": [
    "repeat_rate = rfm[rfm[\"Frequency\"] > 1].shape[0] / rfm.shape[0]\n",
    "print(repeat_rate)"
   ]
  },
  {
   "cell_type": "markdown",
   "id": "641c0c9b",
   "metadata": {},
   "source": [
    "**4. Calculate Churn Rate**"
   ]
  },
  {
   "cell_type": "code",
   "execution_count": 27,
   "id": "a0ff99e6",
   "metadata": {},
   "outputs": [
    {
     "name": "stdout",
     "output_type": "stream",
     "text": [
      "0.5432226832641771\n"
     ]
    }
   ],
   "source": [
    "churn_rate = 1 - repeat_rate\n",
    "print(churn_rate)"
   ]
  },
  {
   "cell_type": "markdown",
   "id": "ba9d5224",
   "metadata": {},
   "source": [
    "**5. Calculate Profit Margin**"
   ]
  },
  {
   "cell_type": "markdown",
   "id": "0090d604",
   "metadata": {},
   "source": [
    "Let's assume our business has approx 5% profit on the total sale."
   ]
  },
  {
   "cell_type": "code",
   "execution_count": 28,
   "id": "9095aeca",
   "metadata": {},
   "outputs": [
    {
     "data": {
      "text/html": [
       "<div>\n",
       "<style scoped>\n",
       "    .dataframe tbody tr th:only-of-type {\n",
       "        vertical-align: middle;\n",
       "    }\n",
       "\n",
       "    .dataframe tbody tr th {\n",
       "        vertical-align: top;\n",
       "    }\n",
       "\n",
       "    .dataframe thead th {\n",
       "        text-align: right;\n",
       "    }\n",
       "</style>\n",
       "<table border=\"1\" class=\"dataframe\">\n",
       "  <thead>\n",
       "    <tr style=\"text-align: right;\">\n",
       "      <th></th>\n",
       "      <th>Recency</th>\n",
       "      <th>Frequency</th>\n",
       "      <th>Monetary</th>\n",
       "      <th>average_order_value</th>\n",
       "      <th>profit_margin</th>\n",
       "    </tr>\n",
       "    <tr>\n",
       "      <th>userid</th>\n",
       "      <th></th>\n",
       "      <th></th>\n",
       "      <th></th>\n",
       "      <th></th>\n",
       "      <th></th>\n",
       "    </tr>\n",
       "  </thead>\n",
       "  <tbody>\n",
       "    <tr>\n",
       "      <th>2451</th>\n",
       "      <td>286</td>\n",
       "      <td>1</td>\n",
       "      <td>3.99000</td>\n",
       "      <td>3.99000</td>\n",
       "      <td>0.199500</td>\n",
       "    </tr>\n",
       "    <tr>\n",
       "      <th>2891</th>\n",
       "      <td>254</td>\n",
       "      <td>2</td>\n",
       "      <td>5.11000</td>\n",
       "      <td>2.55500</td>\n",
       "      <td>0.255500</td>\n",
       "    </tr>\n",
       "    <tr>\n",
       "      <th>1552</th>\n",
       "      <td>600</td>\n",
       "      <td>1</td>\n",
       "      <td>3.76950</td>\n",
       "      <td>3.76950</td>\n",
       "      <td>0.188475</td>\n",
       "    </tr>\n",
       "    <tr>\n",
       "      <th>2090</th>\n",
       "      <td>317</td>\n",
       "      <td>1</td>\n",
       "      <td>4.14592</td>\n",
       "      <td>4.14592</td>\n",
       "      <td>0.207296</td>\n",
       "    </tr>\n",
       "    <tr>\n",
       "      <th>538</th>\n",
       "      <td>123</td>\n",
       "      <td>2</td>\n",
       "      <td>5.22900</td>\n",
       "      <td>2.61450</td>\n",
       "      <td>0.261450</td>\n",
       "    </tr>\n",
       "  </tbody>\n",
       "</table>\n",
       "</div>"
      ],
      "text/plain": [
       "        Recency  Frequency  Monetary  average_order_value  profit_margin\n",
       "userid                                                                  \n",
       "2451        286          1   3.99000              3.99000       0.199500\n",
       "2891        254          2   5.11000              2.55500       0.255500\n",
       "1552        600          1   3.76950              3.76950       0.188475\n",
       "2090        317          1   4.14592              4.14592       0.207296\n",
       "538         123          2   5.22900              2.61450       0.261450"
      ]
     },
     "execution_count": 28,
     "metadata": {},
     "output_type": "execute_result"
    }
   ],
   "source": [
    "rfm[\"profit_margin\"] = rfm[\"Monetary\"] * 0.05\n",
    "rfm.sample(5)"
   ]
  },
  {
   "cell_type": "markdown",
   "id": "b04f6a0b",
   "metadata": {},
   "source": [
    "**6. Calcualte Customer Lifetime Value**"
   ]
  },
  {
   "cell_type": "code",
   "execution_count": 29,
   "id": "0b14d501",
   "metadata": {},
   "outputs": [
    {
     "data": {
      "text/html": [
       "<div>\n",
       "<style scoped>\n",
       "    .dataframe tbody tr th:only-of-type {\n",
       "        vertical-align: middle;\n",
       "    }\n",
       "\n",
       "    .dataframe tbody tr th {\n",
       "        vertical-align: top;\n",
       "    }\n",
       "\n",
       "    .dataframe thead th {\n",
       "        text-align: right;\n",
       "    }\n",
       "</style>\n",
       "<table border=\"1\" class=\"dataframe\">\n",
       "  <thead>\n",
       "    <tr style=\"text-align: right;\">\n",
       "      <th></th>\n",
       "      <th>Recency</th>\n",
       "      <th>Frequency</th>\n",
       "      <th>Monetary</th>\n",
       "      <th>average_order_value</th>\n",
       "      <th>profit_margin</th>\n",
       "      <th>customer_value</th>\n",
       "      <th>customer_lifetime_value</th>\n",
       "    </tr>\n",
       "    <tr>\n",
       "      <th>userid</th>\n",
       "      <th></th>\n",
       "      <th></th>\n",
       "      <th></th>\n",
       "      <th></th>\n",
       "      <th></th>\n",
       "      <th></th>\n",
       "      <th></th>\n",
       "    </tr>\n",
       "  </thead>\n",
       "  <tbody>\n",
       "    <tr>\n",
       "      <th>1610</th>\n",
       "      <td>417</td>\n",
       "      <td>1</td>\n",
       "      <td>3.9900</td>\n",
       "      <td>3.9900</td>\n",
       "      <td>0.199500</td>\n",
       "      <td>22.012304</td>\n",
       "      <td>4.391455</td>\n",
       "    </tr>\n",
       "    <tr>\n",
       "      <th>470</th>\n",
       "      <td>306</td>\n",
       "      <td>1</td>\n",
       "      <td>22.5500</td>\n",
       "      <td>22.5500</td>\n",
       "      <td>1.127500</td>\n",
       "      <td>124.405379</td>\n",
       "      <td>140.267065</td>\n",
       "    </tr>\n",
       "    <tr>\n",
       "      <th>718</th>\n",
       "      <td>356</td>\n",
       "      <td>1</td>\n",
       "      <td>4.1895</td>\n",
       "      <td>4.1895</td>\n",
       "      <td>0.209475</td>\n",
       "      <td>23.112919</td>\n",
       "      <td>4.841579</td>\n",
       "    </tr>\n",
       "    <tr>\n",
       "      <th>110</th>\n",
       "      <td>345</td>\n",
       "      <td>2</td>\n",
       "      <td>9.4290</td>\n",
       "      <td>4.7145</td>\n",
       "      <td>0.471450</td>\n",
       "      <td>26.009275</td>\n",
       "      <td>12.262073</td>\n",
       "    </tr>\n",
       "    <tr>\n",
       "      <th>881</th>\n",
       "      <td>277</td>\n",
       "      <td>1</td>\n",
       "      <td>1.0395</td>\n",
       "      <td>1.0395</td>\n",
       "      <td>0.051975</td>\n",
       "      <td>5.734785</td>\n",
       "      <td>0.298065</td>\n",
       "    </tr>\n",
       "  </tbody>\n",
       "</table>\n",
       "</div>"
      ],
      "text/plain": [
       "        Recency  Frequency  Monetary  average_order_value  profit_margin  \\\n",
       "userid                                                                     \n",
       "1610        417          1    3.9900               3.9900       0.199500   \n",
       "470         306          1   22.5500              22.5500       1.127500   \n",
       "718         356          1    4.1895               4.1895       0.209475   \n",
       "110         345          2    9.4290               4.7145       0.471450   \n",
       "881         277          1    1.0395               1.0395       0.051975   \n",
       "\n",
       "        customer_value  customer_lifetime_value  \n",
       "userid                                           \n",
       "1610         22.012304                 4.391455  \n",
       "470         124.405379               140.267065  \n",
       "718          23.112919                 4.841579  \n",
       "110          26.009275                12.262073  \n",
       "881           5.734785                 0.298065  "
      ]
     },
     "execution_count": 29,
     "metadata": {},
     "output_type": "execute_result"
    }
   ],
   "source": [
    "# Customer Value\n",
    "rfm[\"customer_value\"] = (rfm[\"average_order_value\"] * purchase_frequency) / churn_rate\n",
    "\n",
    "# Customer Lifetime Value\n",
    "rfm[\"customer_lifetime_value\"] = rfm[\"customer_value\"] * rfm[\"profit_margin\"]\n",
    "\n",
    "rfm.sample(5)"
   ]
  },
  {
   "cell_type": "markdown",
   "id": "ef6d37e0",
   "metadata": {},
   "source": [
    "**As our data is related to 2016-2017 so COVID-19 affect is not considered here**"
   ]
  },
  {
   "cell_type": "code",
   "execution_count": 30,
   "id": "5a993b78",
   "metadata": {},
   "outputs": [],
   "source": [
    "X = rfm[rfm.columns.drop(\"customer_lifetime_value\")]\n",
    "y = rfm[\"customer_lifetime_value\"]"
   ]
  },
  {
   "cell_type": "markdown",
   "id": "057aa687",
   "metadata": {},
   "source": [
    "**Split data into training set and testing set**"
   ]
  },
  {
   "cell_type": "code",
   "execution_count": 31,
   "id": "6666a3a7",
   "metadata": {},
   "outputs": [],
   "source": [
    "X_train, X_test, y_train, y_test = train_test_split(X,\n",
    "                                                    y,\n",
    "                                                    test_size = 0.2,\n",
    "                                                    random_state = 42)"
   ]
  },
  {
   "cell_type": "markdown",
   "id": "7aeeb760",
   "metadata": {},
   "source": [
    "**Scaling**"
   ]
  },
  {
   "cell_type": "code",
   "execution_count": 32,
   "id": "f2522a90",
   "metadata": {},
   "outputs": [],
   "source": [
    "scaler = RobustScaler()\n",
    "\n",
    "scaler_train = scaler.fit_transform(X_train)\n",
    "scaler_test = scaler.transform(X_test)"
   ]
  },
  {
   "cell_type": "markdown",
   "id": "f41fb62c",
   "metadata": {},
   "source": [
    "### Linear Regression"
   ]
  },
  {
   "cell_type": "code",
   "execution_count": 33,
   "id": "3f7491a0",
   "metadata": {},
   "outputs": [
    {
     "data": {
      "text/html": [
       "<div>\n",
       "<style scoped>\n",
       "    .dataframe tbody tr th:only-of-type {\n",
       "        vertical-align: middle;\n",
       "    }\n",
       "\n",
       "    .dataframe tbody tr th {\n",
       "        vertical-align: top;\n",
       "    }\n",
       "\n",
       "    .dataframe thead th {\n",
       "        text-align: right;\n",
       "    }\n",
       "</style>\n",
       "<table border=\"1\" class=\"dataframe\">\n",
       "  <thead>\n",
       "    <tr style=\"text-align: right;\">\n",
       "      <th></th>\n",
       "      <th>Actual</th>\n",
       "      <th>Predicted</th>\n",
       "    </tr>\n",
       "    <tr>\n",
       "      <th>userid</th>\n",
       "      <th></th>\n",
       "      <th></th>\n",
       "    </tr>\n",
       "  </thead>\n",
       "  <tbody>\n",
       "    <tr>\n",
       "      <th>2659</th>\n",
       "      <td>0.346018</td>\n",
       "      <td>0.000000</td>\n",
       "    </tr>\n",
       "    <tr>\n",
       "      <th>298</th>\n",
       "      <td>0.270354</td>\n",
       "      <td>0.000000</td>\n",
       "    </tr>\n",
       "    <tr>\n",
       "      <th>2530</th>\n",
       "      <td>341.482677</td>\n",
       "      <td>465.297639</td>\n",
       "    </tr>\n",
       "    <tr>\n",
       "      <th>2387</th>\n",
       "      <td>4.391455</td>\n",
       "      <td>8.023650</td>\n",
       "    </tr>\n",
       "    <tr>\n",
       "      <th>1463</th>\n",
       "      <td>1.538599</td>\n",
       "      <td>0.000000</td>\n",
       "    </tr>\n",
       "    <tr>\n",
       "      <th>...</th>\n",
       "      <td>...</td>\n",
       "      <td>...</td>\n",
       "    </tr>\n",
       "    <tr>\n",
       "      <th>820</th>\n",
       "      <td>1.224800</td>\n",
       "      <td>0.000000</td>\n",
       "    </tr>\n",
       "    <tr>\n",
       "      <th>109</th>\n",
       "      <td>7.445290</td>\n",
       "      <td>0.000000</td>\n",
       "    </tr>\n",
       "    <tr>\n",
       "      <th>2908</th>\n",
       "      <td>4.391455</td>\n",
       "      <td>11.128663</td>\n",
       "    </tr>\n",
       "    <tr>\n",
       "      <th>163</th>\n",
       "      <td>27.529200</td>\n",
       "      <td>99.290659</td>\n",
       "    </tr>\n",
       "    <tr>\n",
       "      <th>1942</th>\n",
       "      <td>1.092367</td>\n",
       "      <td>0.000000</td>\n",
       "    </tr>\n",
       "  </tbody>\n",
       "</table>\n",
       "<p>579 rows × 2 columns</p>\n",
       "</div>"
      ],
      "text/plain": [
       "            Actual   Predicted\n",
       "userid                        \n",
       "2659      0.346018    0.000000\n",
       "298       0.270354    0.000000\n",
       "2530    341.482677  465.297639\n",
       "2387      4.391455    8.023650\n",
       "1463      1.538599    0.000000\n",
       "...            ...         ...\n",
       "820       1.224800    0.000000\n",
       "109       7.445290    0.000000\n",
       "2908      4.391455   11.128663\n",
       "163      27.529200   99.290659\n",
       "1942      1.092367    0.000000\n",
       "\n",
       "[579 rows x 2 columns]"
      ]
     },
     "execution_count": 33,
     "metadata": {},
     "output_type": "execute_result"
    }
   ],
   "source": [
    "lr = LinearRegression()\n",
    "\n",
    "lr.fit(scaler_train, y_train)\n",
    "\n",
    "pred_lr = lr.predict(scaler_test)\n",
    "\n",
    "pred_lr = np.where(pred_lr < 0, 0, pred_lr)\n",
    "pd.DataFrame({\"Actual\": y_test,\n",
    "              \"Predicted\": pred_lr})"
   ]
  },
  {
   "cell_type": "markdown",
   "id": "d67c46bc",
   "metadata": {},
   "source": [
    "**Linear Regression Performance**"
   ]
  },
  {
   "cell_type": "code",
   "execution_count": 34,
   "id": "33ed456b",
   "metadata": {},
   "outputs": [
    {
     "name": "stdout",
     "output_type": "stream",
     "text": [
      "Linear Regression RMSE =  240.92249192904978 \n",
      "\n",
      "Linear Regression MSE =  58043.64711730306 \n",
      "\n",
      "Linear Regression R-Squared = 0.6300539290496038 \n",
      "\n",
      "Linear Regression MAE = 0.6300539290496038\n"
     ]
    }
   ],
   "source": [
    "# RMSE\n",
    "print(\"Linear Regression RMSE = \", mean_squared_error(y_test, pred_lr, squared = False), \"\\n\")\n",
    "\n",
    "# MSE\n",
    "print(\"Linear Regression MSE = \", mean_squared_error(y_test, pred_lr), \"\\n\")\n",
    "\n",
    "# R-Squared\n",
    "print(\"Linear Regression R-Squared =\", r2_score(y_test, pred_lr), \"\\n\")\n",
    "\n",
    "# MAE\n",
    "print(\"Linear Regression MAE =\", r2_score(y_test, pred_lr))"
   ]
  },
  {
   "cell_type": "markdown",
   "id": "06edb2f4",
   "metadata": {},
   "source": [
    "### Support Vector Machine"
   ]
  },
  {
   "cell_type": "code",
   "execution_count": 35,
   "id": "e6e9c9f8",
   "metadata": {},
   "outputs": [
    {
     "data": {
      "text/plain": [
       "{'C': 2, 'kernel': 'poly'}"
      ]
     },
     "execution_count": 35,
     "metadata": {},
     "output_type": "execute_result"
    }
   ],
   "source": [
    "params = {\"kernel\": [\"linear\", \"poly\", \"rbf\"],\n",
    "          \"C\": [0.001, 0.01, 0.1, 1, 2]}\n",
    "\n",
    "svr = SVR()\n",
    "\n",
    "cv_svr = GridSearchCV(svr, params)\n",
    "\n",
    "cv_svr.fit(scaler_train, y_train)\n",
    "\n",
    "cv_svr.best_params_"
   ]
  },
  {
   "cell_type": "code",
   "execution_count": 36,
   "id": "30020d98",
   "metadata": {},
   "outputs": [
    {
     "data": {
      "text/html": [
       "<div>\n",
       "<style scoped>\n",
       "    .dataframe tbody tr th:only-of-type {\n",
       "        vertical-align: middle;\n",
       "    }\n",
       "\n",
       "    .dataframe tbody tr th {\n",
       "        vertical-align: top;\n",
       "    }\n",
       "\n",
       "    .dataframe thead th {\n",
       "        text-align: right;\n",
       "    }\n",
       "</style>\n",
       "<table border=\"1\" class=\"dataframe\">\n",
       "  <thead>\n",
       "    <tr style=\"text-align: right;\">\n",
       "      <th></th>\n",
       "      <th>Actual</th>\n",
       "      <th>Predicted</th>\n",
       "    </tr>\n",
       "    <tr>\n",
       "      <th>userid</th>\n",
       "      <th></th>\n",
       "      <th></th>\n",
       "    </tr>\n",
       "  </thead>\n",
       "  <tbody>\n",
       "    <tr>\n",
       "      <th>2794</th>\n",
       "      <td>4.741377</td>\n",
       "      <td>4.939059</td>\n",
       "    </tr>\n",
       "    <tr>\n",
       "      <th>568</th>\n",
       "      <td>9.683158</td>\n",
       "      <td>4.947511</td>\n",
       "    </tr>\n",
       "    <tr>\n",
       "      <th>43</th>\n",
       "      <td>4.841579</td>\n",
       "      <td>4.954139</td>\n",
       "    </tr>\n",
       "    <tr>\n",
       "      <th>444</th>\n",
       "      <td>4.841579</td>\n",
       "      <td>4.939059</td>\n",
       "    </tr>\n",
       "    <tr>\n",
       "      <th>173</th>\n",
       "      <td>14.249797</td>\n",
       "      <td>4.806939</td>\n",
       "    </tr>\n",
       "    <tr>\n",
       "      <th>210</th>\n",
       "      <td>2.764233</td>\n",
       "      <td>4.929781</td>\n",
       "    </tr>\n",
       "    <tr>\n",
       "      <th>2715</th>\n",
       "      <td>1.204335</td>\n",
       "      <td>4.874426</td>\n",
       "    </tr>\n",
       "    <tr>\n",
       "      <th>1789</th>\n",
       "      <td>2.172675</td>\n",
       "      <td>4.890488</td>\n",
       "    </tr>\n",
       "    <tr>\n",
       "      <th>2740</th>\n",
       "      <td>15.563094</td>\n",
       "      <td>5.314425</td>\n",
       "    </tr>\n",
       "    <tr>\n",
       "      <th>461</th>\n",
       "      <td>4.932135</td>\n",
       "      <td>4.918184</td>\n",
       "    </tr>\n",
       "  </tbody>\n",
       "</table>\n",
       "</div>"
      ],
      "text/plain": [
       "           Actual  Predicted\n",
       "userid                      \n",
       "2794     4.741377   4.939059\n",
       "568      9.683158   4.947511\n",
       "43       4.841579   4.954139\n",
       "444      4.841579   4.939059\n",
       "173     14.249797   4.806939\n",
       "210      2.764233   4.929781\n",
       "2715     1.204335   4.874426\n",
       "1789     2.172675   4.890488\n",
       "2740    15.563094   5.314425\n",
       "461      4.932135   4.918184"
      ]
     },
     "execution_count": 36,
     "metadata": {},
     "output_type": "execute_result"
    }
   ],
   "source": [
    "svr = SVR(C = 2, kernel = \"poly\")\n",
    "\n",
    "svr.fit(scaler_train, y_train)\n",
    "\n",
    "pred_svr = svr.predict(scaler_test)\n",
    "pred_svr = np.where(pred_svr < 0, 0, pred_svr)\n",
    "pd.DataFrame({\"Actual\": y_test,\n",
    "              \"Predicted\": pred_svr}).sample(10)"
   ]
  },
  {
   "cell_type": "code",
   "execution_count": 37,
   "id": "3a7e9bcd",
   "metadata": {},
   "outputs": [
    {
     "name": "stdout",
     "output_type": "stream",
     "text": [
      "Support Vector Regression RMSE =  152.60890774215795 \n",
      "\n",
      "Support Vector Regression MSE =  23289.478722254476 \n",
      "\n",
      "Support Vector Regression R-Squared = 0.8515625468818537 \n",
      "\n",
      "Support Vector Regression MAE = 0.8515625468818537\n"
     ]
    }
   ],
   "source": [
    "# RMSE\n",
    "print(\"Support Vector Regression RMSE = \", mean_squared_error(y_test, pred_svr, squared = False), \"\\n\")\n",
    "\n",
    "# MSE\n",
    "print(\"Support Vector Regression MSE = \", mean_squared_error(y_test, pred_svr), \"\\n\")\n",
    "\n",
    "# R-Squared\n",
    "print(\"Support Vector Regression R-Squared =\", r2_score(y_test, pred_svr), \"\\n\")\n",
    "\n",
    "# MAE\n",
    "print(\"Support Vector Regression MAE =\", r2_score(y_test, pred_svr))"
   ]
  },
  {
   "cell_type": "markdown",
   "id": "50fa9867",
   "metadata": {},
   "source": [
    "### XGBoost Regression"
   ]
  },
  {
   "cell_type": "code",
   "execution_count": 38,
   "id": "6ffadfc5",
   "metadata": {},
   "outputs": [
    {
     "data": {
      "text/plain": [
       "{'learning_rate': 0.01, 'max_depth': 3, 'n_estimators': 500}"
      ]
     },
     "execution_count": 38,
     "metadata": {},
     "output_type": "execute_result"
    }
   ],
   "source": [
    "params = {'n_estimators': [100, 500, 900, 1100, 1500],\n",
    "          'max_depth': [3, 5, 10, 15],\n",
    "          'learning_rate': [0.01, 0.1, 1, 2]}\n",
    "\n",
    "xg = xgb.XGBRegressor()\n",
    "\n",
    "cv_xg = GridSearchCV(xg, params)\n",
    "\n",
    "cv_xg.fit(scaler_train, y_train)\n",
    "\n",
    "cv_xg.best_params_"
   ]
  },
  {
   "cell_type": "code",
   "execution_count": 39,
   "id": "dc3b77ac",
   "metadata": {},
   "outputs": [
    {
     "data": {
      "text/html": [
       "<div>\n",
       "<style scoped>\n",
       "    .dataframe tbody tr th:only-of-type {\n",
       "        vertical-align: middle;\n",
       "    }\n",
       "\n",
       "    .dataframe tbody tr th {\n",
       "        vertical-align: top;\n",
       "    }\n",
       "\n",
       "    .dataframe thead th {\n",
       "        text-align: right;\n",
       "    }\n",
       "</style>\n",
       "<table border=\"1\" class=\"dataframe\">\n",
       "  <thead>\n",
       "    <tr style=\"text-align: right;\">\n",
       "      <th></th>\n",
       "      <th>Actual</th>\n",
       "      <th>Predicted</th>\n",
       "    </tr>\n",
       "    <tr>\n",
       "      <th>userid</th>\n",
       "      <th></th>\n",
       "      <th></th>\n",
       "    </tr>\n",
       "  </thead>\n",
       "  <tbody>\n",
       "    <tr>\n",
       "      <th>1473</th>\n",
       "      <td>27.529200</td>\n",
       "      <td>38.115002</td>\n",
       "    </tr>\n",
       "    <tr>\n",
       "      <th>1734</th>\n",
       "      <td>4.391455</td>\n",
       "      <td>6.751856</td>\n",
       "    </tr>\n",
       "    <tr>\n",
       "      <th>322</th>\n",
       "      <td>1.350342</td>\n",
       "      <td>6.751856</td>\n",
       "    </tr>\n",
       "    <tr>\n",
       "      <th>394</th>\n",
       "      <td>29.718409</td>\n",
       "      <td>22.140223</td>\n",
       "    </tr>\n",
       "    <tr>\n",
       "      <th>697</th>\n",
       "      <td>136.739458</td>\n",
       "      <td>117.657265</td>\n",
       "    </tr>\n",
       "    <tr>\n",
       "      <th>1720</th>\n",
       "      <td>4.841579</td>\n",
       "      <td>6.751856</td>\n",
       "    </tr>\n",
       "    <tr>\n",
       "      <th>461</th>\n",
       "      <td>4.932135</td>\n",
       "      <td>6.751856</td>\n",
       "    </tr>\n",
       "    <tr>\n",
       "      <th>2931</th>\n",
       "      <td>8.799845</td>\n",
       "      <td>6.751856</td>\n",
       "    </tr>\n",
       "    <tr>\n",
       "      <th>1215</th>\n",
       "      <td>0.152214</td>\n",
       "      <td>6.751856</td>\n",
       "    </tr>\n",
       "    <tr>\n",
       "      <th>2591</th>\n",
       "      <td>20.390522</td>\n",
       "      <td>12.397822</td>\n",
       "    </tr>\n",
       "  </tbody>\n",
       "</table>\n",
       "</div>"
      ],
      "text/plain": [
       "            Actual   Predicted\n",
       "userid                        \n",
       "1473     27.529200   38.115002\n",
       "1734      4.391455    6.751856\n",
       "322       1.350342    6.751856\n",
       "394      29.718409   22.140223\n",
       "697     136.739458  117.657265\n",
       "1720      4.841579    6.751856\n",
       "461       4.932135    6.751856\n",
       "2931      8.799845    6.751856\n",
       "1215      0.152214    6.751856\n",
       "2591     20.390522   12.397822"
      ]
     },
     "execution_count": 39,
     "metadata": {},
     "output_type": "execute_result"
    }
   ],
   "source": [
    "xg = xgb.XGBRegressor(n_estimators = 500,\n",
    "                      learning_rate = 0.01,\n",
    "                      max_depth = 3)\n",
    "\n",
    "xg.fit(scaler_train, y_train)\n",
    "\n",
    "pred_xg = xg.predict(scaler_test)\n",
    "pred_xg = np.where(pred_xg < 0, 0, pred_xg)\n",
    "pd.DataFrame({\"Actual\": y_test,\n",
    "              \"Predicted\": pred_xg}).sample(10)"
   ]
  },
  {
   "cell_type": "code",
   "execution_count": 40,
   "id": "b9e17619",
   "metadata": {},
   "outputs": [
    {
     "name": "stdout",
     "output_type": "stream",
     "text": [
      "XGBoost Regression RMSE =  232.84142987872576 \n",
      "\n",
      "XGBoost Regression MSE =  54215.13146796957 \n",
      "\n",
      "XGBoost Regression R-Squared = 0.6544552958207281 \n",
      "\n",
      "XGBoost Regression MAE = 0.6544552958207281\n"
     ]
    }
   ],
   "source": [
    "# RMSE\n",
    "print(\"XGBoost Regression RMSE = \", mean_squared_error(y_test, pred_xg, squared = False), \"\\n\")\n",
    "\n",
    "# MSE\n",
    "print(\"XGBoost Regression MSE = \", mean_squared_error(y_test, pred_xg), \"\\n\")\n",
    "\n",
    "# R-Squared\n",
    "print(\"XGBoost Regression R-Squared =\", r2_score(y_test, pred_xg), \"\\n\")\n",
    "\n",
    "# MAE\n",
    "print(\"XGBoost Regression MAE =\", r2_score(y_test, pred_xg))"
   ]
  },
  {
   "cell_type": "markdown",
   "id": "0fbd7d47",
   "metadata": {},
   "source": [
    "### ANN"
   ]
  },
  {
   "cell_type": "code",
   "execution_count": 41,
   "id": "630392f4",
   "metadata": {},
   "outputs": [
    {
     "name": "stdout",
     "output_type": "stream",
     "text": [
      "Epoch 1/100\n",
      "73/73 [==============================] - 1s 2ms/step - loss: 117302.9219\n",
      "Epoch 2/100\n",
      "73/73 [==============================] - 0s 2ms/step - loss: 26989.8691\n",
      "Epoch 3/100\n",
      "73/73 [==============================] - 0s 2ms/step - loss: 18017.9883\n",
      "Epoch 4/100\n",
      "73/73 [==============================] - 0s 2ms/step - loss: 9364.3115\n",
      "Epoch 5/100\n",
      "73/73 [==============================] - 0s 2ms/step - loss: 4637.4468\n",
      "Epoch 6/100\n",
      "73/73 [==============================] - 0s 2ms/step - loss: 3508.8440\n",
      "Epoch 7/100\n",
      "73/73 [==============================] - 0s 2ms/step - loss: 7580.5596\n",
      "Epoch 8/100\n",
      "73/73 [==============================] - 0s 2ms/step - loss: 8445.7754\n",
      "Epoch 9/100\n",
      "73/73 [==============================] - 0s 2ms/step - loss: 2292.8855\n",
      "Epoch 10/100\n",
      "73/73 [==============================] - 0s 2ms/step - loss: 16142.9365\n",
      "Epoch 11/100\n",
      "73/73 [==============================] - 0s 2ms/step - loss: 2203.8577\n",
      "Epoch 12/100\n",
      "73/73 [==============================] - 0s 2ms/step - loss: 1529.7742\n",
      "Epoch 13/100\n",
      "73/73 [==============================] - 0s 2ms/step - loss: 1228.8925\n",
      "Epoch 14/100\n",
      "73/73 [==============================] - 0s 2ms/step - loss: 2340.9766\n",
      "Epoch 15/100\n",
      "73/73 [==============================] - 0s 2ms/step - loss: 3652.4487\n",
      "Epoch 16/100\n",
      "73/73 [==============================] - 0s 2ms/step - loss: 1192.8718\n",
      "Epoch 17/100\n",
      "73/73 [==============================] - 0s 2ms/step - loss: 826.9999\n",
      "Epoch 18/100\n",
      "73/73 [==============================] - 0s 2ms/step - loss: 1888.8761\n",
      "Epoch 19/100\n",
      "73/73 [==============================] - 0s 2ms/step - loss: 2990.3535\n",
      "Epoch 20/100\n",
      "73/73 [==============================] - 0s 2ms/step - loss: 805.3406\n",
      "Epoch 21/100\n",
      "73/73 [==============================] - 0s 2ms/step - loss: 424.9156\n",
      "Epoch 22/100\n",
      "73/73 [==============================] - 0s 2ms/step - loss: 271.7989\n",
      "Epoch 23/100\n",
      "73/73 [==============================] - 0s 2ms/step - loss: 945.0607\n",
      "Epoch 24/100\n",
      "73/73 [==============================] - 0s 2ms/step - loss: 13250.4482\n",
      "Epoch 25/100\n",
      "73/73 [==============================] - 0s 2ms/step - loss: 2781.5557\n",
      "Epoch 26/100\n",
      "73/73 [==============================] - 0s 2ms/step - loss: 10333.1182\n",
      "Epoch 27/100\n",
      "73/73 [==============================] - 0s 2ms/step - loss: 9302.5225\n",
      "Epoch 28/100\n",
      "73/73 [==============================] - 0s 2ms/step - loss: 523.4861\n",
      "Epoch 29/100\n",
      "73/73 [==============================] - 0s 2ms/step - loss: 646.5211\n",
      "Epoch 30/100\n",
      "73/73 [==============================] - 0s 2ms/step - loss: 973.7782\n",
      "Epoch 31/100\n",
      "73/73 [==============================] - 0s 2ms/step - loss: 2107.4438\n",
      "Epoch 32/100\n",
      "73/73 [==============================] - 0s 2ms/step - loss: 456.5340\n",
      "Epoch 33/100\n",
      "73/73 [==============================] - 0s 2ms/step - loss: 312.9782\n",
      "Epoch 34/100\n",
      "73/73 [==============================] - 0s 2ms/step - loss: 405.9164\n",
      "Epoch 35/100\n",
      "73/73 [==============================] - 0s 2ms/step - loss: 222.4011\n",
      "Epoch 36/100\n",
      "73/73 [==============================] - 0s 2ms/step - loss: 186.8394\n",
      "Epoch 37/100\n",
      "73/73 [==============================] - 0s 1ms/step - loss: 322.5481\n",
      "Epoch 38/100\n",
      "73/73 [==============================] - 0s 2ms/step - loss: 151.5416\n",
      "Epoch 39/100\n",
      "73/73 [==============================] - 0s 2ms/step - loss: 398.4989\n",
      "Epoch 40/100\n",
      "73/73 [==============================] - 0s 2ms/step - loss: 489.4912\n",
      "Epoch 41/100\n",
      "73/73 [==============================] - 0s 2ms/step - loss: 1191.9651\n",
      "Epoch 42/100\n",
      "73/73 [==============================] - 0s 2ms/step - loss: 312.1568\n",
      "Epoch 43/100\n",
      "73/73 [==============================] - 0s 2ms/step - loss: 165.9702\n",
      "Epoch 44/100\n",
      "73/73 [==============================] - 0s 2ms/step - loss: 275.2619\n",
      "Epoch 45/100\n",
      "73/73 [==============================] - 0s 2ms/step - loss: 176.7252\n",
      "Epoch 46/100\n",
      "73/73 [==============================] - 0s 2ms/step - loss: 225.5811\n",
      "Epoch 47/100\n",
      "73/73 [==============================] - 0s 2ms/step - loss: 763.3830\n",
      "Epoch 48/100\n",
      "73/73 [==============================] - 0s 2ms/step - loss: 3057.7900\n",
      "Epoch 49/100\n",
      "73/73 [==============================] - 0s 2ms/step - loss: 5129.2695\n",
      "Epoch 50/100\n",
      "73/73 [==============================] - 0s 2ms/step - loss: 1008.5092\n",
      "Epoch 51/100\n",
      "73/73 [==============================] - 0s 2ms/step - loss: 386.8195\n",
      "Epoch 52/100\n",
      "73/73 [==============================] - 0s 2ms/step - loss: 553.8040\n",
      "Epoch 53/100\n",
      "73/73 [==============================] - 0s 2ms/step - loss: 921.9879\n",
      "Epoch 54/100\n",
      "73/73 [==============================] - 0s 2ms/step - loss: 1878.3284\n",
      "Epoch 55/100\n",
      "73/73 [==============================] - 0s 2ms/step - loss: 565.5723\n",
      "Epoch 56/100\n",
      "73/73 [==============================] - 0s 2ms/step - loss: 5245.3228\n",
      "Epoch 57/100\n",
      "73/73 [==============================] - 0s 2ms/step - loss: 4263.4243\n",
      "Epoch 58/100\n",
      "73/73 [==============================] - 0s 1ms/step - loss: 292.1805\n",
      "Epoch 59/100\n",
      "73/73 [==============================] - 0s 2ms/step - loss: 641.0541\n",
      "Epoch 60/100\n",
      "73/73 [==============================] - 0s 2ms/step - loss: 430.9120\n",
      "Epoch 61/100\n",
      "73/73 [==============================] - 0s 2ms/step - loss: 960.0607\n",
      "Epoch 62/100\n",
      "73/73 [==============================] - 0s 2ms/step - loss: 156.2516\n",
      "Epoch 63/100\n",
      "73/73 [==============================] - 0s 2ms/step - loss: 447.0155\n",
      "Epoch 64/100\n",
      "73/73 [==============================] - 0s 2ms/step - loss: 157.0978\n",
      "Epoch 65/100\n",
      "73/73 [==============================] - 0s 2ms/step - loss: 898.7176\n",
      "Epoch 66/100\n",
      "73/73 [==============================] - 0s 2ms/step - loss: 372.1555\n",
      "Epoch 67/100\n",
      "73/73 [==============================] - 0s 2ms/step - loss: 217.6264\n",
      "Epoch 68/100\n",
      "73/73 [==============================] - 0s 2ms/step - loss: 92.9020\n",
      "Epoch 69/100\n",
      "73/73 [==============================] - 0s 2ms/step - loss: 76.2744\n",
      "Epoch 70/100\n",
      "73/73 [==============================] - 0s 2ms/step - loss: 415.8936\n",
      "Epoch 71/100\n",
      "73/73 [==============================] - 0s 2ms/step - loss: 82.5932\n",
      "Epoch 72/100\n",
      "73/73 [==============================] - 0s 1ms/step - loss: 120.3635\n",
      "Epoch 73/100\n",
      "73/73 [==============================] - 0s 2ms/step - loss: 124.6985\n",
      "Epoch 74/100\n",
      "73/73 [==============================] - 0s 2ms/step - loss: 30.2130\n",
      "Epoch 75/100\n",
      "73/73 [==============================] - 0s 2ms/step - loss: 441.9419\n",
      "Epoch 76/100\n",
      "73/73 [==============================] - 0s 1ms/step - loss: 5924.8486\n",
      "Epoch 77/100\n",
      "73/73 [==============================] - 0s 2ms/step - loss: 10920.1055\n",
      "Epoch 78/100\n",
      "73/73 [==============================] - 0s 2ms/step - loss: 598.5467\n",
      "Epoch 79/100\n",
      "73/73 [==============================] - 0s 2ms/step - loss: 702.5841\n",
      "Epoch 80/100\n",
      "73/73 [==============================] - 0s 2ms/step - loss: 1067.7778\n",
      "Epoch 81/100\n",
      "73/73 [==============================] - 0s 2ms/step - loss: 454.4884\n",
      "Epoch 82/100\n",
      "73/73 [==============================] - 0s 2ms/step - loss: 696.0587\n",
      "Epoch 83/100\n",
      "73/73 [==============================] - 0s 2ms/step - loss: 180.0921\n",
      "Epoch 84/100\n",
      "73/73 [==============================] - 0s 2ms/step - loss: 103.2453\n",
      "Epoch 85/100\n",
      "73/73 [==============================] - 0s 2ms/step - loss: 646.3111\n",
      "Epoch 86/100\n",
      "73/73 [==============================] - 0s 2ms/step - loss: 376.8776\n",
      "Epoch 87/100\n",
      "73/73 [==============================] - 0s 2ms/step - loss: 261.7157\n",
      "Epoch 88/100\n",
      "73/73 [==============================] - 0s 2ms/step - loss: 113.4808\n",
      "Epoch 89/100\n",
      "73/73 [==============================] - 0s 2ms/step - loss: 550.0778\n",
      "Epoch 90/100\n",
      "73/73 [==============================] - 0s 2ms/step - loss: 134.6326\n",
      "Epoch 91/100\n",
      "73/73 [==============================] - 0s 2ms/step - loss: 100.4323\n",
      "Epoch 92/100\n",
      "73/73 [==============================] - 0s 2ms/step - loss: 66.0398\n",
      "Epoch 93/100\n",
      "73/73 [==============================] - 0s 2ms/step - loss: 311.1561\n",
      "Epoch 94/100\n",
      "73/73 [==============================] - 0s 2ms/step - loss: 200.6994\n",
      "Epoch 95/100\n",
      "73/73 [==============================] - 0s 2ms/step - loss: 220.7751\n",
      "Epoch 96/100\n",
      "73/73 [==============================] - 0s 2ms/step - loss: 187.9381\n",
      "Epoch 97/100\n",
      "73/73 [==============================] - 0s 1ms/step - loss: 65.3466\n",
      "Epoch 98/100\n",
      "73/73 [==============================] - 0s 2ms/step - loss: 122.8952\n",
      "Epoch 99/100\n",
      "73/73 [==============================] - 0s 2ms/step - loss: 36.3241\n",
      "Epoch 100/100\n",
      "73/73 [==============================] - 0s 2ms/step - loss: 67.1521\n"
     ]
    },
    {
     "data": {
      "text/plain": [
       "<keras.callbacks.History at 0x260a94c3400>"
      ]
     },
     "execution_count": 41,
     "metadata": {},
     "output_type": "execute_result"
    }
   ],
   "source": [
    "model = Sequential()\n",
    "\n",
    "model.add(Dense(50, activation = \"relu\", input_dim = 6))\n",
    "model.add(Dense(50, activation = \"relu\"))\n",
    "model.add(Dense(50, activation = \"relu\"))\n",
    "model.add(Dense(50, activation = \"relu\"))\n",
    "model.add(Dense(50, activation = \"relu\"))\n",
    "model.add(Dense(1))\n",
    "\n",
    "model.compile(optimizer = \"adam\", loss = \"mean_squared_error\")\n",
    "model.fit(scaler_train, y_train, epochs = 100)"
   ]
  },
  {
   "cell_type": "code",
   "execution_count": 42,
   "id": "a1f5ea11",
   "metadata": {},
   "outputs": [],
   "source": [
    "pred = model.predict(scaler_test)"
   ]
  },
  {
   "cell_type": "code",
   "execution_count": 43,
   "id": "8b5bce48",
   "metadata": {},
   "outputs": [
    {
     "data": {
      "text/html": [
       "<div>\n",
       "<style scoped>\n",
       "    .dataframe tbody tr th:only-of-type {\n",
       "        vertical-align: middle;\n",
       "    }\n",
       "\n",
       "    .dataframe tbody tr th {\n",
       "        vertical-align: top;\n",
       "    }\n",
       "\n",
       "    .dataframe thead th {\n",
       "        text-align: right;\n",
       "    }\n",
       "</style>\n",
       "<table border=\"1\" class=\"dataframe\">\n",
       "  <thead>\n",
       "    <tr style=\"text-align: right;\">\n",
       "      <th></th>\n",
       "      <th>Actual</th>\n",
       "      <th>Predicted</th>\n",
       "    </tr>\n",
       "    <tr>\n",
       "      <th>userid</th>\n",
       "      <th></th>\n",
       "      <th></th>\n",
       "    </tr>\n",
       "  </thead>\n",
       "  <tbody>\n",
       "    <tr>\n",
       "      <th>1218</th>\n",
       "      <td>0.270354</td>\n",
       "      <td>0.569180</td>\n",
       "    </tr>\n",
       "    <tr>\n",
       "      <th>2695</th>\n",
       "      <td>4.391455</td>\n",
       "      <td>4.524377</td>\n",
       "    </tr>\n",
       "    <tr>\n",
       "      <th>2072</th>\n",
       "      <td>4.741377</td>\n",
       "      <td>4.602316</td>\n",
       "    </tr>\n",
       "    <tr>\n",
       "      <th>751</th>\n",
       "      <td>4.841579</td>\n",
       "      <td>4.929907</td>\n",
       "    </tr>\n",
       "    <tr>\n",
       "      <th>2587</th>\n",
       "      <td>0.210233</td>\n",
       "      <td>0.530634</td>\n",
       "    </tr>\n",
       "    <tr>\n",
       "      <th>793</th>\n",
       "      <td>1.204335</td>\n",
       "      <td>0.811459</td>\n",
       "    </tr>\n",
       "    <tr>\n",
       "      <th>533</th>\n",
       "      <td>27.529200</td>\n",
       "      <td>35.676849</td>\n",
       "    </tr>\n",
       "    <tr>\n",
       "      <th>2482</th>\n",
       "      <td>4.391455</td>\n",
       "      <td>4.129657</td>\n",
       "    </tr>\n",
       "    <tr>\n",
       "      <th>2365</th>\n",
       "      <td>174.879769</td>\n",
       "      <td>174.614914</td>\n",
       "    </tr>\n",
       "    <tr>\n",
       "      <th>2175</th>\n",
       "      <td>4.391455</td>\n",
       "      <td>3.975312</td>\n",
       "    </tr>\n",
       "  </tbody>\n",
       "</table>\n",
       "</div>"
      ],
      "text/plain": [
       "            Actual   Predicted\n",
       "userid                        \n",
       "1218      0.270354    0.569180\n",
       "2695      4.391455    4.524377\n",
       "2072      4.741377    4.602316\n",
       "751       4.841579    4.929907\n",
       "2587      0.210233    0.530634\n",
       "793       1.204335    0.811459\n",
       "533      27.529200   35.676849\n",
       "2482      4.391455    4.129657\n",
       "2365    174.879769  174.614914\n",
       "2175      4.391455    3.975312"
      ]
     },
     "execution_count": 43,
     "metadata": {},
     "output_type": "execute_result"
    }
   ],
   "source": [
    "pd.DataFrame({\"Actual\": y_test,\n",
    "             \"Predicted\": pred.flatten()}).sample(10)"
   ]
  },
  {
   "cell_type": "markdown",
   "id": "79ab3a1a",
   "metadata": {},
   "source": [
    "**Performance of ANN**"
   ]
  },
  {
   "cell_type": "code",
   "execution_count": 44,
   "id": "2bf5f7e9",
   "metadata": {},
   "outputs": [
    {
     "name": "stdout",
     "output_type": "stream",
     "text": [
      "XGBoost Regression RMSE =  102.59798466684002 \n",
      "\n",
      "XGBoost Regression MSE =  10526.34645769714 \n",
      "\n",
      "XGBoost Regression R-Squared = 0.9329094447559825 \n",
      "\n",
      "XGBoost Regression MAE = 0.9329094447559825\n"
     ]
    }
   ],
   "source": [
    "# RMSE\n",
    "print(\"XGBoost Regression RMSE = \", mean_squared_error(y_test, pred, squared = False), \"\\n\")\n",
    "\n",
    "# MSE\n",
    "print(\"XGBoost Regression MSE = \", mean_squared_error(y_test, pred), \"\\n\")\n",
    "\n",
    "# R-Squared\n",
    "print(\"XGBoost Regression R-Squared =\", r2_score(y_test, pred), \"\\n\")\n",
    "\n",
    "# MAE\n",
    "print(\"XGBoost Regression MAE =\", r2_score(y_test, pred))"
   ]
  },
  {
   "cell_type": "code",
   "execution_count": null,
   "id": "2d1a4dfb",
   "metadata": {},
   "outputs": [],
   "source": []
  }
 ],
 "metadata": {
  "kernelspec": {
   "display_name": "Python 3",
   "language": "python",
   "name": "python3"
  },
  "language_info": {
   "codemirror_mode": {
    "name": "ipython",
    "version": 3
   },
   "file_extension": ".py",
   "mimetype": "text/x-python",
   "name": "python",
   "nbconvert_exporter": "python",
   "pygments_lexer": "ipython3",
   "version": "3.8.8"
  }
 },
 "nbformat": 4,
 "nbformat_minor": 5
}
