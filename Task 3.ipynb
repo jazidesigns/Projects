{
 "cells": [
  {
   "cell_type": "markdown",
   "id": "241b11bd",
   "metadata": {},
   "source": [
    "### Import Libraries"
   ]
  },
  {
   "cell_type": "code",
   "execution_count": 21,
   "id": "a71b7bfe",
   "metadata": {},
   "outputs": [],
   "source": [
    "import pandas as pd\n",
    "import numpy as np\n",
    "from scipy.stats import kstest, mannwhitneyu\n",
    "import matplotlib.pyplot as plt"
   ]
  },
  {
   "cell_type": "markdown",
   "id": "afa33367",
   "metadata": {},
   "source": [
    "### Import Dataset"
   ]
  },
  {
   "cell_type": "code",
   "execution_count": 2,
   "id": "0c7ea74c",
   "metadata": {},
   "outputs": [
    {
     "data": {
      "text/html": [
       "<div>\n",
       "<style scoped>\n",
       "    .dataframe tbody tr th:only-of-type {\n",
       "        vertical-align: middle;\n",
       "    }\n",
       "\n",
       "    .dataframe tbody tr th {\n",
       "        vertical-align: top;\n",
       "    }\n",
       "\n",
       "    .dataframe thead th {\n",
       "        text-align: right;\n",
       "    }\n",
       "</style>\n",
       "<table border=\"1\" class=\"dataframe\">\n",
       "  <thead>\n",
       "    <tr style=\"text-align: right;\">\n",
       "      <th></th>\n",
       "      <th>subject</th>\n",
       "      <th>School</th>\n",
       "      <th>Total</th>\n",
       "      <th>pl1</th>\n",
       "      <th>pk2</th>\n",
       "      <th>pv3</th>\n",
       "      <th>pr4</th>\n",
       "      <th>px5</th>\n",
       "      <th>Total_%</th>\n",
       "      <th>gender</th>\n",
       "      <th>municipality</th>\n",
       "      <th>urban</th>\n",
       "      <th>tips</th>\n",
       "      <th>language</th>\n",
       "    </tr>\n",
       "  </thead>\n",
       "  <tbody>\n",
       "    <tr>\n",
       "      <th>0</th>\n",
       "      <td>LV9</td>\n",
       "      <td>Rīgas un visas Latvijas Metropolīta Aleksandra...</td>\n",
       "      <td>87.0</td>\n",
       "      <td>56.6667</td>\n",
       "      <td>63.3333</td>\n",
       "      <td>53.3333</td>\n",
       "      <td>60.0000</td>\n",
       "      <td>58.3333</td>\n",
       "      <td>58.0000</td>\n",
       "      <td>1</td>\n",
       "      <td>101</td>\n",
       "      <td>4</td>\n",
       "      <td>2</td>\n",
       "      <td>3</td>\n",
       "    </tr>\n",
       "    <tr>\n",
       "      <th>1</th>\n",
       "      <td>LV9</td>\n",
       "      <td>Rīgas un visas Latvijas Metropolīta Aleksandra...</td>\n",
       "      <td>104.0</td>\n",
       "      <td>70.0000</td>\n",
       "      <td>76.6667</td>\n",
       "      <td>63.3333</td>\n",
       "      <td>68.3333</td>\n",
       "      <td>70.0000</td>\n",
       "      <td>69.3333</td>\n",
       "      <td>2</td>\n",
       "      <td>101</td>\n",
       "      <td>4</td>\n",
       "      <td>2</td>\n",
       "      <td>3</td>\n",
       "    </tr>\n",
       "    <tr>\n",
       "      <th>2</th>\n",
       "      <td>LV9</td>\n",
       "      <td>Rīgas un visas Latvijas Metropolīta Aleksandra...</td>\n",
       "      <td>134.0</td>\n",
       "      <td>90.0000</td>\n",
       "      <td>90.0000</td>\n",
       "      <td>86.6667</td>\n",
       "      <td>90.0000</td>\n",
       "      <td>90.0000</td>\n",
       "      <td>89.3333</td>\n",
       "      <td>2</td>\n",
       "      <td>101</td>\n",
       "      <td>4</td>\n",
       "      <td>2</td>\n",
       "      <td>3</td>\n",
       "    </tr>\n",
       "    <tr>\n",
       "      <th>3</th>\n",
       "      <td>LV9</td>\n",
       "      <td>Rīgas un visas Latvijas Metropolīta Aleksandra...</td>\n",
       "      <td>65.0</td>\n",
       "      <td>33.3333</td>\n",
       "      <td>46.6667</td>\n",
       "      <td>36.6667</td>\n",
       "      <td>51.6667</td>\n",
       "      <td>50.0000</td>\n",
       "      <td>43.3333</td>\n",
       "      <td>1</td>\n",
       "      <td>101</td>\n",
       "      <td>4</td>\n",
       "      <td>2</td>\n",
       "      <td>3</td>\n",
       "    </tr>\n",
       "    <tr>\n",
       "      <th>4</th>\n",
       "      <td>LV9</td>\n",
       "      <td>Rīgas un visas Latvijas Metropolīta Aleksandra...</td>\n",
       "      <td>113.0</td>\n",
       "      <td>83.3333</td>\n",
       "      <td>83.3333</td>\n",
       "      <td>76.6667</td>\n",
       "      <td>81.6667</td>\n",
       "      <td>53.3333</td>\n",
       "      <td>75.3333</td>\n",
       "      <td>1</td>\n",
       "      <td>101</td>\n",
       "      <td>4</td>\n",
       "      <td>2</td>\n",
       "      <td>3</td>\n",
       "    </tr>\n",
       "  </tbody>\n",
       "</table>\n",
       "</div>"
      ],
      "text/plain": [
       "  subject                                             School  Total      pl1  \\\n",
       "0     LV9  Rīgas un visas Latvijas Metropolīta Aleksandra...   87.0  56.6667   \n",
       "1     LV9  Rīgas un visas Latvijas Metropolīta Aleksandra...  104.0  70.0000   \n",
       "2     LV9  Rīgas un visas Latvijas Metropolīta Aleksandra...  134.0  90.0000   \n",
       "3     LV9  Rīgas un visas Latvijas Metropolīta Aleksandra...   65.0  33.3333   \n",
       "4     LV9  Rīgas un visas Latvijas Metropolīta Aleksandra...  113.0  83.3333   \n",
       "\n",
       "       pk2      pv3      pr4      px5  Total_%  gender  municipality  urban  \\\n",
       "0  63.3333  53.3333  60.0000  58.3333  58.0000       1           101      4   \n",
       "1  76.6667  63.3333  68.3333  70.0000  69.3333       2           101      4   \n",
       "2  90.0000  86.6667  90.0000  90.0000  89.3333       2           101      4   \n",
       "3  46.6667  36.6667  51.6667  50.0000  43.3333       1           101      4   \n",
       "4  83.3333  76.6667  81.6667  53.3333  75.3333       1           101      4   \n",
       "\n",
       "   tips language  \n",
       "0     2        3  \n",
       "1     2        3  \n",
       "2     2        3  \n",
       "3     2        3  \n",
       "4     2        3  "
      ]
     },
     "execution_count": 2,
     "metadata": {},
     "output_type": "execute_result"
    }
   ],
   "source": [
    "df = pd.read_excel(\"Exams_2019 (1).xlsx\")\n",
    "df.head()"
   ]
  },
  {
   "cell_type": "markdown",
   "id": "bfeda82e",
   "metadata": {},
   "source": [
    "### Math Subject Marks by Primary School Boys"
   ]
  },
  {
   "cell_type": "code",
   "execution_count": 3,
   "id": "4db3a317",
   "metadata": {},
   "outputs": [
    {
     "data": {
      "text/html": [
       "<div>\n",
       "<style scoped>\n",
       "    .dataframe tbody tr th:only-of-type {\n",
       "        vertical-align: middle;\n",
       "    }\n",
       "\n",
       "    .dataframe tbody tr th {\n",
       "        vertical-align: top;\n",
       "    }\n",
       "\n",
       "    .dataframe thead th {\n",
       "        text-align: right;\n",
       "    }\n",
       "</style>\n",
       "<table border=\"1\" class=\"dataframe\">\n",
       "  <thead>\n",
       "    <tr style=\"text-align: right;\">\n",
       "      <th></th>\n",
       "      <th>subject</th>\n",
       "      <th>School</th>\n",
       "      <th>Total</th>\n",
       "      <th>pl1</th>\n",
       "      <th>pk2</th>\n",
       "      <th>pv3</th>\n",
       "      <th>pr4</th>\n",
       "      <th>px5</th>\n",
       "      <th>Total_%</th>\n",
       "      <th>gender</th>\n",
       "      <th>municipality</th>\n",
       "      <th>urban</th>\n",
       "      <th>tips</th>\n",
       "      <th>language</th>\n",
       "    </tr>\n",
       "  </thead>\n",
       "  <tbody>\n",
       "  </tbody>\n",
       "</table>\n",
       "</div>"
      ],
      "text/plain": [
       "Empty DataFrame\n",
       "Columns: [subject, School, Total, pl1, pk2, pv3, pr4, px5, Total_%, gender, municipality, urban, tips, language]\n",
       "Index: []"
      ]
     },
     "execution_count": 3,
     "metadata": {},
     "output_type": "execute_result"
    }
   ],
   "source": [
    "dfmpb = df[(df[\"subject\"] == \"MAT\") & (df[\"gender\"] == 1) & (df[\"tips\"] == 2)]\n",
    "dfmpb"
   ]
  },
  {
   "cell_type": "markdown",
   "id": "4c16bb7b",
   "metadata": {},
   "source": [
    "### Math Subject Marks by High School Boys"
   ]
  },
  {
   "cell_type": "code",
   "execution_count": 4,
   "id": "10763f29",
   "metadata": {},
   "outputs": [
    {
     "data": {
      "text/html": [
       "<div>\n",
       "<style scoped>\n",
       "    .dataframe tbody tr th:only-of-type {\n",
       "        vertical-align: middle;\n",
       "    }\n",
       "\n",
       "    .dataframe tbody tr th {\n",
       "        vertical-align: top;\n",
       "    }\n",
       "\n",
       "    .dataframe thead th {\n",
       "        text-align: right;\n",
       "    }\n",
       "</style>\n",
       "<table border=\"1\" class=\"dataframe\">\n",
       "  <thead>\n",
       "    <tr style=\"text-align: right;\">\n",
       "      <th></th>\n",
       "      <th>subject</th>\n",
       "      <th>School</th>\n",
       "      <th>Total</th>\n",
       "      <th>pl1</th>\n",
       "      <th>pk2</th>\n",
       "      <th>pv3</th>\n",
       "      <th>pr4</th>\n",
       "      <th>px5</th>\n",
       "      <th>Total_%</th>\n",
       "      <th>gender</th>\n",
       "      <th>municipality</th>\n",
       "      <th>urban</th>\n",
       "      <th>tips</th>\n",
       "      <th>language</th>\n",
       "    </tr>\n",
       "  </thead>\n",
       "  <tbody>\n",
       "    <tr>\n",
       "      <th>30</th>\n",
       "      <td>MAT</td>\n",
       "      <td>Aglonas vidusskola</td>\n",
       "      <td>17.0</td>\n",
       "      <td>40.0</td>\n",
       "      <td>17.5</td>\n",
       "      <td>0.0000</td>\n",
       "      <td>NaN</td>\n",
       "      <td>NaN</td>\n",
       "      <td>21.250</td>\n",
       "      <td>1</td>\n",
       "      <td>101</td>\n",
       "      <td>4</td>\n",
       "      <td>3</td>\n",
       "      <td>1</td>\n",
       "    </tr>\n",
       "    <tr>\n",
       "      <th>34</th>\n",
       "      <td>MAT</td>\n",
       "      <td>Aglonas vidusskola</td>\n",
       "      <td>19.5</td>\n",
       "      <td>24.0</td>\n",
       "      <td>30.0</td>\n",
       "      <td>10.0000</td>\n",
       "      <td>NaN</td>\n",
       "      <td>NaN</td>\n",
       "      <td>24.375</td>\n",
       "      <td>1</td>\n",
       "      <td>101</td>\n",
       "      <td>4</td>\n",
       "      <td>3</td>\n",
       "      <td>1</td>\n",
       "    </tr>\n",
       "    <tr>\n",
       "      <th>42</th>\n",
       "      <td>MAT</td>\n",
       "      <td>Aglonas vidusskola</td>\n",
       "      <td>40.0</td>\n",
       "      <td>60.0</td>\n",
       "      <td>62.5</td>\n",
       "      <td>0.0000</td>\n",
       "      <td>NaN</td>\n",
       "      <td>NaN</td>\n",
       "      <td>50.000</td>\n",
       "      <td>1</td>\n",
       "      <td>101</td>\n",
       "      <td>4</td>\n",
       "      <td>3</td>\n",
       "      <td>1</td>\n",
       "    </tr>\n",
       "    <tr>\n",
       "      <th>46</th>\n",
       "      <td>MAT</td>\n",
       "      <td>Aglonas vidusskola</td>\n",
       "      <td>39.0</td>\n",
       "      <td>48.0</td>\n",
       "      <td>67.5</td>\n",
       "      <td>0.0000</td>\n",
       "      <td>NaN</td>\n",
       "      <td>NaN</td>\n",
       "      <td>48.750</td>\n",
       "      <td>1</td>\n",
       "      <td>101</td>\n",
       "      <td>4</td>\n",
       "      <td>3</td>\n",
       "      <td>1</td>\n",
       "    </tr>\n",
       "    <tr>\n",
       "      <th>59</th>\n",
       "      <td>MAT</td>\n",
       "      <td>Aglonas vidusskola</td>\n",
       "      <td>35.0</td>\n",
       "      <td>44.0</td>\n",
       "      <td>57.5</td>\n",
       "      <td>6.6667</td>\n",
       "      <td>NaN</td>\n",
       "      <td>NaN</td>\n",
       "      <td>43.750</td>\n",
       "      <td>1</td>\n",
       "      <td>101</td>\n",
       "      <td>4</td>\n",
       "      <td>3</td>\n",
       "      <td>1</td>\n",
       "    </tr>\n",
       "  </tbody>\n",
       "</table>\n",
       "</div>"
      ],
      "text/plain": [
       "   subject              School  Total   pl1   pk2      pv3  pr4  px5  Total_%  \\\n",
       "30     MAT  Aglonas vidusskola   17.0  40.0  17.5   0.0000  NaN  NaN   21.250   \n",
       "34     MAT  Aglonas vidusskola   19.5  24.0  30.0  10.0000  NaN  NaN   24.375   \n",
       "42     MAT  Aglonas vidusskola   40.0  60.0  62.5   0.0000  NaN  NaN   50.000   \n",
       "46     MAT  Aglonas vidusskola   39.0  48.0  67.5   0.0000  NaN  NaN   48.750   \n",
       "59     MAT  Aglonas vidusskola   35.0  44.0  57.5   6.6667  NaN  NaN   43.750   \n",
       "\n",
       "    gender  municipality  urban  tips language  \n",
       "30       1           101      4     3        1  \n",
       "34       1           101      4     3        1  \n",
       "42       1           101      4     3        1  \n",
       "46       1           101      4     3        1  \n",
       "59       1           101      4     3        1  "
      ]
     },
     "execution_count": 4,
     "metadata": {},
     "output_type": "execute_result"
    }
   ],
   "source": [
    "dfmhb = df[(df[\"subject\"] == \"MAT\") & (df[\"gender\"] == 1) & (df[\"tips\"] == 3)]\n",
    "dfmhb.head()"
   ]
  },
  {
   "cell_type": "markdown",
   "id": "c6b7396d",
   "metadata": {},
   "source": [
    "**Descriptive Statistics of Math Subject Marks by High School Boys**"
   ]
  },
  {
   "cell_type": "code",
   "execution_count": 9,
   "id": "c9805874",
   "metadata": {},
   "outputs": [
    {
     "data": {
      "text/html": [
       "<div>\n",
       "<style scoped>\n",
       "    .dataframe tbody tr th:only-of-type {\n",
       "        vertical-align: middle;\n",
       "    }\n",
       "\n",
       "    .dataframe tbody tr th {\n",
       "        vertical-align: top;\n",
       "    }\n",
       "\n",
       "    .dataframe thead th {\n",
       "        text-align: right;\n",
       "    }\n",
       "</style>\n",
       "<table border=\"1\" class=\"dataframe\">\n",
       "  <thead>\n",
       "    <tr style=\"text-align: right;\">\n",
       "      <th></th>\n",
       "      <th>Total</th>\n",
       "    </tr>\n",
       "  </thead>\n",
       "  <tbody>\n",
       "    <tr>\n",
       "      <th>count</th>\n",
       "      <td>2646.00</td>\n",
       "    </tr>\n",
       "    <tr>\n",
       "      <th>mean</th>\n",
       "      <td>29.41</td>\n",
       "    </tr>\n",
       "    <tr>\n",
       "      <th>std</th>\n",
       "      <td>16.00</td>\n",
       "    </tr>\n",
       "    <tr>\n",
       "      <th>min</th>\n",
       "      <td>1.00</td>\n",
       "    </tr>\n",
       "    <tr>\n",
       "      <th>25%</th>\n",
       "      <td>17.00</td>\n",
       "    </tr>\n",
       "    <tr>\n",
       "      <th>50%</th>\n",
       "      <td>26.00</td>\n",
       "    </tr>\n",
       "    <tr>\n",
       "      <th>75%</th>\n",
       "      <td>39.50</td>\n",
       "    </tr>\n",
       "    <tr>\n",
       "      <th>max</th>\n",
       "      <td>80.00</td>\n",
       "    </tr>\n",
       "    <tr>\n",
       "      <th>var</th>\n",
       "      <td>255.92</td>\n",
       "    </tr>\n",
       "  </tbody>\n",
       "</table>\n",
       "</div>"
      ],
      "text/plain": [
       "         Total\n",
       "count  2646.00\n",
       "mean     29.41\n",
       "std      16.00\n",
       "min       1.00\n",
       "25%      17.00\n",
       "50%      26.00\n",
       "75%      39.50\n",
       "max      80.00\n",
       "var     255.92"
      ]
     },
     "execution_count": 9,
     "metadata": {},
     "output_type": "execute_result"
    }
   ],
   "source": [
    "stats_boys = dfmhb[\"Total\"].describe().to_frame()\n",
    "stats_boys.loc[\"var\"] = np.var(dfmhb[\"Total\"])\n",
    "stats_boys.round(2)"
   ]
  },
  {
   "cell_type": "markdown",
   "id": "704b9e46",
   "metadata": {},
   "source": [
    "### Math Subject Marks by Primary School Girls"
   ]
  },
  {
   "cell_type": "code",
   "execution_count": 10,
   "id": "7c54a8a5",
   "metadata": {},
   "outputs": [
    {
     "data": {
      "text/html": [
       "<div>\n",
       "<style scoped>\n",
       "    .dataframe tbody tr th:only-of-type {\n",
       "        vertical-align: middle;\n",
       "    }\n",
       "\n",
       "    .dataframe tbody tr th {\n",
       "        vertical-align: top;\n",
       "    }\n",
       "\n",
       "    .dataframe thead th {\n",
       "        text-align: right;\n",
       "    }\n",
       "</style>\n",
       "<table border=\"1\" class=\"dataframe\">\n",
       "  <thead>\n",
       "    <tr style=\"text-align: right;\">\n",
       "      <th></th>\n",
       "      <th>subject</th>\n",
       "      <th>School</th>\n",
       "      <th>Total</th>\n",
       "      <th>pl1</th>\n",
       "      <th>pk2</th>\n",
       "      <th>pv3</th>\n",
       "      <th>pr4</th>\n",
       "      <th>px5</th>\n",
       "      <th>Total_%</th>\n",
       "      <th>gender</th>\n",
       "      <th>municipality</th>\n",
       "      <th>urban</th>\n",
       "      <th>tips</th>\n",
       "      <th>language</th>\n",
       "    </tr>\n",
       "  </thead>\n",
       "  <tbody>\n",
       "  </tbody>\n",
       "</table>\n",
       "</div>"
      ],
      "text/plain": [
       "Empty DataFrame\n",
       "Columns: [subject, School, Total, pl1, pk2, pv3, pr4, px5, Total_%, gender, municipality, urban, tips, language]\n",
       "Index: []"
      ]
     },
     "execution_count": 10,
     "metadata": {},
     "output_type": "execute_result"
    }
   ],
   "source": [
    "dfmpg = df[(df[\"subject\"] == \"MAT\") & (df[\"gender\"] == 2) & (df[\"tips\"] == 2)]\n",
    "dfmpg"
   ]
  },
  {
   "cell_type": "markdown",
   "id": "e026d22a",
   "metadata": {},
   "source": [
    "### Math Subject Marks by High School Girls"
   ]
  },
  {
   "cell_type": "code",
   "execution_count": 11,
   "id": "2180d191",
   "metadata": {},
   "outputs": [
    {
     "data": {
      "text/html": [
       "<div>\n",
       "<style scoped>\n",
       "    .dataframe tbody tr th:only-of-type {\n",
       "        vertical-align: middle;\n",
       "    }\n",
       "\n",
       "    .dataframe tbody tr th {\n",
       "        vertical-align: top;\n",
       "    }\n",
       "\n",
       "    .dataframe thead th {\n",
       "        text-align: right;\n",
       "    }\n",
       "</style>\n",
       "<table border=\"1\" class=\"dataframe\">\n",
       "  <thead>\n",
       "    <tr style=\"text-align: right;\">\n",
       "      <th></th>\n",
       "      <th>subject</th>\n",
       "      <th>School</th>\n",
       "      <th>Total</th>\n",
       "      <th>pl1</th>\n",
       "      <th>pk2</th>\n",
       "      <th>pv3</th>\n",
       "      <th>pr4</th>\n",
       "      <th>px5</th>\n",
       "      <th>Total_%</th>\n",
       "      <th>gender</th>\n",
       "      <th>municipality</th>\n",
       "      <th>urban</th>\n",
       "      <th>tips</th>\n",
       "      <th>language</th>\n",
       "    </tr>\n",
       "  </thead>\n",
       "  <tbody>\n",
       "    <tr>\n",
       "      <th>10</th>\n",
       "      <td>MAT</td>\n",
       "      <td>Aglonas vidusskola</td>\n",
       "      <td>52.0</td>\n",
       "      <td>76.0</td>\n",
       "      <td>67.5</td>\n",
       "      <td>40.0000</td>\n",
       "      <td>NaN</td>\n",
       "      <td>NaN</td>\n",
       "      <td>65.00</td>\n",
       "      <td>2</td>\n",
       "      <td>101</td>\n",
       "      <td>4</td>\n",
       "      <td>3</td>\n",
       "      <td>1</td>\n",
       "    </tr>\n",
       "    <tr>\n",
       "      <th>15</th>\n",
       "      <td>MAT</td>\n",
       "      <td>Aglonas vidusskola</td>\n",
       "      <td>52.0</td>\n",
       "      <td>80.0</td>\n",
       "      <td>77.5</td>\n",
       "      <td>6.6667</td>\n",
       "      <td>NaN</td>\n",
       "      <td>NaN</td>\n",
       "      <td>65.00</td>\n",
       "      <td>2</td>\n",
       "      <td>101</td>\n",
       "      <td>4</td>\n",
       "      <td>3</td>\n",
       "      <td>1</td>\n",
       "    </tr>\n",
       "    <tr>\n",
       "      <th>18</th>\n",
       "      <td>MAT</td>\n",
       "      <td>Aglonas vidusskola</td>\n",
       "      <td>37.0</td>\n",
       "      <td>40.0</td>\n",
       "      <td>67.5</td>\n",
       "      <td>0.0000</td>\n",
       "      <td>NaN</td>\n",
       "      <td>NaN</td>\n",
       "      <td>46.25</td>\n",
       "      <td>2</td>\n",
       "      <td>101</td>\n",
       "      <td>4</td>\n",
       "      <td>3</td>\n",
       "      <td>1</td>\n",
       "    </tr>\n",
       "    <tr>\n",
       "      <th>22</th>\n",
       "      <td>MAT</td>\n",
       "      <td>Aglonas vidusskola</td>\n",
       "      <td>44.0</td>\n",
       "      <td>52.0</td>\n",
       "      <td>75.0</td>\n",
       "      <td>6.6667</td>\n",
       "      <td>NaN</td>\n",
       "      <td>NaN</td>\n",
       "      <td>55.00</td>\n",
       "      <td>2</td>\n",
       "      <td>101</td>\n",
       "      <td>4</td>\n",
       "      <td>3</td>\n",
       "      <td>1</td>\n",
       "    </tr>\n",
       "    <tr>\n",
       "      <th>27</th>\n",
       "      <td>MAT</td>\n",
       "      <td>Aglonas vidusskola</td>\n",
       "      <td>42.0</td>\n",
       "      <td>40.0</td>\n",
       "      <td>80.0</td>\n",
       "      <td>0.0000</td>\n",
       "      <td>NaN</td>\n",
       "      <td>NaN</td>\n",
       "      <td>52.50</td>\n",
       "      <td>2</td>\n",
       "      <td>101</td>\n",
       "      <td>4</td>\n",
       "      <td>3</td>\n",
       "      <td>1</td>\n",
       "    </tr>\n",
       "  </tbody>\n",
       "</table>\n",
       "</div>"
      ],
      "text/plain": [
       "   subject              School  Total   pl1   pk2      pv3  pr4  px5  Total_%  \\\n",
       "10     MAT  Aglonas vidusskola   52.0  76.0  67.5  40.0000  NaN  NaN    65.00   \n",
       "15     MAT  Aglonas vidusskola   52.0  80.0  77.5   6.6667  NaN  NaN    65.00   \n",
       "18     MAT  Aglonas vidusskola   37.0  40.0  67.5   0.0000  NaN  NaN    46.25   \n",
       "22     MAT  Aglonas vidusskola   44.0  52.0  75.0   6.6667  NaN  NaN    55.00   \n",
       "27     MAT  Aglonas vidusskola   42.0  40.0  80.0   0.0000  NaN  NaN    52.50   \n",
       "\n",
       "    gender  municipality  urban  tips language  \n",
       "10       2           101      4     3        1  \n",
       "15       2           101      4     3        1  \n",
       "18       2           101      4     3        1  \n",
       "22       2           101      4     3        1  \n",
       "27       2           101      4     3        1  "
      ]
     },
     "execution_count": 11,
     "metadata": {},
     "output_type": "execute_result"
    }
   ],
   "source": [
    "dfmhg = df[(df[\"subject\"] == \"MAT\") & (df[\"gender\"] == 2) & (df[\"tips\"] == 3)]\n",
    "dfmhg.head()"
   ]
  },
  {
   "cell_type": "markdown",
   "id": "471466a2",
   "metadata": {},
   "source": [
    "**Descriptive Statistics of Math Subject Marks by High School Girls**"
   ]
  },
  {
   "cell_type": "code",
   "execution_count": 13,
   "id": "b9326140",
   "metadata": {},
   "outputs": [
    {
     "data": {
      "text/html": [
       "<div>\n",
       "<style scoped>\n",
       "    .dataframe tbody tr th:only-of-type {\n",
       "        vertical-align: middle;\n",
       "    }\n",
       "\n",
       "    .dataframe tbody tr th {\n",
       "        vertical-align: top;\n",
       "    }\n",
       "\n",
       "    .dataframe thead th {\n",
       "        text-align: right;\n",
       "    }\n",
       "</style>\n",
       "<table border=\"1\" class=\"dataframe\">\n",
       "  <thead>\n",
       "    <tr style=\"text-align: right;\">\n",
       "      <th></th>\n",
       "      <th>Total</th>\n",
       "    </tr>\n",
       "  </thead>\n",
       "  <tbody>\n",
       "    <tr>\n",
       "      <th>count</th>\n",
       "      <td>3456.00</td>\n",
       "    </tr>\n",
       "    <tr>\n",
       "      <th>mean</th>\n",
       "      <td>28.96</td>\n",
       "    </tr>\n",
       "    <tr>\n",
       "      <th>std</th>\n",
       "      <td>14.80</td>\n",
       "    </tr>\n",
       "    <tr>\n",
       "      <th>min</th>\n",
       "      <td>1.00</td>\n",
       "    </tr>\n",
       "    <tr>\n",
       "      <th>25%</th>\n",
       "      <td>18.00</td>\n",
       "    </tr>\n",
       "    <tr>\n",
       "      <th>50%</th>\n",
       "      <td>26.00</td>\n",
       "    </tr>\n",
       "    <tr>\n",
       "      <th>75%</th>\n",
       "      <td>38.00</td>\n",
       "    </tr>\n",
       "    <tr>\n",
       "      <th>max</th>\n",
       "      <td>78.00</td>\n",
       "    </tr>\n",
       "    <tr>\n",
       "      <th>var</th>\n",
       "      <td>219.05</td>\n",
       "    </tr>\n",
       "  </tbody>\n",
       "</table>\n",
       "</div>"
      ],
      "text/plain": [
       "         Total\n",
       "count  3456.00\n",
       "mean     28.96\n",
       "std      14.80\n",
       "min       1.00\n",
       "25%      18.00\n",
       "50%      26.00\n",
       "75%      38.00\n",
       "max      78.00\n",
       "var     219.05"
      ]
     },
     "execution_count": 13,
     "metadata": {},
     "output_type": "execute_result"
    }
   ],
   "source": [
    "stats_girls = dfmhg[\"Total\"].describe().to_frame()\n",
    "stats_girls.loc[\"var\"] = np.var(dfmhg[\"Total\"])\n",
    "stats_girls.round(2)"
   ]
  },
  {
   "cell_type": "markdown",
   "id": "a936aff5",
   "metadata": {},
   "source": [
    "### Hypothesis: Does Distribution of Math Subject Marks by High School Boys fit to Normal Distribution?"
   ]
  },
  {
   "cell_type": "code",
   "execution_count": 15,
   "id": "2bd39a86",
   "metadata": {},
   "outputs": [
    {
     "name": "stdout",
     "output_type": "stream",
     "text": [
      "p-value = 0.0\n",
      "Distribution of Math Subject Marks by High School Boys does not fit to Normal Distribution\n"
     ]
    }
   ],
   "source": [
    "ks, p = kstest(dfmhb[\"Total\"], \"norm\")\n",
    "print(\"p-value =\", p)\n",
    "\n",
    "if p > 0.05:\n",
    "    print(\"Distribution of Math Subject Marks by High School Boys fit to Normal Distribution\")\n",
    "else:\n",
    "    print(\"Distribution of Math Subject Marks by High School Boys does not fit to Normal Distribution\")"
   ]
  },
  {
   "cell_type": "code",
   "execution_count": 18,
   "id": "bc68b54d",
   "metadata": {},
   "outputs": [
    {
     "data": {
      "image/png": "[encoded data removed]",
      "text/plain": [
       "<Figure size 1296x504 with 1 Axes>"
      ]
     },
     "metadata": {
      "needs_background": "light"
     },
     "output_type": "display_data"
    }
   ],
   "source": [
    "plt.figure(figsize = (18, 7))\n",
    "dfmhb[\"Total\"].hist(color = \"blue\")\n",
    "plt.xticks(size = 15)\n",
    "plt.yticks(size = 15)\n",
    "plt.xlabel(\"Math Subject Marks by High School Boys\", color = \"red\", size = 20)\n",
    "plt.ylabel(\"Frequency\", color = \"red\", size = 20)\n",
    "plt.title(\"Frequency of Math Subject Marks by High School Boy\", size = 20, color = \"red\")\n",
    "plt.show()"
   ]
  },
  {
   "cell_type": "markdown",
   "id": "b42dbdfa",
   "metadata": {},
   "source": [
    "### Hypothesis: Does Distribution of Math Subject Marks by High School Girls fit to Normal Distribution?"
   ]
  },
  {
   "cell_type": "code",
   "execution_count": 19,
   "id": "677848e3",
   "metadata": {},
   "outputs": [
    {
     "name": "stdout",
     "output_type": "stream",
     "text": [
      "p-value = 0.0\n",
      "Distribution of Math Subject Marks by High School Girls DOES NOT fit to Normal Distribution\n"
     ]
    }
   ],
   "source": [
    "ks, p = kstest(dfmhg[\"Total\"], \"norm\")\n",
    "print(\"p-value =\", p)\n",
    "if p > 0.05:\n",
    "    print(\"Distribution of Math Subject Marks by High School Girls fit to Normal Distribution\")\n",
    "else:\n",
    "    print(\"Distribution of Math Subject Marks by High School Girls DOES NOT fit to Normal Distribution\")"
   ]
  },
  {
   "cell_type": "code",
   "execution_count": 20,
   "id": "c4494dca",
   "metadata": {},
   "outputs": [
    {
     "data": {
      "image/png": "[encoded data removed]",
      "text/plain": [
       "<Figure size 1296x504 with 1 Axes>"
      ]
     },
     "metadata": {
      "needs_background": "light"
     },
     "output_type": "display_data"
    }
   ],
   "source": [
    "plt.figure(figsize = (18, 7))\n",
    "dfmhg[\"Total\"].hist(color = \"pink\")\n",
    "plt.xticks(size = 15)\n",
    "plt.yticks(size = 15)\n",
    "plt.xlabel(\"Math Subject Marks by High School Girls\", color = \"red\", size = 20)\n",
    "plt.ylabel(\"Frequency\", color = \"red\", size = 20)\n",
    "plt.title(\"Frequency of Math Subject Marks by High School Girls\", size = 20, color = \"red\")\n",
    "plt.show()"
   ]
  },
  {
   "cell_type": "markdown",
   "id": "05413c48",
   "metadata": {},
   "source": [
    "### Hypothesis: Is the Mathematics Score of High School Boys and Girls are from different populations? (by Mann-Whitney U test)"
   ]
  },
  {
   "cell_type": "code",
   "execution_count": 26,
   "id": "64b52c73",
   "metadata": {},
   "outputs": [
    {
     "name": "stdout",
     "output_type": "stream",
     "text": [
      "p-value 0.48383970231973006 \n",
      "\n",
      "Distribution of High School Boys and Girls Mathematics Marks is Same\n"
     ]
    }
   ],
   "source": [
    "ks, p = mannwhitneyu(dfmhb[\"Total\"], dfmhg[\"Total\"])\n",
    "print(\"p-value\", p, \"\\n\")\n",
    "\n",
    "if p > 0.05:\n",
    "    print(\"Distribution of High School Boys and Girls Mathematics Marks is Same\")\n",
    "else:\n",
    "    print(\"Distribution of High School Boys and Girls Mathematics Marks is Different\")"
   ]
  },
  {
   "cell_type": "markdown",
   "id": "8c5bdfca",
   "metadata": {},
   "source": [
    "**Note: We have no data for mathematics score of primary school girls and boys**"
   ]
  },
  {
   "cell_type": "code",
   "execution_count": null,
   "id": "43f618a4",
   "metadata": {},
   "outputs": [],
   "source": []
  }
 ],
 "metadata": {
  "kernelspec": {
   "display_name": "Python 3",
   "language": "python",
   "name": "python3"
  },
  "language_info": {
   "codemirror_mode": {
    "name": "ipython",
    "version": 3
   },
   "file_extension": ".py",
   "mimetype": "text/x-python",
   "name": "python",
   "nbconvert_exporter": "python",
   "pygments_lexer": "ipython3",
   "version": "3.8.8"
  }
 },
 "nbformat": 4,
 "nbformat_minor": 5
}
