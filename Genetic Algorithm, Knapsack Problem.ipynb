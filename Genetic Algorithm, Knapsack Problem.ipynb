{
 "cells": [
  {
   "cell_type": "markdown",
   "id": "4aa61a8a",
   "metadata": {},
   "source": [
    "### Import Libraries"
   ]
  },
  {
   "cell_type": "code",
   "execution_count": 1,
   "id": "80324026",
   "metadata": {},
   "outputs": [],
   "source": [
    "import numpy as np\n",
    "import pandas as pd\n",
    "import random as rd\n",
    "from random import randint\n",
    "import matplotlib.pyplot as plt"
   ]
  },
  {
   "cell_type": "markdown",
   "id": "536e167d",
   "metadata": {},
   "source": [
    "**We begin with randomly initializing the list of items.**"
   ]
  },
  {
   "cell_type": "code",
   "execution_count": 2,
   "id": "5c6e0abd",
   "metadata": {},
   "outputs": [
    {
     "name": "stdout",
     "output_type": "stream",
     "text": [
      "The list is as follows:\n",
      "Item No.   Weight   Value\n",
      "1          9         152\n",
      "\n",
      "2          9         747\n",
      "\n",
      "3          13         11\n",
      "\n",
      "4          1         706\n",
      "\n",
      "5          6         256\n",
      "\n",
      "6          8         184\n",
      "\n",
      "7          11         448\n",
      "\n",
      "8          11         324\n",
      "\n",
      "9          8         343\n",
      "\n",
      "10          8         19\n",
      "\n",
      "11          14         218\n",
      "\n",
      "12          5         526\n",
      "\n",
      "13          3         746\n",
      "\n",
      "14          4         524\n",
      "\n",
      "15          13         585\n",
      "\n",
      "16          7         23\n",
      "\n",
      "17          4         249\n",
      "\n",
      "18          5         395\n",
      "\n",
      "19          7         45\n",
      "\n",
      "20          9         576\n",
      "\n",
      "21          12         209\n",
      "\n",
      "22          10         345\n",
      "\n",
      "23          11         95\n",
      "\n",
      "24          5         36\n",
      "\n",
      "25          13         122\n",
      "\n",
      "26          7         457\n",
      "\n",
      "27          11         224\n",
      "\n",
      "28          14         709\n",
      "\n",
      "29          7         603\n",
      "\n",
      "30          10         14\n",
      "\n"
     ]
    }
   ],
   "source": [
    "# Intitialize random numbers for 30 items\n",
    "item_number = np.arange(1,31)\n",
    "\n",
    "# Intitialize numbers for 30 items (weight 1 to 15)\n",
    "weight = [9, 9, 13, 1, 6, 8, 11, 11, 8, 8, 14, 5, 3, 4, 13, 7, 4, 5, 7, 9, 12, 10, 11, 5, 13, 7, 11, 14, 7, 10]\n",
    "\n",
    "# Intitialize numbers for 30 items (weight 10 to 750)\n",
    "value = [152, 747, 11, 706, 256, 184, 448, 324, 343, 19, 218, 526, 746, 524, 585, 23, 249, 395, 45, 576, 209, 345, 95, 36, 122, 457, 224, 709, 603, 14]\n",
    "\n",
    "knapsack_threshold = 35    #Maximum weight that the bag of thief can hold \n",
    "\n",
    "print('The list is as follows:')\n",
    "print('Item No.   Weight   Value')\n",
    "\n",
    "# Print Table\n",
    "for i in range(item_number.shape[0]):\n",
    "    print('{0}          {1}         {2}\\n'.format(item_number[i], weight[i], value[i]))"
   ]
  },
  {
   "cell_type": "markdown",
   "id": "8ddedfee",
   "metadata": {},
   "source": [
    "**Now we declare the initial population. In this problem the idea of chromosome encoding is to have a chromosome consisting as many genes as there are total number of items such that each gene index corresponds to item index in the list. Each gene has a value 1 or 0 which tells whether the corresponding item is present or not.**"
   ]
  },
  {
   "cell_type": "code",
   "execution_count": 3,
   "id": "40c6a486",
   "metadata": {
    "scrolled": true
   },
   "outputs": [
    {
     "name": "stdout",
     "output_type": "stream",
     "text": [
      "Population size = (24, 30)\n",
      "Initial population: \n",
      "[[0 0 1 0 1 1 1 1 0 0 1 1 0 1 0 1 0 0 1 1 0 0 0 0 1 1 0 1 0 1]\n",
      " [0 1 0 1 0 1 1 0 0 1 1 0 1 0 1 1 1 0 0 1 0 0 0 1 1 0 0 1 1 1]\n",
      " [0 1 1 0 1 1 0 1 1 1 1 1 0 1 1 0 1 1 0 0 1 0 1 0 0 0 0 0 0 0]\n",
      " [1 1 0 1 1 0 1 0 1 0 0 0 1 0 1 0 0 0 1 1 0 0 0 0 1 0 0 1 0 0]\n",
      " [1 1 0 1 0 1 1 1 0 1 0 1 0 0 0 0 1 1 0 1 1 1 0 1 1 1 0 1 1 1]\n",
      " [0 0 1 1 0 0 0 0 0 0 1 0 1 0 0 1 0 1 1 0 1 0 0 0 0 0 1 1 1 1]\n",
      " [0 0 1 1 0 1 1 1 1 0 1 1 0 1 0 1 0 1 1 1 0 0 0 1 1 1 1 0 1 0]\n",
      " [0 0 1 1 0 0 0 0 1 1 1 1 1 1 0 1 0 0 1 1 1 0 1 0 1 0 1 0 0 1]\n",
      " [1 1 1 0 1 0 1 0 0 0 1 1 0 1 0 0 1 1 0 0 0 0 1 1 0 0 0 0 0 1]\n",
      " [1 1 0 0 1 1 0 0 1 1 1 1 0 1 1 1 0 1 0 1 0 1 1 1 0 0 0 0 0 0]\n",
      " [0 0 0 0 0 1 1 1 0 1 1 1 0 0 1 0 1 0 1 1 0 1 1 1 1 0 1 1 1 0]\n",
      " [1 1 1 1 0 1 0 0 0 1 0 1 0 0 0 1 0 1 0 1 0 1 0 1 1 1 0 1 1 1]\n",
      " [1 0 1 0 0 1 0 0 1 0 0 0 1 0 1 1 0 1 0 1 1 0 0 1 0 0 0 1 0 1]\n",
      " [0 0 1 0 0 1 1 0 0 1 0 1 0 1 0 0 0 1 0 1 1 1 1 0 0 1 0 0 1 1]\n",
      " [0 1 0 0 0 0 0 0 0 0 0 0 0 1 1 0 1 1 1 0 1 1 0 0 1 0 1 1 0 0]\n",
      " [1 0 0 1 1 1 0 0 0 0 1 1 0 1 1 0 1 0 1 1 1 0 1 1 1 0 0 0 1 0]\n",
      " [0 1 1 1 1 1 0 0 0 0 1 0 0 0 0 0 0 0 0 0 1 0 1 1 1 1 0 1 0 1]\n",
      " [1 1 0 0 0 1 0 1 0 0 0 0 0 1 0 0 0 1 0 0 0 0 0 0 1 1 0 1 1 0]\n",
      " [0 1 0 0 1 0 0 1 1 0 1 1 1 0 0 0 1 1 0 1 0 0 0 1 0 1 1 0 1 1]\n",
      " [0 1 1 1 1 1 1 1 1 1 1 0 0 0 1 1 1 1 1 0 0 1 0 1 0 0 1 0 0 0]\n",
      " [0 1 1 0 0 0 0 0 1 0 1 0 0 0 1 1 1 0 1 0 1 0 1 1 1 1 1 0 0 0]\n",
      " [1 0 0 0 0 1 1 0 0 1 0 1 1 0 1 1 1 1 1 0 1 1 1 0 0 1 1 0 1 0]\n",
      " [0 0 1 0 0 0 0 0 1 0 0 1 0 1 1 0 1 0 0 0 0 0 0 0 0 0 0 1 1 0]\n",
      " [0 0 0 0 0 0 0 0 0 1 0 1 1 1 0 0 0 0 1 0 0 0 1 1 1 1 1 1 1 1]]\n"
     ]
    }
   ],
   "source": [
    "# Total Solutions on activity\n",
    "solutions_per_pop = 24\n",
    "pop_size = (solutions_per_pop, item_number.shape[0])\n",
    "print('Population size = {}'.format(pop_size))\n",
    "\n",
    "# Population Solutions\n",
    "initial_population = np.random.randint(2, size = pop_size)\n",
    "initial_population = initial_population.astype(int)\n",
    "num_generations = 150\n",
    "print('Initial population: \\n{}'.format(initial_population))"
   ]
  },
  {
   "cell_type": "markdown",
   "id": "da2c1b9c",
   "metadata": {},
   "source": [
    "**The fitness function that we will be using for this problem is as follows**"
   ]
  },
  {
   "cell_type": "code",
   "execution_count": 4,
   "id": "bcef72ae",
   "metadata": {},
   "outputs": [],
   "source": [
    "def cal_fitness(weight, value, population, threshold):\n",
    "    fitness = np.empty(population.shape[0])\n",
    "    \n",
    "    for i in range(population.shape[0]):\n",
    "        S1 = np.sum(population[i] * value)\n",
    "        S2 = np.sum(population[i] * weight)\n",
    "        if S2 <= threshold:\n",
    "            fitness[i] = S1\n",
    "        else :\n",
    "            fitness[i] = 0 \n",
    "            \n",
    "    return fitness.astype(int)  "
   ]
  },
  {
   "cell_type": "markdown",
   "id": "d0add349",
   "metadata": {},
   "source": [
    "**Now we select the fittest individuals so that they can undergo crossover.**"
   ]
  },
  {
   "cell_type": "code",
   "execution_count": 5,
   "id": "bd368f66",
   "metadata": {},
   "outputs": [],
   "source": [
    "def selection(fitness, num_parents, population):\n",
    "    fitness = list(fitness)\n",
    "    parents = np.empty((num_parents, population.shape[1]))\n",
    "    \n",
    "    for i in range(num_parents):\n",
    "        max_fitness_idx = np.where(fitness == np.max(fitness))\n",
    "        parents[i,:] = population[max_fitness_idx[0][0], :]\n",
    "        fitness[max_fitness_idx[0][0]] = -999999\n",
    "        \n",
    "    return parents"
   ]
  },
  {
   "cell_type": "markdown",
   "id": "34dd5623",
   "metadata": {},
   "source": [
    "**For crossover we will be using one-point crossover. We will be setting crossover rate to a high value to ensure more number of fittest individuals undergo crossover.**"
   ]
  },
  {
   "cell_type": "code",
   "execution_count": 6,
   "id": "fa98e6f6",
   "metadata": {},
   "outputs": [],
   "source": [
    "def crossover(parents, num_offsprings):\n",
    "    \n",
    "    offsprings = np.empty((num_offsprings, parents.shape[1]))\n",
    "    crossover_point = int(parents.shape[1]/2)\n",
    "    crossover_rate = 0.8\n",
    "    i=0\n",
    "    \n",
    "    while (parents.shape[0] < num_offsprings):\n",
    "        parent1_index = i%parents.shape[0]\n",
    "        parent2_index = (i+1)%parents.shape[0]\n",
    "        x = rd.random()\n",
    "        if x > crossover_rate:\n",
    "            continue\n",
    "        parent1_index = i%parents.shape[0]\n",
    "        parent2_index = (i+1)%parents.shape[0]\n",
    "        offsprings[i,0:crossover_point] = parents[parent1_index,0:crossover_point]\n",
    "        offsprings[i,crossover_point:] = parents[parent2_index,crossover_point:]\n",
    "        i=+1\n",
    "        \n",
    "    return offsprings  "
   ]
  },
  {
   "cell_type": "markdown",
   "id": "305146d6",
   "metadata": {},
   "source": [
    "**In Mutation, which chromosome will undergo mutation is being done randomly. For creating mutants we will be using bit-flip technique i.e. if the selected gene which is going to undergo mutation is 1 then change it to 0 and vice-versa.**"
   ]
  },
  {
   "cell_type": "code",
   "execution_count": 7,
   "id": "7f22fa27",
   "metadata": {},
   "outputs": [],
   "source": [
    "def mutation(offsprings):\n",
    "    mutants = np.empty((offsprings.shape))\n",
    "    mutation_rate = 0.4\n",
    "    \n",
    "    for i in range(mutants.shape[0]):\n",
    "        random_value = rd.random()\n",
    "        mutants[i,:] = offsprings[i,:]\n",
    "        if random_value > mutation_rate:\n",
    "            \n",
    "            continue\n",
    "            \n",
    "        int_random_value = randint(0,offsprings.shape[1]-1)    \n",
    "        if mutants[i,int_random_value] == 0 :\n",
    "            mutants[i,int_random_value] = 1\n",
    "        else :\n",
    "            mutants[i,int_random_value] = 0\n",
    "            \n",
    "    return mutants "
   ]
  },
  {
   "cell_type": "markdown",
   "id": "d52684d5",
   "metadata": {},
   "source": [
    "**As all the necessary functions have been defined so now we will call them in order to find the required parameters and make all the necessary initializations.**"
   ]
  },
  {
   "cell_type": "code",
   "execution_count": 8,
   "id": "8788ac3b",
   "metadata": {},
   "outputs": [],
   "source": [
    "def optimize(weight, value, population, pop_size, num_generations, threshold):\n",
    "    parameters, fitness_history = [], []\n",
    "    num_parents = int(pop_size[0]/2)\n",
    "    num_offsprings = pop_size[0] - num_parents \n",
    "    \n",
    "    for i in range(num_generations):\n",
    "        fitness = cal_fitness(weight, value, population, threshold)\n",
    "        fitness_history.append(fitness)\n",
    "        parents = selection(fitness, num_parents, population)\n",
    "        offsprings = crossover(parents, num_offsprings)\n",
    "        mutants = mutation(offsprings)\n",
    "        population[0:parents.shape[0], :] = parents\n",
    "        population[parents.shape[0]:, :] = mutants\n",
    "        \n",
    "    print('Last generation: \\n{}\\n'.format(population)) \n",
    "    fitness_last_gen = cal_fitness(weight, value, population, threshold)      \n",
    "    \n",
    "    print('Fitness of the last generation: \\n{}\\n'.format(fitness_last_gen))\n",
    "    max_fitness = np.where(fitness_last_gen == np.max(fitness_last_gen))\n",
    "    parameters.append(population[max_fitness[0][0],:])\n",
    "    \n",
    "    return parameters, fitness_history"
   ]
  },
  {
   "cell_type": "markdown",
   "id": "4d3d64df",
   "metadata": {},
   "source": [
    "**The corresponding items of the parameters in the item_number array will be the ones that the thief will take.**"
   ]
  },
  {
   "cell_type": "code",
   "execution_count": 9,
   "id": "0de93622",
   "metadata": {},
   "outputs": [
    {
     "name": "stdout",
     "output_type": "stream",
     "text": [
      "Last generation: \n",
      "[[0 0 0 1 0 0 0 0 1 0 0 1 1 1 1 0 0 0 0 0 0 0 0 0 0 0 0 0 0 0]\n",
      " [0 0 0 1 0 0 0 0 1 0 0 1 1 1 1 0 0 0 0 0 0 0 0 0 0 0 0 0 0 0]\n",
      " [0 0 0 1 0 0 0 0 1 0 0 1 1 1 1 0 0 0 0 0 0 0 0 0 0 0 0 0 0 0]\n",
      " [0 0 0 1 0 0 0 0 1 0 0 1 1 1 1 0 0 0 0 0 0 0 0 0 0 0 0 0 0 0]\n",
      " [0 0 0 1 0 0 0 0 1 0 0 1 1 1 1 0 0 0 0 0 0 0 0 0 0 0 0 0 0 0]\n",
      " [0 0 0 1 0 0 0 0 1 0 0 1 1 1 1 0 0 0 0 0 0 0 0 0 0 0 0 0 0 0]\n",
      " [0 0 0 1 0 0 0 0 1 0 0 1 1 1 1 0 0 0 0 0 0 0 0 0 0 0 0 0 0 0]\n",
      " [0 0 0 1 0 0 0 0 1 0 0 1 1 1 1 0 0 0 0 0 0 0 0 0 0 0 0 0 0 0]\n",
      " [0 0 0 1 0 0 0 0 1 0 0 1 1 1 1 0 0 0 0 0 0 0 0 0 0 0 0 0 0 0]\n",
      " [0 0 0 1 0 0 0 0 1 0 0 1 1 1 1 0 0 0 0 0 0 0 0 0 0 0 0 0 0 0]\n",
      " [0 0 0 1 0 0 0 0 1 0 0 1 1 1 1 0 0 0 0 0 0 0 0 0 0 0 0 0 0 0]\n",
      " [0 0 0 1 0 0 0 0 1 0 0 1 1 1 1 0 0 0 0 0 0 0 0 0 0 0 0 0 0 0]\n",
      " [0 0 0 1 0 0 0 0 1 0 0 1 1 1 1 0 0 0 0 0 0 0 0 0 0 0 0 0 0 0]\n",
      " [0 0 0 1 0 0 0 0 1 0 0 1 1 1 1 0 0 0 0 0 0 0 0 0 0 0 0 0 0 0]\n",
      " [0 0 0 1 0 0 0 0 1 0 0 1 1 1 1 0 0 0 0 0 0 0 0 0 0 0 0 0 0 0]\n",
      " [0 0 0 1 0 0 0 0 1 0 0 1 1 1 1 0 0 0 0 0 0 0 0 0 0 0 0 0 0 0]\n",
      " [0 0 0 1 0 0 0 0 1 0 0 1 1 1 1 0 0 0 0 0 0 0 0 0 0 0 0 1 0 0]\n",
      " [0 0 0 1 0 0 0 0 1 0 0 1 1 1 1 0 0 0 0 0 0 0 0 0 0 0 0 0 0 0]\n",
      " [0 0 0 1 0 0 0 0 1 0 0 1 1 1 1 0 0 0 0 0 0 0 0 0 0 0 0 0 1 0]\n",
      " [0 0 0 1 0 0 0 0 1 0 0 1 1 1 1 0 0 0 0 0 0 0 0 0 0 0 0 0 0 1]\n",
      " [0 0 0 1 0 0 0 0 1 0 0 1 1 1 1 0 0 0 0 0 0 0 0 0 0 0 0 0 0 0]\n",
      " [0 0 0 1 0 0 0 0 1 0 0 1 1 1 1 1 0 0 0 0 0 0 0 0 0 0 0 0 0 0]\n",
      " [0 0 0 1 0 0 0 0 1 0 0 1 1 1 1 0 0 0 0 0 0 0 0 0 0 0 0 0 0 0]\n",
      " [0 0 0 1 0 0 0 0 1 0 0 1 1 1 1 0 1 0 0 0 0 0 0 0 0 0 0 0 0 0]]\n",
      "\n",
      "Fitness of the last generation: \n",
      "[3430 3430 3430 3430 3430 3430 3430 3430 3430 3430 3430 3430 3430 3430\n",
      " 3430 3430    0 3430    0    0 3430    0 3430    0]\n",
      "\n",
      "The optimized parameters for the given inputs are: \n",
      "[array([0, 0, 0, 1, 0, 0, 0, 0, 1, 0, 0, 1, 1, 1, 1, 0, 0, 0, 0, 0, 0, 0,\n",
      "       0, 0, 0, 0, 0, 0, 0, 0])]\n",
      "\n",
      "Selected items that will maximize the knapsack without breaking it:\n",
      "4\n",
      "\n",
      "9\n",
      "\n",
      "12\n",
      "\n",
      "13\n",
      "\n",
      "14\n",
      "\n",
      "15\n",
      "\n"
     ]
    }
   ],
   "source": [
    "parameters, fitness_history = optimize(weight, value, initial_population, pop_size, num_generations, knapsack_threshold)\n",
    "print('The optimized parameters for the given inputs are: \\n{}'.format(parameters))\n",
    "\n",
    "selected_items = item_number * parameters\n",
    "print('\\nSelected items that will maximize the knapsack without breaking it:')\n",
    "\n",
    "for i in range(selected_items.shape[1]):\n",
    "    if selected_items[0][i] != 0:\n",
    "        print('{}\\n'.format(selected_items[0][i]))"
   ]
  },
  {
   "cell_type": "markdown",
   "id": "0c2f3f00",
   "metadata": {},
   "source": [
    "**Now we will visualize how the fitness changes with every generation.**"
   ]
  },
  {
   "cell_type": "code",
   "execution_count": 10,
   "id": "6d526617",
   "metadata": {},
   "outputs": [
    {
     "data": {
      "image/png": "[encoded data removed]",
      "text/plain": [
       "<Figure size 1296x504 with 1 Axes>"
      ]
     },
     "metadata": {
      "needs_background": "light"
     },
     "output_type": "display_data"
    }
   ],
   "source": [
    "fitness_history_mean = [np.mean(fitness) for fitness in fitness_history]\n",
    "fitness_history_max = [np.max(fitness) for fitness in fitness_history]\n",
    "\n",
    "plt.figure(figsize = (18, 7))\n",
    "plt.plot(list(range(num_generations)), fitness_history_mean, label = 'Mean Fitness', linewidth = 3)\n",
    "plt.plot(list(range(num_generations)), fitness_history_max, label = 'Max Fitness', linewidth = 3)\n",
    "plt.legend()\n",
    "plt.title('Fitness through the generations', size = 20)\n",
    "plt.xlabel('Generations', size = 20)\n",
    "plt.ylabel('Fitness', size = 20)\n",
    "plt.xticks(size = 15)\n",
    "plt.yticks(size = 15)\n",
    "plt.show()"
   ]
  },
  {
   "cell_type": "code",
   "execution_count": null,
   "id": "3362b092",
   "metadata": {},
   "outputs": [],
   "source": []
  }
 ],
 "metadata": {
  "kernelspec": {
   "display_name": "Python 3",
   "language": "python",
   "name": "python3"
  },
  "language_info": {
   "codemirror_mode": {
    "name": "ipython",
    "version": 3
   },
   "file_extension": ".py",
   "mimetype": "text/x-python",
   "name": "python",
   "nbconvert_exporter": "python",
   "pygments_lexer": "ipython3",
   "version": "3.8.8"
  }
 },
 "nbformat": 4,
 "nbformat_minor": 5
}
