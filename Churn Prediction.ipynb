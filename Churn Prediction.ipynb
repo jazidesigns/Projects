{
 "cells": [
  {
   "cell_type": "markdown",
   "id": "4df43c00",
   "metadata": {},
   "source": [
    "### Import Libraries"
   ]
  },
  {
   "cell_type": "code",
   "execution_count": 42,
   "id": "cb9220a5",
   "metadata": {},
   "outputs": [],
   "source": [
    "import warnings\n",
    "warnings.filterwarnings(\"ignore\")\n",
    "import pandas as pd\n",
    "import numpy as np\n",
    "import matplotlib.pyplot as plt\n",
    "import seaborn as sns\n",
    "\n",
    "import statsmodels.api as sm\n",
    "from imblearn.over_sampling import SMOTE\n",
    "\n",
    "from sklearn.neighbors import KNeighborsClassifier\n",
    "from sklearn.linear_model import LogisticRegression\n",
    "from sklearn.tree import DecisionTreeClassifier\n",
    "from sklearn.ensemble import RandomForestClassifier, AdaBoostClassifier, GradientBoostingClassifier, ExtraTreesClassifier\n",
    "from sklearn.svm import SVC\n",
    "\n",
    "from sklearn.metrics import confusion_matrix\n",
    "from sklearn.metrics import classification_report\n",
    "\n",
    "from sklearn.model_selection import train_test_split\n",
    "from sklearn.model_selection import GridSearchCV"
   ]
  },
  {
   "cell_type": "markdown",
   "id": "4380c784",
   "metadata": {},
   "source": [
    "### Import Dataset"
   ]
  },
  {
   "cell_type": "code",
   "execution_count": 2,
   "id": "add4f9f1",
   "metadata": {},
   "outputs": [
    {
     "data": {
      "text/html": [
       "<div>\n",
       "<style scoped>\n",
       "    .dataframe tbody tr th:only-of-type {\n",
       "        vertical-align: middle;\n",
       "    }\n",
       "\n",
       "    .dataframe tbody tr th {\n",
       "        vertical-align: top;\n",
       "    }\n",
       "\n",
       "    .dataframe thead th {\n",
       "        text-align: right;\n",
       "    }\n",
       "</style>\n",
       "<table border=\"1\" class=\"dataframe\">\n",
       "  <thead>\n",
       "    <tr style=\"text-align: right;\">\n",
       "      <th></th>\n",
       "      <th>Pipeline</th>\n",
       "      <th>Amount</th>\n",
       "      <th>Churn</th>\n",
       "      <th>Contract.Length</th>\n",
       "      <th>Has.Ever.Been.Poc</th>\n",
       "      <th>Country</th>\n",
       "      <th>Tier</th>\n",
       "      <th>Industry</th>\n",
       "      <th>Created.On.Platform</th>\n",
       "      <th>No.Of.Conversations.Q1.To.Q3</th>\n",
       "      <th>...</th>\n",
       "      <th>Live.Campaigns.Q1.To.Q3</th>\n",
       "      <th>No.Of.Integrations.Q1.To.Q3</th>\n",
       "      <th>Previous.No.Of.Deals</th>\n",
       "      <th>Percentage.Going.Live</th>\n",
       "      <th>Distinct.Game.Types.Used</th>\n",
       "      <th>Distinct.Live.Game.Types.Used</th>\n",
       "      <th>Avg.Unique.Reg.Rate.Q1.To.Q3</th>\n",
       "      <th>Avg.Time.Spent.Q1.To.Q3</th>\n",
       "      <th>Days.Until.First.Campaign</th>\n",
       "      <th>Days.Until.First.Live.Campaign</th>\n",
       "    </tr>\n",
       "  </thead>\n",
       "  <tbody>\n",
       "    <tr>\n",
       "      <th>754</th>\n",
       "      <td>Newbizz Pipeline</td>\n",
       "      <td>10752.688172</td>\n",
       "      <td>0</td>\n",
       "      <td>366</td>\n",
       "      <td>Yes</td>\n",
       "      <td>DK</td>\n",
       "      <td>A</td>\n",
       "      <td>Retailers</td>\n",
       "      <td>2019</td>\n",
       "      <td>5</td>\n",
       "      <td>...</td>\n",
       "      <td>6</td>\n",
       "      <td>3</td>\n",
       "      <td>0</td>\n",
       "      <td>0.750000</td>\n",
       "      <td>2</td>\n",
       "      <td>2</td>\n",
       "      <td>0.559742</td>\n",
       "      <td>93.785714</td>\n",
       "      <td>13</td>\n",
       "      <td>35.000000</td>\n",
       "    </tr>\n",
       "    <tr>\n",
       "      <th>291</th>\n",
       "      <td>Renewal sales pipeline</td>\n",
       "      <td>4480.241935</td>\n",
       "      <td>0</td>\n",
       "      <td>366</td>\n",
       "      <td>No</td>\n",
       "      <td>DK</td>\n",
       "      <td>C</td>\n",
       "      <td>Pharma / Healthcare</td>\n",
       "      <td>2016</td>\n",
       "      <td>1</td>\n",
       "      <td>...</td>\n",
       "      <td>2</td>\n",
       "      <td>1</td>\n",
       "      <td>0</td>\n",
       "      <td>0.666667</td>\n",
       "      <td>3</td>\n",
       "      <td>2</td>\n",
       "      <td>0.613744</td>\n",
       "      <td>71.000000</td>\n",
       "      <td>36</td>\n",
       "      <td>34.000000</td>\n",
       "    </tr>\n",
       "    <tr>\n",
       "      <th>6</th>\n",
       "      <td>Renewal sales pipeline</td>\n",
       "      <td>3360.215054</td>\n",
       "      <td>0</td>\n",
       "      <td>365</td>\n",
       "      <td>No</td>\n",
       "      <td>DK</td>\n",
       "      <td>C</td>\n",
       "      <td>Financial services</td>\n",
       "      <td>2018</td>\n",
       "      <td>0</td>\n",
       "      <td>...</td>\n",
       "      <td>0</td>\n",
       "      <td>1</td>\n",
       "      <td>1</td>\n",
       "      <td>0.000000</td>\n",
       "      <td>1</td>\n",
       "      <td>0</td>\n",
       "      <td>0.367183</td>\n",
       "      <td>13.000000</td>\n",
       "      <td>44</td>\n",
       "      <td>72.833333</td>\n",
       "    </tr>\n",
       "    <tr>\n",
       "      <th>342</th>\n",
       "      <td>Renewal sales pipeline</td>\n",
       "      <td>3360.215054</td>\n",
       "      <td>0</td>\n",
       "      <td>365</td>\n",
       "      <td>No</td>\n",
       "      <td>DK</td>\n",
       "      <td>C</td>\n",
       "      <td>B2B</td>\n",
       "      <td>2019</td>\n",
       "      <td>2</td>\n",
       "      <td>...</td>\n",
       "      <td>0</td>\n",
       "      <td>0</td>\n",
       "      <td>1</td>\n",
       "      <td>0.000000</td>\n",
       "      <td>3</td>\n",
       "      <td>0</td>\n",
       "      <td>0.871181</td>\n",
       "      <td>63.444444</td>\n",
       "      <td>28</td>\n",
       "      <td>72.833333</td>\n",
       "    </tr>\n",
       "    <tr>\n",
       "      <th>520</th>\n",
       "      <td>Newbizz Pipeline</td>\n",
       "      <td>6016.129032</td>\n",
       "      <td>0</td>\n",
       "      <td>366</td>\n",
       "      <td>No</td>\n",
       "      <td>FI</td>\n",
       "      <td>B</td>\n",
       "      <td>Retailers</td>\n",
       "      <td>2020</td>\n",
       "      <td>16</td>\n",
       "      <td>...</td>\n",
       "      <td>7</td>\n",
       "      <td>7</td>\n",
       "      <td>0</td>\n",
       "      <td>0.304348</td>\n",
       "      <td>14</td>\n",
       "      <td>4</td>\n",
       "      <td>0.673754</td>\n",
       "      <td>29.441860</td>\n",
       "      <td>87</td>\n",
       "      <td>103.000000</td>\n",
       "    </tr>\n",
       "  </tbody>\n",
       "</table>\n",
       "<p>5 rows × 23 columns</p>\n",
       "</div>"
      ],
      "text/plain": [
       "                   Pipeline        Amount  Churn  Contract.Length  \\\n",
       "754        Newbizz Pipeline  10752.688172      0              366   \n",
       "291  Renewal sales pipeline   4480.241935      0              366   \n",
       "6    Renewal sales pipeline   3360.215054      0              365   \n",
       "342  Renewal sales pipeline   3360.215054      0              365   \n",
       "520        Newbizz Pipeline   6016.129032      0              366   \n",
       "\n",
       "    Has.Ever.Been.Poc Country Tier             Industry  Created.On.Platform  \\\n",
       "754               Yes      DK    A            Retailers                 2019   \n",
       "291                No      DK    C  Pharma / Healthcare                 2016   \n",
       "6                  No      DK    C   Financial services                 2018   \n",
       "342                No      DK    C                  B2B                 2019   \n",
       "520                No      FI    B            Retailers                 2020   \n",
       "\n",
       "     No.Of.Conversations.Q1.To.Q3  ...  Live.Campaigns.Q1.To.Q3  \\\n",
       "754                             5  ...                        6   \n",
       "291                             1  ...                        2   \n",
       "6                               0  ...                        0   \n",
       "342                             2  ...                        0   \n",
       "520                            16  ...                        7   \n",
       "\n",
       "     No.Of.Integrations.Q1.To.Q3  Previous.No.Of.Deals  Percentage.Going.Live  \\\n",
       "754                            3                     0               0.750000   \n",
       "291                            1                     0               0.666667   \n",
       "6                              1                     1               0.000000   \n",
       "342                            0                     1               0.000000   \n",
       "520                            7                     0               0.304348   \n",
       "\n",
       "     Distinct.Game.Types.Used  Distinct.Live.Game.Types.Used  \\\n",
       "754                         2                              2   \n",
       "291                         3                              2   \n",
       "6                           1                              0   \n",
       "342                         3                              0   \n",
       "520                        14                              4   \n",
       "\n",
       "     Avg.Unique.Reg.Rate.Q1.To.Q3  Avg.Time.Spent.Q1.To.Q3  \\\n",
       "754                      0.559742                93.785714   \n",
       "291                      0.613744                71.000000   \n",
       "6                        0.367183                13.000000   \n",
       "342                      0.871181                63.444444   \n",
       "520                      0.673754                29.441860   \n",
       "\n",
       "     Days.Until.First.Campaign  Days.Until.First.Live.Campaign  \n",
       "754                         13                       35.000000  \n",
       "291                         36                       34.000000  \n",
       "6                           44                       72.833333  \n",
       "342                         28                       72.833333  \n",
       "520                         87                      103.000000  \n",
       "\n",
       "[5 rows x 23 columns]"
      ]
     },
     "execution_count": 2,
     "metadata": {},
     "output_type": "execute_result"
    }
   ],
   "source": [
    "df = pd.read_csv(\"Churn.csv\")\n",
    "df.sample(5)"
   ]
  },
  {
   "cell_type": "code",
   "execution_count": 3,
   "id": "16449305",
   "metadata": {},
   "outputs": [
    {
     "data": {
      "text/plain": [
       "B             268\n",
       "A             225\n",
       "C             216\n",
       "Enterprise    112\n",
       "Name: Tier, dtype: int64"
      ]
     },
     "execution_count": 3,
     "metadata": {},
     "output_type": "execute_result"
    }
   ],
   "source": [
    "df[\"Tier\"].value_counts()"
   ]
  },
  {
   "cell_type": "markdown",
   "id": "38c7145b",
   "metadata": {},
   "source": [
    "**Data Information**"
   ]
  },
  {
   "cell_type": "code",
   "execution_count": 4,
   "id": "7f092824",
   "metadata": {},
   "outputs": [
    {
     "name": "stdout",
     "output_type": "stream",
     "text": [
      "<class 'pandas.core.frame.DataFrame'>\n",
      "RangeIndex: 821 entries, 0 to 820\n",
      "Data columns (total 23 columns):\n",
      " #   Column                                 Non-Null Count  Dtype  \n",
      "---  ------                                 --------------  -----  \n",
      " 0   Pipeline                               821 non-null    object \n",
      " 1   Amount                                 821 non-null    float64\n",
      " 2   Churn                                  821 non-null    int64  \n",
      " 3   Contract.Length                        821 non-null    int64  \n",
      " 4   Has.Ever.Been.Poc                      821 non-null    object \n",
      " 5   Country                                821 non-null    object \n",
      " 6   Tier                                   821 non-null    object \n",
      " 7   Industry                               821 non-null    object \n",
      " 8   Created.On.Platform                    821 non-null    int64  \n",
      " 9   No.Of.Conversations.Q1.To.Q3           821 non-null    int64  \n",
      " 10  Avg.Conversation.Rating.Q1.To.Q3       821 non-null    float64\n",
      " 11  Avg.No.Of.Conversation.Parts.Q1.To.Q3  821 non-null    float64\n",
      " 12  Created.Campaigns.Q1.To.Q3             821 non-null    int64  \n",
      " 13  Live.Campaigns.Q1.To.Q3                821 non-null    int64  \n",
      " 14  No.Of.Integrations.Q1.To.Q3            821 non-null    int64  \n",
      " 15  Previous.No.Of.Deals                   821 non-null    int64  \n",
      " 16  Percentage.Going.Live                  821 non-null    float64\n",
      " 17  Distinct.Game.Types.Used               821 non-null    int64  \n",
      " 18  Distinct.Live.Game.Types.Used          821 non-null    int64  \n",
      " 19  Avg.Unique.Reg.Rate.Q1.To.Q3           821 non-null    float64\n",
      " 20  Avg.Time.Spent.Q1.To.Q3                821 non-null    float64\n",
      " 21  Days.Until.First.Campaign              821 non-null    int64  \n",
      " 22  Days.Until.First.Live.Campaign         821 non-null    float64\n",
      "dtypes: float64(7), int64(11), object(5)\n",
      "memory usage: 147.6+ KB\n"
     ]
    }
   ],
   "source": [
    "df.info()"
   ]
  },
  {
   "cell_type": "code",
   "execution_count": 5,
   "id": "f7aa1c47",
   "metadata": {},
   "outputs": [
    {
     "data": {
      "text/html": [
       "<div>\n",
       "<style scoped>\n",
       "    .dataframe tbody tr th:only-of-type {\n",
       "        vertical-align: middle;\n",
       "    }\n",
       "\n",
       "    .dataframe tbody tr th {\n",
       "        vertical-align: top;\n",
       "    }\n",
       "\n",
       "    .dataframe thead th {\n",
       "        text-align: right;\n",
       "    }\n",
       "</style>\n",
       "<table border=\"1\" class=\"dataframe\">\n",
       "  <thead>\n",
       "    <tr style=\"text-align: right;\">\n",
       "      <th></th>\n",
       "      <th>Amount</th>\n",
       "      <th>Churn</th>\n",
       "      <th>Contract.Length</th>\n",
       "      <th>Created.On.Platform</th>\n",
       "      <th>No.Of.Conversations.Q1.To.Q3</th>\n",
       "      <th>Avg.Conversation.Rating.Q1.To.Q3</th>\n",
       "      <th>Avg.No.Of.Conversation.Parts.Q1.To.Q3</th>\n",
       "      <th>Created.Campaigns.Q1.To.Q3</th>\n",
       "      <th>Live.Campaigns.Q1.To.Q3</th>\n",
       "      <th>No.Of.Integrations.Q1.To.Q3</th>\n",
       "      <th>Previous.No.Of.Deals</th>\n",
       "      <th>Percentage.Going.Live</th>\n",
       "      <th>Distinct.Game.Types.Used</th>\n",
       "      <th>Distinct.Live.Game.Types.Used</th>\n",
       "      <th>Avg.Unique.Reg.Rate.Q1.To.Q3</th>\n",
       "      <th>Avg.Time.Spent.Q1.To.Q3</th>\n",
       "      <th>Days.Until.First.Campaign</th>\n",
       "      <th>Days.Until.First.Live.Campaign</th>\n",
       "    </tr>\n",
       "  </thead>\n",
       "  <tbody>\n",
       "    <tr>\n",
       "      <th>count</th>\n",
       "      <td>821.000000</td>\n",
       "      <td>821.000000</td>\n",
       "      <td>821.000000</td>\n",
       "      <td>821.000000</td>\n",
       "      <td>821.000000</td>\n",
       "      <td>821.000000</td>\n",
       "      <td>821.000000</td>\n",
       "      <td>821.000000</td>\n",
       "      <td>821.000000</td>\n",
       "      <td>821.000000</td>\n",
       "      <td>821.000000</td>\n",
       "      <td>821.000000</td>\n",
       "      <td>821.000000</td>\n",
       "      <td>821.000000</td>\n",
       "      <td>821.000000</td>\n",
       "      <td>821.000000</td>\n",
       "      <td>821.000000</td>\n",
       "      <td>821.000000</td>\n",
       "    </tr>\n",
       "    <tr>\n",
       "      <th>mean</th>\n",
       "      <td>9657.051711</td>\n",
       "      <td>0.120585</td>\n",
       "      <td>372.934227</td>\n",
       "      <td>2018.937881</td>\n",
       "      <td>10.131547</td>\n",
       "      <td>4.703725</td>\n",
       "      <td>26.051568</td>\n",
       "      <td>20.292326</td>\n",
       "      <td>8.101096</td>\n",
       "      <td>2.752741</td>\n",
       "      <td>0.371498</td>\n",
       "      <td>0.399253</td>\n",
       "      <td>5.897686</td>\n",
       "      <td>2.809988</td>\n",
       "      <td>0.367183</td>\n",
       "      <td>39.317469</td>\n",
       "      <td>30.479903</td>\n",
       "      <td>72.833333</td>\n",
       "    </tr>\n",
       "    <tr>\n",
       "      <th>std</th>\n",
       "      <td>6828.748353</td>\n",
       "      <td>0.325842</td>\n",
       "      <td>53.226328</td>\n",
       "      <td>1.385391</td>\n",
       "      <td>13.067731</td>\n",
       "      <td>0.288429</td>\n",
       "      <td>11.073380</td>\n",
       "      <td>28.249538</td>\n",
       "      <td>15.797368</td>\n",
       "      <td>2.005725</td>\n",
       "      <td>0.569224</td>\n",
       "      <td>0.374597</td>\n",
       "      <td>4.133947</td>\n",
       "      <td>2.463479</td>\n",
       "      <td>0.138341</td>\n",
       "      <td>28.437184</td>\n",
       "      <td>42.704043</td>\n",
       "      <td>61.234633</td>\n",
       "    </tr>\n",
       "    <tr>\n",
       "      <th>min</th>\n",
       "      <td>0.134409</td>\n",
       "      <td>0.000000</td>\n",
       "      <td>13.000000</td>\n",
       "      <td>2014.000000</td>\n",
       "      <td>0.000000</td>\n",
       "      <td>3.000000</td>\n",
       "      <td>6.000000</td>\n",
       "      <td>1.000000</td>\n",
       "      <td>0.000000</td>\n",
       "      <td>0.000000</td>\n",
       "      <td>0.000000</td>\n",
       "      <td>0.000000</td>\n",
       "      <td>1.000000</td>\n",
       "      <td>0.000000</td>\n",
       "      <td>0.053818</td>\n",
       "      <td>0.000000</td>\n",
       "      <td>1.000000</td>\n",
       "      <td>-305.000000</td>\n",
       "    </tr>\n",
       "    <tr>\n",
       "      <th>25%</th>\n",
       "      <td>5376.344086</td>\n",
       "      <td>0.000000</td>\n",
       "      <td>365.000000</td>\n",
       "      <td>2018.000000</td>\n",
       "      <td>1.000000</td>\n",
       "      <td>4.666667</td>\n",
       "      <td>20.000000</td>\n",
       "      <td>6.000000</td>\n",
       "      <td>1.000000</td>\n",
       "      <td>1.000000</td>\n",
       "      <td>0.000000</td>\n",
       "      <td>0.125000</td>\n",
       "      <td>3.000000</td>\n",
       "      <td>1.000000</td>\n",
       "      <td>0.297884</td>\n",
       "      <td>20.458333</td>\n",
       "      <td>6.000000</td>\n",
       "      <td>31.000000</td>\n",
       "    </tr>\n",
       "    <tr>\n",
       "      <th>50%</th>\n",
       "      <td>7661.290323</td>\n",
       "      <td>0.000000</td>\n",
       "      <td>365.000000</td>\n",
       "      <td>2019.000000</td>\n",
       "      <td>6.000000</td>\n",
       "      <td>4.703725</td>\n",
       "      <td>26.051568</td>\n",
       "      <td>12.000000</td>\n",
       "      <td>4.000000</td>\n",
       "      <td>2.000000</td>\n",
       "      <td>0.000000</td>\n",
       "      <td>0.333333</td>\n",
       "      <td>5.000000</td>\n",
       "      <td>2.000000</td>\n",
       "      <td>0.367183</td>\n",
       "      <td>36.565217</td>\n",
       "      <td>15.000000</td>\n",
       "      <td>67.000000</td>\n",
       "    </tr>\n",
       "    <tr>\n",
       "      <th>75%</th>\n",
       "      <td>11424.731183</td>\n",
       "      <td>0.000000</td>\n",
       "      <td>366.000000</td>\n",
       "      <td>2020.000000</td>\n",
       "      <td>14.000000</td>\n",
       "      <td>5.000000</td>\n",
       "      <td>28.400000</td>\n",
       "      <td>23.000000</td>\n",
       "      <td>8.000000</td>\n",
       "      <td>4.000000</td>\n",
       "      <td>1.000000</td>\n",
       "      <td>0.588235</td>\n",
       "      <td>8.000000</td>\n",
       "      <td>4.000000</td>\n",
       "      <td>0.417306</td>\n",
       "      <td>53.600000</td>\n",
       "      <td>34.000000</td>\n",
       "      <td>85.000000</td>\n",
       "    </tr>\n",
       "    <tr>\n",
       "      <th>max</th>\n",
       "      <td>71023.411290</td>\n",
       "      <td>1.000000</td>\n",
       "      <td>638.000000</td>\n",
       "      <td>2021.000000</td>\n",
       "      <td>104.000000</td>\n",
       "      <td>5.000000</td>\n",
       "      <td>125.000000</td>\n",
       "      <td>267.000000</td>\n",
       "      <td>207.000000</td>\n",
       "      <td>11.000000</td>\n",
       "      <td>2.000000</td>\n",
       "      <td>4.000000</td>\n",
       "      <td>29.000000</td>\n",
       "      <td>14.000000</td>\n",
       "      <td>0.871181</td>\n",
       "      <td>233.000000</td>\n",
       "      <td>267.000000</td>\n",
       "      <td>426.000000</td>\n",
       "    </tr>\n",
       "  </tbody>\n",
       "</table>\n",
       "</div>"
      ],
      "text/plain": [
       "             Amount       Churn  Contract.Length  Created.On.Platform  \\\n",
       "count    821.000000  821.000000       821.000000           821.000000   \n",
       "mean    9657.051711    0.120585       372.934227          2018.937881   \n",
       "std     6828.748353    0.325842        53.226328             1.385391   \n",
       "min        0.134409    0.000000        13.000000          2014.000000   \n",
       "25%     5376.344086    0.000000       365.000000          2018.000000   \n",
       "50%     7661.290323    0.000000       365.000000          2019.000000   \n",
       "75%    11424.731183    0.000000       366.000000          2020.000000   \n",
       "max    71023.411290    1.000000       638.000000          2021.000000   \n",
       "\n",
       "       No.Of.Conversations.Q1.To.Q3  Avg.Conversation.Rating.Q1.To.Q3  \\\n",
       "count                    821.000000                        821.000000   \n",
       "mean                      10.131547                          4.703725   \n",
       "std                       13.067731                          0.288429   \n",
       "min                        0.000000                          3.000000   \n",
       "25%                        1.000000                          4.666667   \n",
       "50%                        6.000000                          4.703725   \n",
       "75%                       14.000000                          5.000000   \n",
       "max                      104.000000                          5.000000   \n",
       "\n",
       "       Avg.No.Of.Conversation.Parts.Q1.To.Q3  Created.Campaigns.Q1.To.Q3  \\\n",
       "count                             821.000000                  821.000000   \n",
       "mean                               26.051568                   20.292326   \n",
       "std                                11.073380                   28.249538   \n",
       "min                                 6.000000                    1.000000   \n",
       "25%                                20.000000                    6.000000   \n",
       "50%                                26.051568                   12.000000   \n",
       "75%                                28.400000                   23.000000   \n",
       "max                               125.000000                  267.000000   \n",
       "\n",
       "       Live.Campaigns.Q1.To.Q3  No.Of.Integrations.Q1.To.Q3  \\\n",
       "count               821.000000                   821.000000   \n",
       "mean                  8.101096                     2.752741   \n",
       "std                  15.797368                     2.005725   \n",
       "min                   0.000000                     0.000000   \n",
       "25%                   1.000000                     1.000000   \n",
       "50%                   4.000000                     2.000000   \n",
       "75%                   8.000000                     4.000000   \n",
       "max                 207.000000                    11.000000   \n",
       "\n",
       "       Previous.No.Of.Deals  Percentage.Going.Live  Distinct.Game.Types.Used  \\\n",
       "count            821.000000             821.000000                821.000000   \n",
       "mean               0.371498               0.399253                  5.897686   \n",
       "std                0.569224               0.374597                  4.133947   \n",
       "min                0.000000               0.000000                  1.000000   \n",
       "25%                0.000000               0.125000                  3.000000   \n",
       "50%                0.000000               0.333333                  5.000000   \n",
       "75%                1.000000               0.588235                  8.000000   \n",
       "max                2.000000               4.000000                 29.000000   \n",
       "\n",
       "       Distinct.Live.Game.Types.Used  Avg.Unique.Reg.Rate.Q1.To.Q3  \\\n",
       "count                     821.000000                    821.000000   \n",
       "mean                        2.809988                      0.367183   \n",
       "std                         2.463479                      0.138341   \n",
       "min                         0.000000                      0.053818   \n",
       "25%                         1.000000                      0.297884   \n",
       "50%                         2.000000                      0.367183   \n",
       "75%                         4.000000                      0.417306   \n",
       "max                        14.000000                      0.871181   \n",
       "\n",
       "       Avg.Time.Spent.Q1.To.Q3  Days.Until.First.Campaign  \\\n",
       "count               821.000000                 821.000000   \n",
       "mean                 39.317469                  30.479903   \n",
       "std                  28.437184                  42.704043   \n",
       "min                   0.000000                   1.000000   \n",
       "25%                  20.458333                   6.000000   \n",
       "50%                  36.565217                  15.000000   \n",
       "75%                  53.600000                  34.000000   \n",
       "max                 233.000000                 267.000000   \n",
       "\n",
       "       Days.Until.First.Live.Campaign  \n",
       "count                      821.000000  \n",
       "mean                        72.833333  \n",
       "std                         61.234633  \n",
       "min                       -305.000000  \n",
       "25%                         31.000000  \n",
       "50%                         67.000000  \n",
       "75%                         85.000000  \n",
       "max                        426.000000  "
      ]
     },
     "execution_count": 5,
     "metadata": {},
     "output_type": "execute_result"
    }
   ],
   "source": [
    "df.describe()"
   ]
  },
  {
   "cell_type": "markdown",
   "id": "064874bc",
   "metadata": {},
   "source": [
    "### Label Encoding for Ordinal Features"
   ]
  },
  {
   "cell_type": "code",
   "execution_count": 6,
   "id": "15eed875",
   "metadata": {},
   "outputs": [],
   "source": [
    "# POS\n",
    "def poc(x):\n",
    "    if x == \"No\":\n",
    "        return 0\n",
    "    else:\n",
    "        return 1\n",
    "\n",
    "df[\"Has.Ever.Been.Poc\"] = df[\"Has.Ever.Been.Poc\"].apply(poc)"
   ]
  },
  {
   "cell_type": "code",
   "execution_count": 7,
   "id": "e59763ae",
   "metadata": {},
   "outputs": [],
   "source": [
    "# Tier\n",
    "\n",
    "def tier(x):\n",
    "    if x == \"A\":\n",
    "        return 3\n",
    "    if x == \"B\":\n",
    "        return 2\n",
    "    if x == \"C\":\n",
    "        return 1\n",
    "    if x == \"Enterprise\":\n",
    "        return 0\n",
    "\n",
    "df[\"Tier\"] = df[\"Tier\"].apply(tier)"
   ]
  },
  {
   "cell_type": "markdown",
   "id": "afbab207",
   "metadata": {},
   "source": [
    "### One Hot Encoding"
   ]
  },
  {
   "cell_type": "code",
   "execution_count": 8,
   "id": "3f337a29",
   "metadata": {},
   "outputs": [],
   "source": [
    "df = pd.get_dummies(df)"
   ]
  },
  {
   "cell_type": "markdown",
   "id": "ff0f393c",
   "metadata": {},
   "source": [
    "**Separate features and target variables**"
   ]
  },
  {
   "cell_type": "code",
   "execution_count": 9,
   "id": "150d0444",
   "metadata": {},
   "outputs": [],
   "source": [
    "# Features\n",
    "features = df[df.columns.drop(\"Churn\")]\n",
    "\n",
    "# Target\n",
    "target = df[\"Churn\"]"
   ]
  },
  {
   "cell_type": "markdown",
   "id": "437f9e3b",
   "metadata": {},
   "source": [
    "### Logistic Regression Stats Model"
   ]
  },
  {
   "cell_type": "code",
   "execution_count": 10,
   "id": "ce7c72da",
   "metadata": {},
   "outputs": [],
   "source": [
    "X_train, X_test, y_train, y_test = train_test_split(features,\n",
    "                                                    target,\n",
    "                                                    test_size = 0.2,\n",
    "                                                    stratify = target,\n",
    "                                                    random_state = 42)"
   ]
  },
  {
   "cell_type": "code",
   "execution_count": 11,
   "id": "20aa6f94",
   "metadata": {
    "scrolled": false
   },
   "outputs": [
    {
     "name": "stdout",
     "output_type": "stream",
     "text": [
      "Warning: Maximum number of iterations has been exceeded.\n",
      "         Current function value: 0.266427\n",
      "         Iterations: 35\n"
     ]
    },
    {
     "name": "stderr",
     "output_type": "stream",
     "text": [
      "C:\\Users\\Jazi Designs\\Anaconda3\\lib\\site-packages\\statsmodels\\base\\model.py:566: ConvergenceWarning: Maximum Likelihood optimization failed to converge. Check mle_retvals\n",
      "  warnings.warn(\"Maximum Likelihood optimization failed to \"\n"
     ]
    },
    {
     "data": {
      "text/html": [
       "<table class=\"simpletable\">\n",
       "<caption>Logit Regression Results</caption>\n",
       "<tr>\n",
       "  <th>Dep. Variable:</th>         <td>Churn</td>      <th>  No. Observations:  </th>  <td>   656</td>  \n",
       "</tr>\n",
       "<tr>\n",
       "  <th>Model:</th>                 <td>Logit</td>      <th>  Df Residuals:      </th>  <td>   621</td>  \n",
       "</tr>\n",
       "<tr>\n",
       "  <th>Method:</th>                 <td>MLE</td>       <th>  Df Model:          </th>  <td>    34</td>  \n",
       "</tr>\n",
       "<tr>\n",
       "  <th>Date:</th>            <td>Mon, 01 Nov 2021</td> <th>  Pseudo R-squ.:     </th>  <td>0.2756</td>  \n",
       "</tr>\n",
       "<tr>\n",
       "  <th>Time:</th>                <td>16:44:47</td>     <th>  Log-Likelihood:    </th> <td> -174.78</td> \n",
       "</tr>\n",
       "<tr>\n",
       "  <th>converged:</th>             <td>False</td>      <th>  LL-Null:           </th> <td> -241.26</td> \n",
       "</tr>\n",
       "<tr>\n",
       "  <th>Covariance Type:</th>     <td>nonrobust</td>    <th>  LLR p-value:       </th> <td>1.220e-13</td>\n",
       "</tr>\n",
       "</table>\n",
       "<table class=\"simpletable\">\n",
       "<tr>\n",
       "                              <td></td>                                 <th>coef</th>     <th>std err</th>      <th>z</th>      <th>P>|z|</th>  <th>[0.025</th>    <th>0.975]</th>  \n",
       "</tr>\n",
       "<tr>\n",
       "  <th>Amount</th>                                                    <td>-7.681e-05</td> <td> 3.23e-05</td> <td>   -2.379</td> <td> 0.017</td> <td>   -0.000</td> <td>-1.35e-05</td>\n",
       "</tr>\n",
       "<tr>\n",
       "  <th>Contract.Length</th>                                           <td>    0.0083</td> <td>    0.003</td> <td>    2.978</td> <td> 0.003</td> <td>    0.003</td> <td>    0.014</td>\n",
       "</tr>\n",
       "<tr>\n",
       "  <th>Has.Ever.Been.Poc</th>                                         <td>    0.2414</td> <td>    0.432</td> <td>    0.559</td> <td> 0.576</td> <td>   -0.605</td> <td>    1.088</td>\n",
       "</tr>\n",
       "<tr>\n",
       "  <th>Tier</th>                                                      <td>   -0.3828</td> <td>    0.177</td> <td>   -2.162</td> <td> 0.031</td> <td>   -0.730</td> <td>   -0.036</td>\n",
       "</tr>\n",
       "<tr>\n",
       "  <th>Created.On.Platform</th>                                       <td>   -0.1537</td> <td>    0.160</td> <td>   -0.962</td> <td> 0.336</td> <td>   -0.467</td> <td>    0.159</td>\n",
       "</tr>\n",
       "<tr>\n",
       "  <th>No.Of.Conversations.Q1.To.Q3</th>                              <td>   -0.0786</td> <td>    0.025</td> <td>   -3.173</td> <td> 0.002</td> <td>   -0.127</td> <td>   -0.030</td>\n",
       "</tr>\n",
       "<tr>\n",
       "  <th>Avg.Conversation.Rating.Q1.To.Q3</th>                          <td>   -0.5106</td> <td>    0.519</td> <td>   -0.984</td> <td> 0.325</td> <td>   -1.528</td> <td>    0.507</td>\n",
       "</tr>\n",
       "<tr>\n",
       "  <th>Avg.No.Of.Conversation.Parts.Q1.To.Q3</th>                     <td>   -0.0019</td> <td>    0.013</td> <td>   -0.143</td> <td> 0.886</td> <td>   -0.027</td> <td>    0.024</td>\n",
       "</tr>\n",
       "<tr>\n",
       "  <th>Created.Campaigns.Q1.To.Q3</th>                                <td>    0.0012</td> <td>    0.023</td> <td>    0.051</td> <td> 0.959</td> <td>   -0.044</td> <td>    0.046</td>\n",
       "</tr>\n",
       "<tr>\n",
       "  <th>Live.Campaigns.Q1.To.Q3</th>                                   <td>   -0.1230</td> <td>    0.067</td> <td>   -1.834</td> <td> 0.067</td> <td>   -0.254</td> <td>    0.008</td>\n",
       "</tr>\n",
       "<tr>\n",
       "  <th>No.Of.Integrations.Q1.To.Q3</th>                               <td>    0.1524</td> <td>    0.088</td> <td>    1.727</td> <td> 0.084</td> <td>   -0.021</td> <td>    0.325</td>\n",
       "</tr>\n",
       "<tr>\n",
       "  <th>Previous.No.Of.Deals</th>                                      <td>   -1.7875</td> <td>    0.587</td> <td>   -3.044</td> <td> 0.002</td> <td>   -2.938</td> <td>   -0.637</td>\n",
       "</tr>\n",
       "<tr>\n",
       "  <th>Percentage.Going.Live</th>                                     <td>    0.4668</td> <td>    0.491</td> <td>    0.952</td> <td> 0.341</td> <td>   -0.495</td> <td>    1.428</td>\n",
       "</tr>\n",
       "<tr>\n",
       "  <th>Distinct.Game.Types.Used</th>                                  <td>   -0.0465</td> <td>    0.082</td> <td>   -0.569</td> <td> 0.569</td> <td>   -0.207</td> <td>    0.114</td>\n",
       "</tr>\n",
       "<tr>\n",
       "  <th>Distinct.Live.Game.Types.Used</th>                             <td>    0.2253</td> <td>    0.153</td> <td>    1.472</td> <td> 0.141</td> <td>   -0.075</td> <td>    0.525</td>\n",
       "</tr>\n",
       "<tr>\n",
       "  <th>Avg.Unique.Reg.Rate.Q1.To.Q3</th>                              <td>    0.4674</td> <td>    1.119</td> <td>    0.418</td> <td> 0.676</td> <td>   -1.726</td> <td>    2.661</td>\n",
       "</tr>\n",
       "<tr>\n",
       "  <th>Avg.Time.Spent.Q1.To.Q3</th>                                   <td>    0.0046</td> <td>    0.005</td> <td>    0.982</td> <td> 0.326</td> <td>   -0.005</td> <td>    0.014</td>\n",
       "</tr>\n",
       "<tr>\n",
       "  <th>Days.Until.First.Campaign</th>                                 <td>   -0.0041</td> <td>    0.005</td> <td>   -0.885</td> <td> 0.376</td> <td>   -0.013</td> <td>    0.005</td>\n",
       "</tr>\n",
       "<tr>\n",
       "  <th>Days.Until.First.Live.Campaign</th>                            <td>   -0.0018</td> <td>    0.003</td> <td>   -0.701</td> <td> 0.483</td> <td>   -0.007</td> <td>    0.003</td>\n",
       "</tr>\n",
       "<tr>\n",
       "  <th>Pipeline_Newbizz Pipeline</th>                                 <td>  185.4369</td> <td>      nan</td> <td>      nan</td> <td>   nan</td> <td>      nan</td> <td>      nan</td>\n",
       "</tr>\n",
       "<tr>\n",
       "  <th>Pipeline_Renewal sales pipeline</th>                           <td>  184.6102</td> <td>      nan</td> <td>      nan</td> <td>   nan</td> <td>      nan</td> <td>      nan</td>\n",
       "</tr>\n",
       "<tr>\n",
       "  <th>Country_DK</th>                                                <td>   92.1301</td> <td> 1.64e+07</td> <td> 5.61e-06</td> <td> 1.000</td> <td>-3.22e+07</td> <td> 3.22e+07</td>\n",
       "</tr>\n",
       "<tr>\n",
       "  <th>Country_FI</th>                                                <td>   92.4193</td> <td>  1.6e+07</td> <td> 5.77e-06</td> <td> 1.000</td> <td>-3.14e+07</td> <td> 3.14e+07</td>\n",
       "</tr>\n",
       "<tr>\n",
       "  <th>Country_NL</th>                                                <td>   92.1215</td> <td> 1.62e+07</td> <td> 5.68e-06</td> <td> 1.000</td> <td>-3.18e+07</td> <td> 3.18e+07</td>\n",
       "</tr>\n",
       "<tr>\n",
       "  <th>Country_UK</th>                                                <td>   93.3695</td> <td> 1.64e+07</td> <td>  5.7e-06</td> <td> 1.000</td> <td>-3.21e+07</td> <td> 3.21e+07</td>\n",
       "</tr>\n",
       "<tr>\n",
       "  <th>Industry_B2B</th>                                              <td>   31.2863</td> <td> 6.32e+06</td> <td> 4.95e-06</td> <td> 1.000</td> <td>-1.24e+07</td> <td> 1.24e+07</td>\n",
       "</tr>\n",
       "<tr>\n",
       "  <th>Industry_Consumer brands</th>                                  <td>   32.2403</td> <td> 6.32e+06</td> <td>  5.1e-06</td> <td> 1.000</td> <td>-1.24e+07</td> <td> 1.24e+07</td>\n",
       "</tr>\n",
       "<tr>\n",
       "  <th>Industry_Education (university, online training, schools)</th> <td>   31.2261</td> <td> 6.32e+06</td> <td> 4.94e-06</td> <td> 1.000</td> <td>-1.24e+07</td> <td> 1.24e+07</td>\n",
       "</tr>\n",
       "<tr>\n",
       "  <th>Industry_Energy / utility</th>                                 <td>   31.6405</td> <td> 6.32e+06</td> <td>    5e-06</td> <td> 1.000</td> <td>-1.24e+07</td> <td> 1.24e+07</td>\n",
       "</tr>\n",
       "<tr>\n",
       "  <th>Industry_Financial services</th>                               <td>   31.6652</td> <td> 6.32e+06</td> <td> 5.01e-06</td> <td> 1.000</td> <td>-1.24e+07</td> <td> 1.24e+07</td>\n",
       "</tr>\n",
       "<tr>\n",
       "  <th>Industry_Government/Public Sector</th>                         <td>   32.7778</td> <td> 6.32e+06</td> <td> 5.18e-06</td> <td> 1.000</td> <td>-1.24e+07</td> <td> 1.24e+07</td>\n",
       "</tr>\n",
       "<tr>\n",
       "  <th>Industry_Media & entertainment</th>                            <td>   32.2519</td> <td> 6.32e+06</td> <td>  5.1e-06</td> <td> 1.000</td> <td>-1.24e+07</td> <td> 1.24e+07</td>\n",
       "</tr>\n",
       "<tr>\n",
       "  <th>Industry_NGO/interest organisations/labour unions</th>         <td>   31.8502</td> <td> 6.32e+06</td> <td> 5.04e-06</td> <td> 1.000</td> <td>-1.24e+07</td> <td> 1.24e+07</td>\n",
       "</tr>\n",
       "<tr>\n",
       "  <th>Industry_Pharma / Healthcare</th>                              <td>   32.2369</td> <td> 6.32e+06</td> <td>  5.1e-06</td> <td> 1.000</td> <td>-1.24e+07</td> <td> 1.24e+07</td>\n",
       "</tr>\n",
       "<tr>\n",
       "  <th>Industry_Retailers</th>                                        <td>   31.6714</td> <td> 6.32e+06</td> <td> 5.01e-06</td> <td> 1.000</td> <td>-1.24e+07</td> <td> 1.24e+07</td>\n",
       "</tr>\n",
       "<tr>\n",
       "  <th>Industry_Telecommunications / Broadband/internet</th>          <td>   18.9254</td> <td> 6.32e+06</td> <td> 2.99e-06</td> <td> 1.000</td> <td>-1.24e+07</td> <td> 1.24e+07</td>\n",
       "</tr>\n",
       "<tr>\n",
       "  <th>Industry_Travel & Leisure</th>                                 <td>   32.2733</td> <td> 6.32e+06</td> <td>  5.1e-06</td> <td> 1.000</td> <td>-1.24e+07</td> <td> 1.24e+07</td>\n",
       "</tr>\n",
       "</table>"
      ],
      "text/plain": [
       "<class 'statsmodels.iolib.summary.Summary'>\n",
       "\"\"\"\n",
       "                           Logit Regression Results                           \n",
       "==============================================================================\n",
       "Dep. Variable:                  Churn   No. Observations:                  656\n",
       "Model:                          Logit   Df Residuals:                      621\n",
       "Method:                           MLE   Df Model:                           34\n",
       "Date:                Mon, 01 Nov 2021   Pseudo R-squ.:                  0.2756\n",
       "Time:                        16:44:47   Log-Likelihood:                -174.78\n",
       "converged:                      False   LL-Null:                       -241.26\n",
       "Covariance Type:            nonrobust   LLR p-value:                 1.220e-13\n",
       "=============================================================================================================================\n",
       "                                                                coef    std err          z      P>|z|      [0.025      0.975]\n",
       "-----------------------------------------------------------------------------------------------------------------------------\n",
       "Amount                                                    -7.681e-05   3.23e-05     -2.379      0.017      -0.000   -1.35e-05\n",
       "Contract.Length                                               0.0083      0.003      2.978      0.003       0.003       0.014\n",
       "Has.Ever.Been.Poc                                             0.2414      0.432      0.559      0.576      -0.605       1.088\n",
       "Tier                                                         -0.3828      0.177     -2.162      0.031      -0.730      -0.036\n",
       "Created.On.Platform                                          -0.1537      0.160     -0.962      0.336      -0.467       0.159\n",
       "No.Of.Conversations.Q1.To.Q3                                 -0.0786      0.025     -3.173      0.002      -0.127      -0.030\n",
       "Avg.Conversation.Rating.Q1.To.Q3                             -0.5106      0.519     -0.984      0.325      -1.528       0.507\n",
       "Avg.No.Of.Conversation.Parts.Q1.To.Q3                        -0.0019      0.013     -0.143      0.886      -0.027       0.024\n",
       "Created.Campaigns.Q1.To.Q3                                    0.0012      0.023      0.051      0.959      -0.044       0.046\n",
       "Live.Campaigns.Q1.To.Q3                                      -0.1230      0.067     -1.834      0.067      -0.254       0.008\n",
       "No.Of.Integrations.Q1.To.Q3                                   0.1524      0.088      1.727      0.084      -0.021       0.325\n",
       "Previous.No.Of.Deals                                         -1.7875      0.587     -3.044      0.002      -2.938      -0.637\n",
       "Percentage.Going.Live                                         0.4668      0.491      0.952      0.341      -0.495       1.428\n",
       "Distinct.Game.Types.Used                                     -0.0465      0.082     -0.569      0.569      -0.207       0.114\n",
       "Distinct.Live.Game.Types.Used                                 0.2253      0.153      1.472      0.141      -0.075       0.525\n",
       "Avg.Unique.Reg.Rate.Q1.To.Q3                                  0.4674      1.119      0.418      0.676      -1.726       2.661\n",
       "Avg.Time.Spent.Q1.To.Q3                                       0.0046      0.005      0.982      0.326      -0.005       0.014\n",
       "Days.Until.First.Campaign                                    -0.0041      0.005     -0.885      0.376      -0.013       0.005\n",
       "Days.Until.First.Live.Campaign                               -0.0018      0.003     -0.701      0.483      -0.007       0.003\n",
       "Pipeline_Newbizz Pipeline                                   185.4369        nan        nan        nan         nan         nan\n",
       "Pipeline_Renewal sales pipeline                             184.6102        nan        nan        nan         nan         nan\n",
       "Country_DK                                                   92.1301   1.64e+07   5.61e-06      1.000   -3.22e+07    3.22e+07\n",
       "Country_FI                                                   92.4193    1.6e+07   5.77e-06      1.000   -3.14e+07    3.14e+07\n",
       "Country_NL                                                   92.1215   1.62e+07   5.68e-06      1.000   -3.18e+07    3.18e+07\n",
       "Country_UK                                                   93.3695   1.64e+07    5.7e-06      1.000   -3.21e+07    3.21e+07\n",
       "Industry_B2B                                                 31.2863   6.32e+06   4.95e-06      1.000   -1.24e+07    1.24e+07\n",
       "Industry_Consumer brands                                     32.2403   6.32e+06    5.1e-06      1.000   -1.24e+07    1.24e+07\n",
       "Industry_Education (university, online training, schools)    31.2261   6.32e+06   4.94e-06      1.000   -1.24e+07    1.24e+07\n",
       "Industry_Energy / utility                                    31.6405   6.32e+06      5e-06      1.000   -1.24e+07    1.24e+07\n",
       "Industry_Financial services                                  31.6652   6.32e+06   5.01e-06      1.000   -1.24e+07    1.24e+07\n",
       "Industry_Government/Public Sector                            32.7778   6.32e+06   5.18e-06      1.000   -1.24e+07    1.24e+07\n",
       "Industry_Media & entertainment                               32.2519   6.32e+06    5.1e-06      1.000   -1.24e+07    1.24e+07\n",
       "Industry_NGO/interest organisations/labour unions            31.8502   6.32e+06   5.04e-06      1.000   -1.24e+07    1.24e+07\n",
       "Industry_Pharma / Healthcare                                 32.2369   6.32e+06    5.1e-06      1.000   -1.24e+07    1.24e+07\n",
       "Industry_Retailers                                           31.6714   6.32e+06   5.01e-06      1.000   -1.24e+07    1.24e+07\n",
       "Industry_Telecommunications / Broadband/internet             18.9254   6.32e+06   2.99e-06      1.000   -1.24e+07    1.24e+07\n",
       "Industry_Travel & Leisure                                    32.2733   6.32e+06    5.1e-06      1.000   -1.24e+07    1.24e+07\n",
       "=============================================================================================================================\n",
       "\"\"\""
      ]
     },
     "execution_count": 11,
     "metadata": {},
     "output_type": "execute_result"
    }
   ],
   "source": [
    "# building the model and fitting the data\n",
    "log_reg = sm.Logit(y_train, X_train).fit()\n",
    "\n",
    "log_reg.summary()"
   ]
  },
  {
   "cell_type": "markdown",
   "id": "3db2a7f0",
   "metadata": {},
   "source": [
    "### Select features which have P>|z| less than 0.05"
   ]
  },
  {
   "cell_type": "code",
   "execution_count": 12,
   "id": "34589d06",
   "metadata": {},
   "outputs": [],
   "source": [
    "X = df[[\"Amount\", \n",
    "        \"Contract.Length\", \n",
    "        \"Tier\", \n",
    "        \"No.Of.Conversations.Q1.To.Q3\", \n",
    "        \"Previous.No.Of.Deals\"]]\n",
    "\n",
    "y = df[\"Churn\"]"
   ]
  },
  {
   "cell_type": "markdown",
   "id": "31487886",
   "metadata": {},
   "source": [
    "### Apply SMOTE Method if target class is unballanced"
   ]
  },
  {
   "cell_type": "code",
   "execution_count": 13,
   "id": "06e5ecff",
   "metadata": {},
   "outputs": [
    {
     "data": {
      "text/plain": [
       "0    0.879415\n",
       "1    0.120585\n",
       "Name: Churn, dtype: float64"
      ]
     },
     "execution_count": 13,
     "metadata": {},
     "output_type": "execute_result"
    }
   ],
   "source": [
    "df[\"Churn\"].value_counts(normalize = True)"
   ]
  },
  {
   "cell_type": "markdown",
   "id": "4f8ffde0",
   "metadata": {},
   "source": [
    "Target Class is highly unballanced so we apply SMOTE to balance the classes"
   ]
  },
  {
   "cell_type": "markdown",
   "id": "0caa158d",
   "metadata": {},
   "source": [
    "### SMOTE"
   ]
  },
  {
   "cell_type": "code",
   "execution_count": 14,
   "id": "b1c74e00",
   "metadata": {},
   "outputs": [],
   "source": [
    "smote = SMOTE(random_state=42)\n",
    "X, y = smote.fit_resample(X, y)"
   ]
  },
  {
   "cell_type": "code",
   "execution_count": 15,
   "id": "80cf5bf4",
   "metadata": {},
   "outputs": [
    {
     "name": "stdout",
     "output_type": "stream",
     "text": [
      "<class 'pandas.core.frame.DataFrame'>\n",
      "RangeIndex: 1444 entries, 0 to 1443\n",
      "Data columns (total 5 columns):\n",
      " #   Column                        Non-Null Count  Dtype  \n",
      "---  ------                        --------------  -----  \n",
      " 0   Amount                        1444 non-null   float64\n",
      " 1   Contract.Length               1444 non-null   int64  \n",
      " 2   Tier                          1444 non-null   int64  \n",
      " 3   No.Of.Conversations.Q1.To.Q3  1444 non-null   int64  \n",
      " 4   Previous.No.Of.Deals          1444 non-null   int64  \n",
      "dtypes: float64(1), int64(4)\n",
      "memory usage: 56.5 KB\n"
     ]
    }
   ],
   "source": [
    "X.info()"
   ]
  },
  {
   "cell_type": "code",
   "execution_count": 16,
   "id": "55103b65",
   "metadata": {},
   "outputs": [],
   "source": [
    "X[\"Tier\"] = X[\"Tier\"].astype(\"category\")"
   ]
  },
  {
   "cell_type": "markdown",
   "id": "847dfa46",
   "metadata": {},
   "source": [
    "**Split Data into training set and testing set**"
   ]
  },
  {
   "cell_type": "code",
   "execution_count": 17,
   "id": "3c6823d0",
   "metadata": {},
   "outputs": [],
   "source": [
    "X_train, X_test, y_train, y_test = train_test_split(X,\n",
    "                                                    y,\n",
    "                                                    test_size = 0.2,\n",
    "                                                    stratify = y,\n",
    "                                                    random_state = 42)"
   ]
  },
  {
   "cell_type": "markdown",
   "id": "18aa33e4",
   "metadata": {},
   "source": [
    "# Logistic Regression"
   ]
  },
  {
   "cell_type": "code",
   "execution_count": 87,
   "id": "78d3839a",
   "metadata": {},
   "outputs": [
    {
     "data": {
      "text/html": [
       "<div>\n",
       "<style scoped>\n",
       "    .dataframe tbody tr th:only-of-type {\n",
       "        vertical-align: middle;\n",
       "    }\n",
       "\n",
       "    .dataframe tbody tr th {\n",
       "        vertical-align: top;\n",
       "    }\n",
       "\n",
       "    .dataframe thead th {\n",
       "        text-align: right;\n",
       "    }\n",
       "</style>\n",
       "<table border=\"1\" class=\"dataframe\">\n",
       "  <thead>\n",
       "    <tr style=\"text-align: right;\">\n",
       "      <th></th>\n",
       "      <th>Actual</th>\n",
       "      <th>Predicted</th>\n",
       "    </tr>\n",
       "  </thead>\n",
       "  <tbody>\n",
       "    <tr>\n",
       "      <th>783</th>\n",
       "      <td>1</td>\n",
       "      <td>1</td>\n",
       "    </tr>\n",
       "    <tr>\n",
       "      <th>718</th>\n",
       "      <td>0</td>\n",
       "      <td>0</td>\n",
       "    </tr>\n",
       "    <tr>\n",
       "      <th>803</th>\n",
       "      <td>0</td>\n",
       "      <td>0</td>\n",
       "    </tr>\n",
       "    <tr>\n",
       "      <th>1338</th>\n",
       "      <td>1</td>\n",
       "      <td>0</td>\n",
       "    </tr>\n",
       "    <tr>\n",
       "      <th>524</th>\n",
       "      <td>1</td>\n",
       "      <td>1</td>\n",
       "    </tr>\n",
       "    <tr>\n",
       "      <th>642</th>\n",
       "      <td>0</td>\n",
       "      <td>0</td>\n",
       "    </tr>\n",
       "    <tr>\n",
       "      <th>1167</th>\n",
       "      <td>1</td>\n",
       "      <td>1</td>\n",
       "    </tr>\n",
       "    <tr>\n",
       "      <th>348</th>\n",
       "      <td>0</td>\n",
       "      <td>1</td>\n",
       "    </tr>\n",
       "    <tr>\n",
       "      <th>70</th>\n",
       "      <td>1</td>\n",
       "      <td>1</td>\n",
       "    </tr>\n",
       "    <tr>\n",
       "      <th>738</th>\n",
       "      <td>0</td>\n",
       "      <td>0</td>\n",
       "    </tr>\n",
       "  </tbody>\n",
       "</table>\n",
       "</div>"
      ],
      "text/plain": [
       "      Actual  Predicted\n",
       "783        1          1\n",
       "718        0          0\n",
       "803        0          0\n",
       "1338       1          0\n",
       "524        1          1\n",
       "642        0          0\n",
       "1167       1          1\n",
       "348        0          1\n",
       "70         1          1\n",
       "738        0          0"
      ]
     },
     "execution_count": 87,
     "metadata": {},
     "output_type": "execute_result"
    }
   ],
   "source": [
    "lr = LogisticRegression()\n",
    "\n",
    "lr.fit(X_train, y_train)\n",
    "\n",
    "pred_lr = lr.predict(X_test)\n",
    "pd.DataFrame({\"Actual\": y_test,\n",
    "              \"Predicted\": pred_lr}).sample(10)"
   ]
  },
  {
   "cell_type": "markdown",
   "id": "cdf699a0",
   "metadata": {},
   "source": [
    "**Logistic Regression Confusion Matrix**"
   ]
  },
  {
   "cell_type": "code",
   "execution_count": 88,
   "id": "24d8f4e1",
   "metadata": {},
   "outputs": [
    {
     "data": {
      "text/html": [
       "<div>\n",
       "<style scoped>\n",
       "    .dataframe tbody tr th:only-of-type {\n",
       "        vertical-align: middle;\n",
       "    }\n",
       "\n",
       "    .dataframe tbody tr th {\n",
       "        vertical-align: top;\n",
       "    }\n",
       "\n",
       "    .dataframe thead th {\n",
       "        text-align: right;\n",
       "    }\n",
       "</style>\n",
       "<table border=\"1\" class=\"dataframe\">\n",
       "  <thead>\n",
       "    <tr style=\"text-align: right;\">\n",
       "      <th></th>\n",
       "      <th>0</th>\n",
       "      <th>1</th>\n",
       "    </tr>\n",
       "  </thead>\n",
       "  <tbody>\n",
       "    <tr>\n",
       "      <th>0</th>\n",
       "      <td>105</td>\n",
       "      <td>40</td>\n",
       "    </tr>\n",
       "    <tr>\n",
       "      <th>1</th>\n",
       "      <td>19</td>\n",
       "      <td>125</td>\n",
       "    </tr>\n",
       "  </tbody>\n",
       "</table>\n",
       "</div>"
      ],
      "text/plain": [
       "     0    1\n",
       "0  105   40\n",
       "1   19  125"
      ]
     },
     "execution_count": 88,
     "metadata": {},
     "output_type": "execute_result"
    }
   ],
   "source": [
    "pd.DataFrame(confusion_matrix(y_test, pred_lr))"
   ]
  },
  {
   "cell_type": "markdown",
   "id": "323d9794",
   "metadata": {},
   "source": [
    "**Logistic Regression Classification Report**"
   ]
  },
  {
   "cell_type": "code",
   "execution_count": 89,
   "id": "735e2405",
   "metadata": {},
   "outputs": [
    {
     "name": "stdout",
     "output_type": "stream",
     "text": [
      "              precision    recall  f1-score   support\n",
      "\n",
      "           0       0.85      0.72      0.78       145\n",
      "           1       0.76      0.87      0.81       144\n",
      "\n",
      "    accuracy                           0.80       289\n",
      "   macro avg       0.80      0.80      0.79       289\n",
      "weighted avg       0.80      0.80      0.79       289\n",
      "\n"
     ]
    }
   ],
   "source": [
    "print(classification_report(y_test, pred_lr))"
   ]
  },
  {
   "cell_type": "markdown",
   "id": "f12c087e",
   "metadata": {},
   "source": [
    "### Logistic Regression with Tuned Parameters"
   ]
  },
  {
   "cell_type": "code",
   "execution_count": 90,
   "id": "a4bba57a",
   "metadata": {},
   "outputs": [
    {
     "data": {
      "text/plain": [
       "{'C': 0.7}"
      ]
     },
     "execution_count": 90,
     "metadata": {},
     "output_type": "execute_result"
    }
   ],
   "source": [
    "params = {\"C\": [0.0001, 0.001, 0.01, 0.1, 0.5, 0.7, 0.9, 1]}\n",
    "\n",
    "lr = LogisticRegression()\n",
    "\n",
    "cv = GridSearchCV(lr, params)\n",
    "\n",
    "cv.fit(X_train, y_train)\n",
    "\n",
    "cv.best_params_"
   ]
  },
  {
   "cell_type": "code",
   "execution_count": 91,
   "id": "3f6b6882",
   "metadata": {},
   "outputs": [
    {
     "data": {
      "text/html": [
       "<div>\n",
       "<style scoped>\n",
       "    .dataframe tbody tr th:only-of-type {\n",
       "        vertical-align: middle;\n",
       "    }\n",
       "\n",
       "    .dataframe tbody tr th {\n",
       "        vertical-align: top;\n",
       "    }\n",
       "\n",
       "    .dataframe thead th {\n",
       "        text-align: right;\n",
       "    }\n",
       "</style>\n",
       "<table border=\"1\" class=\"dataframe\">\n",
       "  <thead>\n",
       "    <tr style=\"text-align: right;\">\n",
       "      <th></th>\n",
       "      <th>Actual</th>\n",
       "      <th>Predicted</th>\n",
       "    </tr>\n",
       "  </thead>\n",
       "  <tbody>\n",
       "    <tr>\n",
       "      <th>859</th>\n",
       "      <td>1</td>\n",
       "      <td>0</td>\n",
       "    </tr>\n",
       "    <tr>\n",
       "      <th>174</th>\n",
       "      <td>0</td>\n",
       "      <td>1</td>\n",
       "    </tr>\n",
       "    <tr>\n",
       "      <th>824</th>\n",
       "      <td>1</td>\n",
       "      <td>1</td>\n",
       "    </tr>\n",
       "    <tr>\n",
       "      <th>800</th>\n",
       "      <td>0</td>\n",
       "      <td>0</td>\n",
       "    </tr>\n",
       "    <tr>\n",
       "      <th>43</th>\n",
       "      <td>0</td>\n",
       "      <td>0</td>\n",
       "    </tr>\n",
       "    <tr>\n",
       "      <th>1002</th>\n",
       "      <td>1</td>\n",
       "      <td>1</td>\n",
       "    </tr>\n",
       "    <tr>\n",
       "      <th>1272</th>\n",
       "      <td>1</td>\n",
       "      <td>1</td>\n",
       "    </tr>\n",
       "    <tr>\n",
       "      <th>435</th>\n",
       "      <td>0</td>\n",
       "      <td>1</td>\n",
       "    </tr>\n",
       "    <tr>\n",
       "      <th>697</th>\n",
       "      <td>0</td>\n",
       "      <td>1</td>\n",
       "    </tr>\n",
       "    <tr>\n",
       "      <th>655</th>\n",
       "      <td>0</td>\n",
       "      <td>0</td>\n",
       "    </tr>\n",
       "  </tbody>\n",
       "</table>\n",
       "</div>"
      ],
      "text/plain": [
       "      Actual  Predicted\n",
       "859        1          0\n",
       "174        0          1\n",
       "824        1          1\n",
       "800        0          0\n",
       "43         0          0\n",
       "1002       1          1\n",
       "1272       1          1\n",
       "435        0          1\n",
       "697        0          1\n",
       "655        0          0"
      ]
     },
     "execution_count": 91,
     "metadata": {},
     "output_type": "execute_result"
    }
   ],
   "source": [
    "lr = LogisticRegression(C = 0.7)\n",
    "\n",
    "lr.fit(X_train, y_train)\n",
    "\n",
    "pred_lr = lr.predict(X_test)\n",
    "pd.DataFrame({\"Actual\": y_test,\n",
    "              \"Predicted\": pred_lr}).sample(10)"
   ]
  },
  {
   "cell_type": "markdown",
   "id": "b2a4c7b0",
   "metadata": {},
   "source": [
    "**Tuned Logistic Regression Confusion Matrix**"
   ]
  },
  {
   "cell_type": "code",
   "execution_count": 92,
   "id": "ee36a043",
   "metadata": {},
   "outputs": [
    {
     "data": {
      "text/html": [
       "<div>\n",
       "<style scoped>\n",
       "    .dataframe tbody tr th:only-of-type {\n",
       "        vertical-align: middle;\n",
       "    }\n",
       "\n",
       "    .dataframe tbody tr th {\n",
       "        vertical-align: top;\n",
       "    }\n",
       "\n",
       "    .dataframe thead th {\n",
       "        text-align: right;\n",
       "    }\n",
       "</style>\n",
       "<table border=\"1\" class=\"dataframe\">\n",
       "  <thead>\n",
       "    <tr style=\"text-align: right;\">\n",
       "      <th></th>\n",
       "      <th>0</th>\n",
       "      <th>1</th>\n",
       "    </tr>\n",
       "  </thead>\n",
       "  <tbody>\n",
       "    <tr>\n",
       "      <th>0</th>\n",
       "      <td>105</td>\n",
       "      <td>40</td>\n",
       "    </tr>\n",
       "    <tr>\n",
       "      <th>1</th>\n",
       "      <td>19</td>\n",
       "      <td>125</td>\n",
       "    </tr>\n",
       "  </tbody>\n",
       "</table>\n",
       "</div>"
      ],
      "text/plain": [
       "     0    1\n",
       "0  105   40\n",
       "1   19  125"
      ]
     },
     "execution_count": 92,
     "metadata": {},
     "output_type": "execute_result"
    }
   ],
   "source": [
    "pd.DataFrame(confusion_matrix(y_test, pred_lr))"
   ]
  },
  {
   "cell_type": "markdown",
   "id": "90dc09c9",
   "metadata": {},
   "source": [
    "**Tuned Logistic Regression Classification Report**"
   ]
  },
  {
   "cell_type": "code",
   "execution_count": 93,
   "id": "f7892a49",
   "metadata": {},
   "outputs": [
    {
     "name": "stdout",
     "output_type": "stream",
     "text": [
      "              precision    recall  f1-score   support\n",
      "\n",
      "           0       0.85      0.72      0.78       145\n",
      "           1       0.76      0.87      0.81       144\n",
      "\n",
      "    accuracy                           0.80       289\n",
      "   macro avg       0.80      0.80      0.79       289\n",
      "weighted avg       0.80      0.80      0.79       289\n",
      "\n"
     ]
    }
   ],
   "source": [
    "print(classification_report(y_test, pred_lr))"
   ]
  },
  {
   "cell_type": "markdown",
   "id": "31e4d7a4",
   "metadata": {},
   "source": [
    "### Decision Tree Classification"
   ]
  },
  {
   "cell_type": "code",
   "execution_count": 95,
   "id": "f8ea49d8",
   "metadata": {},
   "outputs": [
    {
     "data": {
      "text/html": [
       "<div>\n",
       "<style scoped>\n",
       "    .dataframe tbody tr th:only-of-type {\n",
       "        vertical-align: middle;\n",
       "    }\n",
       "\n",
       "    .dataframe tbody tr th {\n",
       "        vertical-align: top;\n",
       "    }\n",
       "\n",
       "    .dataframe thead th {\n",
       "        text-align: right;\n",
       "    }\n",
       "</style>\n",
       "<table border=\"1\" class=\"dataframe\">\n",
       "  <thead>\n",
       "    <tr style=\"text-align: right;\">\n",
       "      <th></th>\n",
       "      <th>Actual</th>\n",
       "      <th>Predicted</th>\n",
       "    </tr>\n",
       "  </thead>\n",
       "  <tbody>\n",
       "    <tr>\n",
       "      <th>1027</th>\n",
       "      <td>1</td>\n",
       "      <td>1</td>\n",
       "    </tr>\n",
       "    <tr>\n",
       "      <th>769</th>\n",
       "      <td>1</td>\n",
       "      <td>1</td>\n",
       "    </tr>\n",
       "    <tr>\n",
       "      <th>509</th>\n",
       "      <td>0</td>\n",
       "      <td>0</td>\n",
       "    </tr>\n",
       "    <tr>\n",
       "      <th>348</th>\n",
       "      <td>0</td>\n",
       "      <td>1</td>\n",
       "    </tr>\n",
       "    <tr>\n",
       "      <th>1419</th>\n",
       "      <td>1</td>\n",
       "      <td>1</td>\n",
       "    </tr>\n",
       "    <tr>\n",
       "      <th>267</th>\n",
       "      <td>0</td>\n",
       "      <td>0</td>\n",
       "    </tr>\n",
       "    <tr>\n",
       "      <th>1159</th>\n",
       "      <td>1</td>\n",
       "      <td>1</td>\n",
       "    </tr>\n",
       "    <tr>\n",
       "      <th>380</th>\n",
       "      <td>0</td>\n",
       "      <td>0</td>\n",
       "    </tr>\n",
       "    <tr>\n",
       "      <th>732</th>\n",
       "      <td>0</td>\n",
       "      <td>0</td>\n",
       "    </tr>\n",
       "    <tr>\n",
       "      <th>1156</th>\n",
       "      <td>1</td>\n",
       "      <td>1</td>\n",
       "    </tr>\n",
       "  </tbody>\n",
       "</table>\n",
       "</div>"
      ],
      "text/plain": [
       "      Actual  Predicted\n",
       "1027       1          1\n",
       "769        1          1\n",
       "509        0          0\n",
       "348        0          1\n",
       "1419       1          1\n",
       "267        0          0\n",
       "1159       1          1\n",
       "380        0          0\n",
       "732        0          0\n",
       "1156       1          1"
      ]
     },
     "execution_count": 95,
     "metadata": {},
     "output_type": "execute_result"
    }
   ],
   "source": [
    "dt = DecisionTreeClassifier()\n",
    "\n",
    "dt.fit(X_train, y_train)\n",
    "\n",
    "pred_dt = dt.predict(X_test)\n",
    "pd.DataFrame({\"Actual\": y_test,\n",
    "              \"Predicted\": pred_dt}).sample(10)"
   ]
  },
  {
   "cell_type": "markdown",
   "id": "099ba1e7",
   "metadata": {},
   "source": [
    "**Decision Tree Confusion Matrix**"
   ]
  },
  {
   "cell_type": "code",
   "execution_count": 96,
   "id": "612544dc",
   "metadata": {},
   "outputs": [
    {
     "data": {
      "text/html": [
       "<div>\n",
       "<style scoped>\n",
       "    .dataframe tbody tr th:only-of-type {\n",
       "        vertical-align: middle;\n",
       "    }\n",
       "\n",
       "    .dataframe tbody tr th {\n",
       "        vertical-align: top;\n",
       "    }\n",
       "\n",
       "    .dataframe thead th {\n",
       "        text-align: right;\n",
       "    }\n",
       "</style>\n",
       "<table border=\"1\" class=\"dataframe\">\n",
       "  <thead>\n",
       "    <tr style=\"text-align: right;\">\n",
       "      <th></th>\n",
       "      <th>0</th>\n",
       "      <th>1</th>\n",
       "    </tr>\n",
       "  </thead>\n",
       "  <tbody>\n",
       "    <tr>\n",
       "      <th>0</th>\n",
       "      <td>121</td>\n",
       "      <td>24</td>\n",
       "    </tr>\n",
       "    <tr>\n",
       "      <th>1</th>\n",
       "      <td>21</td>\n",
       "      <td>123</td>\n",
       "    </tr>\n",
       "  </tbody>\n",
       "</table>\n",
       "</div>"
      ],
      "text/plain": [
       "     0    1\n",
       "0  121   24\n",
       "1   21  123"
      ]
     },
     "execution_count": 96,
     "metadata": {},
     "output_type": "execute_result"
    }
   ],
   "source": [
    "pd.DataFrame(confusion_matrix(y_test, pred_dt))"
   ]
  },
  {
   "cell_type": "markdown",
   "id": "521756e7",
   "metadata": {},
   "source": [
    "**Decision Tree Classification Report**"
   ]
  },
  {
   "cell_type": "code",
   "execution_count": 98,
   "id": "18f9145e",
   "metadata": {},
   "outputs": [
    {
     "name": "stdout",
     "output_type": "stream",
     "text": [
      "              precision    recall  f1-score   support\n",
      "\n",
      "           0       0.85      0.83      0.84       145\n",
      "           1       0.84      0.85      0.85       144\n",
      "\n",
      "    accuracy                           0.84       289\n",
      "   macro avg       0.84      0.84      0.84       289\n",
      "weighted avg       0.84      0.84      0.84       289\n",
      "\n"
     ]
    }
   ],
   "source": [
    "print(classification_report(y_test, pred_dt))"
   ]
  },
  {
   "cell_type": "markdown",
   "id": "9c36a8a7",
   "metadata": {},
   "source": [
    "### Decision Tree Classification with Tuned Parameters"
   ]
  },
  {
   "cell_type": "code",
   "execution_count": 102,
   "id": "aac0d8ea",
   "metadata": {},
   "outputs": [
    {
     "data": {
      "text/plain": [
       "{'max_depth': 4, 'min_samples_leaf': 0.1}"
      ]
     },
     "execution_count": 102,
     "metadata": {},
     "output_type": "execute_result"
    }
   ],
   "source": [
    "params = {\"max_depth\": list(range(1, 10)),\n",
    "          \"min_samples_leaf\": [0.1, 0.2, 0.3, 0.4, 0.5]}\n",
    "\n",
    "dt = DecisionTreeClassifier()\n",
    "\n",
    "cv = GridSearchCV(dt, params)\n",
    "\n",
    "cv.fit(X_train, y_train)\n",
    "\n",
    "cv.best_params_"
   ]
  },
  {
   "cell_type": "code",
   "execution_count": 103,
   "id": "2f1ebe94",
   "metadata": {},
   "outputs": [
    {
     "data": {
      "text/html": [
       "<div>\n",
       "<style scoped>\n",
       "    .dataframe tbody tr th:only-of-type {\n",
       "        vertical-align: middle;\n",
       "    }\n",
       "\n",
       "    .dataframe tbody tr th {\n",
       "        vertical-align: top;\n",
       "    }\n",
       "\n",
       "    .dataframe thead th {\n",
       "        text-align: right;\n",
       "    }\n",
       "</style>\n",
       "<table border=\"1\" class=\"dataframe\">\n",
       "  <thead>\n",
       "    <tr style=\"text-align: right;\">\n",
       "      <th></th>\n",
       "      <th>Actual</th>\n",
       "      <th>Predicted</th>\n",
       "    </tr>\n",
       "  </thead>\n",
       "  <tbody>\n",
       "    <tr>\n",
       "      <th>1382</th>\n",
       "      <td>1</td>\n",
       "      <td>1</td>\n",
       "    </tr>\n",
       "    <tr>\n",
       "      <th>239</th>\n",
       "      <td>0</td>\n",
       "      <td>0</td>\n",
       "    </tr>\n",
       "    <tr>\n",
       "      <th>510</th>\n",
       "      <td>0</td>\n",
       "      <td>0</td>\n",
       "    </tr>\n",
       "    <tr>\n",
       "      <th>422</th>\n",
       "      <td>0</td>\n",
       "      <td>1</td>\n",
       "    </tr>\n",
       "    <tr>\n",
       "      <th>331</th>\n",
       "      <td>1</td>\n",
       "      <td>1</td>\n",
       "    </tr>\n",
       "    <tr>\n",
       "      <th>1171</th>\n",
       "      <td>1</td>\n",
       "      <td>1</td>\n",
       "    </tr>\n",
       "    <tr>\n",
       "      <th>271</th>\n",
       "      <td>1</td>\n",
       "      <td>1</td>\n",
       "    </tr>\n",
       "    <tr>\n",
       "      <th>551</th>\n",
       "      <td>0</td>\n",
       "      <td>0</td>\n",
       "    </tr>\n",
       "    <tr>\n",
       "      <th>305</th>\n",
       "      <td>0</td>\n",
       "      <td>0</td>\n",
       "    </tr>\n",
       "    <tr>\n",
       "      <th>600</th>\n",
       "      <td>0</td>\n",
       "      <td>1</td>\n",
       "    </tr>\n",
       "  </tbody>\n",
       "</table>\n",
       "</div>"
      ],
      "text/plain": [
       "      Actual  Predicted\n",
       "1382       1          1\n",
       "239        0          0\n",
       "510        0          0\n",
       "422        0          1\n",
       "331        1          1\n",
       "1171       1          1\n",
       "271        1          1\n",
       "551        0          0\n",
       "305        0          0\n",
       "600        0          1"
      ]
     },
     "execution_count": 103,
     "metadata": {},
     "output_type": "execute_result"
    }
   ],
   "source": [
    "dt = DecisionTreeClassifier(max_depth = 4,\n",
    "                            min_samples_leaf = 0.1)\n",
    "\n",
    "dt.fit(X_train, y_train)\n",
    "\n",
    "pred_dt = dt.predict(X_test)\n",
    "pd.DataFrame({\"Actual\": y_test,\n",
    "              \"Predicted\": pred_dt}).sample(10)"
   ]
  },
  {
   "cell_type": "markdown",
   "id": "4fd640cd",
   "metadata": {},
   "source": [
    "**Tuned Decision Tree Confusion Matrix**"
   ]
  },
  {
   "cell_type": "code",
   "execution_count": 104,
   "id": "6fea49fa",
   "metadata": {},
   "outputs": [
    {
     "data": {
      "text/html": [
       "<div>\n",
       "<style scoped>\n",
       "    .dataframe tbody tr th:only-of-type {\n",
       "        vertical-align: middle;\n",
       "    }\n",
       "\n",
       "    .dataframe tbody tr th {\n",
       "        vertical-align: top;\n",
       "    }\n",
       "\n",
       "    .dataframe thead th {\n",
       "        text-align: right;\n",
       "    }\n",
       "</style>\n",
       "<table border=\"1\" class=\"dataframe\">\n",
       "  <thead>\n",
       "    <tr style=\"text-align: right;\">\n",
       "      <th></th>\n",
       "      <th>0</th>\n",
       "      <th>1</th>\n",
       "    </tr>\n",
       "  </thead>\n",
       "  <tbody>\n",
       "    <tr>\n",
       "      <th>0</th>\n",
       "      <td>117</td>\n",
       "      <td>28</td>\n",
       "    </tr>\n",
       "    <tr>\n",
       "      <th>1</th>\n",
       "      <td>39</td>\n",
       "      <td>105</td>\n",
       "    </tr>\n",
       "  </tbody>\n",
       "</table>\n",
       "</div>"
      ],
      "text/plain": [
       "     0    1\n",
       "0  117   28\n",
       "1   39  105"
      ]
     },
     "execution_count": 104,
     "metadata": {},
     "output_type": "execute_result"
    }
   ],
   "source": [
    "pd.DataFrame(confusion_matrix(y_test, pred_dt))"
   ]
  },
  {
   "cell_type": "markdown",
   "id": "4793c8fa",
   "metadata": {},
   "source": [
    "**Tuned Decision Tree Classification Report**"
   ]
  },
  {
   "cell_type": "code",
   "execution_count": 105,
   "id": "842d30ad",
   "metadata": {},
   "outputs": [
    {
     "name": "stdout",
     "output_type": "stream",
     "text": [
      "              precision    recall  f1-score   support\n",
      "\n",
      "           0       0.75      0.81      0.78       145\n",
      "           1       0.79      0.73      0.76       144\n",
      "\n",
      "    accuracy                           0.77       289\n",
      "   macro avg       0.77      0.77      0.77       289\n",
      "weighted avg       0.77      0.77      0.77       289\n",
      "\n"
     ]
    }
   ],
   "source": [
    "print(classification_report(y_test, pred_dt))"
   ]
  },
  {
   "cell_type": "markdown",
   "id": "6c25c857",
   "metadata": {},
   "source": [
    "### Random Forest Classification"
   ]
  },
  {
   "cell_type": "code",
   "execution_count": 107,
   "id": "d8ffe20c",
   "metadata": {},
   "outputs": [
    {
     "data": {
      "text/html": [
       "<div>\n",
       "<style scoped>\n",
       "    .dataframe tbody tr th:only-of-type {\n",
       "        vertical-align: middle;\n",
       "    }\n",
       "\n",
       "    .dataframe tbody tr th {\n",
       "        vertical-align: top;\n",
       "    }\n",
       "\n",
       "    .dataframe thead th {\n",
       "        text-align: right;\n",
       "    }\n",
       "</style>\n",
       "<table border=\"1\" class=\"dataframe\">\n",
       "  <thead>\n",
       "    <tr style=\"text-align: right;\">\n",
       "      <th></th>\n",
       "      <th>Actual</th>\n",
       "      <th>Predicted</th>\n",
       "    </tr>\n",
       "  </thead>\n",
       "  <tbody>\n",
       "    <tr>\n",
       "      <th>228</th>\n",
       "      <td>0</td>\n",
       "      <td>0</td>\n",
       "    </tr>\n",
       "    <tr>\n",
       "      <th>774</th>\n",
       "      <td>0</td>\n",
       "      <td>0</td>\n",
       "    </tr>\n",
       "    <tr>\n",
       "      <th>905</th>\n",
       "      <td>1</td>\n",
       "      <td>1</td>\n",
       "    </tr>\n",
       "    <tr>\n",
       "      <th>904</th>\n",
       "      <td>1</td>\n",
       "      <td>1</td>\n",
       "    </tr>\n",
       "    <tr>\n",
       "      <th>503</th>\n",
       "      <td>0</td>\n",
       "      <td>0</td>\n",
       "    </tr>\n",
       "    <tr>\n",
       "      <th>600</th>\n",
       "      <td>0</td>\n",
       "      <td>1</td>\n",
       "    </tr>\n",
       "    <tr>\n",
       "      <th>1299</th>\n",
       "      <td>1</td>\n",
       "      <td>1</td>\n",
       "    </tr>\n",
       "    <tr>\n",
       "      <th>529</th>\n",
       "      <td>0</td>\n",
       "      <td>0</td>\n",
       "    </tr>\n",
       "    <tr>\n",
       "      <th>229</th>\n",
       "      <td>0</td>\n",
       "      <td>0</td>\n",
       "    </tr>\n",
       "    <tr>\n",
       "      <th>692</th>\n",
       "      <td>0</td>\n",
       "      <td>0</td>\n",
       "    </tr>\n",
       "  </tbody>\n",
       "</table>\n",
       "</div>"
      ],
      "text/plain": [
       "      Actual  Predicted\n",
       "228        0          0\n",
       "774        0          0\n",
       "905        1          1\n",
       "904        1          1\n",
       "503        0          0\n",
       "600        0          1\n",
       "1299       1          1\n",
       "529        0          0\n",
       "229        0          0\n",
       "692        0          0"
      ]
     },
     "execution_count": 107,
     "metadata": {},
     "output_type": "execute_result"
    }
   ],
   "source": [
    "rf = RandomForestClassifier()\n",
    "\n",
    "rf.fit(X_train, y_train)\n",
    "\n",
    "pred_rf = rf.predict(X_test)\n",
    "pd.DataFrame({\"Actual\": y_test,\n",
    "              \"Predicted\": pred_rf}).sample(10)"
   ]
  },
  {
   "cell_type": "markdown",
   "id": "df1a0b65",
   "metadata": {},
   "source": [
    "**Random Forest Confusion Matrix**"
   ]
  },
  {
   "cell_type": "code",
   "execution_count": 108,
   "id": "0f620ca0",
   "metadata": {},
   "outputs": [
    {
     "data": {
      "text/html": [
       "<div>\n",
       "<style scoped>\n",
       "    .dataframe tbody tr th:only-of-type {\n",
       "        vertical-align: middle;\n",
       "    }\n",
       "\n",
       "    .dataframe tbody tr th {\n",
       "        vertical-align: top;\n",
       "    }\n",
       "\n",
       "    .dataframe thead th {\n",
       "        text-align: right;\n",
       "    }\n",
       "</style>\n",
       "<table border=\"1\" class=\"dataframe\">\n",
       "  <thead>\n",
       "    <tr style=\"text-align: right;\">\n",
       "      <th></th>\n",
       "      <th>0</th>\n",
       "      <th>1</th>\n",
       "    </tr>\n",
       "  </thead>\n",
       "  <tbody>\n",
       "    <tr>\n",
       "      <th>0</th>\n",
       "      <td>123</td>\n",
       "      <td>22</td>\n",
       "    </tr>\n",
       "    <tr>\n",
       "      <th>1</th>\n",
       "      <td>11</td>\n",
       "      <td>133</td>\n",
       "    </tr>\n",
       "  </tbody>\n",
       "</table>\n",
       "</div>"
      ],
      "text/plain": [
       "     0    1\n",
       "0  123   22\n",
       "1   11  133"
      ]
     },
     "execution_count": 108,
     "metadata": {},
     "output_type": "execute_result"
    }
   ],
   "source": [
    "pd.DataFrame(confusion_matrix(y_test, pred_rf))"
   ]
  },
  {
   "cell_type": "markdown",
   "id": "9a29b5bf",
   "metadata": {},
   "source": [
    "**Random Forest Classification Report**"
   ]
  },
  {
   "cell_type": "code",
   "execution_count": 109,
   "id": "961943f7",
   "metadata": {},
   "outputs": [
    {
     "name": "stdout",
     "output_type": "stream",
     "text": [
      "              precision    recall  f1-score   support\n",
      "\n",
      "           0       0.92      0.85      0.88       145\n",
      "           1       0.86      0.92      0.89       144\n",
      "\n",
      "    accuracy                           0.89       289\n",
      "   macro avg       0.89      0.89      0.89       289\n",
      "weighted avg       0.89      0.89      0.89       289\n",
      "\n"
     ]
    }
   ],
   "source": [
    "print(classification_report(y_test, pred_rf))"
   ]
  },
  {
   "cell_type": "markdown",
   "id": "fe630f24",
   "metadata": {},
   "source": [
    "### Random Forest with Tuned Parameters"
   ]
  },
  {
   "cell_type": "code",
   "execution_count": 111,
   "id": "f1a88394",
   "metadata": {},
   "outputs": [
    {
     "data": {
      "text/plain": [
       "{'max_depth': 4, 'min_samples_leaf': 0.1, 'n_estimators': 150}"
      ]
     },
     "execution_count": 111,
     "metadata": {},
     "output_type": "execute_result"
    }
   ],
   "source": [
    "params = {\"n_estimators\": [50, 75, 100, 125, 150, 175, 200],\n",
    "          \"max_depth\": list(range(1, 10)),\n",
    "          \"min_samples_leaf\": [0.1, 0.2, 0.3, 0.4]}\n",
    "\n",
    "rf = RandomForestClassifier()\n",
    "\n",
    "cv = GridSearchCV(rf, params)\n",
    "\n",
    "cv.fit(X_train, y_train)\n",
    "\n",
    "cv.best_params_"
   ]
  },
  {
   "cell_type": "code",
   "execution_count": 112,
   "id": "9285c3e4",
   "metadata": {},
   "outputs": [
    {
     "data": {
      "text/html": [
       "<div>\n",
       "<style scoped>\n",
       "    .dataframe tbody tr th:only-of-type {\n",
       "        vertical-align: middle;\n",
       "    }\n",
       "\n",
       "    .dataframe tbody tr th {\n",
       "        vertical-align: top;\n",
       "    }\n",
       "\n",
       "    .dataframe thead th {\n",
       "        text-align: right;\n",
       "    }\n",
       "</style>\n",
       "<table border=\"1\" class=\"dataframe\">\n",
       "  <thead>\n",
       "    <tr style=\"text-align: right;\">\n",
       "      <th></th>\n",
       "      <th>Actual</th>\n",
       "      <th>Predicted</th>\n",
       "    </tr>\n",
       "  </thead>\n",
       "  <tbody>\n",
       "    <tr>\n",
       "      <th>815</th>\n",
       "      <td>0</td>\n",
       "      <td>1</td>\n",
       "    </tr>\n",
       "    <tr>\n",
       "      <th>35</th>\n",
       "      <td>0</td>\n",
       "      <td>1</td>\n",
       "    </tr>\n",
       "    <tr>\n",
       "      <th>633</th>\n",
       "      <td>0</td>\n",
       "      <td>0</td>\n",
       "    </tr>\n",
       "    <tr>\n",
       "      <th>421</th>\n",
       "      <td>0</td>\n",
       "      <td>0</td>\n",
       "    </tr>\n",
       "    <tr>\n",
       "      <th>995</th>\n",
       "      <td>1</td>\n",
       "      <td>1</td>\n",
       "    </tr>\n",
       "    <tr>\n",
       "      <th>548</th>\n",
       "      <td>1</td>\n",
       "      <td>1</td>\n",
       "    </tr>\n",
       "    <tr>\n",
       "      <th>732</th>\n",
       "      <td>0</td>\n",
       "      <td>0</td>\n",
       "    </tr>\n",
       "    <tr>\n",
       "      <th>150</th>\n",
       "      <td>0</td>\n",
       "      <td>0</td>\n",
       "    </tr>\n",
       "    <tr>\n",
       "      <th>1419</th>\n",
       "      <td>1</td>\n",
       "      <td>1</td>\n",
       "    </tr>\n",
       "    <tr>\n",
       "      <th>1067</th>\n",
       "      <td>1</td>\n",
       "      <td>1</td>\n",
       "    </tr>\n",
       "  </tbody>\n",
       "</table>\n",
       "</div>"
      ],
      "text/plain": [
       "      Actual  Predicted\n",
       "815        0          1\n",
       "35         0          1\n",
       "633        0          0\n",
       "421        0          0\n",
       "995        1          1\n",
       "548        1          1\n",
       "732        0          0\n",
       "150        0          0\n",
       "1419       1          1\n",
       "1067       1          1"
      ]
     },
     "execution_count": 112,
     "metadata": {},
     "output_type": "execute_result"
    }
   ],
   "source": [
    "rf = RandomForestClassifier(max_depth = 4, \n",
    "                            min_samples_leaf = 0.1, \n",
    "                            n_estimators = 150)\n",
    "\n",
    "rf.fit(X_train, y_train)\n",
    "\n",
    "pred_rf = rf.predict(X_test)\n",
    "pd.DataFrame({\"Actual\": y_test,\n",
    "              \"Predicted\": pred_rf}).sample(10)"
   ]
  },
  {
   "cell_type": "markdown",
   "id": "9b657774",
   "metadata": {},
   "source": [
    "**Tuned Random Forest Confusion Matrix**"
   ]
  },
  {
   "cell_type": "code",
   "execution_count": 113,
   "id": "c663dd0b",
   "metadata": {},
   "outputs": [
    {
     "data": {
      "text/html": [
       "<div>\n",
       "<style scoped>\n",
       "    .dataframe tbody tr th:only-of-type {\n",
       "        vertical-align: middle;\n",
       "    }\n",
       "\n",
       "    .dataframe tbody tr th {\n",
       "        vertical-align: top;\n",
       "    }\n",
       "\n",
       "    .dataframe thead th {\n",
       "        text-align: right;\n",
       "    }\n",
       "</style>\n",
       "<table border=\"1\" class=\"dataframe\">\n",
       "  <thead>\n",
       "    <tr style=\"text-align: right;\">\n",
       "      <th></th>\n",
       "      <th>0</th>\n",
       "      <th>1</th>\n",
       "    </tr>\n",
       "  </thead>\n",
       "  <tbody>\n",
       "    <tr>\n",
       "      <th>0</th>\n",
       "      <td>111</td>\n",
       "      <td>34</td>\n",
       "    </tr>\n",
       "    <tr>\n",
       "      <th>1</th>\n",
       "      <td>28</td>\n",
       "      <td>116</td>\n",
       "    </tr>\n",
       "  </tbody>\n",
       "</table>\n",
       "</div>"
      ],
      "text/plain": [
       "     0    1\n",
       "0  111   34\n",
       "1   28  116"
      ]
     },
     "execution_count": 113,
     "metadata": {},
     "output_type": "execute_result"
    }
   ],
   "source": [
    "pd.DataFrame(confusion_matrix(y_test, pred_rf))"
   ]
  },
  {
   "cell_type": "markdown",
   "id": "66e6c5ac",
   "metadata": {},
   "source": [
    "**Tuned Random Forest Classification Report**"
   ]
  },
  {
   "cell_type": "code",
   "execution_count": 115,
   "id": "e32742dc",
   "metadata": {},
   "outputs": [
    {
     "name": "stdout",
     "output_type": "stream",
     "text": [
      "              precision    recall  f1-score   support\n",
      "\n",
      "           0       0.80      0.77      0.78       145\n",
      "           1       0.77      0.81      0.79       144\n",
      "\n",
      "    accuracy                           0.79       289\n",
      "   macro avg       0.79      0.79      0.79       289\n",
      "weighted avg       0.79      0.79      0.79       289\n",
      "\n"
     ]
    }
   ],
   "source": [
    "print(classification_report(y_test, pred_rf))"
   ]
  },
  {
   "cell_type": "markdown",
   "id": "003b5d53",
   "metadata": {},
   "source": [
    "### K Nearest Neighbors"
   ]
  },
  {
   "cell_type": "code",
   "execution_count": 116,
   "id": "3dadd38c",
   "metadata": {},
   "outputs": [
    {
     "data": {
      "text/html": [
       "<div>\n",
       "<style scoped>\n",
       "    .dataframe tbody tr th:only-of-type {\n",
       "        vertical-align: middle;\n",
       "    }\n",
       "\n",
       "    .dataframe tbody tr th {\n",
       "        vertical-align: top;\n",
       "    }\n",
       "\n",
       "    .dataframe thead th {\n",
       "        text-align: right;\n",
       "    }\n",
       "</style>\n",
       "<table border=\"1\" class=\"dataframe\">\n",
       "  <thead>\n",
       "    <tr style=\"text-align: right;\">\n",
       "      <th></th>\n",
       "      <th>Actual</th>\n",
       "      <th>Predicted</th>\n",
       "    </tr>\n",
       "  </thead>\n",
       "  <tbody>\n",
       "    <tr>\n",
       "      <th>1382</th>\n",
       "      <td>1</td>\n",
       "      <td>1</td>\n",
       "    </tr>\n",
       "    <tr>\n",
       "      <th>1143</th>\n",
       "      <td>1</td>\n",
       "      <td>0</td>\n",
       "    </tr>\n",
       "    <tr>\n",
       "      <th>518</th>\n",
       "      <td>0</td>\n",
       "      <td>0</td>\n",
       "    </tr>\n",
       "    <tr>\n",
       "      <th>634</th>\n",
       "      <td>0</td>\n",
       "      <td>0</td>\n",
       "    </tr>\n",
       "    <tr>\n",
       "      <th>839</th>\n",
       "      <td>1</td>\n",
       "      <td>1</td>\n",
       "    </tr>\n",
       "    <tr>\n",
       "      <th>799</th>\n",
       "      <td>1</td>\n",
       "      <td>1</td>\n",
       "    </tr>\n",
       "    <tr>\n",
       "      <th>1357</th>\n",
       "      <td>1</td>\n",
       "      <td>1</td>\n",
       "    </tr>\n",
       "    <tr>\n",
       "      <th>1058</th>\n",
       "      <td>1</td>\n",
       "      <td>1</td>\n",
       "    </tr>\n",
       "    <tr>\n",
       "      <th>1395</th>\n",
       "      <td>1</td>\n",
       "      <td>1</td>\n",
       "    </tr>\n",
       "    <tr>\n",
       "      <th>732</th>\n",
       "      <td>0</td>\n",
       "      <td>1</td>\n",
       "    </tr>\n",
       "  </tbody>\n",
       "</table>\n",
       "</div>"
      ],
      "text/plain": [
       "      Actual  Predicted\n",
       "1382       1          1\n",
       "1143       1          0\n",
       "518        0          0\n",
       "634        0          0\n",
       "839        1          1\n",
       "799        1          1\n",
       "1357       1          1\n",
       "1058       1          1\n",
       "1395       1          1\n",
       "732        0          1"
      ]
     },
     "execution_count": 116,
     "metadata": {},
     "output_type": "execute_result"
    }
   ],
   "source": [
    "knn = KNeighborsClassifier()\n",
    "\n",
    "knn.fit(X_train, y_train)\n",
    "\n",
    "pred_knn = knn.predict(X_test)\n",
    "pd.DataFrame({\"Actual\": y_test,\n",
    "              \"Predicted\": pred_knn}).sample(10)"
   ]
  },
  {
   "cell_type": "markdown",
   "id": "d3c47717",
   "metadata": {},
   "source": [
    "**K Neighbors Classification Confusion Matrix**"
   ]
  },
  {
   "cell_type": "code",
   "execution_count": 117,
   "id": "56f46902",
   "metadata": {},
   "outputs": [
    {
     "data": {
      "text/html": [
       "<div>\n",
       "<style scoped>\n",
       "    .dataframe tbody tr th:only-of-type {\n",
       "        vertical-align: middle;\n",
       "    }\n",
       "\n",
       "    .dataframe tbody tr th {\n",
       "        vertical-align: top;\n",
       "    }\n",
       "\n",
       "    .dataframe thead th {\n",
       "        text-align: right;\n",
       "    }\n",
       "</style>\n",
       "<table border=\"1\" class=\"dataframe\">\n",
       "  <thead>\n",
       "    <tr style=\"text-align: right;\">\n",
       "      <th></th>\n",
       "      <th>0</th>\n",
       "      <th>1</th>\n",
       "    </tr>\n",
       "  </thead>\n",
       "  <tbody>\n",
       "    <tr>\n",
       "      <th>0</th>\n",
       "      <td>114</td>\n",
       "      <td>31</td>\n",
       "    </tr>\n",
       "    <tr>\n",
       "      <th>1</th>\n",
       "      <td>30</td>\n",
       "      <td>114</td>\n",
       "    </tr>\n",
       "  </tbody>\n",
       "</table>\n",
       "</div>"
      ],
      "text/plain": [
       "     0    1\n",
       "0  114   31\n",
       "1   30  114"
      ]
     },
     "execution_count": 117,
     "metadata": {},
     "output_type": "execute_result"
    }
   ],
   "source": [
    "pd.DataFrame(confusion_matrix(y_test, pred_knn))"
   ]
  },
  {
   "cell_type": "markdown",
   "id": "dfc577da",
   "metadata": {},
   "source": [
    "**K Nearest Neighbors Classification Report**"
   ]
  },
  {
   "cell_type": "code",
   "execution_count": 118,
   "id": "90118217",
   "metadata": {},
   "outputs": [
    {
     "name": "stdout",
     "output_type": "stream",
     "text": [
      "              precision    recall  f1-score   support\n",
      "\n",
      "           0       0.79      0.79      0.79       145\n",
      "           1       0.79      0.79      0.79       144\n",
      "\n",
      "    accuracy                           0.79       289\n",
      "   macro avg       0.79      0.79      0.79       289\n",
      "weighted avg       0.79      0.79      0.79       289\n",
      "\n"
     ]
    }
   ],
   "source": [
    "print(classification_report(y_test, pred_knn))"
   ]
  },
  {
   "cell_type": "markdown",
   "id": "570deedd",
   "metadata": {},
   "source": [
    "### Tuned K Nearest Neighbors "
   ]
  },
  {
   "cell_type": "code",
   "execution_count": 119,
   "id": "11b91432",
   "metadata": {},
   "outputs": [
    {
     "data": {
      "text/plain": [
       "{'n_neighbors': 1}"
      ]
     },
     "execution_count": 119,
     "metadata": {},
     "output_type": "execute_result"
    }
   ],
   "source": [
    "params = {\"n_neighbors\": list(range(1, 10))}\n",
    "\n",
    "knn = KNeighborsClassifier()\n",
    "\n",
    "cv = GridSearchCV(knn, params)\n",
    "\n",
    "cv.fit(X_train, y_train)\n",
    "\n",
    "cv.best_params_"
   ]
  },
  {
   "cell_type": "code",
   "execution_count": 120,
   "id": "731c96c7",
   "metadata": {},
   "outputs": [
    {
     "data": {
      "text/html": [
       "<div>\n",
       "<style scoped>\n",
       "    .dataframe tbody tr th:only-of-type {\n",
       "        vertical-align: middle;\n",
       "    }\n",
       "\n",
       "    .dataframe tbody tr th {\n",
       "        vertical-align: top;\n",
       "    }\n",
       "\n",
       "    .dataframe thead th {\n",
       "        text-align: right;\n",
       "    }\n",
       "</style>\n",
       "<table border=\"1\" class=\"dataframe\">\n",
       "  <thead>\n",
       "    <tr style=\"text-align: right;\">\n",
       "      <th></th>\n",
       "      <th>Actual</th>\n",
       "      <th>Predicted</th>\n",
       "    </tr>\n",
       "  </thead>\n",
       "  <tbody>\n",
       "    <tr>\n",
       "      <th>503</th>\n",
       "      <td>0</td>\n",
       "      <td>0</td>\n",
       "    </tr>\n",
       "    <tr>\n",
       "      <th>420</th>\n",
       "      <td>1</td>\n",
       "      <td>1</td>\n",
       "    </tr>\n",
       "    <tr>\n",
       "      <th>140</th>\n",
       "      <td>0</td>\n",
       "      <td>0</td>\n",
       "    </tr>\n",
       "    <tr>\n",
       "      <th>750</th>\n",
       "      <td>0</td>\n",
       "      <td>0</td>\n",
       "    </tr>\n",
       "    <tr>\n",
       "      <th>297</th>\n",
       "      <td>1</td>\n",
       "      <td>0</td>\n",
       "    </tr>\n",
       "    <tr>\n",
       "      <th>687</th>\n",
       "      <td>1</td>\n",
       "      <td>1</td>\n",
       "    </tr>\n",
       "    <tr>\n",
       "      <th>1406</th>\n",
       "      <td>1</td>\n",
       "      <td>1</td>\n",
       "    </tr>\n",
       "    <tr>\n",
       "      <th>319</th>\n",
       "      <td>0</td>\n",
       "      <td>0</td>\n",
       "    </tr>\n",
       "    <tr>\n",
       "      <th>957</th>\n",
       "      <td>1</td>\n",
       "      <td>1</td>\n",
       "    </tr>\n",
       "    <tr>\n",
       "      <th>430</th>\n",
       "      <td>0</td>\n",
       "      <td>0</td>\n",
       "    </tr>\n",
       "  </tbody>\n",
       "</table>\n",
       "</div>"
      ],
      "text/plain": [
       "      Actual  Predicted\n",
       "503        0          0\n",
       "420        1          1\n",
       "140        0          0\n",
       "750        0          0\n",
       "297        1          0\n",
       "687        1          1\n",
       "1406       1          1\n",
       "319        0          0\n",
       "957        1          1\n",
       "430        0          0"
      ]
     },
     "execution_count": 120,
     "metadata": {},
     "output_type": "execute_result"
    }
   ],
   "source": [
    "knn = KNeighborsClassifier(n_neighbors = 1)\n",
    "\n",
    "knn.fit(X_train, y_train)\n",
    "\n",
    "pred_knn = knn.predict(X_test)\n",
    "pd.DataFrame({\"Actual\": y_test,\n",
    "              \"Predicted\": pred_knn}).sample(10)"
   ]
  },
  {
   "cell_type": "markdown",
   "id": "25ef1b70",
   "metadata": {},
   "source": [
    "**Tuned K Neighbors Classification Confusion Matrix**"
   ]
  },
  {
   "cell_type": "code",
   "execution_count": 121,
   "id": "c374735f",
   "metadata": {},
   "outputs": [
    {
     "data": {
      "text/html": [
       "<div>\n",
       "<style scoped>\n",
       "    .dataframe tbody tr th:only-of-type {\n",
       "        vertical-align: middle;\n",
       "    }\n",
       "\n",
       "    .dataframe tbody tr th {\n",
       "        vertical-align: top;\n",
       "    }\n",
       "\n",
       "    .dataframe thead th {\n",
       "        text-align: right;\n",
       "    }\n",
       "</style>\n",
       "<table border=\"1\" class=\"dataframe\">\n",
       "  <thead>\n",
       "    <tr style=\"text-align: right;\">\n",
       "      <th></th>\n",
       "      <th>0</th>\n",
       "      <th>1</th>\n",
       "    </tr>\n",
       "  </thead>\n",
       "  <tbody>\n",
       "    <tr>\n",
       "      <th>0</th>\n",
       "      <td>126</td>\n",
       "      <td>19</td>\n",
       "    </tr>\n",
       "    <tr>\n",
       "      <th>1</th>\n",
       "      <td>26</td>\n",
       "      <td>118</td>\n",
       "    </tr>\n",
       "  </tbody>\n",
       "</table>\n",
       "</div>"
      ],
      "text/plain": [
       "     0    1\n",
       "0  126   19\n",
       "1   26  118"
      ]
     },
     "execution_count": 121,
     "metadata": {},
     "output_type": "execute_result"
    }
   ],
   "source": [
    "pd.DataFrame(confusion_matrix(y_test, pred_knn))"
   ]
  },
  {
   "cell_type": "markdown",
   "id": "12c249a0",
   "metadata": {},
   "source": [
    "**Tuned K Nearest Neighbors Classification Report**"
   ]
  },
  {
   "cell_type": "code",
   "execution_count": 122,
   "id": "4c84ea08",
   "metadata": {},
   "outputs": [
    {
     "name": "stdout",
     "output_type": "stream",
     "text": [
      "              precision    recall  f1-score   support\n",
      "\n",
      "           0       0.83      0.87      0.85       145\n",
      "           1       0.86      0.82      0.84       144\n",
      "\n",
      "    accuracy                           0.84       289\n",
      "   macro avg       0.85      0.84      0.84       289\n",
      "weighted avg       0.85      0.84      0.84       289\n",
      "\n"
     ]
    }
   ],
   "source": [
    "print(classification_report(y_test, pred_knn))"
   ]
  },
  {
   "cell_type": "markdown",
   "id": "4b8d001a",
   "metadata": {},
   "source": [
    "### Support Vector Classification"
   ]
  },
  {
   "cell_type": "code",
   "execution_count": 124,
   "id": "e156ae9d",
   "metadata": {},
   "outputs": [
    {
     "data": {
      "text/html": [
       "<div>\n",
       "<style scoped>\n",
       "    .dataframe tbody tr th:only-of-type {\n",
       "        vertical-align: middle;\n",
       "    }\n",
       "\n",
       "    .dataframe tbody tr th {\n",
       "        vertical-align: top;\n",
       "    }\n",
       "\n",
       "    .dataframe thead th {\n",
       "        text-align: right;\n",
       "    }\n",
       "</style>\n",
       "<table border=\"1\" class=\"dataframe\">\n",
       "  <thead>\n",
       "    <tr style=\"text-align: right;\">\n",
       "      <th></th>\n",
       "      <th>Actual</th>\n",
       "      <th>Predicted</th>\n",
       "    </tr>\n",
       "  </thead>\n",
       "  <tbody>\n",
       "    <tr>\n",
       "      <th>995</th>\n",
       "      <td>1</td>\n",
       "      <td>1</td>\n",
       "    </tr>\n",
       "    <tr>\n",
       "      <th>1375</th>\n",
       "      <td>1</td>\n",
       "      <td>1</td>\n",
       "    </tr>\n",
       "    <tr>\n",
       "      <th>1170</th>\n",
       "      <td>1</td>\n",
       "      <td>1</td>\n",
       "    </tr>\n",
       "    <tr>\n",
       "      <th>832</th>\n",
       "      <td>1</td>\n",
       "      <td>1</td>\n",
       "    </tr>\n",
       "    <tr>\n",
       "      <th>482</th>\n",
       "      <td>1</td>\n",
       "      <td>1</td>\n",
       "    </tr>\n",
       "    <tr>\n",
       "      <th>933</th>\n",
       "      <td>1</td>\n",
       "      <td>1</td>\n",
       "    </tr>\n",
       "    <tr>\n",
       "      <th>328</th>\n",
       "      <td>0</td>\n",
       "      <td>0</td>\n",
       "    </tr>\n",
       "    <tr>\n",
       "      <th>1337</th>\n",
       "      <td>1</td>\n",
       "      <td>0</td>\n",
       "    </tr>\n",
       "    <tr>\n",
       "      <th>950</th>\n",
       "      <td>1</td>\n",
       "      <td>1</td>\n",
       "    </tr>\n",
       "    <tr>\n",
       "      <th>701</th>\n",
       "      <td>0</td>\n",
       "      <td>1</td>\n",
       "    </tr>\n",
       "  </tbody>\n",
       "</table>\n",
       "</div>"
      ],
      "text/plain": [
       "      Actual  Predicted\n",
       "995        1          1\n",
       "1375       1          1\n",
       "1170       1          1\n",
       "832        1          1\n",
       "482        1          1\n",
       "933        1          1\n",
       "328        0          0\n",
       "1337       1          0\n",
       "950        1          1\n",
       "701        0          1"
      ]
     },
     "execution_count": 124,
     "metadata": {},
     "output_type": "execute_result"
    }
   ],
   "source": [
    "svm = SVC()\n",
    "\n",
    "svm.fit(X_train, y_train)\n",
    "\n",
    "pred_svm = svm.predict(X_test)\n",
    "pd.DataFrame({\"Actual\": y_test,\n",
    "              \"Predicted\": pred_svm}).sample(10)"
   ]
  },
  {
   "cell_type": "markdown",
   "id": "8e504df1",
   "metadata": {},
   "source": [
    "**Support Vector Classification Confusion Matrix**"
   ]
  },
  {
   "cell_type": "code",
   "execution_count": 125,
   "id": "e0284dc8",
   "metadata": {},
   "outputs": [
    {
     "data": {
      "text/html": [
       "<div>\n",
       "<style scoped>\n",
       "    .dataframe tbody tr th:only-of-type {\n",
       "        vertical-align: middle;\n",
       "    }\n",
       "\n",
       "    .dataframe tbody tr th {\n",
       "        vertical-align: top;\n",
       "    }\n",
       "\n",
       "    .dataframe thead th {\n",
       "        text-align: right;\n",
       "    }\n",
       "</style>\n",
       "<table border=\"1\" class=\"dataframe\">\n",
       "  <thead>\n",
       "    <tr style=\"text-align: right;\">\n",
       "      <th></th>\n",
       "      <th>0</th>\n",
       "      <th>1</th>\n",
       "    </tr>\n",
       "  </thead>\n",
       "  <tbody>\n",
       "    <tr>\n",
       "      <th>0</th>\n",
       "      <td>64</td>\n",
       "      <td>81</td>\n",
       "    </tr>\n",
       "    <tr>\n",
       "      <th>1</th>\n",
       "      <td>41</td>\n",
       "      <td>103</td>\n",
       "    </tr>\n",
       "  </tbody>\n",
       "</table>\n",
       "</div>"
      ],
      "text/plain": [
       "    0    1\n",
       "0  64   81\n",
       "1  41  103"
      ]
     },
     "execution_count": 125,
     "metadata": {},
     "output_type": "execute_result"
    }
   ],
   "source": [
    "pd.DataFrame(confusion_matrix(y_test, pred_svm))"
   ]
  },
  {
   "cell_type": "markdown",
   "id": "82d7afa6",
   "metadata": {},
   "source": [
    "**Support Vector Classification Classification Report**"
   ]
  },
  {
   "cell_type": "code",
   "execution_count": 126,
   "id": "d651195d",
   "metadata": {},
   "outputs": [
    {
     "name": "stdout",
     "output_type": "stream",
     "text": [
      "              precision    recall  f1-score   support\n",
      "\n",
      "           0       0.61      0.44      0.51       145\n",
      "           1       0.56      0.72      0.63       144\n",
      "\n",
      "    accuracy                           0.58       289\n",
      "   macro avg       0.58      0.58      0.57       289\n",
      "weighted avg       0.58      0.58      0.57       289\n",
      "\n"
     ]
    }
   ],
   "source": [
    "print(classification_report(y_test, pred_svm))"
   ]
  },
  {
   "cell_type": "markdown",
   "id": "b548902c",
   "metadata": {},
   "source": [
    "### Tuned Support Vector Classification"
   ]
  },
  {
   "cell_type": "code",
   "execution_count": 20,
   "id": "05ed2484",
   "metadata": {},
   "outputs": [
    {
     "data": {
      "text/plain": [
       "{'C': 0.01}"
      ]
     },
     "execution_count": 20,
     "metadata": {},
     "output_type": "execute_result"
    }
   ],
   "source": [
    "params = {\"C\": [0.0001, 0.001, 0.01, 0.1, 0.3, 0.5, 0.7, 0.9]}\n",
    "\n",
    "svm = SVC()\n",
    "\n",
    "cv = GridSearchCV(svm, params)\n",
    "\n",
    "cv.fit(X_train, y_train)\n",
    "\n",
    "cv.best_params_"
   ]
  },
  {
   "cell_type": "code",
   "execution_count": 21,
   "id": "46e6e29e",
   "metadata": {},
   "outputs": [
    {
     "data": {
      "text/html": [
       "<div>\n",
       "<style scoped>\n",
       "    .dataframe tbody tr th:only-of-type {\n",
       "        vertical-align: middle;\n",
       "    }\n",
       "\n",
       "    .dataframe tbody tr th {\n",
       "        vertical-align: top;\n",
       "    }\n",
       "\n",
       "    .dataframe thead th {\n",
       "        text-align: right;\n",
       "    }\n",
       "</style>\n",
       "<table border=\"1\" class=\"dataframe\">\n",
       "  <thead>\n",
       "    <tr style=\"text-align: right;\">\n",
       "      <th></th>\n",
       "      <th>Actual</th>\n",
       "      <th>Predicted</th>\n",
       "    </tr>\n",
       "  </thead>\n",
       "  <tbody>\n",
       "    <tr>\n",
       "      <th>1255</th>\n",
       "      <td>1</td>\n",
       "      <td>1</td>\n",
       "    </tr>\n",
       "    <tr>\n",
       "      <th>383</th>\n",
       "      <td>1</td>\n",
       "      <td>1</td>\n",
       "    </tr>\n",
       "    <tr>\n",
       "      <th>1417</th>\n",
       "      <td>1</td>\n",
       "      <td>1</td>\n",
       "    </tr>\n",
       "    <tr>\n",
       "      <th>503</th>\n",
       "      <td>0</td>\n",
       "      <td>1</td>\n",
       "    </tr>\n",
       "    <tr>\n",
       "      <th>1258</th>\n",
       "      <td>1</td>\n",
       "      <td>1</td>\n",
       "    </tr>\n",
       "    <tr>\n",
       "      <th>565</th>\n",
       "      <td>1</td>\n",
       "      <td>1</td>\n",
       "    </tr>\n",
       "    <tr>\n",
       "      <th>994</th>\n",
       "      <td>1</td>\n",
       "      <td>1</td>\n",
       "    </tr>\n",
       "    <tr>\n",
       "      <th>228</th>\n",
       "      <td>0</td>\n",
       "      <td>1</td>\n",
       "    </tr>\n",
       "    <tr>\n",
       "      <th>1301</th>\n",
       "      <td>1</td>\n",
       "      <td>1</td>\n",
       "    </tr>\n",
       "    <tr>\n",
       "      <th>100</th>\n",
       "      <td>0</td>\n",
       "      <td>1</td>\n",
       "    </tr>\n",
       "  </tbody>\n",
       "</table>\n",
       "</div>"
      ],
      "text/plain": [
       "      Actual  Predicted\n",
       "1255       1          1\n",
       "383        1          1\n",
       "1417       1          1\n",
       "503        0          1\n",
       "1258       1          1\n",
       "565        1          1\n",
       "994        1          1\n",
       "228        0          1\n",
       "1301       1          1\n",
       "100        0          1"
      ]
     },
     "execution_count": 21,
     "metadata": {},
     "output_type": "execute_result"
    }
   ],
   "source": [
    "svm = SVC(C = 0.01)\n",
    "\n",
    "svm.fit(X_train, y_train)\n",
    "\n",
    "pred_svm = svm.predict(X_test)\n",
    "pd.DataFrame({\"Actual\": y_test,\n",
    "              \"Predicted\": pred_svm}).sample(10)"
   ]
  },
  {
   "cell_type": "markdown",
   "id": "f70bcf78",
   "metadata": {},
   "source": [
    "**Tuned Support Vector Classification Confusion Matrix**"
   ]
  },
  {
   "cell_type": "code",
   "execution_count": 22,
   "id": "a95a9b5d",
   "metadata": {},
   "outputs": [
    {
     "data": {
      "text/html": [
       "<div>\n",
       "<style scoped>\n",
       "    .dataframe tbody tr th:only-of-type {\n",
       "        vertical-align: middle;\n",
       "    }\n",
       "\n",
       "    .dataframe tbody tr th {\n",
       "        vertical-align: top;\n",
       "    }\n",
       "\n",
       "    .dataframe thead th {\n",
       "        text-align: right;\n",
       "    }\n",
       "</style>\n",
       "<table border=\"1\" class=\"dataframe\">\n",
       "  <thead>\n",
       "    <tr style=\"text-align: right;\">\n",
       "      <th></th>\n",
       "      <th>0</th>\n",
       "      <th>1</th>\n",
       "    </tr>\n",
       "  </thead>\n",
       "  <tbody>\n",
       "    <tr>\n",
       "      <th>0</th>\n",
       "      <td>37</td>\n",
       "      <td>108</td>\n",
       "    </tr>\n",
       "    <tr>\n",
       "      <th>1</th>\n",
       "      <td>17</td>\n",
       "      <td>127</td>\n",
       "    </tr>\n",
       "  </tbody>\n",
       "</table>\n",
       "</div>"
      ],
      "text/plain": [
       "    0    1\n",
       "0  37  108\n",
       "1  17  127"
      ]
     },
     "execution_count": 22,
     "metadata": {},
     "output_type": "execute_result"
    }
   ],
   "source": [
    "pd.DataFrame(confusion_matrix(y_test, pred_svm))"
   ]
  },
  {
   "cell_type": "markdown",
   "id": "0d530d58",
   "metadata": {},
   "source": [
    "**Tuned Support Vector Classification Classification Report**"
   ]
  },
  {
   "cell_type": "code",
   "execution_count": 23,
   "id": "45d1ecd4",
   "metadata": {},
   "outputs": [
    {
     "name": "stdout",
     "output_type": "stream",
     "text": [
      "              precision    recall  f1-score   support\n",
      "\n",
      "           0       0.69      0.26      0.37       145\n",
      "           1       0.54      0.88      0.67       144\n",
      "\n",
      "    accuracy                           0.57       289\n",
      "   macro avg       0.61      0.57      0.52       289\n",
      "weighted avg       0.61      0.57      0.52       289\n",
      "\n"
     ]
    }
   ],
   "source": [
    "print(classification_report(y_test, pred_svm))"
   ]
  },
  {
   "cell_type": "markdown",
   "id": "1f929069",
   "metadata": {},
   "source": [
    "### Adaboost Classification"
   ]
  },
  {
   "cell_type": "code",
   "execution_count": 25,
   "id": "005f3340",
   "metadata": {},
   "outputs": [
    {
     "data": {
      "text/html": [
       "<div>\n",
       "<style scoped>\n",
       "    .dataframe tbody tr th:only-of-type {\n",
       "        vertical-align: middle;\n",
       "    }\n",
       "\n",
       "    .dataframe tbody tr th {\n",
       "        vertical-align: top;\n",
       "    }\n",
       "\n",
       "    .dataframe thead th {\n",
       "        text-align: right;\n",
       "    }\n",
       "</style>\n",
       "<table border=\"1\" class=\"dataframe\">\n",
       "  <thead>\n",
       "    <tr style=\"text-align: right;\">\n",
       "      <th></th>\n",
       "      <th>Actual</th>\n",
       "      <th>Predicted</th>\n",
       "    </tr>\n",
       "  </thead>\n",
       "  <tbody>\n",
       "    <tr>\n",
       "      <th>13</th>\n",
       "      <td>0</td>\n",
       "      <td>0</td>\n",
       "    </tr>\n",
       "    <tr>\n",
       "      <th>555</th>\n",
       "      <td>0</td>\n",
       "      <td>0</td>\n",
       "    </tr>\n",
       "    <tr>\n",
       "      <th>406</th>\n",
       "      <td>0</td>\n",
       "      <td>0</td>\n",
       "    </tr>\n",
       "    <tr>\n",
       "      <th>655</th>\n",
       "      <td>0</td>\n",
       "      <td>0</td>\n",
       "    </tr>\n",
       "    <tr>\n",
       "      <th>532</th>\n",
       "      <td>0</td>\n",
       "      <td>0</td>\n",
       "    </tr>\n",
       "    <tr>\n",
       "      <th>435</th>\n",
       "      <td>0</td>\n",
       "      <td>0</td>\n",
       "    </tr>\n",
       "    <tr>\n",
       "      <th>86</th>\n",
       "      <td>0</td>\n",
       "      <td>1</td>\n",
       "    </tr>\n",
       "    <tr>\n",
       "      <th>978</th>\n",
       "      <td>1</td>\n",
       "      <td>1</td>\n",
       "    </tr>\n",
       "    <tr>\n",
       "      <th>634</th>\n",
       "      <td>0</td>\n",
       "      <td>0</td>\n",
       "    </tr>\n",
       "    <tr>\n",
       "      <th>1067</th>\n",
       "      <td>1</td>\n",
       "      <td>1</td>\n",
       "    </tr>\n",
       "  </tbody>\n",
       "</table>\n",
       "</div>"
      ],
      "text/plain": [
       "      Actual  Predicted\n",
       "13         0          0\n",
       "555        0          0\n",
       "406        0          0\n",
       "655        0          0\n",
       "532        0          0\n",
       "435        0          0\n",
       "86         0          1\n",
       "978        1          1\n",
       "634        0          0\n",
       "1067       1          1"
      ]
     },
     "execution_count": 25,
     "metadata": {},
     "output_type": "execute_result"
    }
   ],
   "source": [
    "adbc = AdaBoostClassifier()\n",
    "\n",
    "adbc.fit(X_train, y_train)\n",
    "\n",
    "pred_adbc = adbc.predict(X_test)\n",
    "pd.DataFrame({\"Actual\": y_test,\n",
    "              \"Predicted\": pred_adbc}).sample(10)"
   ]
  },
  {
   "cell_type": "markdown",
   "id": "2fe01b87",
   "metadata": {},
   "source": [
    "**AdaBoost Classification Confusion Matrix**"
   ]
  },
  {
   "cell_type": "code",
   "execution_count": 26,
   "id": "531abd31",
   "metadata": {},
   "outputs": [
    {
     "data": {
      "text/html": [
       "<div>\n",
       "<style scoped>\n",
       "    .dataframe tbody tr th:only-of-type {\n",
       "        vertical-align: middle;\n",
       "    }\n",
       "\n",
       "    .dataframe tbody tr th {\n",
       "        vertical-align: top;\n",
       "    }\n",
       "\n",
       "    .dataframe thead th {\n",
       "        text-align: right;\n",
       "    }\n",
       "</style>\n",
       "<table border=\"1\" class=\"dataframe\">\n",
       "  <thead>\n",
       "    <tr style=\"text-align: right;\">\n",
       "      <th></th>\n",
       "      <th>0</th>\n",
       "      <th>1</th>\n",
       "    </tr>\n",
       "  </thead>\n",
       "  <tbody>\n",
       "    <tr>\n",
       "      <th>0</th>\n",
       "      <td>116</td>\n",
       "      <td>29</td>\n",
       "    </tr>\n",
       "    <tr>\n",
       "      <th>1</th>\n",
       "      <td>23</td>\n",
       "      <td>121</td>\n",
       "    </tr>\n",
       "  </tbody>\n",
       "</table>\n",
       "</div>"
      ],
      "text/plain": [
       "     0    1\n",
       "0  116   29\n",
       "1   23  121"
      ]
     },
     "execution_count": 26,
     "metadata": {},
     "output_type": "execute_result"
    }
   ],
   "source": [
    "pd.DataFrame(confusion_matrix(y_test, pred_adbc))"
   ]
  },
  {
   "cell_type": "markdown",
   "id": "13e3714d",
   "metadata": {},
   "source": [
    "**AdaBoost Classifier Classification Report**"
   ]
  },
  {
   "cell_type": "code",
   "execution_count": 27,
   "id": "69e2e52a",
   "metadata": {},
   "outputs": [
    {
     "name": "stdout",
     "output_type": "stream",
     "text": [
      "              precision    recall  f1-score   support\n",
      "\n",
      "           0       0.83      0.80      0.82       145\n",
      "           1       0.81      0.84      0.82       144\n",
      "\n",
      "    accuracy                           0.82       289\n",
      "   macro avg       0.82      0.82      0.82       289\n",
      "weighted avg       0.82      0.82      0.82       289\n",
      "\n"
     ]
    }
   ],
   "source": [
    "print(classification_report(y_test, pred_adbc))"
   ]
  },
  {
   "cell_type": "markdown",
   "id": "81c09c19",
   "metadata": {},
   "source": [
    "### Tuned Adaboost Classification"
   ]
  },
  {
   "cell_type": "code",
   "execution_count": 28,
   "id": "98d3148f",
   "metadata": {},
   "outputs": [
    {
     "data": {
      "text/plain": [
       "{'learning_rate': 0.5, 'n_estimators': 100}"
      ]
     },
     "execution_count": 28,
     "metadata": {},
     "output_type": "execute_result"
    }
   ],
   "source": [
    "params = {\"n_estimators\": [50, 75, 100, 125, 150, 175, 200],\n",
    "          \"learning_rate\": [0.0001, 0.001, 0.01, 0.1, 0.5]}\n",
    "\n",
    "adbc = AdaBoostClassifier()\n",
    "\n",
    "cv = GridSearchCV(adbc, params)\n",
    "\n",
    "cv.fit(X_train, y_train)\n",
    "\n",
    "cv.best_params_"
   ]
  },
  {
   "cell_type": "code",
   "execution_count": 29,
   "id": "85a5caec",
   "metadata": {},
   "outputs": [
    {
     "data": {
      "text/html": [
       "<div>\n",
       "<style scoped>\n",
       "    .dataframe tbody tr th:only-of-type {\n",
       "        vertical-align: middle;\n",
       "    }\n",
       "\n",
       "    .dataframe tbody tr th {\n",
       "        vertical-align: top;\n",
       "    }\n",
       "\n",
       "    .dataframe thead th {\n",
       "        text-align: right;\n",
       "    }\n",
       "</style>\n",
       "<table border=\"1\" class=\"dataframe\">\n",
       "  <thead>\n",
       "    <tr style=\"text-align: right;\">\n",
       "      <th></th>\n",
       "      <th>Actual</th>\n",
       "      <th>Predicted</th>\n",
       "    </tr>\n",
       "  </thead>\n",
       "  <tbody>\n",
       "    <tr>\n",
       "      <th>1084</th>\n",
       "      <td>1</td>\n",
       "      <td>1</td>\n",
       "    </tr>\n",
       "    <tr>\n",
       "      <th>229</th>\n",
       "      <td>0</td>\n",
       "      <td>0</td>\n",
       "    </tr>\n",
       "    <tr>\n",
       "      <th>526</th>\n",
       "      <td>1</td>\n",
       "      <td>1</td>\n",
       "    </tr>\n",
       "    <tr>\n",
       "      <th>1187</th>\n",
       "      <td>1</td>\n",
       "      <td>1</td>\n",
       "    </tr>\n",
       "    <tr>\n",
       "      <th>994</th>\n",
       "      <td>1</td>\n",
       "      <td>1</td>\n",
       "    </tr>\n",
       "    <tr>\n",
       "      <th>90</th>\n",
       "      <td>1</td>\n",
       "      <td>1</td>\n",
       "    </tr>\n",
       "    <tr>\n",
       "      <th>842</th>\n",
       "      <td>1</td>\n",
       "      <td>1</td>\n",
       "    </tr>\n",
       "    <tr>\n",
       "      <th>1299</th>\n",
       "      <td>1</td>\n",
       "      <td>1</td>\n",
       "    </tr>\n",
       "    <tr>\n",
       "      <th>800</th>\n",
       "      <td>0</td>\n",
       "      <td>0</td>\n",
       "    </tr>\n",
       "    <tr>\n",
       "      <th>719</th>\n",
       "      <td>1</td>\n",
       "      <td>1</td>\n",
       "    </tr>\n",
       "  </tbody>\n",
       "</table>\n",
       "</div>"
      ],
      "text/plain": [
       "      Actual  Predicted\n",
       "1084       1          1\n",
       "229        0          0\n",
       "526        1          1\n",
       "1187       1          1\n",
       "994        1          1\n",
       "90         1          1\n",
       "842        1          1\n",
       "1299       1          1\n",
       "800        0          0\n",
       "719        1          1"
      ]
     },
     "execution_count": 29,
     "metadata": {},
     "output_type": "execute_result"
    }
   ],
   "source": [
    "adbc = AdaBoostClassifier(n_estimators = 100,\n",
    "                          learning_rate = 0.5)\n",
    "\n",
    "adbc.fit(X_train, y_train)\n",
    "\n",
    "pred_adbc = adbc.predict(X_test)\n",
    "pd.DataFrame({\"Actual\": y_test,\n",
    "              \"Predicted\": pred_adbc}).sample(10)"
   ]
  },
  {
   "cell_type": "markdown",
   "id": "4a9106e2",
   "metadata": {},
   "source": [
    "**Tuned Adaboost Classification Confusion Matrix**"
   ]
  },
  {
   "cell_type": "code",
   "execution_count": 30,
   "id": "38379c3e",
   "metadata": {},
   "outputs": [
    {
     "data": {
      "text/html": [
       "<div>\n",
       "<style scoped>\n",
       "    .dataframe tbody tr th:only-of-type {\n",
       "        vertical-align: middle;\n",
       "    }\n",
       "\n",
       "    .dataframe tbody tr th {\n",
       "        vertical-align: top;\n",
       "    }\n",
       "\n",
       "    .dataframe thead th {\n",
       "        text-align: right;\n",
       "    }\n",
       "</style>\n",
       "<table border=\"1\" class=\"dataframe\">\n",
       "  <thead>\n",
       "    <tr style=\"text-align: right;\">\n",
       "      <th></th>\n",
       "      <th>0</th>\n",
       "      <th>1</th>\n",
       "    </tr>\n",
       "  </thead>\n",
       "  <tbody>\n",
       "    <tr>\n",
       "      <th>0</th>\n",
       "      <td>118</td>\n",
       "      <td>27</td>\n",
       "    </tr>\n",
       "    <tr>\n",
       "      <th>1</th>\n",
       "      <td>23</td>\n",
       "      <td>121</td>\n",
       "    </tr>\n",
       "  </tbody>\n",
       "</table>\n",
       "</div>"
      ],
      "text/plain": [
       "     0    1\n",
       "0  118   27\n",
       "1   23  121"
      ]
     },
     "execution_count": 30,
     "metadata": {},
     "output_type": "execute_result"
    }
   ],
   "source": [
    "pd.DataFrame(confusion_matrix(y_test, pred_adbc))"
   ]
  },
  {
   "cell_type": "markdown",
   "id": "8bfb8728",
   "metadata": {},
   "source": [
    "**Tuned Adaboost Classifier Classification Report**"
   ]
  },
  {
   "cell_type": "code",
   "execution_count": 31,
   "id": "0f0b95ce",
   "metadata": {},
   "outputs": [
    {
     "name": "stdout",
     "output_type": "stream",
     "text": [
      "              precision    recall  f1-score   support\n",
      "\n",
      "           0       0.84      0.81      0.83       145\n",
      "           1       0.82      0.84      0.83       144\n",
      "\n",
      "    accuracy                           0.83       289\n",
      "   macro avg       0.83      0.83      0.83       289\n",
      "weighted avg       0.83      0.83      0.83       289\n",
      "\n"
     ]
    }
   ],
   "source": [
    "print(classification_report(y_test, pred_adbc))"
   ]
  },
  {
   "cell_type": "markdown",
   "id": "bdc59c4e",
   "metadata": {},
   "source": [
    "### Gradient Boosting Classification"
   ]
  },
  {
   "cell_type": "code",
   "execution_count": 33,
   "id": "cfe9e756",
   "metadata": {},
   "outputs": [
    {
     "data": {
      "text/html": [
       "<div>\n",
       "<style scoped>\n",
       "    .dataframe tbody tr th:only-of-type {\n",
       "        vertical-align: middle;\n",
       "    }\n",
       "\n",
       "    .dataframe tbody tr th {\n",
       "        vertical-align: top;\n",
       "    }\n",
       "\n",
       "    .dataframe thead th {\n",
       "        text-align: right;\n",
       "    }\n",
       "</style>\n",
       "<table border=\"1\" class=\"dataframe\">\n",
       "  <thead>\n",
       "    <tr style=\"text-align: right;\">\n",
       "      <th></th>\n",
       "      <th>Actual</th>\n",
       "      <th>Predicted</th>\n",
       "    </tr>\n",
       "  </thead>\n",
       "  <tbody>\n",
       "    <tr>\n",
       "      <th>644</th>\n",
       "      <td>0</td>\n",
       "      <td>0</td>\n",
       "    </tr>\n",
       "    <tr>\n",
       "      <th>554</th>\n",
       "      <td>0</td>\n",
       "      <td>1</td>\n",
       "    </tr>\n",
       "    <tr>\n",
       "      <th>638</th>\n",
       "      <td>0</td>\n",
       "      <td>0</td>\n",
       "    </tr>\n",
       "    <tr>\n",
       "      <th>117</th>\n",
       "      <td>0</td>\n",
       "      <td>0</td>\n",
       "    </tr>\n",
       "    <tr>\n",
       "      <th>830</th>\n",
       "      <td>1</td>\n",
       "      <td>1</td>\n",
       "    </tr>\n",
       "    <tr>\n",
       "      <th>952</th>\n",
       "      <td>1</td>\n",
       "      <td>1</td>\n",
       "    </tr>\n",
       "    <tr>\n",
       "      <th>14</th>\n",
       "      <td>0</td>\n",
       "      <td>0</td>\n",
       "    </tr>\n",
       "    <tr>\n",
       "      <th>1247</th>\n",
       "      <td>1</td>\n",
       "      <td>1</td>\n",
       "    </tr>\n",
       "    <tr>\n",
       "      <th>1241</th>\n",
       "      <td>1</td>\n",
       "      <td>1</td>\n",
       "    </tr>\n",
       "    <tr>\n",
       "      <th>1338</th>\n",
       "      <td>1</td>\n",
       "      <td>1</td>\n",
       "    </tr>\n",
       "  </tbody>\n",
       "</table>\n",
       "</div>"
      ],
      "text/plain": [
       "      Actual  Predicted\n",
       "644        0          0\n",
       "554        0          1\n",
       "638        0          0\n",
       "117        0          0\n",
       "830        1          1\n",
       "952        1          1\n",
       "14         0          0\n",
       "1247       1          1\n",
       "1241       1          1\n",
       "1338       1          1"
      ]
     },
     "execution_count": 33,
     "metadata": {},
     "output_type": "execute_result"
    }
   ],
   "source": [
    "gbc = GradientBoostingClassifier()\n",
    "\n",
    "gbc.fit(X_train, y_train)\n",
    "\n",
    "pred_gbc = gbc.predict(X_test)\n",
    "pd.DataFrame({\"Actual\": y_test,\n",
    "              \"Predicted\": pred_gbc}).sample(10)"
   ]
  },
  {
   "cell_type": "markdown",
   "id": "0c53eb66",
   "metadata": {},
   "source": [
    "**Gradient Boosting Classifier Confusion Matrix**"
   ]
  },
  {
   "cell_type": "code",
   "execution_count": 34,
   "id": "4f78b117",
   "metadata": {},
   "outputs": [
    {
     "data": {
      "text/html": [
       "<div>\n",
       "<style scoped>\n",
       "    .dataframe tbody tr th:only-of-type {\n",
       "        vertical-align: middle;\n",
       "    }\n",
       "\n",
       "    .dataframe tbody tr th {\n",
       "        vertical-align: top;\n",
       "    }\n",
       "\n",
       "    .dataframe thead th {\n",
       "        text-align: right;\n",
       "    }\n",
       "</style>\n",
       "<table border=\"1\" class=\"dataframe\">\n",
       "  <thead>\n",
       "    <tr style=\"text-align: right;\">\n",
       "      <th></th>\n",
       "      <th>0</th>\n",
       "      <th>1</th>\n",
       "    </tr>\n",
       "  </thead>\n",
       "  <tbody>\n",
       "    <tr>\n",
       "      <th>0</th>\n",
       "      <td>120</td>\n",
       "      <td>25</td>\n",
       "    </tr>\n",
       "    <tr>\n",
       "      <th>1</th>\n",
       "      <td>11</td>\n",
       "      <td>133</td>\n",
       "    </tr>\n",
       "  </tbody>\n",
       "</table>\n",
       "</div>"
      ],
      "text/plain": [
       "     0    1\n",
       "0  120   25\n",
       "1   11  133"
      ]
     },
     "execution_count": 34,
     "metadata": {},
     "output_type": "execute_result"
    }
   ],
   "source": [
    "pd.DataFrame(confusion_matrix(y_test, pred_gbc))"
   ]
  },
  {
   "cell_type": "markdown",
   "id": "e755e3d0",
   "metadata": {},
   "source": [
    "**Gradient Boosting Classifier Classification Report**"
   ]
  },
  {
   "cell_type": "code",
   "execution_count": 35,
   "id": "031497b1",
   "metadata": {},
   "outputs": [
    {
     "name": "stdout",
     "output_type": "stream",
     "text": [
      "              precision    recall  f1-score   support\n",
      "\n",
      "           0       0.92      0.83      0.87       145\n",
      "           1       0.84      0.92      0.88       144\n",
      "\n",
      "    accuracy                           0.88       289\n",
      "   macro avg       0.88      0.88      0.88       289\n",
      "weighted avg       0.88      0.88      0.88       289\n",
      "\n"
     ]
    }
   ],
   "source": [
    "print(classification_report(y_test, pred_gbc))"
   ]
  },
  {
   "cell_type": "markdown",
   "id": "e9731195",
   "metadata": {},
   "source": [
    "### Tuned Gradient Boosting Classification"
   ]
  },
  {
   "cell_type": "code",
   "execution_count": 37,
   "id": "7d3621db",
   "metadata": {},
   "outputs": [
    {
     "data": {
      "text/plain": [
       "{'learning_rate': 0.01,\n",
       " 'max_depth': 4,\n",
       " 'min_samples_leaf': 0.1,\n",
       " 'n_estimators': 200}"
      ]
     },
     "execution_count": 37,
     "metadata": {},
     "output_type": "execute_result"
    }
   ],
   "source": [
    "params = {\"learning_rate\": [0.0001, 0.001, 0.01],\n",
    "          \"n_estimators\": [75, 150 , 200],\n",
    "          \"min_samples_leaf\": [0.1, 0.2, 0.3, 0.4],\n",
    "          \"max_depth\": [4, 6, 8]}\n",
    "\n",
    "gbc = GradientBoostingClassifier()\n",
    "\n",
    "cv = GridSearchCV(gbc, params)\n",
    "\n",
    "cv.fit(X_train, y_train)\n",
    "\n",
    "cv.best_params_"
   ]
  },
  {
   "cell_type": "code",
   "execution_count": 39,
   "id": "535d88f6",
   "metadata": {},
   "outputs": [
    {
     "data": {
      "text/html": [
       "<div>\n",
       "<style scoped>\n",
       "    .dataframe tbody tr th:only-of-type {\n",
       "        vertical-align: middle;\n",
       "    }\n",
       "\n",
       "    .dataframe tbody tr th {\n",
       "        vertical-align: top;\n",
       "    }\n",
       "\n",
       "    .dataframe thead th {\n",
       "        text-align: right;\n",
       "    }\n",
       "</style>\n",
       "<table border=\"1\" class=\"dataframe\">\n",
       "  <thead>\n",
       "    <tr style=\"text-align: right;\">\n",
       "      <th></th>\n",
       "      <th>Actual</th>\n",
       "      <th>Predicted</th>\n",
       "    </tr>\n",
       "  </thead>\n",
       "  <tbody>\n",
       "    <tr>\n",
       "      <th>331</th>\n",
       "      <td>1</td>\n",
       "      <td>1</td>\n",
       "    </tr>\n",
       "    <tr>\n",
       "      <th>1195</th>\n",
       "      <td>1</td>\n",
       "      <td>1</td>\n",
       "    </tr>\n",
       "    <tr>\n",
       "      <th>532</th>\n",
       "      <td>0</td>\n",
       "      <td>1</td>\n",
       "    </tr>\n",
       "    <tr>\n",
       "      <th>33</th>\n",
       "      <td>1</td>\n",
       "      <td>1</td>\n",
       "    </tr>\n",
       "    <tr>\n",
       "      <th>430</th>\n",
       "      <td>0</td>\n",
       "      <td>0</td>\n",
       "    </tr>\n",
       "    <tr>\n",
       "      <th>1159</th>\n",
       "      <td>1</td>\n",
       "      <td>1</td>\n",
       "    </tr>\n",
       "    <tr>\n",
       "      <th>928</th>\n",
       "      <td>1</td>\n",
       "      <td>1</td>\n",
       "    </tr>\n",
       "    <tr>\n",
       "      <th>722</th>\n",
       "      <td>0</td>\n",
       "      <td>1</td>\n",
       "    </tr>\n",
       "    <tr>\n",
       "      <th>774</th>\n",
       "      <td>0</td>\n",
       "      <td>0</td>\n",
       "    </tr>\n",
       "    <tr>\n",
       "      <th>421</th>\n",
       "      <td>0</td>\n",
       "      <td>1</td>\n",
       "    </tr>\n",
       "  </tbody>\n",
       "</table>\n",
       "</div>"
      ],
      "text/plain": [
       "      Actual  Predicted\n",
       "331        1          1\n",
       "1195       1          1\n",
       "532        0          1\n",
       "33         1          1\n",
       "430        0          0\n",
       "1159       1          1\n",
       "928        1          1\n",
       "722        0          1\n",
       "774        0          0\n",
       "421        0          1"
      ]
     },
     "execution_count": 39,
     "metadata": {},
     "output_type": "execute_result"
    }
   ],
   "source": [
    "gbr = GradientBoostingClassifier(learning_rate = 0.01,\n",
    "                                 max_depth = 4,\n",
    "                                 min_samples_leaf = 0.1,\n",
    "                                 n_estimators = 200)\n",
    "\n",
    "gbr.fit(X_train, y_train)\n",
    "\n",
    "pred_gr = gbr.predict(X_test)\n",
    "pd.DataFrame({\"Actual\": y_test,\n",
    "              \"Predicted\": pred_gr}).sample(10)"
   ]
  },
  {
   "cell_type": "markdown",
   "id": "f1a0eda4",
   "metadata": {},
   "source": [
    "**Tuned Gradient Boosting Classifier Confusion Matrix**"
   ]
  },
  {
   "cell_type": "code",
   "execution_count": 40,
   "id": "2f4a96cc",
   "metadata": {},
   "outputs": [
    {
     "data": {
      "text/html": [
       "<div>\n",
       "<style scoped>\n",
       "    .dataframe tbody tr th:only-of-type {\n",
       "        vertical-align: middle;\n",
       "    }\n",
       "\n",
       "    .dataframe tbody tr th {\n",
       "        vertical-align: top;\n",
       "    }\n",
       "\n",
       "    .dataframe thead th {\n",
       "        text-align: right;\n",
       "    }\n",
       "</style>\n",
       "<table border=\"1\" class=\"dataframe\">\n",
       "  <thead>\n",
       "    <tr style=\"text-align: right;\">\n",
       "      <th></th>\n",
       "      <th>0</th>\n",
       "      <th>1</th>\n",
       "    </tr>\n",
       "  </thead>\n",
       "  <tbody>\n",
       "    <tr>\n",
       "      <th>0</th>\n",
       "      <td>112</td>\n",
       "      <td>33</td>\n",
       "    </tr>\n",
       "    <tr>\n",
       "      <th>1</th>\n",
       "      <td>18</td>\n",
       "      <td>126</td>\n",
       "    </tr>\n",
       "  </tbody>\n",
       "</table>\n",
       "</div>"
      ],
      "text/plain": [
       "     0    1\n",
       "0  112   33\n",
       "1   18  126"
      ]
     },
     "execution_count": 40,
     "metadata": {},
     "output_type": "execute_result"
    }
   ],
   "source": [
    "pd.DataFrame(confusion_matrix(y_test, pred_gr))"
   ]
  },
  {
   "cell_type": "markdown",
   "id": "d68299b4",
   "metadata": {},
   "source": [
    "**Tuned Gradient Boosting Classifier Classification Report**"
   ]
  },
  {
   "cell_type": "code",
   "execution_count": 41,
   "id": "b913487b",
   "metadata": {},
   "outputs": [
    {
     "name": "stdout",
     "output_type": "stream",
     "text": [
      "              precision    recall  f1-score   support\n",
      "\n",
      "           0       0.86      0.77      0.81       145\n",
      "           1       0.79      0.88      0.83       144\n",
      "\n",
      "    accuracy                           0.82       289\n",
      "   macro avg       0.83      0.82      0.82       289\n",
      "weighted avg       0.83      0.82      0.82       289\n",
      "\n"
     ]
    }
   ],
   "source": [
    "print(classification_report(y_test, pred_gr))"
   ]
  },
  {
   "cell_type": "markdown",
   "id": "bf8d96f4",
   "metadata": {},
   "source": [
    "### Extra Trees Classifier"
   ]
  },
  {
   "cell_type": "code",
   "execution_count": 44,
   "id": "2708a917",
   "metadata": {},
   "outputs": [
    {
     "data": {
      "text/html": [
       "<div>\n",
       "<style scoped>\n",
       "    .dataframe tbody tr th:only-of-type {\n",
       "        vertical-align: middle;\n",
       "    }\n",
       "\n",
       "    .dataframe tbody tr th {\n",
       "        vertical-align: top;\n",
       "    }\n",
       "\n",
       "    .dataframe thead th {\n",
       "        text-align: right;\n",
       "    }\n",
       "</style>\n",
       "<table border=\"1\" class=\"dataframe\">\n",
       "  <thead>\n",
       "    <tr style=\"text-align: right;\">\n",
       "      <th></th>\n",
       "      <th>Actual</th>\n",
       "      <th>Predicted</th>\n",
       "    </tr>\n",
       "  </thead>\n",
       "  <tbody>\n",
       "    <tr>\n",
       "      <th>1272</th>\n",
       "      <td>1</td>\n",
       "      <td>1</td>\n",
       "    </tr>\n",
       "    <tr>\n",
       "      <th>913</th>\n",
       "      <td>1</td>\n",
       "      <td>1</td>\n",
       "    </tr>\n",
       "    <tr>\n",
       "      <th>567</th>\n",
       "      <td>0</td>\n",
       "      <td>1</td>\n",
       "    </tr>\n",
       "    <tr>\n",
       "      <th>797</th>\n",
       "      <td>0</td>\n",
       "      <td>1</td>\n",
       "    </tr>\n",
       "    <tr>\n",
       "      <th>420</th>\n",
       "      <td>1</td>\n",
       "      <td>1</td>\n",
       "    </tr>\n",
       "    <tr>\n",
       "      <th>639</th>\n",
       "      <td>0</td>\n",
       "      <td>1</td>\n",
       "    </tr>\n",
       "    <tr>\n",
       "      <th>548</th>\n",
       "      <td>1</td>\n",
       "      <td>1</td>\n",
       "    </tr>\n",
       "    <tr>\n",
       "      <th>652</th>\n",
       "      <td>0</td>\n",
       "      <td>0</td>\n",
       "    </tr>\n",
       "    <tr>\n",
       "      <th>1424</th>\n",
       "      <td>1</td>\n",
       "      <td>1</td>\n",
       "    </tr>\n",
       "    <tr>\n",
       "      <th>1110</th>\n",
       "      <td>1</td>\n",
       "      <td>1</td>\n",
       "    </tr>\n",
       "  </tbody>\n",
       "</table>\n",
       "</div>"
      ],
      "text/plain": [
       "      Actual  Predicted\n",
       "1272       1          1\n",
       "913        1          1\n",
       "567        0          1\n",
       "797        0          1\n",
       "420        1          1\n",
       "639        0          1\n",
       "548        1          1\n",
       "652        0          0\n",
       "1424       1          1\n",
       "1110       1          1"
      ]
     },
     "execution_count": 44,
     "metadata": {},
     "output_type": "execute_result"
    }
   ],
   "source": [
    "etc = ExtraTreesClassifier()\n",
    "\n",
    "etc.fit(X_train, y_train)\n",
    "\n",
    "pred_etc = etc.predict(X_test)\n",
    "pd.DataFrame({\"Actual\": y_test,\n",
    "              \"Predicted\": pred_etc}).sample(10)"
   ]
  },
  {
   "cell_type": "markdown",
   "id": "f047bd60",
   "metadata": {},
   "source": [
    "### Extra Trees Classifier Confusion Matrix"
   ]
  },
  {
   "cell_type": "code",
   "execution_count": 45,
   "id": "66cbc43d",
   "metadata": {},
   "outputs": [
    {
     "data": {
      "text/html": [
       "<div>\n",
       "<style scoped>\n",
       "    .dataframe tbody tr th:only-of-type {\n",
       "        vertical-align: middle;\n",
       "    }\n",
       "\n",
       "    .dataframe tbody tr th {\n",
       "        vertical-align: top;\n",
       "    }\n",
       "\n",
       "    .dataframe thead th {\n",
       "        text-align: right;\n",
       "    }\n",
       "</style>\n",
       "<table border=\"1\" class=\"dataframe\">\n",
       "  <thead>\n",
       "    <tr style=\"text-align: right;\">\n",
       "      <th></th>\n",
       "      <th>0</th>\n",
       "      <th>1</th>\n",
       "    </tr>\n",
       "  </thead>\n",
       "  <tbody>\n",
       "    <tr>\n",
       "      <th>0</th>\n",
       "      <td>117</td>\n",
       "      <td>28</td>\n",
       "    </tr>\n",
       "    <tr>\n",
       "      <th>1</th>\n",
       "      <td>13</td>\n",
       "      <td>131</td>\n",
       "    </tr>\n",
       "  </tbody>\n",
       "</table>\n",
       "</div>"
      ],
      "text/plain": [
       "     0    1\n",
       "0  117   28\n",
       "1   13  131"
      ]
     },
     "execution_count": 45,
     "metadata": {},
     "output_type": "execute_result"
    }
   ],
   "source": [
    "pd.DataFrame(confusion_matrix(y_test, pred_etc))"
   ]
  },
  {
   "cell_type": "markdown",
   "id": "1222ca08",
   "metadata": {},
   "source": [
    "### Extra Trees Classifier Classification Report"
   ]
  },
  {
   "cell_type": "code",
   "execution_count": 46,
   "id": "13f2a8b9",
   "metadata": {},
   "outputs": [
    {
     "name": "stdout",
     "output_type": "stream",
     "text": [
      "              precision    recall  f1-score   support\n",
      "\n",
      "           0       0.90      0.81      0.85       145\n",
      "           1       0.82      0.91      0.86       144\n",
      "\n",
      "    accuracy                           0.86       289\n",
      "   macro avg       0.86      0.86      0.86       289\n",
      "weighted avg       0.86      0.86      0.86       289\n",
      "\n"
     ]
    }
   ],
   "source": [
    "print(classification_report(y_test, pred_etc))"
   ]
  },
  {
   "cell_type": "markdown",
   "id": "694bb60e",
   "metadata": {},
   "source": [
    "### Tuned Extra Trees Classifier"
   ]
  },
  {
   "cell_type": "code",
   "execution_count": 47,
   "id": "96f5790f",
   "metadata": {},
   "outputs": [
    {
     "data": {
      "text/plain": [
       "{'max_depth': 6, 'min_samples_leaf': 0.1, 'n_estimators': 100}"
      ]
     },
     "execution_count": 47,
     "metadata": {},
     "output_type": "execute_result"
    }
   ],
   "source": [
    "params = {\"n_estimators\": [50, 100, 150, 200],\n",
    "          \"max_depth\": [3, 4, 5, 6],\n",
    "          \"min_samples_leaf\": [0.1, 0.2, 0.3, 0.4]}\n",
    "\n",
    "etc = ExtraTreesClassifier()\n",
    "\n",
    "cv = GridSearchCV(etc, params)\n",
    "\n",
    "cv.fit(X_train, y_train)\n",
    "\n",
    "cv.best_params_"
   ]
  },
  {
   "cell_type": "code",
   "execution_count": 48,
   "id": "3a9fceed",
   "metadata": {},
   "outputs": [
    {
     "data": {
      "text/html": [
       "<div>\n",
       "<style scoped>\n",
       "    .dataframe tbody tr th:only-of-type {\n",
       "        vertical-align: middle;\n",
       "    }\n",
       "\n",
       "    .dataframe tbody tr th {\n",
       "        vertical-align: top;\n",
       "    }\n",
       "\n",
       "    .dataframe thead th {\n",
       "        text-align: right;\n",
       "    }\n",
       "</style>\n",
       "<table border=\"1\" class=\"dataframe\">\n",
       "  <thead>\n",
       "    <tr style=\"text-align: right;\">\n",
       "      <th></th>\n",
       "      <th>Actual</th>\n",
       "      <th>Predicted</th>\n",
       "    </tr>\n",
       "  </thead>\n",
       "  <tbody>\n",
       "    <tr>\n",
       "      <th>859</th>\n",
       "      <td>1</td>\n",
       "      <td>1</td>\n",
       "    </tr>\n",
       "    <tr>\n",
       "      <th>797</th>\n",
       "      <td>0</td>\n",
       "      <td>0</td>\n",
       "    </tr>\n",
       "    <tr>\n",
       "      <th>1294</th>\n",
       "      <td>1</td>\n",
       "      <td>1</td>\n",
       "    </tr>\n",
       "    <tr>\n",
       "      <th>1234</th>\n",
       "      <td>1</td>\n",
       "      <td>1</td>\n",
       "    </tr>\n",
       "    <tr>\n",
       "      <th>441</th>\n",
       "      <td>0</td>\n",
       "      <td>0</td>\n",
       "    </tr>\n",
       "    <tr>\n",
       "      <th>504</th>\n",
       "      <td>0</td>\n",
       "      <td>1</td>\n",
       "    </tr>\n",
       "    <tr>\n",
       "      <th>867</th>\n",
       "      <td>1</td>\n",
       "      <td>0</td>\n",
       "    </tr>\n",
       "    <tr>\n",
       "      <th>1350</th>\n",
       "      <td>1</td>\n",
       "      <td>1</td>\n",
       "    </tr>\n",
       "    <tr>\n",
       "      <th>1067</th>\n",
       "      <td>1</td>\n",
       "      <td>1</td>\n",
       "    </tr>\n",
       "    <tr>\n",
       "      <th>952</th>\n",
       "      <td>1</td>\n",
       "      <td>1</td>\n",
       "    </tr>\n",
       "  </tbody>\n",
       "</table>\n",
       "</div>"
      ],
      "text/plain": [
       "      Actual  Predicted\n",
       "859        1          1\n",
       "797        0          0\n",
       "1294       1          1\n",
       "1234       1          1\n",
       "441        0          0\n",
       "504        0          1\n",
       "867        1          0\n",
       "1350       1          1\n",
       "1067       1          1\n",
       "952        1          1"
      ]
     },
     "execution_count": 48,
     "metadata": {},
     "output_type": "execute_result"
    }
   ],
   "source": [
    "etc = ExtraTreesClassifier(max_depth = 6, min_samples_leaf = 0.1, n_estimators = 100)\n",
    "\n",
    "etc.fit(X_train, y_train)\n",
    "\n",
    "pred_etc = etc.predict(X_test)\n",
    "pd.DataFrame({\"Actual\": y_test,\n",
    "              \"Predicted\": pred_etc}).sample(10)"
   ]
  },
  {
   "cell_type": "markdown",
   "id": "32710047",
   "metadata": {},
   "source": [
    "**Tuned Extra Trees Classifier Confusion Matrix**"
   ]
  },
  {
   "cell_type": "code",
   "execution_count": 49,
   "id": "03cc6aee",
   "metadata": {},
   "outputs": [
    {
     "data": {
      "text/html": [
       "<div>\n",
       "<style scoped>\n",
       "    .dataframe tbody tr th:only-of-type {\n",
       "        vertical-align: middle;\n",
       "    }\n",
       "\n",
       "    .dataframe tbody tr th {\n",
       "        vertical-align: top;\n",
       "    }\n",
       "\n",
       "    .dataframe thead th {\n",
       "        text-align: right;\n",
       "    }\n",
       "</style>\n",
       "<table border=\"1\" class=\"dataframe\">\n",
       "  <thead>\n",
       "    <tr style=\"text-align: right;\">\n",
       "      <th></th>\n",
       "      <th>0</th>\n",
       "      <th>1</th>\n",
       "    </tr>\n",
       "  </thead>\n",
       "  <tbody>\n",
       "    <tr>\n",
       "      <th>0</th>\n",
       "      <td>106</td>\n",
       "      <td>39</td>\n",
       "    </tr>\n",
       "    <tr>\n",
       "      <th>1</th>\n",
       "      <td>18</td>\n",
       "      <td>126</td>\n",
       "    </tr>\n",
       "  </tbody>\n",
       "</table>\n",
       "</div>"
      ],
      "text/plain": [
       "     0    1\n",
       "0  106   39\n",
       "1   18  126"
      ]
     },
     "execution_count": 49,
     "metadata": {},
     "output_type": "execute_result"
    }
   ],
   "source": [
    "pd.DataFrame(confusion_matrix(y_test, pred_etc))"
   ]
  },
  {
   "cell_type": "markdown",
   "id": "86bb35af",
   "metadata": {},
   "source": [
    "**Tuned Extra Trees Classifier Classification Report**"
   ]
  },
  {
   "cell_type": "code",
   "execution_count": 50,
   "id": "59e26080",
   "metadata": {},
   "outputs": [
    {
     "name": "stdout",
     "output_type": "stream",
     "text": [
      "              precision    recall  f1-score   support\n",
      "\n",
      "           0       0.85      0.73      0.79       145\n",
      "           1       0.76      0.88      0.82       144\n",
      "\n",
      "    accuracy                           0.80       289\n",
      "   macro avg       0.81      0.80      0.80       289\n",
      "weighted avg       0.81      0.80      0.80       289\n",
      "\n"
     ]
    }
   ],
   "source": [
    "print(classification_report(y_test, pred_etc))"
   ]
  },
  {
   "cell_type": "code",
   "execution_count": null,
   "id": "f2865f6a",
   "metadata": {},
   "outputs": [],
   "source": []
  }
 ],
 "metadata": {
  "kernelspec": {
   "display_name": "Python 3",
   "language": "python",
   "name": "python3"
  },
  "language_info": {
   "codemirror_mode": {
    "name": "ipython",
    "version": 3
   },
   "file_extension": ".py",
   "mimetype": "text/x-python",
   "name": "python",
   "nbconvert_exporter": "python",
   "pygments_lexer": "ipython3",
   "version": "3.8.8"
  }
 },
 "nbformat": 4,
 "nbformat_minor": 5
}
