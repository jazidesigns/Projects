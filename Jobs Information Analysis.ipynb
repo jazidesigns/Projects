{
 "cells": [
  {
   "cell_type": "markdown",
   "id": "3c6276f0",
   "metadata": {},
   "source": [
    "### Import Libraries"
   ]
  },
  {
   "cell_type": "code",
   "execution_count": 1,
   "id": "9c68de03",
   "metadata": {},
   "outputs": [],
   "source": [
    "import pandas as pd\n",
    "import matplotlib.pyplot as plt\n",
    "import seaborn as sns"
   ]
  },
  {
   "cell_type": "markdown",
   "id": "2d0f0fc2",
   "metadata": {},
   "source": [
    "### Import Dataset"
   ]
  },
  {
   "cell_type": "code",
   "execution_count": 40,
   "id": "4204271f",
   "metadata": {},
   "outputs": [
    {
     "name": "stdout",
     "output_type": "stream",
     "text": [
      "<class 'pandas.core.frame.DataFrame'>\n",
      "RangeIndex: 27482 entries, 0 to 27481\n",
      "Data columns (total 29 columns):\n",
      " #   Column                 Non-Null Count  Dtype  \n",
      "---  ------                 --------------  -----  \n",
      " 0   job_title              27482 non-null  object \n",
      " 1   job_reference          27482 non-null  object \n",
      " 2   employer               27482 non-null  object \n",
      " 3   employer_postcode      27482 non-null  object \n",
      " 4   department             23851 non-null  object \n",
      " 5   location               27482 non-null  object \n",
      " 6   salary                 27478 non-null  object \n",
      " 7   job_type               27482 non-null  object \n",
      " 8   working_pattern        23040 non-null  object \n",
      " 9   pay_scheme             27482 non-null  object \n",
      " 10  pay_band               15840 non-null  object \n",
      " 11  staff_group            27482 non-null  object \n",
      " 12  specialty              22554 non-null  object \n",
      " 13  full_description       27482 non-null  object \n",
      " 14  json_salary_max        23455 non-null  float64\n",
      " 15  json_salary_min        23455 non-null  float64\n",
      " 16  json_salary_unit       23455 non-null  object \n",
      " 17  json_salary_value      27478 non-null  object \n",
      " 18  json_date_posted       27482 non-null  object \n",
      " 19  json_description       27482 non-null  object \n",
      " 20  json_employment_type   27482 non-null  object \n",
      " 21  json_hire_name         27482 non-null  object \n",
      " 22  json_address_locality  27482 non-null  object \n",
      " 23  json_address_postcode  27482 non-null  object \n",
      " 24  json_lat               27482 non-null  float64\n",
      " 25  json_lng               27482 non-null  float64\n",
      " 26  json_title             27482 non-null  object \n",
      " 27  json_closing_date      27482 non-null  object \n",
      " 28  scrape_dt              27482 non-null  object \n",
      "dtypes: float64(4), object(25)\n",
      "memory usage: 6.1+ MB\n"
     ]
    }
   ],
   "source": [
    "df = pd.read_csv(\"jobs_raw.csv\")\n",
    "df.info()"
   ]
  },
  {
   "cell_type": "markdown",
   "id": "21596acb",
   "metadata": {},
   "source": [
    "### FR1: Highest and Lowest Paid Jobs"
   ]
  },
  {
   "cell_type": "markdown",
   "id": "be275b19",
   "metadata": {},
   "source": [
    "**Highest paid jobs** "
   ]
  },
  {
   "cell_type": "code",
   "execution_count": 20,
   "id": "dd35d115",
   "metadata": {},
   "outputs": [
    {
     "data": {
      "text/html": [
       "<div>\n",
       "<style scoped>\n",
       "    .dataframe tbody tr th:only-of-type {\n",
       "        vertical-align: middle;\n",
       "    }\n",
       "\n",
       "    .dataframe tbody tr th {\n",
       "        vertical-align: top;\n",
       "    }\n",
       "\n",
       "    .dataframe thead th {\n",
       "        text-align: right;\n",
       "    }\n",
       "</style>\n",
       "<table border=\"1\" class=\"dataframe\">\n",
       "  <thead>\n",
       "    <tr style=\"text-align: right;\">\n",
       "      <th></th>\n",
       "      <th>job_title</th>\n",
       "      <th>job_reference</th>\n",
       "      <th>employer</th>\n",
       "      <th>json_salary_max</th>\n",
       "    </tr>\n",
       "  </thead>\n",
       "  <tbody>\n",
       "    <tr>\n",
       "      <th>10741</th>\n",
       "      <td>Salaried GP Practitioner (2-4 sessions)</td>\n",
       "      <td>J180-SALARIEDGP0418</td>\n",
       "      <td>Central Advertising - General Practitioners</td>\n",
       "      <td>9000000.0</td>\n",
       "    </tr>\n",
       "    <tr>\n",
       "      <th>8680</th>\n",
       "      <td>Staff Grade in General Surgery</td>\n",
       "      <td>J313-A-19-0369</td>\n",
       "      <td>Health and Community Services Jersey</td>\n",
       "      <td>8195110.0</td>\n",
       "    </tr>\n",
       "    <tr>\n",
       "      <th>19534</th>\n",
       "      <td>Locum Consultant in Neurology</td>\n",
       "      <td>428-A-19-12817</td>\n",
       "      <td>Poole Hospital NHS Foundation Trust</td>\n",
       "      <td>7791000.0</td>\n",
       "    </tr>\n",
       "    <tr>\n",
       "      <th>4260</th>\n",
       "      <td>Clinical fellow in UGI surgery</td>\n",
       "      <td>321-S6-1005-CR-A</td>\n",
       "      <td>Oxford University Hospitals NHS Foundation Trust</td>\n",
       "      <td>4908600.0</td>\n",
       "    </tr>\n",
       "    <tr>\n",
       "      <th>4344</th>\n",
       "      <td>Clinical Fellow MS Service</td>\n",
       "      <td>321-S6-1028-CR</td>\n",
       "      <td>Oxford University Hospitals NHS Foundation Trust</td>\n",
       "      <td>4908600.0</td>\n",
       "    </tr>\n",
       "  </tbody>\n",
       "</table>\n",
       "</div>"
      ],
      "text/plain": [
       "                                     job_title        job_reference  \\\n",
       "10741  Salaried GP Practitioner (2-4 sessions)  J180-SALARIEDGP0418   \n",
       "8680            Staff Grade in General Surgery       J313-A-19-0369   \n",
       "19534            Locum Consultant in Neurology       428-A-19-12817   \n",
       "4260            Clinical fellow in UGI surgery     321-S6-1005-CR-A   \n",
       "4344                Clinical Fellow MS Service       321-S6-1028-CR   \n",
       "\n",
       "                                               employer  json_salary_max  \n",
       "10741       Central Advertising - General Practitioners        9000000.0  \n",
       "8680               Health and Community Services Jersey        8195110.0  \n",
       "19534               Poole Hospital NHS Foundation Trust        7791000.0  \n",
       "4260   Oxford University Hospitals NHS Foundation Trust        4908600.0  \n",
       "4344   Oxford University Hospitals NHS Foundation Trust        4908600.0  "
      ]
     },
     "execution_count": 20,
     "metadata": {},
     "output_type": "execute_result"
    }
   ],
   "source": [
    "hpj = df[[\"job_title\", \"job_reference\", \"employer\", \"json_salary_max\"]].dropna().sort_values(by = \"json_salary_max\",\n",
    "                                                                                             ascending = False)\n",
    "hpj.head()"
   ]
  },
  {
   "cell_type": "markdown",
   "id": "e4cb0d1a",
   "metadata": {},
   "source": [
    "**Lowest paid jobs**"
   ]
  },
  {
   "cell_type": "code",
   "execution_count": 22,
   "id": "c0d34801",
   "metadata": {},
   "outputs": [
    {
     "data": {
      "text/html": [
       "<div>\n",
       "<style scoped>\n",
       "    .dataframe tbody tr th:only-of-type {\n",
       "        vertical-align: middle;\n",
       "    }\n",
       "\n",
       "    .dataframe tbody tr th {\n",
       "        vertical-align: top;\n",
       "    }\n",
       "\n",
       "    .dataframe thead th {\n",
       "        text-align: right;\n",
       "    }\n",
       "</style>\n",
       "<table border=\"1\" class=\"dataframe\">\n",
       "  <thead>\n",
       "    <tr style=\"text-align: right;\">\n",
       "      <th></th>\n",
       "      <th>job_title</th>\n",
       "      <th>job_reference</th>\n",
       "      <th>employer</th>\n",
       "      <th>json_salary_min</th>\n",
       "    </tr>\n",
       "  </thead>\n",
       "  <tbody>\n",
       "    <tr>\n",
       "      <th>5553</th>\n",
       "      <td>Consultant Old Age Psychiatry</td>\n",
       "      <td>311-M003-19</td>\n",
       "      <td>Pennine Care NHS Foundation Trust</td>\n",
       "      <td>103.0</td>\n",
       "    </tr>\n",
       "    <tr>\n",
       "      <th>8853</th>\n",
       "      <td>Consultant Old Age Psychiatry</td>\n",
       "      <td>311-M009-19</td>\n",
       "      <td>Pennine Care NHS Foundation Trust</td>\n",
       "      <td>103.0</td>\n",
       "    </tr>\n",
       "    <tr>\n",
       "      <th>21429</th>\n",
       "      <td>Consultant Old Age Psychiatry</td>\n",
       "      <td>311-M003-19-B</td>\n",
       "      <td>Pennine Care NHS Foundation Trust</td>\n",
       "      <td>103.0</td>\n",
       "    </tr>\n",
       "    <tr>\n",
       "      <th>14052</th>\n",
       "      <td>Consultant Old Age Psychiatry</td>\n",
       "      <td>311-M003-19-A</td>\n",
       "      <td>Pennine Care NHS Foundation Trust</td>\n",
       "      <td>103.0</td>\n",
       "    </tr>\n",
       "    <tr>\n",
       "      <th>3158</th>\n",
       "      <td>Bank General Medicine Consultant</td>\n",
       "      <td>192-A-19-23698</td>\n",
       "      <td>Portsmouth Hospitals NHS Trust Staff Bank</td>\n",
       "      <td>112.0</td>\n",
       "    </tr>\n",
       "  </tbody>\n",
       "</table>\n",
       "</div>"
      ],
      "text/plain": [
       "                              job_title   job_reference  \\\n",
       "5553      Consultant Old Age Psychiatry     311-M003-19   \n",
       "8853      Consultant Old Age Psychiatry     311-M009-19   \n",
       "21429     Consultant Old Age Psychiatry   311-M003-19-B   \n",
       "14052     Consultant Old Age Psychiatry   311-M003-19-A   \n",
       "3158   Bank General Medicine Consultant  192-A-19-23698   \n",
       "\n",
       "                                        employer  json_salary_min  \n",
       "5553           Pennine Care NHS Foundation Trust            103.0  \n",
       "8853           Pennine Care NHS Foundation Trust            103.0  \n",
       "21429          Pennine Care NHS Foundation Trust            103.0  \n",
       "14052          Pennine Care NHS Foundation Trust            103.0  \n",
       "3158   Portsmouth Hospitals NHS Trust Staff Bank            112.0  "
      ]
     },
     "execution_count": 22,
     "metadata": {},
     "output_type": "execute_result"
    }
   ],
   "source": [
    "lpj = df[[\"job_title\", \"job_reference\", \"employer\", \"json_salary_min\"]].dropna().sort_values(by = \"json_salary_min\")\n",
    "lpj.head()"
   ]
  },
  {
   "cell_type": "markdown",
   "id": "637a4ce7",
   "metadata": {},
   "source": [
    "### FR2: Top 5 employers with the most pay gaps "
   ]
  },
  {
   "cell_type": "code",
   "execution_count": 29,
   "id": "18ca8a16",
   "metadata": {},
   "outputs": [
    {
     "data": {
      "text/html": [
       "<div>\n",
       "<style scoped>\n",
       "    .dataframe tbody tr th:only-of-type {\n",
       "        vertical-align: middle;\n",
       "    }\n",
       "\n",
       "    .dataframe tbody tr th {\n",
       "        vertical-align: top;\n",
       "    }\n",
       "\n",
       "    .dataframe thead th {\n",
       "        text-align: right;\n",
       "    }\n",
       "</style>\n",
       "<table border=\"1\" class=\"dataframe\">\n",
       "  <thead>\n",
       "    <tr style=\"text-align: right;\">\n",
       "      <th></th>\n",
       "      <th>employer</th>\n",
       "      <th>maximum salary</th>\n",
       "      <th>minimum_salary</th>\n",
       "      <th>pay_gap</th>\n",
       "    </tr>\n",
       "  </thead>\n",
       "  <tbody>\n",
       "    <tr>\n",
       "      <th>58</th>\n",
       "      <td>Central Advertising - General Practitioners</td>\n",
       "      <td>9000000.0</td>\n",
       "      <td>146.0</td>\n",
       "      <td>8999854.0</td>\n",
       "    </tr>\n",
       "    <tr>\n",
       "      <th>157</th>\n",
       "      <td>Health and Community Services Jersey</td>\n",
       "      <td>8195110.0</td>\n",
       "      <td>2048.0</td>\n",
       "      <td>8193062.0</td>\n",
       "    </tr>\n",
       "    <tr>\n",
       "      <th>291</th>\n",
       "      <td>Poole Hospital NHS Foundation Trust</td>\n",
       "      <td>7791000.0</td>\n",
       "      <td>27146.0</td>\n",
       "      <td>7763854.0</td>\n",
       "    </tr>\n",
       "    <tr>\n",
       "      <th>284</th>\n",
       "      <td>Oxford University Hospitals NHS Foundation Trust</td>\n",
       "      <td>4908600.0</td>\n",
       "      <td>33034.0</td>\n",
       "      <td>4875566.0</td>\n",
       "    </tr>\n",
       "    <tr>\n",
       "      <th>182</th>\n",
       "      <td>King's College Hospital NHS Foundation Trust</td>\n",
       "      <td>1072014.0</td>\n",
       "      <td>29308.0</td>\n",
       "      <td>1042706.0</td>\n",
       "    </tr>\n",
       "  </tbody>\n",
       "</table>\n",
       "</div>"
      ],
      "text/plain": [
       "                                             employer  maximum salary  \\\n",
       "58        Central Advertising - General Practitioners       9000000.0   \n",
       "157              Health and Community Services Jersey       8195110.0   \n",
       "291               Poole Hospital NHS Foundation Trust       7791000.0   \n",
       "284  Oxford University Hospitals NHS Foundation Trust       4908600.0   \n",
       "182      King's College Hospital NHS Foundation Trust       1072014.0   \n",
       "\n",
       "     minimum_salary    pay_gap  \n",
       "58            146.0  8999854.0  \n",
       "157          2048.0  8193062.0  \n",
       "291         27146.0  7763854.0  \n",
       "284         33034.0  4875566.0  \n",
       "182         29308.0  1042706.0  "
      ]
     },
     "execution_count": 29,
     "metadata": {},
     "output_type": "execute_result"
    }
   ],
   "source": [
    "epg = df.groupby([\"employer\"])[\"json_salary_max\"].agg([\"max\", \"min\"]).dropna().reset_index()\n",
    "epg.columns = [\"employer\", \"maximum salary\", \"minimum_salary\"]\n",
    "epg[\"pay_gap\"] = epg[\"maximum salary\"] - epg[\"minimum_salary\"]\n",
    "epg.sort_values(by = \"pay_gap\", ascending = False).head()"
   ]
  },
  {
   "cell_type": "markdown",
   "id": "fc3bdbb7",
   "metadata": {},
   "source": [
    "### FR3: Top 5 Months that most of the job advertisements occur"
   ]
  },
  {
   "cell_type": "code",
   "execution_count": 53,
   "id": "580ebbdd",
   "metadata": {},
   "outputs": [
    {
     "data": {
      "text/plain": [
       "October    4276\n",
       "July       3823\n",
       "May        3733\n",
       "June       3276\n",
       "April      3229\n",
       "Name: 0, dtype: int64"
      ]
     },
     "execution_count": 53,
     "metadata": {},
     "output_type": "execute_result"
    }
   ],
   "source": [
    "ja = df[\"json_date_posted\"].str.split(\"T\", expand = True)[0]\n",
    "ja = pd.to_datetime(ja).dt.month_name()\n",
    "ja.value_counts().head()"
   ]
  },
  {
   "cell_type": "code",
   "execution_count": null,
   "id": "e94c301d",
   "metadata": {},
   "outputs": [],
   "source": []
  }
 ],
 "metadata": {
  "kernelspec": {
   "display_name": "Python 3 (ipykernel)",
   "language": "python",
   "name": "python3"
  },
  "language_info": {
   "codemirror_mode": {
    "name": "ipython",
    "version": 3
   },
   "file_extension": ".py",
   "mimetype": "text/x-python",
   "name": "python",
   "nbconvert_exporter": "python",
   "pygments_lexer": "ipython3",
   "version": "3.9.12"
  }
 },
 "nbformat": 4,
 "nbformat_minor": 5
}
