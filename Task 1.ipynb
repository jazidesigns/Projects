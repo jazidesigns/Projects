{
 "cells": [
  {
   "cell_type": "markdown",
   "id": "98dde5f7",
   "metadata": {},
   "source": [
    "### Import Libraries"
   ]
  },
  {
   "cell_type": "code",
   "execution_count": 65,
   "id": "23d6ae60",
   "metadata": {},
   "outputs": [],
   "source": [
    "import pandas as pd\n",
    "import numpy as np\n",
    "import matplotlib.pyplot as plt\n",
    "import seaborn as sns"
   ]
  },
  {
   "cell_type": "markdown",
   "id": "a3449d42",
   "metadata": {},
   "source": [
    "### Import Cars Dataset"
   ]
  },
  {
   "cell_type": "code",
   "execution_count": 71,
   "id": "db0a3c9a",
   "metadata": {},
   "outputs": [
    {
     "data": {
      "text/html": [
       "<div>\n",
       "<style scoped>\n",
       "    .dataframe tbody tr th:only-of-type {\n",
       "        vertical-align: middle;\n",
       "    }\n",
       "\n",
       "    .dataframe tbody tr th {\n",
       "        vertical-align: top;\n",
       "    }\n",
       "\n",
       "    .dataframe thead th {\n",
       "        text-align: right;\n",
       "    }\n",
       "</style>\n",
       "<table border=\"1\" class=\"dataframe\">\n",
       "  <thead>\n",
       "    <tr style=\"text-align: right;\">\n",
       "      <th></th>\n",
       "      <th>Cars</th>\n",
       "      <th>Accidents</th>\n",
       "    </tr>\n",
       "    <tr>\n",
       "      <th>Year</th>\n",
       "      <th></th>\n",
       "      <th></th>\n",
       "    </tr>\n",
       "  </thead>\n",
       "  <tbody>\n",
       "    <tr>\n",
       "      <th>1990</th>\n",
       "      <td>282688</td>\n",
       "      <td>4325</td>\n",
       "    </tr>\n",
       "    <tr>\n",
       "      <th>1991</th>\n",
       "      <td>328450</td>\n",
       "      <td>4271</td>\n",
       "    </tr>\n",
       "    <tr>\n",
       "      <th>1992</th>\n",
       "      <td>350000</td>\n",
       "      <td>3474</td>\n",
       "    </tr>\n",
       "    <tr>\n",
       "      <th>1993</th>\n",
       "      <td>367475</td>\n",
       "      <td>3389</td>\n",
       "    </tr>\n",
       "    <tr>\n",
       "      <th>1994</th>\n",
       "      <td>251593</td>\n",
       "      <td>3814</td>\n",
       "    </tr>\n",
       "    <tr>\n",
       "      <th>1995</th>\n",
       "      <td>331837</td>\n",
       "      <td>4056</td>\n",
       "    </tr>\n",
       "    <tr>\n",
       "      <th>1996</th>\n",
       "      <td>379895</td>\n",
       "      <td>3711</td>\n",
       "    </tr>\n",
       "    <tr>\n",
       "      <th>1997</th>\n",
       "      <td>431816</td>\n",
       "      <td>3925</td>\n",
       "    </tr>\n",
       "    <tr>\n",
       "      <th>1998</th>\n",
       "      <td>482670</td>\n",
       "      <td>4540</td>\n",
       "    </tr>\n",
       "    <tr>\n",
       "      <th>1999</th>\n",
       "      <td>525572</td>\n",
       "      <td>4442</td>\n",
       "    </tr>\n",
       "    <tr>\n",
       "      <th>2000</th>\n",
       "      <td>556771</td>\n",
       "      <td>4482</td>\n",
       "    </tr>\n",
       "    <tr>\n",
       "      <th>2001</th>\n",
       "      <td>586209</td>\n",
       "      <td>4766</td>\n",
       "    </tr>\n",
       "    <tr>\n",
       "      <th>2002</th>\n",
       "      <td>619081</td>\n",
       "      <td>5083</td>\n",
       "    </tr>\n",
       "    <tr>\n",
       "      <th>2003</th>\n",
       "      <td>648901</td>\n",
       "      <td>5379</td>\n",
       "    </tr>\n",
       "    <tr>\n",
       "      <th>2004</th>\n",
       "      <td>686128</td>\n",
       "      <td>5081</td>\n",
       "    </tr>\n",
       "    <tr>\n",
       "      <th>2005</th>\n",
       "      <td>742447</td>\n",
       "      <td>4466</td>\n",
       "    </tr>\n",
       "    <tr>\n",
       "      <th>2006</th>\n",
       "      <td>822011</td>\n",
       "      <td>4302</td>\n",
       "    </tr>\n",
       "    <tr>\n",
       "      <th>2007</th>\n",
       "      <td>904869</td>\n",
       "      <td>4781</td>\n",
       "    </tr>\n",
       "    <tr>\n",
       "      <th>2008</th>\n",
       "      <td>932828</td>\n",
       "      <td>4196</td>\n",
       "    </tr>\n",
       "    <tr>\n",
       "      <th>2009</th>\n",
       "      <td>904308</td>\n",
       "      <td>3160</td>\n",
       "    </tr>\n",
       "    <tr>\n",
       "      <th>2010</th>\n",
       "      <td>636664</td>\n",
       "      <td>3193</td>\n",
       "    </tr>\n",
       "    <tr>\n",
       "      <th>2011</th>\n",
       "      <td>612321</td>\n",
       "      <td>3386</td>\n",
       "    </tr>\n",
       "    <tr>\n",
       "      <th>2012</th>\n",
       "      <td>618274</td>\n",
       "      <td>3358</td>\n",
       "    </tr>\n",
       "    <tr>\n",
       "      <th>2013</th>\n",
       "      <td>634603</td>\n",
       "      <td>3489</td>\n",
       "    </tr>\n",
       "    <tr>\n",
       "      <th>2014</th>\n",
       "      <td>657799</td>\n",
       "      <td>3728</td>\n",
       "    </tr>\n",
       "    <tr>\n",
       "      <th>2015</th>\n",
       "      <td>679048</td>\n",
       "      <td>3692</td>\n",
       "    </tr>\n",
       "    <tr>\n",
       "      <th>2016</th>\n",
       "      <td>664177</td>\n",
       "      <td>3792</td>\n",
       "    </tr>\n",
       "    <tr>\n",
       "      <th>2017</th>\n",
       "      <td>689536</td>\n",
       "      <td>3875</td>\n",
       "    </tr>\n",
       "    <tr>\n",
       "      <th>2018</th>\n",
       "      <td>707841</td>\n",
       "      <td>3975</td>\n",
       "    </tr>\n",
       "    <tr>\n",
       "      <th>2019</th>\n",
       "      <td>727164</td>\n",
       "      <td>3729</td>\n",
       "    </tr>\n",
       "    <tr>\n",
       "      <th>2020</th>\n",
       "      <td>739124</td>\n",
       "      <td>3403</td>\n",
       "    </tr>\n",
       "  </tbody>\n",
       "</table>\n",
       "</div>"
      ],
      "text/plain": [
       "        Cars  Accidents\n",
       "Year                   \n",
       "1990  282688       4325\n",
       "1991  328450       4271\n",
       "1992  350000       3474\n",
       "1993  367475       3389\n",
       "1994  251593       3814\n",
       "1995  331837       4056\n",
       "1996  379895       3711\n",
       "1997  431816       3925\n",
       "1998  482670       4540\n",
       "1999  525572       4442\n",
       "2000  556771       4482\n",
       "2001  586209       4766\n",
       "2002  619081       5083\n",
       "2003  648901       5379\n",
       "2004  686128       5081\n",
       "2005  742447       4466\n",
       "2006  822011       4302\n",
       "2007  904869       4781\n",
       "2008  932828       4196\n",
       "2009  904308       3160\n",
       "2010  636664       3193\n",
       "2011  612321       3386\n",
       "2012  618274       3358\n",
       "2013  634603       3489\n",
       "2014  657799       3728\n",
       "2015  679048       3692\n",
       "2016  664177       3792\n",
       "2017  689536       3875\n",
       "2018  707841       3975\n",
       "2019  727164       3729\n",
       "2020  739124       3403"
      ]
     },
     "execution_count": 71,
     "metadata": {},
     "output_type": "execute_result"
    }
   ],
   "source": [
    "df = pd.read_excel(\"Cars_Accidents.xlsx\", index_col = \"Year\")\n",
    "df"
   ]
  },
  {
   "cell_type": "markdown",
   "id": "a98a7dbc",
   "metadata": {},
   "source": [
    "**Descriptive Statistics**"
   ]
  },
  {
   "cell_type": "code",
   "execution_count": 80,
   "id": "c53b45f7",
   "metadata": {},
   "outputs": [
    {
     "data": {
      "text/html": [
       "<div>\n",
       "<style scoped>\n",
       "    .dataframe tbody tr th:only-of-type {\n",
       "        vertical-align: middle;\n",
       "    }\n",
       "\n",
       "    .dataframe tbody tr th {\n",
       "        vertical-align: top;\n",
       "    }\n",
       "\n",
       "    .dataframe thead th {\n",
       "        text-align: right;\n",
       "    }\n",
       "</style>\n",
       "<table border=\"1\" class=\"dataframe\">\n",
       "  <thead>\n",
       "    <tr style=\"text-align: right;\">\n",
       "      <th></th>\n",
       "      <th>Cars</th>\n",
       "      <th>Accidents</th>\n",
       "    </tr>\n",
       "  </thead>\n",
       "  <tbody>\n",
       "    <tr>\n",
       "      <th>count</th>\n",
       "      <td>31.0</td>\n",
       "      <td>31.000000</td>\n",
       "    </tr>\n",
       "    <tr>\n",
       "      <th>mean</th>\n",
       "      <td>596841.935484</td>\n",
       "      <td>4040.741935</td>\n",
       "    </tr>\n",
       "    <tr>\n",
       "      <th>std</th>\n",
       "      <td>185298.409064</td>\n",
       "      <td>590.922949</td>\n",
       "    </tr>\n",
       "    <tr>\n",
       "      <th>min</th>\n",
       "      <td>251593.0</td>\n",
       "      <td>3160.000000</td>\n",
       "    </tr>\n",
       "    <tr>\n",
       "      <th>25%</th>\n",
       "      <td>457243.0</td>\n",
       "      <td>3590.500000</td>\n",
       "    </tr>\n",
       "    <tr>\n",
       "      <th>50%</th>\n",
       "      <td>634603.0</td>\n",
       "      <td>3925.000000</td>\n",
       "    </tr>\n",
       "    <tr>\n",
       "      <th>75%</th>\n",
       "      <td>698688.5</td>\n",
       "      <td>4454.000000</td>\n",
       "    </tr>\n",
       "    <tr>\n",
       "      <th>max</th>\n",
       "      <td>932828.0</td>\n",
       "      <td>5379.000000</td>\n",
       "    </tr>\n",
       "    <tr>\n",
       "      <th>var</th>\n",
       "      <td>33227903614.45</td>\n",
       "      <td>337925.739854</td>\n",
       "    </tr>\n",
       "  </tbody>\n",
       "</table>\n",
       "</div>"
      ],
      "text/plain": [
       "                 Cars      Accidents\n",
       "count            31.0      31.000000\n",
       "mean    596841.935484    4040.741935\n",
       "std     185298.409064     590.922949\n",
       "min          251593.0    3160.000000\n",
       "25%          457243.0    3590.500000\n",
       "50%          634603.0    3925.000000\n",
       "75%          698688.5    4454.000000\n",
       "max          932828.0    5379.000000\n",
       "var    33227903614.45  337925.739854"
      ]
     },
     "execution_count": 80,
     "metadata": {},
     "output_type": "execute_result"
    }
   ],
   "source": [
    "stats = df.describe()\n",
    "stats.loc[\"var\"] = \"{:.2f}\".format(np.var(df[\"Cars\"])), np.var(df[\"Accidents\"])\n",
    "stats"
   ]
  },
  {
   "cell_type": "markdown",
   "id": "f4265dce",
   "metadata": {},
   "source": [
    "**Box and whiskers plot of cars data**"
   ]
  },
  {
   "cell_type": "code",
   "execution_count": 93,
   "id": "0631d7f2",
   "metadata": {},
   "outputs": [
    {
     "data": {
      "image/png": "[encoded data removed]",
      "text/plain": [
       "<Figure size 1296x504 with 1 Axes>"
      ]
     },
     "metadata": {
      "needs_background": "light"
     },
     "output_type": "display_data"
    }
   ],
   "source": [
    "cars_bw = df[[\"Cars\"]]\n",
    "cars_bw[\"Derivative\"] = cars_bw[\"Cars\"].diff()\n",
    "\n",
    "plt.figure(figsize = (18, 7))\n",
    "plt.errorbar(x = cars_bw.index, y = cars_bw[\"Cars\"], yerr = cars_bw[\"Derivative\"], fmt = \"s\", ecolor = \"red\", capsize = 10)\n",
    "plt.xticks(size = 15)\n",
    "plt.yticks(size = 15)\n",
    "plt.xlabel(\"Year\", color = \"blue\", size = 20)\n",
    "plt.ylabel(\"Cars\", color = \"blue\", size = 20)\n",
    "plt.title(\"Box and Whiskers Plot of Cars Data\", size = 20, color = \"blue\")\n",
    "plt.show()"
   ]
  },
  {
   "cell_type": "markdown",
   "id": "27c49cfc",
   "metadata": {},
   "source": [
    "**Box and Whiskers Plot of Accidents Data**"
   ]
  },
  {
   "cell_type": "code",
   "execution_count": 98,
   "id": "c10c0b8b",
   "metadata": {},
   "outputs": [
    {
     "data": {
      "image/png": "[encoded data removed]",
      "text/plain": [
       "<Figure size 1296x504 with 1 Axes>"
      ]
     },
     "metadata": {
      "needs_background": "light"
     },
     "output_type": "display_data"
    }
   ],
   "source": [
    "accidents_bw = df[[\"Accidents\"]]\n",
    "accidents_bw[\"Derivative\"] = accidents_bw[\"Accidents\"].diff()\n",
    "\n",
    "plt.figure(figsize = (18, 7))\n",
    "plt.errorbar(x = accidents_bw.index,\n",
    "             y = accidents_bw[\"Accidents\"],\n",
    "             yerr = accidents_bw[\"Derivative\"],\n",
    "             fmt = \"s\",\n",
    "             ecolor = \"blue\",\n",
    "             capsize = 10,\n",
    "             markerfacecolor='red')\n",
    "plt.xticks(size = 15)\n",
    "plt.yticks(size = 15)\n",
    "plt.xlabel(\"Year\", color = \"red\", size = 20)\n",
    "plt.ylabel(\"Accidents\", color = \"red\", size = 20)\n",
    "plt.title(\"Box and Whiskers Plot of Accidents Data\", size = 20, color = \"red\")\n",
    "plt.show()"
   ]
  },
  {
   "cell_type": "markdown",
   "id": "c5ba27f3",
   "metadata": {},
   "source": [
    "**Correlation**"
   ]
  },
  {
   "cell_type": "code",
   "execution_count": 104,
   "id": "4d5433ff",
   "metadata": {},
   "outputs": [
    {
     "data": {
      "image/png": "[encoded data removed]",
      "text/plain": [
       "<Figure size 1296x504 with 2 Axes>"
      ]
     },
     "metadata": {
      "needs_background": "light"
     },
     "output_type": "display_data"
    }
   ],
   "source": [
    "correlation = df.corr()\n",
    "plt.figure(figsize = (18, 7))\n",
    "sns.heatmap(correlation, annot = True, annot_kws={\"size\":15})\n",
    "plt.title(\"Correlation Matrix\", size = 15)\n",
    "plt.xticks(size = 15)\n",
    "plt.yticks(size = 15)\n",
    "plt.show()"
   ]
  },
  {
   "cell_type": "markdown",
   "id": "eeddeacd",
   "metadata": {},
   "source": [
    "**Data representation with scatter plot and regression line**"
   ]
  },
  {
   "cell_type": "code",
   "execution_count": 126,
   "id": "5029acd6",
   "metadata": {},
   "outputs": [
    {
     "data": {
      "image/png": "[encoded data removed]",
      "text/plain": [
       "<Figure size 1296x504 with 1 Axes>"
      ]
     },
     "metadata": {
      "needs_background": "light"
     },
     "output_type": "display_data"
    }
   ],
   "source": [
    "plt.figure(figsize = (18, 7))\n",
    "sns.regplot(x = \"Cars\", \n",
    "            y = \"Accidents\", \n",
    "            data = df, \n",
    "            ci = False, \n",
    "            scatter_kws={\"color\": \"blue\", \"s\": 100},\n",
    "            line_kws={\"color\": \"red\", \"linewidth\": 5})\n",
    "plt.title(\"Scatter Plot of Cars and Accidents Data with Regression Line\", size = 20, color = \"red\")\n",
    "plt.xticks(size = 15)\n",
    "plt.yticks(size = 15)\n",
    "plt.xlabel(\"Cars\", color = \"red\", size = 20)\n",
    "plt.ylabel(\"Accidents\", color = \"red\", size = 20)\n",
    "plt.show()"
   ]
  },
  {
   "cell_type": "code",
   "execution_count": null,
   "id": "8fa23c61",
   "metadata": {},
   "outputs": [],
   "source": []
  }
 ],
 "metadata": {
  "kernelspec": {
   "display_name": "Python 3",
   "language": "python",
   "name": "python3"
  },
  "language_info": {
   "codemirror_mode": {
    "name": "ipython",
    "version": 3
   },
   "file_extension": ".py",
   "mimetype": "text/x-python",
   "name": "python",
   "nbconvert_exporter": "python",
   "pygments_lexer": "ipython3",
   "version": "3.8.8"
  }
 },
 "nbformat": 4,
 "nbformat_minor": 5
}
