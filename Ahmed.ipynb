{
 "cells": [
  {
   "cell_type": "markdown",
   "id": "c25fd7b6",
   "metadata": {},
   "source": [
    "### Import Libraries"
   ]
  },
  {
   "cell_type": "code",
   "execution_count": 1,
   "id": "d5db2d1c",
   "metadata": {},
   "outputs": [],
   "source": [
    "import warnings\n",
    "warnings.filterwarnings(\"ignore\")\n",
    "\n",
    "import pandas as pd\n",
    "import numpy as np\n",
    "\n",
    "import matplotlib.pyplot as plt\n",
    "import seaborn as sns\n",
    "\n",
    "from sklearn.metrics import r2_score\n",
    "from sklearn.metrics import mean_absolute_error as MAE\n",
    "from sklearn.metrics import mean_squared_error as MSE\n",
    "from sklearn.metrics import mean_absolute_percentage_error as MAPE\n",
    "\n",
    "from sklearn.preprocessing import StandardScaler\n",
    "from sklearn.model_selection import GridSearchCV\n",
    "\n",
    "from sklearn.linear_model import Ridge\n",
    "from sklearn.linear_model import SGDRegressor\n",
    "from xgboost import XGBRegressor"
   ]
  },
  {
   "cell_type": "markdown",
   "id": "6f57aac5",
   "metadata": {},
   "source": [
    "### Import Dataset"
   ]
  },
  {
   "cell_type": "code",
   "execution_count": 2,
   "id": "c47b11de",
   "metadata": {},
   "outputs": [
    {
     "data": {
      "text/html": [
       "<div>\n",
       "<style scoped>\n",
       "    .dataframe tbody tr th:only-of-type {\n",
       "        vertical-align: middle;\n",
       "    }\n",
       "\n",
       "    .dataframe tbody tr th {\n",
       "        vertical-align: top;\n",
       "    }\n",
       "\n",
       "    .dataframe thead th {\n",
       "        text-align: right;\n",
       "    }\n",
       "</style>\n",
       "<table border=\"1\" class=\"dataframe\">\n",
       "  <thead>\n",
       "    <tr style=\"text-align: right;\">\n",
       "      <th></th>\n",
       "      <th>Wind_Velocity</th>\n",
       "      <th>Frequency</th>\n",
       "      <th>TSR</th>\n",
       "      <th>Wind_velocity_Wake</th>\n",
       "    </tr>\n",
       "  </thead>\n",
       "  <tbody>\n",
       "    <tr>\n",
       "      <th>0</th>\n",
       "      <td>5.5</td>\n",
       "      <td>0.521</td>\n",
       "      <td>4.189</td>\n",
       "      <td>5.480</td>\n",
       "    </tr>\n",
       "    <tr>\n",
       "      <th>1</th>\n",
       "      <td>7.0</td>\n",
       "      <td>0.663</td>\n",
       "      <td>4.189</td>\n",
       "      <td>7.132</td>\n",
       "    </tr>\n",
       "    <tr>\n",
       "      <th>2</th>\n",
       "      <td>8.5</td>\n",
       "      <td>0.805</td>\n",
       "      <td>4.189</td>\n",
       "      <td>8.470</td>\n",
       "    </tr>\n",
       "    <tr>\n",
       "      <th>3</th>\n",
       "      <td>11.5</td>\n",
       "      <td>1.090</td>\n",
       "      <td>4.189</td>\n",
       "      <td>11.450</td>\n",
       "    </tr>\n",
       "    <tr>\n",
       "      <th>4</th>\n",
       "      <td>13.0</td>\n",
       "      <td>1.090</td>\n",
       "      <td>3.705</td>\n",
       "      <td>13.123</td>\n",
       "    </tr>\n",
       "    <tr>\n",
       "      <th>5</th>\n",
       "      <td>14.5</td>\n",
       "      <td>1.090</td>\n",
       "      <td>3.322</td>\n",
       "      <td>14.460</td>\n",
       "    </tr>\n",
       "    <tr>\n",
       "      <th>6</th>\n",
       "      <td>17.5</td>\n",
       "      <td>1.090</td>\n",
       "      <td>2.750</td>\n",
       "      <td>17.460</td>\n",
       "    </tr>\n",
       "    <tr>\n",
       "      <th>7</th>\n",
       "      <td>19.0</td>\n",
       "      <td>1.090</td>\n",
       "      <td>2.535</td>\n",
       "      <td>18.957</td>\n",
       "    </tr>\n",
       "  </tbody>\n",
       "</table>\n",
       "</div>"
      ],
      "text/plain": [
       "   Wind_Velocity  Frequency    TSR  Wind_velocity_Wake\n",
       "0            5.5      0.521  4.189               5.480\n",
       "1            7.0      0.663  4.189               7.132\n",
       "2            8.5      0.805  4.189               8.470\n",
       "3           11.5      1.090  4.189              11.450\n",
       "4           13.0      1.090  3.705              13.123\n",
       "5           14.5      1.090  3.322              14.460\n",
       "6           17.5      1.090  2.750              17.460\n",
       "7           19.0      1.090  2.535              18.957"
      ]
     },
     "execution_count": 2,
     "metadata": {},
     "output_type": "execute_result"
    }
   ],
   "source": [
    "df = pd.read_csv(\"Wind_Velocity_Wake.csv\")\n",
    "df"
   ]
  },
  {
   "cell_type": "code",
   "execution_count": 3,
   "id": "5517220d",
   "metadata": {},
   "outputs": [],
   "source": [
    "# Features\n",
    "X = df[[\"Wind_Velocity\", \"Frequency\", \"TSR\"]]\n",
    "\n",
    "# Target\n",
    "y = df[\"Wind_velocity_Wake\"]"
   ]
  },
  {
   "cell_type": "markdown",
   "id": "3cbabcb5",
   "metadata": {},
   "source": [
    "**Scaling**"
   ]
  },
  {
   "cell_type": "code",
   "execution_count": 4,
   "id": "15020d84",
   "metadata": {},
   "outputs": [],
   "source": [
    "scaler = StandardScaler()\n",
    "\n",
    "# For Training\n",
    "X_train = scaler.fit_transform(X)\n",
    "\n",
    "# For Testing\n",
    "X_test = scaler.transform(X)"
   ]
  },
  {
   "cell_type": "markdown",
   "id": "349c82ca",
   "metadata": {},
   "source": [
    "# Ridge Regression"
   ]
  },
  {
   "cell_type": "code",
   "execution_count": 5,
   "id": "b39ba560",
   "metadata": {},
   "outputs": [
    {
     "data": {
      "text/html": [
       "<div>\n",
       "<style scoped>\n",
       "    .dataframe tbody tr th:only-of-type {\n",
       "        vertical-align: middle;\n",
       "    }\n",
       "\n",
       "    .dataframe tbody tr th {\n",
       "        vertical-align: top;\n",
       "    }\n",
       "\n",
       "    .dataframe thead th {\n",
       "        text-align: right;\n",
       "    }\n",
       "</style>\n",
       "<table border=\"1\" class=\"dataframe\">\n",
       "  <thead>\n",
       "    <tr style=\"text-align: right;\">\n",
       "      <th></th>\n",
       "      <th>Actual</th>\n",
       "      <th>Predicted</th>\n",
       "    </tr>\n",
       "  </thead>\n",
       "  <tbody>\n",
       "    <tr>\n",
       "      <th>0</th>\n",
       "      <td>5.480</td>\n",
       "      <td>5.601095</td>\n",
       "    </tr>\n",
       "    <tr>\n",
       "      <th>1</th>\n",
       "      <td>7.132</td>\n",
       "      <td>7.031776</td>\n",
       "    </tr>\n",
       "    <tr>\n",
       "      <th>2</th>\n",
       "      <td>8.470</td>\n",
       "      <td>8.462458</td>\n",
       "    </tr>\n",
       "    <tr>\n",
       "      <th>3</th>\n",
       "      <td>11.450</td>\n",
       "      <td>11.328836</td>\n",
       "    </tr>\n",
       "    <tr>\n",
       "      <th>4</th>\n",
       "      <td>13.123</td>\n",
       "      <td>13.154988</td>\n",
       "    </tr>\n",
       "    <tr>\n",
       "      <th>5</th>\n",
       "      <td>14.460</td>\n",
       "      <td>14.750015</td>\n",
       "    </tr>\n",
       "    <tr>\n",
       "      <th>6</th>\n",
       "      <td>17.460</td>\n",
       "      <td>17.496126</td>\n",
       "    </tr>\n",
       "    <tr>\n",
       "      <th>7</th>\n",
       "      <td>18.957</td>\n",
       "      <td>18.706707</td>\n",
       "    </tr>\n",
       "  </tbody>\n",
       "</table>\n",
       "</div>"
      ],
      "text/plain": [
       "   Actual  Predicted\n",
       "0   5.480   5.601095\n",
       "1   7.132   7.031776\n",
       "2   8.470   8.462458\n",
       "3  11.450  11.328836\n",
       "4  13.123  13.154988\n",
       "5  14.460  14.750015\n",
       "6  17.460  17.496126\n",
       "7  18.957  18.706707"
      ]
     },
     "execution_count": 5,
     "metadata": {},
     "output_type": "execute_result"
    }
   ],
   "source": [
    "# Ridge Regression Object\n",
    "r = Ridge(alpha = 0.1)\n",
    "\n",
    "# Fit Training data into model\n",
    "r.fit(X_train, y)\n",
    "\n",
    "# Prediction on Test set\n",
    "pred_r = r.predict(X_test)\n",
    "\n",
    "# Comparison\n",
    "pd.DataFrame({\"Actual\": y,\n",
    "              \"Predicted\": pred_r})"
   ]
  },
  {
   "cell_type": "markdown",
   "id": "eb0cb93e",
   "metadata": {},
   "source": [
    "### Error Values Ridge Regression"
   ]
  },
  {
   "cell_type": "code",
   "execution_count": 6,
   "id": "c160684c",
   "metadata": {},
   "outputs": [
    {
     "name": "stdout",
     "output_type": "stream",
     "text": [
      "R Squared = 0.998854 \n",
      "\n",
      "Mean Biased Error = -0.0 \n",
      "\n",
      "Mean Absolute Error = 0.119806 \n",
      "\n",
      "Mean Squared Error = 0.023566 \n",
      "\n",
      "Root Mean Squared Error = 0.153513 \n",
      "\n",
      "Mean Absolute Percentage Error = 0.010674\n"
     ]
    }
   ],
   "source": [
    "# R Squared \n",
    "r_r2 = r2_score(y, pred_r)\n",
    "print(\"R Squared =\", r_r2.round(6), \"\\n\")\n",
    "\n",
    "# Mean Biased Error\n",
    "r_mbe = np.mean(y - pred_r)\n",
    "print(\"Mean Biased Error =\", r_mbe.round(6), \"\\n\")\n",
    "\n",
    "# Mean Absolute Error\n",
    "r_mae = MAE(y, pred_r)\n",
    "print(\"Mean Absolute Error =\", r_mae.round(6), \"\\n\")\n",
    "\n",
    "# Mean Squared Error\n",
    "r_mse = MSE(y, pred_r)\n",
    "print(\"Mean Squared Error =\", r_mse.round(6), \"\\n\")\n",
    "\n",
    "# Root Mean Squared Error\n",
    "r_rmse = MSE(y, pred_r)**0.5\n",
    "print(\"Root Mean Squared Error =\", r_rmse.round(6), \"\\n\")\n",
    "\n",
    "# Mean Absolute Percentage Error\n",
    "r_mape = MAPE(y, pred_r)\n",
    "print(\"Mean Absolute Percentage Error =\", r_mape.round(6))"
   ]
  },
  {
   "cell_type": "markdown",
   "id": "d8a5a86d",
   "metadata": {},
   "source": [
    "### Graph of Prediction using Ridge Regression"
   ]
  },
  {
   "cell_type": "code",
   "execution_count": 7,
   "id": "1f504796",
   "metadata": {},
   "outputs": [
    {
     "data": {
      "image/png": "[encoded data removed]",
      "text/plain": [
       "<Figure size 1296x504 with 1 Axes>"
      ]
     },
     "metadata": {
      "needs_background": "light"
     },
     "output_type": "display_data"
    }
   ],
   "source": [
    "plt.figure(figsize = (18, 7))\n",
    "\n",
    "plt.scatter(y, y, color = \"blue\", s = 100)\n",
    "plt.plot(y, pred_r, color = \"red\", linewidth = 3)\n",
    "\n",
    "plt.title(\"Prediction using Ridge Regression\", size = 20, color = \"red\")\n",
    "plt.xticks(size = 15)\n",
    "plt.yticks(size = 15)\n",
    "plt.xlabel(\"Wind Velocity inside the Wake\", size = 20, color = \"blue\")\n",
    "plt.ylabel(\"Wind Velocity inside the Wake\", size = 20, color = \"blue\")\n",
    "plt.savefig(\"Ridge_Regression.png\")\n",
    "plt.show()"
   ]
  },
  {
   "cell_type": "markdown",
   "id": "deae8eb2",
   "metadata": {},
   "source": [
    "### Custom Prediction (Ridge Regression)"
   ]
  },
  {
   "cell_type": "code",
   "execution_count": 8,
   "id": "090b8535",
   "metadata": {},
   "outputs": [
    {
     "name": "stdout",
     "output_type": "stream",
     "text": [
      "Prediction using Ridge Regression = [6.46164155]\n"
     ]
    }
   ],
   "source": [
    "pred_rc = r.predict(scaler.transform([[7.3, 0.517, 4.181]]))\n",
    "print(\"Prediction using Ridge Regression =\", pred_rc)"
   ]
  },
  {
   "cell_type": "markdown",
   "id": "d78910f6",
   "metadata": {},
   "source": [
    "# Stochastic Gradient Descent Regression"
   ]
  },
  {
   "cell_type": "code",
   "execution_count": 9,
   "id": "8a514e97",
   "metadata": {},
   "outputs": [
    {
     "data": {
      "text/html": [
       "<div>\n",
       "<style scoped>\n",
       "    .dataframe tbody tr th:only-of-type {\n",
       "        vertical-align: middle;\n",
       "    }\n",
       "\n",
       "    .dataframe tbody tr th {\n",
       "        vertical-align: top;\n",
       "    }\n",
       "\n",
       "    .dataframe thead th {\n",
       "        text-align: right;\n",
       "    }\n",
       "</style>\n",
       "<table border=\"1\" class=\"dataframe\">\n",
       "  <thead>\n",
       "    <tr style=\"text-align: right;\">\n",
       "      <th></th>\n",
       "      <th>Actual</th>\n",
       "      <th>Predicted</th>\n",
       "    </tr>\n",
       "  </thead>\n",
       "  <tbody>\n",
       "    <tr>\n",
       "      <th>0</th>\n",
       "      <td>5.480</td>\n",
       "      <td>5.272639</td>\n",
       "    </tr>\n",
       "    <tr>\n",
       "      <th>1</th>\n",
       "      <td>7.132</td>\n",
       "      <td>6.724298</td>\n",
       "    </tr>\n",
       "    <tr>\n",
       "      <th>2</th>\n",
       "      <td>8.470</td>\n",
       "      <td>8.175958</td>\n",
       "    </tr>\n",
       "    <tr>\n",
       "      <th>3</th>\n",
       "      <td>11.450</td>\n",
       "      <td>11.085414</td>\n",
       "    </tr>\n",
       "    <tr>\n",
       "      <th>4</th>\n",
       "      <td>13.123</td>\n",
       "      <td>12.955892</td>\n",
       "    </tr>\n",
       "    <tr>\n",
       "      <th>5</th>\n",
       "      <td>14.460</td>\n",
       "      <td>14.557106</td>\n",
       "    </tr>\n",
       "    <tr>\n",
       "      <th>6</th>\n",
       "      <td>17.460</td>\n",
       "      <td>17.242336</td>\n",
       "    </tr>\n",
       "    <tr>\n",
       "      <th>7</th>\n",
       "      <td>18.957</td>\n",
       "      <td>18.395667</td>\n",
       "    </tr>\n",
       "  </tbody>\n",
       "</table>\n",
       "</div>"
      ],
      "text/plain": [
       "   Actual  Predicted\n",
       "0   5.480   5.272639\n",
       "1   7.132   6.724298\n",
       "2   8.470   8.175958\n",
       "3  11.450  11.085414\n",
       "4  13.123  12.955892\n",
       "5  14.460  14.557106\n",
       "6  17.460  17.242336\n",
       "7  18.957  18.395667"
      ]
     },
     "execution_count": 9,
     "metadata": {},
     "output_type": "execute_result"
    }
   ],
   "source": [
    "# Stochastic Gradient Descent Regression Object\n",
    "sgd = SGDRegressor()\n",
    "\n",
    "# Fit training data into model \n",
    "sgd.fit(X_train, y)\n",
    "\n",
    "# Prediction\n",
    "pred_sgd = sgd.predict(X_test)\n",
    "\n",
    "# Comparison\n",
    "pd.DataFrame({\"Actual\": y,\n",
    "              \"Predicted\": pred_sgd})"
   ]
  },
  {
   "cell_type": "markdown",
   "id": "6be8c305",
   "metadata": {},
   "source": [
    "### Error Values Stochastic Gradient Descent Regressor"
   ]
  },
  {
   "cell_type": "code",
   "execution_count": 10,
   "id": "abe63a48",
   "metadata": {},
   "outputs": [
    {
     "name": "stdout",
     "output_type": "stream",
     "text": [
      "R Squared = 0.994963 \n",
      "\n",
      "Mean Biased Error = 0.265336 \n",
      "\n",
      "Mean Absolute Error = 0.289613 \n",
      "\n",
      "Mean Squared Error = 0.103554 \n",
      "\n",
      "Root Mean Squared Error = 0.321798 \n",
      "\n",
      "Mean Absolute Percentage Error = 0.027886\n"
     ]
    }
   ],
   "source": [
    "# R Squared \n",
    "sgd_r2 = r2_score(y, pred_sgd)\n",
    "print(\"R Squared =\", sgd_r2.round(6), \"\\n\")\n",
    "\n",
    "# Mean Biased Error\n",
    "sgd_mbe = np.mean(y - pred_sgd)\n",
    "print(\"Mean Biased Error =\", sgd_mbe.round(6), \"\\n\")\n",
    "\n",
    "# Mean Absolute Error\n",
    "sgd_mae = MAE(y, pred_sgd)\n",
    "print(\"Mean Absolute Error =\", sgd_mae.round(6), \"\\n\")\n",
    "\n",
    "# Mean Squared Error\n",
    "sgd_mse = MSE(y, pred_sgd)\n",
    "print(\"Mean Squared Error =\", sgd_mse.round(6), \"\\n\")\n",
    "\n",
    "# Root Mean Squared Error\n",
    "sgd_rmse = MSE(y, pred_sgd)**0.5\n",
    "print(\"Root Mean Squared Error =\", sgd_rmse.round(6), \"\\n\")\n",
    "\n",
    "# Mean Absolute Percentage Error\n",
    "sgd_mape = MAPE(y, pred_sgd)\n",
    "print(\"Mean Absolute Percentage Error =\", sgd_mape.round(6))"
   ]
  },
  {
   "cell_type": "markdown",
   "id": "0c13c9c1",
   "metadata": {},
   "source": [
    "### Graph of Prediction using Stochastic Gradient Descent Regression"
   ]
  },
  {
   "cell_type": "code",
   "execution_count": 11,
   "id": "f9cba4e2",
   "metadata": {},
   "outputs": [
    {
     "data": {
      "image/png": "[encoded data removed]",
      "text/plain": [
       "<Figure size 1296x504 with 1 Axes>"
      ]
     },
     "metadata": {
      "needs_background": "light"
     },
     "output_type": "display_data"
    }
   ],
   "source": [
    "plt.figure(figsize = (18, 7))\n",
    "\n",
    "plt.scatter(y, y, color = \"purple\", s = 100)\n",
    "plt.plot(y, pred_sgd, color = \"red\", linewidth = 3)\n",
    "\n",
    "plt.title(\"Prediction using Stochastic Gradient Descent Regression\", size = 20, color = \"red\")\n",
    "plt.xticks(size = 15)\n",
    "plt.yticks(size = 15)\n",
    "plt.xlabel(\"Wind Velocity inside the Wake\", size = 20, color = \"purple\")\n",
    "plt.ylabel(\"Wind Velocity inside the Wake\", size = 20, color = \"purple\")\n",
    "plt.savefig(\"SGDRegression.png\")\n",
    "plt.show()"
   ]
  },
  {
   "cell_type": "markdown",
   "id": "b0663535",
   "metadata": {},
   "source": [
    "### Custom Prediction (Stochastic Gradient Descent Regression)"
   ]
  },
  {
   "cell_type": "code",
   "execution_count": 12,
   "id": "d8feaa3d",
   "metadata": {},
   "outputs": [
    {
     "name": "stdout",
     "output_type": "stream",
     "text": [
      "Prediction using Stochastic Gradient Descent Regression = [5.23235158]\n"
     ]
    }
   ],
   "source": [
    "pred_sgdc = sgd.predict(scaler.transform([[5.4, 0.519, 4.185]]))\n",
    "print(\"Prediction using Stochastic Gradient Descent Regression =\", pred_sgdc)"
   ]
  },
  {
   "cell_type": "markdown",
   "id": "fe2b25f8",
   "metadata": {},
   "source": [
    "# XGBoost Regression"
   ]
  },
  {
   "cell_type": "code",
   "execution_count": 13,
   "id": "84106855",
   "metadata": {},
   "outputs": [
    {
     "data": {
      "text/html": [
       "<div>\n",
       "<style scoped>\n",
       "    .dataframe tbody tr th:only-of-type {\n",
       "        vertical-align: middle;\n",
       "    }\n",
       "\n",
       "    .dataframe tbody tr th {\n",
       "        vertical-align: top;\n",
       "    }\n",
       "\n",
       "    .dataframe thead th {\n",
       "        text-align: right;\n",
       "    }\n",
       "</style>\n",
       "<table border=\"1\" class=\"dataframe\">\n",
       "  <thead>\n",
       "    <tr style=\"text-align: right;\">\n",
       "      <th></th>\n",
       "      <th>Actual</th>\n",
       "      <th>Predicted</th>\n",
       "    </tr>\n",
       "  </thead>\n",
       "  <tbody>\n",
       "    <tr>\n",
       "      <th>0</th>\n",
       "      <td>5.480</td>\n",
       "      <td>5.480756</td>\n",
       "    </tr>\n",
       "    <tr>\n",
       "      <th>1</th>\n",
       "      <td>7.132</td>\n",
       "      <td>7.130479</td>\n",
       "    </tr>\n",
       "    <tr>\n",
       "      <th>2</th>\n",
       "      <td>8.470</td>\n",
       "      <td>8.470245</td>\n",
       "    </tr>\n",
       "    <tr>\n",
       "      <th>3</th>\n",
       "      <td>11.450</td>\n",
       "      <td>11.451787</td>\n",
       "    </tr>\n",
       "    <tr>\n",
       "      <th>4</th>\n",
       "      <td>13.123</td>\n",
       "      <td>13.123025</td>\n",
       "    </tr>\n",
       "    <tr>\n",
       "      <th>5</th>\n",
       "      <td>14.460</td>\n",
       "      <td>14.459987</td>\n",
       "    </tr>\n",
       "    <tr>\n",
       "      <th>6</th>\n",
       "      <td>17.460</td>\n",
       "      <td>17.459824</td>\n",
       "    </tr>\n",
       "    <tr>\n",
       "      <th>7</th>\n",
       "      <td>18.957</td>\n",
       "      <td>18.955891</td>\n",
       "    </tr>\n",
       "  </tbody>\n",
       "</table>\n",
       "</div>"
      ],
      "text/plain": [
       "   Actual  Predicted\n",
       "0   5.480   5.480756\n",
       "1   7.132   7.130479\n",
       "2   8.470   8.470245\n",
       "3  11.450  11.451787\n",
       "4  13.123  13.123025\n",
       "5  14.460  14.459987\n",
       "6  17.460  17.459824\n",
       "7  18.957  18.955891"
      ]
     },
     "execution_count": 13,
     "metadata": {},
     "output_type": "execute_result"
    }
   ],
   "source": [
    "# XGBoost Regression Object\n",
    "xgb = XGBRegressor()\n",
    "\n",
    "# Fit Training Data into model\n",
    "xgb.fit(X_train, y)\n",
    "\n",
    "# Prediction\n",
    "pred_xgb = xgb.predict(X_test)\n",
    "\n",
    "# Comparison\n",
    "pd.DataFrame({\"Actual\": y,\n",
    "              \"Predicted\": pred_xgb})"
   ]
  },
  {
   "cell_type": "markdown",
   "id": "cbd70797",
   "metadata": {},
   "source": [
    "### Error Values XGBoost Regressor"
   ]
  },
  {
   "cell_type": "code",
   "execution_count": 14,
   "id": "d6b4966f",
   "metadata": {},
   "outputs": [
    {
     "name": "stdout",
     "output_type": "stream",
     "text": [
      "R Squared = 1.0 \n",
      "\n",
      "Mean Biased Error = 1e-06 \n",
      "\n",
      "Mean Absolute Error = 0.000704 \n",
      "\n",
      "Mean Squared Error = 1e-06 \n",
      "\n",
      "Root Mean Squared Error = 0.000962 \n",
      "\n",
      "Mean Absolute Percentage Error = 7.6e-05\n"
     ]
    }
   ],
   "source": [
    "# R Squared \n",
    "xgb_r2 = r2_score(y, pred_xgb)\n",
    "print(\"R Squared =\", xgb_r2.round(6), \"\\n\")\n",
    "\n",
    "# Mean Biased Error\n",
    "xgb_mbe = np.mean(y - pred_xgb)\n",
    "print(\"Mean Biased Error =\", xgb_mbe.round(6), \"\\n\")\n",
    "\n",
    "# Mean Absolute Error\n",
    "xgb_mae = MAE(y, pred_xgb)\n",
    "print(\"Mean Absolute Error =\", xgb_mae.round(6), \"\\n\")\n",
    "\n",
    "# Mean Squared Error\n",
    "xgb_mse = MSE(y, pred_xgb)\n",
    "print(\"Mean Squared Error =\", xgb_mse.round(6), \"\\n\")\n",
    "\n",
    "# Root Mean Squared Error\n",
    "xgb_rmse = MSE(y, pred_xgb)**0.5\n",
    "print(\"Root Mean Squared Error =\", xgb_rmse.round(6), \"\\n\")\n",
    "\n",
    "# Mean Absolute Percentage Error\n",
    "xgb_mape = MAPE(y, pred_xgb)\n",
    "print(\"Mean Absolute Percentage Error =\", xgb_mape.round(6))"
   ]
  },
  {
   "cell_type": "markdown",
   "id": "8c3c3c58",
   "metadata": {},
   "source": [
    "### Graph of Prediction using XGBoost Regression"
   ]
  },
  {
   "cell_type": "code",
   "execution_count": 15,
   "id": "0e2b56cd",
   "metadata": {},
   "outputs": [
    {
     "data": {
      "image/png": "[encoded data removed]",
      "text/plain": [
       "<Figure size 1296x504 with 1 Axes>"
      ]
     },
     "metadata": {
      "needs_background": "light"
     },
     "output_type": "display_data"
    }
   ],
   "source": [
    "plt.figure(figsize = (18, 7))\n",
    "\n",
    "plt.scatter(y, y, color = \"black\", s = 100)\n",
    "plt.plot(y, pred_xgb, color = \"red\", linewidth = 3)\n",
    "\n",
    "plt.title(\"Prediction using XGBoost Regression\", size = 20, color = \"red\")\n",
    "plt.xticks(size = 15)\n",
    "plt.yticks(size = 15)\n",
    "plt.xlabel(\"Wind Velocity inside the Wake\", size = 20, color = \"crimson\")\n",
    "plt.ylabel(\"Wind Velocity inside the Wake\", size = 20, color = \"crimson\")\n",
    "plt.savefig(\"XGBoost.png\")\n",
    "plt.show()"
   ]
  },
  {
   "cell_type": "markdown",
   "id": "699d9d09",
   "metadata": {},
   "source": [
    "### Custom Prediction (XGBoost Regression)"
   ]
  },
  {
   "cell_type": "code",
   "execution_count": 16,
   "id": "2cacbcf3",
   "metadata": {},
   "outputs": [
    {
     "name": "stdout",
     "output_type": "stream",
     "text": [
      "Prediction using Ridge Regression = [5.480756]\n"
     ]
    }
   ],
   "source": [
    "pred_xgbr = xgb.predict(scaler.transform([[5.4, 0.519, 4.185]]))\n",
    "print(\"Prediction using Ridge Regression =\", pred_xgbr)"
   ]
  },
  {
   "cell_type": "markdown",
   "id": "1893ca07",
   "metadata": {},
   "source": [
    "# Errors Comparison"
   ]
  },
  {
   "cell_type": "code",
   "execution_count": 17,
   "id": "5847299a",
   "metadata": {},
   "outputs": [
    {
     "data": {
      "text/html": [
       "<div>\n",
       "<style scoped>\n",
       "    .dataframe tbody tr th:only-of-type {\n",
       "        vertical-align: middle;\n",
       "    }\n",
       "\n",
       "    .dataframe tbody tr th {\n",
       "        vertical-align: top;\n",
       "    }\n",
       "\n",
       "    .dataframe thead th {\n",
       "        text-align: right;\n",
       "    }\n",
       "</style>\n",
       "<table border=\"1\" class=\"dataframe\">\n",
       "  <thead>\n",
       "    <tr style=\"text-align: right;\">\n",
       "      <th></th>\n",
       "      <th>R Squared</th>\n",
       "      <th>MBE</th>\n",
       "      <th>MAE</th>\n",
       "      <th>MSE</th>\n",
       "      <th>RMSE</th>\n",
       "      <th>MAPE</th>\n",
       "    </tr>\n",
       "    <tr>\n",
       "      <th>Models</th>\n",
       "      <th></th>\n",
       "      <th></th>\n",
       "      <th></th>\n",
       "      <th></th>\n",
       "      <th></th>\n",
       "      <th></th>\n",
       "    </tr>\n",
       "  </thead>\n",
       "  <tbody>\n",
       "    <tr>\n",
       "      <th>Ridge Regression</th>\n",
       "      <td>0.998854</td>\n",
       "      <td>-1.332268e-15</td>\n",
       "      <td>0.119806</td>\n",
       "      <td>2.356622e-02</td>\n",
       "      <td>0.153513</td>\n",
       "      <td>0.010674</td>\n",
       "    </tr>\n",
       "    <tr>\n",
       "      <th>Stochastic Graduent Descent Regression</th>\n",
       "      <td>0.994963</td>\n",
       "      <td>2.653362e-01</td>\n",
       "      <td>0.289613</td>\n",
       "      <td>1.035537e-01</td>\n",
       "      <td>0.321798</td>\n",
       "      <td>0.027886</td>\n",
       "    </tr>\n",
       "    <tr>\n",
       "      <th>XGBoost Regression</th>\n",
       "      <td>1.000000</td>\n",
       "      <td>8.859634e-07</td>\n",
       "      <td>0.000704</td>\n",
       "      <td>9.251530e-07</td>\n",
       "      <td>0.000962</td>\n",
       "      <td>0.000076</td>\n",
       "    </tr>\n",
       "  </tbody>\n",
       "</table>\n",
       "</div>"
      ],
      "text/plain": [
       "                                        R Squared           MBE       MAE  \\\n",
       "Models                                                                      \n",
       "Ridge Regression                         0.998854 -1.332268e-15  0.119806   \n",
       "Stochastic Graduent Descent Regression   0.994963  2.653362e-01  0.289613   \n",
       "XGBoost Regression                       1.000000  8.859634e-07  0.000704   \n",
       "\n",
       "                                                 MSE      RMSE      MAPE  \n",
       "Models                                                                    \n",
       "Ridge Regression                        2.356622e-02  0.153513  0.010674  \n",
       "Stochastic Graduent Descent Regression  1.035537e-01  0.321798  0.027886  \n",
       "XGBoost Regression                      9.251530e-07  0.000962  0.000076  "
      ]
     },
     "execution_count": 17,
     "metadata": {},
     "output_type": "execute_result"
    }
   ],
   "source": [
    "errors = pd.DataFrame({\"Models\": [\"Ridge Regression\", \"Stochastic Graduent Descent Regression\", \"XGBoost Regression\"],\n",
    "                       \"R Squared\": [r_r2, sgd_r2, xgb_r2],\n",
    "                       \"MBE\": [r_mbe, sgd_mbe, xgb_mbe],\n",
    "                       \"MAE\": [r_mae, sgd_mae, xgb_mae],\n",
    "                       \"MSE\": [r_mse, sgd_mse, xgb_mse],\n",
    "                       \"RMSE\": [r_rmse, sgd_rmse, xgb_rmse],\n",
    "                       \"MAPE\": [r_mape, sgd_mape, xgb_mape]})\n",
    "\n",
    "errors.set_index(\"Models\")"
   ]
  },
  {
   "cell_type": "code",
   "execution_count": null,
   "id": "d2ef2bb7",
   "metadata": {},
   "outputs": [],
   "source": []
  }
 ],
 "metadata": {
  "kernelspec": {
   "display_name": "Python 3 (ipykernel)",
   "language": "python",
   "name": "python3"
  },
  "language_info": {
   "codemirror_mode": {
    "name": "ipython",
    "version": 3
   },
   "file_extension": ".py",
   "mimetype": "text/x-python",
   "name": "python",
   "nbconvert_exporter": "python",
   "pygments_lexer": "ipython3",
   "version": "3.7.11"
  }
 },
 "nbformat": 4,
 "nbformat_minor": 5
}
